{
 "cells": [
  {
   "cell_type": "markdown",
   "metadata": {
    "toc": "true"
   },
   "source": [
    "# Table of Contents\n",
    " <p>"
   ]
  },
  {
   "cell_type": "code",
   "execution_count": 1,
   "metadata": {
    "collapsed": false
   },
   "outputs": [],
   "source": [
    "import lxml\n",
    "import requests\n",
    "import lxml.html\n",
    "import csv"
   ]
  },
  {
   "cell_type": "code",
   "execution_count": 2,
   "metadata": {
    "collapsed": true
   },
   "outputs": [],
   "source": [
    "resid_template = \"%d_RVS_Dist%d\"\n",
    "condo_template = \"%d_Condominium\"\n",
    "aptmt_template = \"%d_Apartments\""
   ]
  },
  {
   "cell_type": "code",
   "execution_count": null,
   "metadata": {
    "collapsed": true
   },
   "outputs": [],
   "source": [
    "url_head = \"http://assessments.milwaukee.gov/SalesData/\"\n",
    "csv_directory = \"Milwaukee_data/\"\n"
   ]
  },
  {
   "cell_type": "code",
   "execution_count": null,
   "metadata": {
    "collapsed": true
   },
   "outputs": [],
   "source": [
    "def scrape_page(page):\n",
    "    r=requests.get(url_head + page + \".htm\")\n",
    "    tree=lxml.html.fromstring(r.text)\n",
    "    table=tree.cssselect(\"table\")[0]\n",
    "    data_rows = table.cssselect(\"tr.the_tdm\")\n",
    "    colspan_row = table.cssselect(\"tr.the_colspan\")[0]\n",
    "    header_row = colspan_row.getnext()\n",
    "    # The only identifying feature of the header row is its background color. \n",
    "    # Let's use it to check we've got the correct row:\n",
    "    assert header_row.attrib[\"bgcolor\"] == \"#cc9966\"\n",
    "    header = [cell.text_content().strip() for cell in header_row.cssselect(\"td\")]\n",
    "    table_data = [[cell.text_content().strip() \n",
    "        for cell in row.cssselect(\"td\")] \n",
    "        for row in data_rows]\n",
    "\n",
    "    with open(csv_directory + page + \".csv\", \"w\") as writefile:\n",
    "        w=csv.writer(writefile)\n",
    "        w.writerow(header)\n",
    "        w.writerows(table_data)"
   ]
  },
  {
   "cell_type": "code",
   "execution_count": 3,
   "metadata": {
    "collapsed": true
   },
   "outputs": [],
   "source": [
    "for year in (2014,2015,2016):\n",
    "    condo_page = condo_template % year\n",
    "    scrape_page(condo_page)\n",
    "    aptmt_page = aptmt_template % year\n",
    "    scrape_page(aptmt_page)\n",
    "    for district in range(1,16):\n",
    "        resid_page = resid_template % (year, district)\n",
    "        scrape_page(resid_page)"
   ]
  }
 ],
 "metadata": {
  "kernelspec": {
   "display_name": "python3 venv",
   "language": "python",
   "name": "python3"
  },
  "language_info": {
   "codemirror_mode": {
    "name": "ipython",
    "version": 3
   },
   "file_extension": ".py",
   "mimetype": "text/x-python",
   "name": "python",
   "nbconvert_exporter": "python",
   "pygments_lexer": "ipython3",
   "version": "3.5.1"
  },
  "toc": {
   "toc_cell": true,
   "toc_number_sections": true,
   "toc_threshold": 6,
   "toc_window_display": false
  }
 },
 "nbformat": 4,
 "nbformat_minor": 0
}

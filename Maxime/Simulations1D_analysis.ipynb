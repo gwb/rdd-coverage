{
 "cells": [
  {
   "cell_type": "markdown",
   "metadata": {
    "toc": "true"
   },
   "source": [
    "# Table of Contents\n",
    " <p>"
   ]
  },
  {
   "cell_type": "code",
   "execution_count": 6,
   "metadata": {
    "collapsed": false
   },
   "outputs": [],
   "source": [
    "using DataFrames\n",
    "using Distributions"
   ]
  },
  {
   "cell_type": "code",
   "execution_count": 8,
   "metadata": {
    "collapsed": false
   },
   "outputs": [
    {
     "name": "stdout",
     "output_type": "stream",
     "text": [
      "   lee  fixedmean: mean IL: 0.1491\n",
      "   lee   meankern: mean IL: 0.1817\n",
      " cate1  fixedmean: mean IL: 0.2531\n",
      " cate1   meankern: mean IL: 0.2493\n",
      " cate2  fixedmean: mean IL: 0.2541\n",
      " cate2   meankern: mean IL: 0.2489\n",
      "  quad  fixedmean: mean IL: 0.1826\n",
      "  quad   meankern: mean IL: 0.1716\n",
      " cubic  fixedmean: mean IL: 0.1924\n",
      " cubic   meankern: mean IL: 0.1867\n",
      "ludwig  fixedmean: mean IL: 0.2388\n",
      "ludwig   meankern: mean IL: 0.2342\n",
      "curvature  fixedmean: mean IL: 0.1963\n",
      "curvature   meankern: mean IL: 0.1971\n"
     ]
    }
   ],
   "source": [
    "for sim in (\"lee\", \"cate1\", \"cate2\", \"quad\", \"cubic\", \"ludwig\", \"curvature\")\n",
    "    for method in (\"fixedmean\", \"meankern\")\n",
    "        d=readtable(@sprintf(\"saved_simResults/results_%s_500_%s.csv\", sim, method))\n",
    "        head(d)\n",
    "        nrow(d)\n",
    "        width = quantile(Normal(),0.975)-quantile(Normal(),0.025)\n",
    "        IL = mean(√(d[:Vtau].values) * width)\n",
    "        @printf(\"%6s %10s: mean IL: %.4f\\n\", sim, method, IL)\n",
    "    end\n",
    "end"
   ]
  }
 ],
 "metadata": {
  "kernelspec": {
   "display_name": "Julia 0.5.1",
   "language": "julia",
   "name": "julia-0.5.1"
  },
  "language_info": {
   "file_extension": ".jl",
   "mimetype": "application/julia",
   "name": "julia",
   "version": "0.5.1"
  },
  "nav_menu": {},
  "toc": {
   "navigate_menu": true,
   "number_sections": true,
   "sideBar": true,
   "threshold": 6,
   "toc_cell": true,
   "toc_section_display": "block",
   "toc_window_display": false
  }
 },
 "nbformat": 4,
 "nbformat_minor": 1
}

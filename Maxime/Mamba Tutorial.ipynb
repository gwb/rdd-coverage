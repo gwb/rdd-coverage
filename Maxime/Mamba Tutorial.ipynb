{
 "cells": [
  {
   "cell_type": "code",
   "execution_count": 1,
   "metadata": {
    "collapsed": false
   },
   "outputs": [
    {
     "name": "stderr",
     "output_type": "stream",
     "text": [
      "WARNING: super(T::DataType) is deprecated, use supertype(T) instead.\n",
      "WARNING: readbytes is deprecated, use read instead. in \n",
      "depwarn at ./deprecated.jl in depwarn at ./deprecated.jl:64\n",
      ":64\n",
      " in super at ./deprecated.jl in readbytes at ./deprecated.jl:50\n",
      ":30\n",
      " in flush at /Users/imolk/.julia/v0.5/IJulia/src/stdio.jl in watch_stream at /Users/imolk/.julia/v0.5/IJulia/src/stdio.jl:186\n",
      ": [inlined code] from 48/Users/imolk/.julia/v0.5/IJulia/src/stdio.jl\n",
      ":172\n",
      " in execute_request_0x535c5df2 at /Users/imolk/.julia/v0.5/IJulia/src/execute_request.jl:204\n",
      " in  [inlined code] from anonymous./dict.jl at ./task.jl:733\n",
      " in eventloop at /Users/imolk/.julia/v0.5/IJulia/src/IJulia.jl:142\n",
      ":435\n",
      "while loading /Users/imolk/.julia/v0.5/IJulia/src/kernel.jl, in expression starting on line 31 in \n",
      "anonymous at ./task.jl:435\n",
      "while loading /Users/imolk/.julia/v0.5/IJulia/src/kernel.jl, in expression starting on line 31\n"
     ]
    },
    {
     "data": {
      "text/plain": [
       "2"
      ]
     },
     "execution_count": 1,
     "metadata": {},
     "output_type": "execute_result"
    }
   ],
   "source": [
    "1+1"
   ]
  },
  {
   "cell_type": "code",
   "execution_count": 2,
   "metadata": {
    "collapsed": false
   },
   "outputs": [
    {
     "name": "stderr",
     "output_type": "stream",
     "text": [
      "WARNING: New definition \n",
      "    write(GZip.GZipStream, Array{#T<:Any, N<:Any}) at /Users/imolk/.julia/v0.5/GZip/src/GZip.jl:456\n",
      "is ambiguous with: \n",
      "    write(Base.IO, Array{UInt8, N<:Any}) at io.jl:154.\n",
      "To fix, define \n",
      "    write(GZip.GZipStream, Array{UInt8, N<:Any})\n",
      "before the new definition.\n",
      "WARNING: Method definition call(Type{Graphs.KeyVertex}, Int64, #K<:Any) in module Graphs at /Users/imolk/.julia/v0.5/Graphs/src/common.jl:12 overwritten at /Users/imolk/.julia/v0.5/Graphs/src/common.jl:16.\n",
      "WARNING: Method definition call(Type{Graphs.Edge}, Int64, #V<:Any, #V<:Any) in module Graphs at /Users/imolk/.julia/v0.5/Graphs/src/common.jl:54 overwritten at /Users/imolk/.julia/v0.5/Graphs/src/common.jl:60.\n",
      "WARNING: Method definition call(Type{Graphs.ExEdge}, Int64, #V<:Any, #V<:Any, Base.Dict{UTF8String, Any}) in module Graphs at /Users/imolk/.julia/v0.5/Graphs/src/common.jl:72 overwritten at /Users/imolk/.julia/v0.5/Graphs/src/common.jl:83.\n",
      "WARNING: Method definition call(Type{Graphs.TargetIterator}, #G<:Graphs.AbstractGraph, #EList<:Any) in module Graphs at /Users/imolk/.julia/v0.5/Graphs/src/common.jl:123 overwritten at /Users/imolk/.julia/v0.5/Graphs/src/common.jl:127.\n",
      "WARNING: Method definition call(Type{Graphs.SourceIterator}, #G<:Graphs.AbstractGraph, #EList<:Any) in module Graphs at /Users/imolk/.julia/v0.5/Graphs/src/common.jl:141 overwritten at /Users/imolk/.julia/v0.5/Graphs/src/common.jl:145.\n",
      "WARNING: Method definition edge_property_requirement(Graphs.AbstractEdgePropertyInspector{#T<:Any}, Graphs.AbstractGraph{#V<:Any, E<:Any}) in module Graphs at /Users/imolk/.julia/v0.5/Graphs/src/common.jl:164 overwritten at /Users/imolk/.julia/v0.5/Graphs/src/common.jl:179.\n",
      "WARNING: Method definition vertex_index(#V<:Union{Graphs.KeyVertex, Graphs.ExVertex}, Graphs.GenericGraph{#V<:Union{Graphs.KeyVertex, Graphs.ExVertex}, E<:Any, VList<:Any, EList<:Any, IncList<:Any}) in module Graphs at /Users/imolk/.julia/v0.5/Graphs/src/graph.jl:65 overwritten at /Users/imolk/.julia/v0.5/Graphs/src/graph.jl:67.\n",
      "WARNING: Method definition call(Type{Graphs.GDistanceVisitor}, #G<:Graphs.AbstractGraph, #DMap<:Any) in module Graphs at /Users/imolk/.julia/v0.5/Graphs/src/breadth_first_visit.jl:107 overwritten at /Users/imolk/.julia/v0.5/Graphs/src/breadth_first_visit.jl:111.\n",
      "WARNING: Method definition reset!(Mamba.ChainProgress) in module Mamba at /Users/imolk/.julia/v0.5/Mamba/src/progress.jl:34 overwritten at /Users/imolk/.julia/v0.5/Mamba/src/progress.jl:41.\n"
     ]
    }
   ],
   "source": [
    "using Mamba"
   ]
  },
  {
   "cell_type": "code",
   "execution_count": 3,
   "metadata": {
    "collapsed": false
   },
   "outputs": [],
   "source": [
    "using GraphViz"
   ]
  },
  {
   "cell_type": "code",
   "execution_count": 4,
   "metadata": {
    "collapsed": false
   },
   "outputs": [
    {
     "data": {
      "text/plain": [
       "Object of type \"Mamba.Model\"\n",
       "-------------------------------------------------------------------------------\n",
       "y:\n",
       "An unmonitored node of type \"0-element Mamba.ArrayStochastic{1}\"\n",
       "Float64[]\n",
       "-------------------------------------------------------------------------------\n",
       "s2:\n",
       "A monitored node of type \"Mamba.ScalarStochastic\"\n",
       "NaN\n",
       "-------------------------------------------------------------------------------\n",
       "beta:\n",
       "A monitored node of type \"0-element Mamba.ArrayStochastic{1}\"\n",
       "Float64[]\n",
       "-------------------------------------------------------------------------------\n",
       "mu:\n",
       "An unmonitored node of type \"0-element Mamba.ArrayLogical{1}\"\n",
       "Float64[]\n"
      ]
     },
     "execution_count": 4,
     "metadata": {},
     "output_type": "execute_result"
    }
   ],
   "source": [
    "model = Model(\n",
    "    y = Stochastic(1, \n",
    "        (mu, s2) -> MvNormal(mu, sqrt(s2)),\n",
    "        false\n",
    "    ),\n",
    "    mu = Logical(1, \n",
    "        (xmat, beta) -> xmat * beta,\n",
    "        false\n",
    "    ),    \n",
    "    beta = Stochastic(1,\n",
    "        () -> MvNormal(2, sqrt(1000)),\n",
    "        true\n",
    "    ),\n",
    "    s2 = Stochastic(\n",
    "        () -> InverseGamma(0.001, 0.001),\n",
    "        true\n",
    "    )\n",
    ")"
   ]
  },
  {
   "cell_type": "code",
   "execution_count": 5,
   "metadata": {
    "collapsed": false
   },
   "outputs": [
    {
     "name": "stderr",
     "output_type": "stream",
     "text": [
      "WARNING: tty_size is deprecated. use `displaysize(io)` as a replacement\n",
      " in depwarn at ./deprecated.jl:64\n",
      " in tty_size at ./deprecated.jl:915\n",
      " in showf at /Users/imolk/.julia/v0.5/Mamba/src/model/model.jl:216\n",
      " [inlined code] from /Users/imolk/.julia/v0.5/Mamba/src/model/model.jl:207\n",
      " in showcompact at ./show.jl:1437\n",
      " in writemime at ./replutil.jl:4\n",
      " [inlined code] from ./expr.jl:8\n",
      " in writemime at ./multimedia.jl:43\n",
      " in sprint at ./strings/io.jl:38\n",
      " in display_dict at /Users/imolk/.julia/v0.5/IJulia/src/execute_request.jl:26\n",
      " in execute_request_0x535c5df2 at /Users/imolk/.julia/v0.5/IJulia/src/execute_request.jl:213\n",
      " [inlined code] from ./dict.jl:733\n",
      " in eventloop at /Users/imolk/.julia/v0.5/IJulia/src/IJulia.jl:142\n",
      " in anonymous at ./task.jl:435\n",
      "while loading /Users/imolk/.julia/v0.5/IJulia/src/kernel.jl, in expression starting on line 31\n"
     ]
    },
    {
     "data": {
      "text/plain": [
       "1-element Array{Mamba.Sampler{Mamba.NUTSTune},1}:\n",
       " An object of type \"Mamba.Sampler{Mamba.NUTSTune}\"\n",
       "Sampling Block Nodes:\n",
       "[:beta,:s2]\n",
       "\n",
       "AST(:($(Expr(:lambda, Any[:(model::Model),:(block::Integer)], Any[Any[Any[:model,:Any,18],Any[:block,:Any,18],Any[:f,:Any,18]],Any[],0,Any[]], :(begin \n",
       "        model = (top(typeassert))(model,Mamba.Model)\n",
       "        block = (top(typeassert))(block,Mamba.Integer)\n",
       "        f = (anonymous function)\n",
       "        return f(model,block)\n",
       "    end)))))\n"
      ]
     },
     "execution_count": 5,
     "metadata": {},
     "output_type": "execute_result"
    }
   ],
   "source": [
    "scheme1 = [NUTS(:beta), \n",
    "           Slice(:s2, 3.0),\n",
    "          ]\n",
    "scheme2 = [NUTS([:beta, :s2])]"
   ]
  },
  {
   "cell_type": "code",
   "execution_count": 6,
   "metadata": {
    "collapsed": false
   },
   "outputs": [
    {
     "data": {
      "text/plain": [
       "2-element Array{Mamba.Sampler{Dict{Any,Any}},1}:\n",
       " An object of type \"Mamba.Sampler{Dict{Any,Any}}\"\n",
       "Sampling Block Nodes:\n",
       "[:beta]\n",
       "\n",
       "AST(:($(Expr(:lambda, Any[:(model::Model),:(block::Integer)], Any[Any[Any[:model,:Any,18],Any[:block,:Any,18],Any[:f,:Any,18]],Any[],0,Any[]], :(begin \n",
       "        model = (top(typeassert))(model,Mamba.Model)\n",
       "        block = (top(typeassert))(block,Mamba.Integer)\n",
       "        f = (anonymous function)\n",
       "        return f((Mamba.getindex)(model,:beta),(Mamba.getindex)(model,:s2),(Mamba.getindex)(model,:xmat),(Mamba.getindex)(model,:y))\n",
       "    end)))))\n",
       "\n",
       " An object of type \"Mamba.Sampler{Dict{Any,Any}}\"\n",
       "Sampling Block Nodes:\n",
       "[:s2]\n",
       "\n",
       "AST(:($(Expr(:lambda, Any[:(model::Model),:(block::Integer)], Any[Any[Any[:model,:Any,18],Any[:block,:Any,18],Any[:f,:Any,18]],Any[],0,Any[]], :(begin \n",
       "        model = (top(typeassert))(model,Mamba.Model)\n",
       "        block = (top(typeassert))(block,Mamba.Integer)\n",
       "        f = (anonymous function)\n",
       "        return f((Mamba.getindex)(model,:mu),(Mamba.getindex)(model,:s2),(Mamba.getindex)(model,:y))\n",
       "    end)))))\n",
       "                                  "
      ]
     },
     "execution_count": 6,
     "metadata": {},
     "output_type": "execute_result"
    }
   ],
   "source": [
    "## User-Defined Samplers\n",
    "\n",
    "Gibbs_beta = Sampler([:beta],\n",
    "  (beta, s2, xmat, y) ->\n",
    "    begin\n",
    "      beta_mean = mean(beta.distr)\n",
    "      beta_invcov = invcov(beta.distr)\n",
    "      Sigma = inv(xmat' * xmat / s2 + beta_invcov)\n",
    "      mu = Sigma * (xmat' * y / s2 + beta_invcov * beta_mean)\n",
    "      rand(MvNormal(mu, Sigma))\n",
    "    end\n",
    ")\n",
    "\n",
    "Gibbs_s2 = Sampler([:s2],\n",
    "  (mu, s2, y) ->\n",
    "    begin\n",
    "      a = length(y) / 2.0 + shape(s2.distr)\n",
    "      b = sumabs2(y - mu) / 2.0 + scale(s2.distr)\n",
    "      rand(InverseGamma(a, b))\n",
    "    end\n",
    ")\n",
    "\n",
    "## User-Defined Sampling Scheme\n",
    "scheme3 = [Gibbs_beta, Gibbs_s2]"
   ]
  },
  {
   "cell_type": "code",
   "execution_count": 7,
   "metadata": {
    "collapsed": false
   },
   "outputs": [
    {
     "data": {
      "text/plain": [
       "Object of type \"Mamba.Model\"\n",
       "-------------------------------------------------------------------------------\n",
       "y:\n",
       "An unmonitored node of type \"0-element Mamba.ArrayStochastic{1}\"\n",
       "Float64[]\n",
       "-------------------------------------------------------------------------------\n",
       "s2:\n",
       "A monitored node of type \"Mamba.ScalarStochastic\"\n",
       "NaN\n",
       "-------------------------------------------------------------------------------\n",
       "beta:\n",
       "A monitored node of type \"0-element Mamba.ArrayStochastic{1}\"\n",
       "Float64[]\n",
       "-------------------------------------------------------------------------------\n",
       "mu:\n",
       "An unmonitored node of type \"0-element Mamba.ArrayLogical{1}\"\n",
       "Float64[]\n"
      ]
     },
     "execution_count": 7,
     "metadata": {},
     "output_type": "execute_result"
    }
   ],
   "source": [
    "setsamplers!(model, scheme1)"
   ]
  },
  {
   "cell_type": "code",
   "execution_count": 8,
   "metadata": {
    "collapsed": false,
    "scrolled": true
   },
   "outputs": [
    {
     "data": {
      "image/png": "[encoded data removed]",
      "image/svg+xml": [
       "<?xml version=\"1.0\" encoding=\"UTF-8\" standalone=\"no\"?>\n",
       "<!DOCTYPE svg PUBLIC \"-//W3C//DTD SVG 1.1//EN\"\n",
       " \"http://www.w3.org/Graphics/SVG/1.1/DTD/svg11.dtd\">\n",
       "<!-- Generated by graphviz version 2.38.0 (20140413.2041)\n",
       " -->\n",
       "<!-- Title: MambaModel Pages: 1 -->\n",
       "<svg width=\"190pt\" height=\"246pt\"\n",
       " viewBox=\"0.00 0.00 189.82 246.01\" xmlns=\"http://www.w3.org/2000/svg\" xmlns:xlink=\"http://www.w3.org/1999/xlink\">\n",
       "<g id=\"graph0\" class=\"graph\" transform=\"scale(1 1) rotate(0) translate(81.3527 104.41)\">\n",
       "<title>MambaModel</title>\n",
       "<polygon fill=\"white\" stroke=\"none\" points=\"-81.3527,141.6 -81.3527,-104.41 108.464,-104.41 108.464,141.6 -81.3527,141.6\"/>\n",
       "<!-- y -->\n",
       "<g id=\"node1\" class=\"node\"><title>y</title>\n",
       "<ellipse fill=\"#d9d9d9\" stroke=\"black\" cx=\"-10.4477\" cy=\"47.273\" rx=\"27\" ry=\"18\"/>\n",
       "<text text-anchor=\"middle\" x=\"-10.4477\" y=\"50.973\" font-family=\"Times,serif\" font-size=\"14.00\">y</text>\n",
       "</g>\n",
       "<!-- mu -->\n",
       "<g id=\"node2\" class=\"node\"><title>mu</title>\n",
       "<polygon fill=\"#d9d9d9\" stroke=\"black\" points=\"5.12721,-45.9364 -25.8774,-27.9364 5.12721,-9.9364 36.1319,-27.9364 5.12721,-45.9364\"/>\n",
       "<text text-anchor=\"middle\" x=\"5.12721\" y=\"-24.2364\" font-family=\"Times,serif\" font-size=\"14.00\">mu</text>\n",
       "</g>\n",
       "<!-- mu&#45;&gt;y -->\n",
       "<g id=\"edge1\" class=\"edge\"><title>mu&#45;&gt;y</title>\n",
       "<path fill=\"none\" stroke=\"black\" d=\"M1.74769,-11.6171C-0.131107,-2.54454 -2.52031,8.99266 -4.68515,19.4465\"/>\n",
       "<polygon fill=\"black\" stroke=\"black\" points=\"-1.2928,20.3253 -6.748,29.4077 -8.14736,18.9057 -1.2928,20.3253\"/>\n",
       "</g>\n",
       "<!-- s2 -->\n",
       "<g id=\"node3\" class=\"node\"><title>s2</title>\n",
       "<ellipse fill=\"none\" stroke=\"black\" cx=\"-21.7906\" cy=\"119.6\" rx=\"27\" ry=\"18\"/>\n",
       "<text text-anchor=\"middle\" x=\"-21.7906\" y=\"123.3\" font-family=\"Times,serif\" font-size=\"14.00\">s2</text>\n",
       "</g>\n",
       "<!-- s2&#45;&gt;y -->\n",
       "<g id=\"edge2\" class=\"edge\"><title>s2&#45;&gt;y</title>\n",
       "<path fill=\"none\" stroke=\"black\" d=\"M-18.9283,101.349C-17.6965,93.4944 -16.2282,84.1319 -14.8623,75.4224\"/>\n",
       "<polygon fill=\"black\" stroke=\"black\" points=\"-18.2769,74.6047 -13.2698,65.2678 -11.3615,75.6893 -18.2769,74.6047\"/>\n",
       "</g>\n",
       "<!-- beta -->\n",
       "<g id=\"node4\" class=\"node\"><title>beta</title>\n",
       "<ellipse fill=\"none\" stroke=\"black\" cx=\"-50.3527\" cy=\"-82.4102\" rx=\"27\" ry=\"18\"/>\n",
       "<text text-anchor=\"middle\" x=\"-50.3527\" y=\"-78.7102\" font-family=\"Times,serif\" font-size=\"14.00\">beta</text>\n",
       "</g>\n",
       "<!-- beta&#45;&gt;mu -->\n",
       "<g id=\"edge3\" class=\"edge\"><title>beta&#45;&gt;mu</title>\n",
       "<path fill=\"none\" stroke=\"black\" d=\"M-34.8984,-67.2362C-28.4458,-60.9006 -20.8818,-53.4738 -14.0771,-46.7924\"/>\n",
       "<polygon fill=\"black\" stroke=\"black\" points=\"-11.2331,-48.9051 -6.54969,-39.4015 -16.1373,-43.9102 -11.2331,-48.9051\"/>\n",
       "</g>\n",
       "<!-- xmat -->\n",
       "<g id=\"node5\" class=\"node\"><title>xmat</title>\n",
       "<polygon fill=\"#d9d9d9\" stroke=\"black\" points=\"104.464,-74.5264 50.4637,-74.5264 50.4637,-38.5264 104.464,-38.5264 104.464,-74.5264\"/>\n",
       "<text text-anchor=\"middle\" x=\"77.4637\" y=\"-52.8264\" font-family=\"Times,serif\" font-size=\"14.00\">xmat</text>\n",
       "</g>\n",
       "<!-- xmat&#45;&gt;mu -->\n",
       "<g id=\"edge4\" class=\"edge\"><title>xmat&#45;&gt;mu</title>\n",
       "<path fill=\"none\" stroke=\"black\" d=\"M50.1164,-45.7178C44.6152,-43.5435 38.824,-41.2546 33.2954,-39.0695\"/>\n",
       "<polygon fill=\"black\" stroke=\"black\" points=\"34.3333,-35.7163 23.7468,-35.2956 31.7603,-42.2263 34.3333,-35.7163\"/>\n",
       "</g>\n",
       "</g>\n",
       "</svg>\n"
      ],
      "text/plain": [
       "GraphViz.Graph(Ptr{Void} @0x00007f907ff035c0,false)"
      ]
     },
     "metadata": {},
     "output_type": "display_data"
    },
    {
     "name": "stderr",
     "output_type": "stream",
     "text": [
      "WARNING: write(io::IO,p::Ptr,nb::Integer) is deprecated, use unsafe_write(io,p,nb) instead.\n",
      " in depwarn at ./deprecated.jl:64\n",
      " in write at ./deprecated.jl:50\n",
      " in write_to_stream_callback at /Users/imolk/.julia/v0.5/Cairo/src/Cairo.jl:86\n",
      " [inlined code] from /Users/imolk/.julia/v0.5/Cairo/src/Cairo.jl:306\n",
      " in writemime at /Users/imolk/.julia/v0.5/Cairo/src/Cairo.jl:315\n",
      " in writemime at /Users/imolk/.julia/v0.5/GraphViz/src/GraphViz.jl:590\n",
      " in base64encode at ./base64.jl:159\n",
      " in display_dict at /Users/imolk/.julia/v0.5/IJulia/src/execute_request.jl:32\n",
      " [inlined code] from ./operators.jl:433\n",
      " in display at /Users/imolk/.julia/v0.5/IJulia/src/inline.jl:35\n",
      " [inlined code] from ./multimedia.jl:151\n",
      " in display at ./multimedia.jl:163\n",
      " [inlined code] from ./essentials.jl:118\n",
      " in include_string at ./loading.jl:371\n",
      " in execute_request_0x535c5df2 at /Users/imolk/.julia/v0.5/IJulia/src/execute_request.jl:182\n",
      " [inlined code] from ./dict.jl:733\n",
      " in eventloop at /Users/imolk/.julia/v0.5/IJulia/src/IJulia.jl:142\n",
      " in anonymous at ./task.jl:435\n",
      "while loading In[8], in expression starting on line 1\n"
     ]
    }
   ],
   "source": [
    "display(Graph(graph2dot(model)))"
   ]
  },
  {
   "cell_type": "code",
   "execution_count": 9,
   "metadata": {
    "collapsed": false
   },
   "outputs": [
    {
     "data": {
      "text/plain": [
       "5x2 Array{Float64,2}:\n",
       " 1.0  1.0\n",
       " 1.0  2.0\n",
       " 1.0  3.0\n",
       " 1.0  4.0\n",
       " 1.0  5.0"
      ]
     },
     "execution_count": 9,
     "metadata": {},
     "output_type": "execute_result"
    }
   ],
   "source": [
    "line = Dict{Symbol, Any}(\n",
    "  :x => [1, 2, 3, 4, 5],\n",
    "  :y => [1, 3, 3, 3, 5]\n",
    ")\n",
    "line[:xmat] = [ones(5) line[:x]]"
   ]
  },
  {
   "cell_type": "code",
   "execution_count": 10,
   "metadata": {
    "collapsed": false
   },
   "outputs": [
    {
     "data": {
      "text/plain": [
       "3-element Array{Dict{Symbol,Any},1}:\n",
       " Dict{Symbol,Any}(:y=>[1,3,3,3,5],:s2=>1.67022,:beta=>[-0.654841,-0.4796])  \n",
       " Dict{Symbol,Any}(:y=>[1,3,3,3,5],:s2=>0.304649,:beta=>[-0.802957,0.716819])\n",
       " Dict{Symbol,Any}(:y=>[1,3,3,3,5],:s2=>2.36483,:beta=>[1.42775,0.782308])   "
      ]
     },
     "execution_count": 10,
     "metadata": {},
     "output_type": "execute_result"
    }
   ],
   "source": [
    "## Initial Values\n",
    "inits = [\n",
    "  Dict{Symbol, Any}(\n",
    "    :y => line[:y],\n",
    "    :beta => rand(Normal(0, 1), 2),\n",
    "    :s2 => rand(Gamma(1, 1))\n",
    "  )\n",
    "for i in 1:3\n",
    "]"
   ]
  },
  {
   "cell_type": "code",
   "execution_count": 11,
   "metadata": {
    "collapsed": false
   },
   "outputs": [
    {
     "name": "stdout",
     "output_type": "stream",
     "text": [
      "MCMC Simulation of 10000 Iterations x 3 Chains...\n",
      "\n",
      "Chain 1:   0% [0:26:26 of 0:26:28 remaining]\n",
      "Chain 1:  10% [0:00:22 of 0:00:24 remaining]\n",
      "Chain 1:  20% [0:00:12 of 0:00:14 remaining]\n",
      "Chain 1:  30% [0:00:08 of 0:00:11 remaining]\n",
      "Chain 1:  40% [0:00:06 of 0:00:10 remaining]\n",
      "Chain 1:  50% [0:00:04 of 0:00:09 remaining]\n",
      "Chain 1:  60% [0:00:03 of 0:00:08 remaining]\n",
      "Chain 1:  70% [0:00:02 of 0:00:08 remaining]\n",
      "Chain 1:  80% [0:00:01 of 0:00:07 remaining]\n",
      "Chain 1:  90% [0:00:01 of 0:00:07 remaining]\n",
      "Chain 1: 100% [0:00:00 of 0:00:07 remaining]\n",
      "\n",
      "Chain 2:   0% [0:00:04 of 0:00:04 remaining]\n",
      "Chain 2:  10% [0:00:05 of 0:00:05 remaining]\n",
      "Chain 2:  20% [0:00:04 of 0:00:05 remaining]\n",
      "Chain 2:  30% [0:00:04 of 0:00:05 remaining]\n",
      "Chain 2:  40% [0:00:03 of 0:00:05 remaining]\n",
      "Chain 2:  50% [0:00:03 of 0:00:05 remaining]\n",
      "Chain 2:  60% [0:00:02 of 0:00:05 remaining]\n",
      "Chain 2:  70% [0:00:02 of 0:00:05 remaining]\n",
      "Chain 2:  80% [0:00:01 of 0:00:05 remaining]\n",
      "Chain 2:  90% [0:00:01 of 0:00:05 remaining]\n",
      "Chain 2: 100% [0:00:00 of 0:00:05 remaining]\n",
      "\n",
      "Chain 3:   0% [0:00:04 of 0:00:04 remaining]\n",
      "Chain 3:  10% [0:00:05 of 0:00:05 remaining]\n",
      "Chain 3:  20% [0:00:04 of 0:00:05 remaining]\n",
      "Chain 3:  30% [0:00:04 of 0:00:05 remaining]\n",
      "Chain 3:  40% [0:00:04 of 0:00:06 remaining]\n",
      "Chain 3:  50% [0:00:03 of 0:00:06 remaining]\n",
      "Chain 3:  60% [0:00:02 of 0:00:06 remaining]\n",
      "Chain 3:  70% [0:00:02 of 0:00:06 remaining]\n",
      "Chain 3:  80% [0:00:01 of 0:00:06 remaining]\n",
      "Chain 3:  90% [0:00:01 of 0:00:06 remaining]\n",
      "Chain 3: 100% [0:00:00 of 0:00:06 remaining]\n",
      "\n",
      "MCMC Simulation of 10000 Iterations x 3 Chains...\n",
      "\n",
      "Chain 1:   0% [0:00:46 of 0:00:46 remaining]\n",
      "Chain 1:  10% [0:00:08 of 0:00:09 remaining]\n",
      "Chain 1:  20% [0:00:07 of 0:00:08 remaining]\n",
      "Chain 1:  30% [0:00:05 of 0:00:08 remaining]\n",
      "Chain 1:  40% [0:00:05 of 0:00:08 remaining]\n",
      "Chain 1:  50% [0:00:04 of 0:00:08 remaining]\n",
      "Chain 1:  60% [0:00:03 of 0:00:08 remaining]\n",
      "Chain 1:  70% [0:00:02 of 0:00:08 remaining]\n",
      "Chain 1:  80% [0:00:02 of 0:00:08 remaining]\n",
      "Chain 1:  90% [0:00:01 of 0:00:08 remaining]\n",
      "Chain 1: 100% [0:00:00 of 0:00:08 remaining]\n",
      "\n",
      "Chain 2:   0% [0:00:16 of 0:00:16 remaining]\n",
      "Chain 2:  10% [0:00:06 of 0:00:07 remaining]\n",
      "Chain 2:  20% [0:00:05 of 0:00:06 remaining]\n",
      "Chain 2:  30% [0:00:04 of 0:00:06 remaining]\n",
      "Chain 2:  40% [0:00:04 of 0:00:06 remaining]\n",
      "Chain 2:  50% [0:00:03 of 0:00:06 remaining]\n",
      "Chain 2:  60% [0:00:02 of 0:00:06 remaining]\n",
      "Chain 2:  70% [0:00:02 of 0:00:06 remaining]\n",
      "Chain 2:  80% [0:00:01 of 0:00:06 remaining]\n",
      "Chain 2:  90% [0:00:01 of 0:00:06 remaining]\n",
      "Chain 2: 100% [0:00:00 of 0:00:06 remaining]\n",
      "\n",
      "Chain 3:   0% [0:00:20 of 0:00:20 remaining]\n",
      "Chain 3:  10% [0:00:06 of 0:00:07 remaining]\n",
      "Chain 3:  20% [0:00:05 of 0:00:06 remaining]\n",
      "Chain 3:  30% [0:00:04 of 0:00:06 remaining]\n",
      "Chain 3:  40% [0:00:04 of 0:00:06 remaining]\n",
      "Chain 3:  50% [0:00:03 of 0:00:06 remaining]\n",
      "Chain 3:  60% [0:00:02 of 0:00:06 remaining]\n",
      "Chain 3:  70% [0:00:02 of 0:00:06 remaining]\n",
      "Chain 3:  80% [0:00:01 of 0:00:06 remaining]\n",
      "Chain 3:  90% [0:00:01 of 0:00:06 remaining]\n",
      "Chain 3: 100% [0:00:00 of 0:00:06 remaining]\n",
      "\n",
      "MCMC Simulation of 10000 Iterations x 3 Chains...\n",
      "\n",
      "Chain 1:   0% [0:21:04 of 0:21:06 remaining]\n",
      "Chain 1:  10% [0:00:12 of 0:00:13 remaining]\n",
      "Chain 1:  20% [0:00:05 of 0:00:07 remaining]\n",
      "Chain 1:  30% [0:00:03 of 0:00:05 remaining]\n",
      "Chain 1:  40% [0:00:02 of 0:00:04 remaining]\n",
      "Chain 1:  50% [0:00:02 of 0:00:03 remaining]\n",
      "Chain 1:  60% [0:00:01 of 0:00:03 remaining]\n",
      "Chain 1:  70% [0:00:01 of 0:00:02 remaining]\n",
      "Chain 1:  80% [0:00:00 of 0:00:02 remaining]\n",
      "Chain 1:  90% [0:00:00 of 0:00:02 remaining]\n",
      "Chain 1: 100% [0:00:00 of 0:00:02 remaining]\n",
      "\n",
      "Chain 2:   0% [0:00:00 of 0:00:00 remaining]\n",
      "Chain 2:  10% [0:00:00 of 0:00:00 remaining]\n",
      "Chain 2:  20% [0:00:00 of 0:00:00 remaining]\n",
      "Chain 2:  30% [0:00:00 of 0:00:00 remaining]\n",
      "Chain 2:  40% [0:00:00 of 0:00:00 remaining]\n",
      "Chain 2:  50% [0:00:00 of 0:00:00 remaining]\n",
      "Chain 2:  60% [0:00:00 of 0:00:00 remaining]\n",
      "Chain 2:  70% [0:00:00 of 0:00:00 remaining]\n",
      "Chain 2:  80% [0:00:00 of 0:00:00 remaining]\n",
      "Chain 2:  90% [0:00:00 of 0:00:00 remaining]\n",
      "Chain 2: 100% [0:00:00 of 0:00:00 remaining]\n",
      "\n",
      "Chain 3:   0% [0:00:00 of 0:00:00 remaining]\n",
      "Chain 3:  10% [0:00:00 of 0:00:00 remaining]\n",
      "Chain 3:  20% [0:00:00 of 0:00:00 remaining]\n",
      "Chain 3:  30% [0:00:00 of 0:00:00 remaining]\n",
      "Chain 3:  40% [0:00:00 of 0:00:00 remaining]\n",
      "Chain 3:  50% [0:00:00 of 0:00:00 remaining]\n",
      "Chain 3:  60% [0:00:00 of 0:00:00 remaining]\n",
      "Chain 3:  70% [0:00:00 of 0:00:00 remaining]\n",
      "Chain 3:  80% [0:00:00 of 0:00:00 remaining]\n",
      "Chain 3:  90% [0:00:00 of 0:00:00 remaining]\n",
      "Chain 3: 100% [0:00:00 of 0:00:00 remaining]\n",
      "\n"
     ]
    },
    {
     "data": {
      "text/plain": [
       "Object of type \"Mamba.ModelChains\"\n",
       "\n",
       "Iterations = 252:10000\n",
       "Thinning interval = 2\n",
       "Chains = 1,2,3\n",
       "Samples per chain = 4875\n",
       "\n",
       "4875x3x3 Array{Float64,3}:\n",
       "[:, :, 1] =\n",
       " -0.348106  0.931831  1.24677 \n",
       "  0.802503  0.752165  1.16277 \n",
       "  0.652764  0.73456   1.06383 \n",
       "  1.12396   0.682054  0.308918\n",
       " -0.272704  1.0961    0.342859\n",
       "  0.522043  0.787195  0.357727\n",
       " -0.183754  0.945715  0.687075\n",
       "  0.475237  0.71246   0.417205\n",
       " -0.309272  1.01978   0.3001  \n",
       "  1.15513   0.958248  4.22057 \n",
       "  1.19152   0.442014  0.668349\n",
       "  1.4888    0.687702  0.241562\n",
       "  0.287716  0.890885  0.658561\n",
       "  ⋮                           \n",
       "  0.968908  0.668218  0.275498\n",
       "  1.7761    0.341747  0.313992\n",
       "  1.35545   0.519624  0.544147\n",
       "  0.7246    0.749539  0.224746\n",
       "  0.616212  0.796981  0.278425\n",
       "  1.93647   0.245366  1.18509 \n",
       "  0.238555  0.966525  0.432328\n",
       "  1.02422   0.831831  0.670722\n",
       "  1.72706   0.565504  2.49643 \n",
       "  0.393177  0.814973  2.13836 \n",
       "  0.358701  0.642274  0.793323\n",
       "  2.79309   0.586127  2.84247 \n",
       "\n",
       "[:, :, 2] =\n",
       "  1.27749   0.547418   0.811529\n",
       "  0.459898  1.00731    0.842732\n",
       "  1.35383   0.706728   0.691751\n",
       " -0.83328   1.1928     2.05649 \n",
       "  0.687804  0.793435   1.67688 \n",
       "  0.501042  0.866032   0.677853\n",
       " -3.03481   1.55121   13.0196  \n",
       "  1.03078   0.37725    0.621819\n",
       " -0.180692  1.1204     0.738704\n",
       "  1.5711    0.509881   0.456473\n",
       "  1.91135   0.574435   3.25601 \n",
       "  1.292     0.592552   0.308388\n",
       "  1.05718   0.647666   0.16424 \n",
       "  ⋮                            \n",
       "  0.922218  0.607275   0.879341\n",
       " -0.79565   1.13265    0.665473\n",
       "  1.60448   0.656653   0.629544\n",
       "  0.630851  0.78227    0.724215\n",
       "  1.11135   0.594634   0.242529\n",
       "  0.261782  0.621289   4.14633 \n",
       "  0.250715  0.968717   0.483488\n",
       "  1.59024   0.57969    0.548833\n",
       "  1.07504   0.866584   0.718013\n",
       "  1.6465    0.637003   1.37468 \n",
       "  1.29589   0.565971   6.23039 \n",
       "  2.46961   0.336382   8.52653 \n",
       "\n",
       "[:, :, 3] =\n",
       " -1.08273     1.33166   1.81371 \n",
       " -0.910469    1.22195   0.548695\n",
       "  0.0881093   0.955459  2.89895 \n",
       " -0.384993    1.57699   5.04867 \n",
       "  0.597597    0.899094  0.176557\n",
       "  1.17537     0.768553  0.930553\n",
       " -0.11431     1.08458   0.628555\n",
       "  0.576109    0.726385  0.496594\n",
       "  0.0768276   1.0027    1.08447 \n",
       " -0.117237    1.16245   0.393074\n",
       "  0.191355    0.837365  0.344052\n",
       "  0.0734361   0.89659   0.512264\n",
       "  1.69873     0.396592  0.311275\n",
       "  ⋮                             \n",
       "  0.136152    1.1164    2.03292 \n",
       "  0.215197    0.963162  1.05435 \n",
       "  0.904178    0.570635  0.982786\n",
       "  0.406812    0.601517  1.67932 \n",
       " -0.341074    1.1438    0.771628\n",
       "  1.05215     0.60446   0.193671\n",
       "  1.32117     0.545054  0.835972\n",
       "  3.38769    -0.167492  1.51102 \n",
       "  0.770664    0.775752  0.316242\n",
       "  0.410964    0.857621  0.349678\n",
       "  0.679426    0.906793  0.452739\n",
       "  1.35137     0.652961  0.512558"
      ]
     },
     "execution_count": 11,
     "metadata": {},
     "output_type": "execute_result"
    }
   ],
   "source": [
    "## MCMC Simulations\n",
    "\n",
    "setsamplers!(model, scheme1)\n",
    "sim1 = mcmc(model, line, inits, 10000, burnin=250, thin=2, chains=3)\n",
    "\n",
    "setsamplers!(model, scheme2)\n",
    "sim2 = mcmc(model, line, inits, 10000, burnin=250, thin=2, chains=3)\n",
    "\n",
    "setsamplers!(model, scheme3)\n",
    "sim3 = mcmc(model, line, inits, 10000, burnin=250, thin=2, chains=3)"
   ]
  },
  {
   "cell_type": "code",
   "execution_count": 12,
   "metadata": {
    "collapsed": false
   },
   "outputs": [
    {
     "name": "stderr",
     "output_type": "stream",
     "text": [
      "WARNING: Method definition f(Any) in module Mamba at /Users/imolk/.julia/v0.5/Mamba/src/output/modelchains.jl:64 overwritten at /Users/imolk/.julia/v0.5/Mamba/src/output/modelchains.jl:64.\n"
     ]
    },
    {
     "data": {
      "text/plain": [
       "              PSRF 97.5%\n",
       "     beta[1] 1.016 1.016\n",
       "     beta[2] 1.015 1.015\n",
       "          s2 1.016 1.033\n",
       "Multivariate 1.012   NaN\n",
       "\n"
      ]
     },
     "execution_count": 12,
     "metadata": {},
     "output_type": "execute_result"
    }
   ],
   "source": [
    "gelmandiag(sim1, mpsrf=true, transform=true)"
   ]
  },
  {
   "cell_type": "code",
   "execution_count": 13,
   "metadata": {
    "collapsed": false
   },
   "outputs": [
    {
     "name": "stderr",
     "output_type": "stream",
     "text": [
      "WARNING: Method definition f(Any) in module Mamba at /Users/imolk/.julia/v0.5/Mamba/src/output/modelchains.jl:64 overwritten at /Users/imolk/.julia/v0.5/Mamba/src/output/modelchains.jl:64.\n"
     ]
    },
    {
     "data": {
      "text/plain": [
       "              PSRF 97.5%\n",
       "     beta[1] 1.007 1.008\n",
       "     beta[2] 1.008 1.010\n",
       "          s2 1.003 1.011\n",
       "Multivariate 1.006   NaN\n",
       "\n"
      ]
     },
     "execution_count": 13,
     "metadata": {},
     "output_type": "execute_result"
    }
   ],
   "source": [
    "gelmandiag(sim2, mpsrf=true, transform=true)"
   ]
  },
  {
   "cell_type": "code",
   "execution_count": 14,
   "metadata": {
    "collapsed": false
   },
   "outputs": [
    {
     "name": "stderr",
     "output_type": "stream",
     "text": [
      "WARNING: Method definition f(Any) in module Mamba at /Users/imolk/.julia/v0.5/Mamba/src/output/modelchains.jl:64 overwritten at /Users/imolk/.julia/v0.5/Mamba/src/output/modelchains.jl:64.\n"
     ]
    },
    {
     "data": {
      "text/plain": [
       "              PSRF 97.5%\n",
       "     beta[1] 1.001 1.001\n",
       "     beta[2] 1.001 1.001\n",
       "          s2 1.001 1.002\n",
       "Multivariate 1.001   NaN\n",
       "\n"
      ]
     },
     "execution_count": 14,
     "metadata": {},
     "output_type": "execute_result"
    }
   ],
   "source": [
    "gelmandiag(sim3, mpsrf=true, transform=true)"
   ]
  },
  {
   "cell_type": "code",
   "execution_count": null,
   "metadata": {
    "collapsed": true
   },
   "outputs": [],
   "source": []
  }
 ],
 "metadata": {
  "kernelspec": {
   "display_name": "Julia 0.5.0-dev",
   "language": "julia",
   "name": "julia-0.5"
  },
  "language_info": {
   "file_extension": ".jl",
   "mimetype": "application/julia",
   "name": "julia",
   "version": "0.5.0"
  }
 },
 "nbformat": 4,
 "nbformat_minor": 0
}

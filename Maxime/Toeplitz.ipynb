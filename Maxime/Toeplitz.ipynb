{
 "cells": [
  {
   "cell_type": "code",
   "execution_count": 255,
   "metadata": {
    "collapsed": false
   },
   "outputs": [],
   "source": [
    "using ToeplitzMatrices\n",
    "using Base.Test\n",
    "using IterativeLinearSolvers\n",
    "import Base: full, getindex, print_matrix, size, tril, triu, *, inv, A_mul_B!, Ac_mul_B, A_ldiv_B!\n",
    "import Base.\\\n",
    "import Base.LinAlg: BlasFloat, BlasReal, DimensionMismatch\n",
    "export Toeplitz, SymmetricToeplitz, Circulant, Trian"
   ]
  },
  {
   "cell_type": "code",
   "execution_count": 4,
   "metadata": {
    "collapsed": false
   },
   "outputs": [],
   "source": [
    "ns=10 # small\n",
    "nl = 2000 # large\n",
    "xs = randn(ns)\n",
    "xl= randn(nl)\n",
    "\n",
    "As = SymmetricToeplitz(0.9.^( 0:ns-1 ))\n",
    "Al = SymmetricToeplitz(0.9.^( 0:nl-1 ))\n",
    ";"
   ]
  },
  {
   "cell_type": "code",
   "execution_count": 5,
   "metadata": {
    "collapsed": true
   },
   "outputs": [],
   "source": [
    "@test_approx_eq As*xs full(As)*xs\n",
    "@test_approx_eq Al*xl full(Al)*xl\n",
    "@test_approx_eq A_ldiv_B!(As,copy(xs)) full(As)\\xs\n",
    "@test_approx_eq A_ldiv_B!(Al,copy(xl)) full(Al)\\xl"
   ]
  },
  {
   "cell_type": "code",
   "execution_count": 199,
   "metadata": {
    "collapsed": false
   },
   "outputs": [
    {
     "name": "stderr",
     "output_type": "stream",
     "text": [
      "WARNING: Method definition durbin!(AbstractArray{#T<:Union{Base.Complex{Float64}, Base.Complex{Float32}, Float64, Float32}, 1}, AbstractArray{#T<:Union{Base.Complex{Float64}, Base.Complex{Float32}, Float64, Float32}, 1}) in module Main at In[190]:2 overwritten at In[199]:2.\n",
      "WARNING: Method definition durbin(AbstractArray{T<:Any, 1}) in module Main at In[190]:26 overwritten at In[199]:26.\n"
     ]
    },
    {
     "data": {
      "text/plain": [
       "durbin (generic function with 1 method)"
      ]
     },
     "execution_count": 199,
     "metadata": {},
     "output_type": "execute_result"
    }
   ],
   "source": [
    "function durbin!{T<:BlasFloat}(r::AbstractVector{T}, y::AbstractVector{T})\n",
    "    n = length(r)\n",
    "    if n != length(y) throw(DimensionMismatch(\"Vector must have same length\")) end\n",
    "    y[1] = -r[1]\n",
    "    β = one(T)\n",
    "    α = -r[1]\n",
    "    @inbounds for k = 1:n-1\n",
    "        β *= one(T) - α*α\n",
    "        α = -r[k+1]\n",
    "        @simd for j = 1:k\n",
    "            α -= r[k-j+1]*y[j]\n",
    "        end\n",
    "        α /= β\n",
    "        @simd for j = 1:k÷2\n",
    "            tmp = y[j]\n",
    "            y[j] += α*y[k-j+1]\n",
    "            y[k-j+1] += α*tmp\n",
    "        end\n",
    "        if isodd(k) \n",
    "            y[div(k,2)+1] *= one(T) + α\n",
    "        end\n",
    "        y[k+1] = α\n",
    "    end\n",
    "    return y\n",
    "end\n",
    "durbin(r::AbstractVector) = durbin!(r, zeros(length(r)))"
   ]
  },
  {
   "cell_type": "code",
   "execution_count": 239,
   "metadata": {
    "collapsed": false
   },
   "outputs": [
    {
     "name": "stdout",
     "output_type": "stream",
     "text": [
      "  0.003670 seconds (8 allocations: 31.609 KB)\n"
     ]
    }
   ],
   "source": [
    "@time y=durbin(Al.vc[2:end]);"
   ]
  },
  {
   "cell_type": "code",
   "execution_count": 259,
   "metadata": {
    "collapsed": false
   },
   "outputs": [
    {
     "name": "stderr",
     "output_type": "stream",
     "text": [
      "WARNING: Method definition trench!(AbstractArray{#T<:Union{Base.Complex{Float64}, Base.Complex{Float32}, Float64, Float32}, 1}, AbstractArray{#T<:Union{Base.Complex{Float64}, Base.Complex{Float32}, Float64, Float32}, 1}, AbstractArray{#T<:Union{Base.Complex{Float64}, Base.Complex{Float32}, Float64, Float32}, 2}) in module Main at In[258]:2 overwritten at In[259]:2.\n",
      "WARNING: Method definition trench(AbstractArray{T<:Any, 1}, AbstractArray{T<:Any, 1}) in module Main at In[258]:20 overwritten at In[259]:20.\n",
      "WARNING: Method definition inv(ToeplitzMatrices.SymmetricToeplitz{#T<:Union{Base.Complex{Float64}, Base.Complex{Float32}, Float64, Float32}}) in module Main at In[230]:25 overwritten at In[259]:25.\n"
     ]
    },
    {
     "data": {
      "text/plain": [
       "inv (generic function with 31 methods)"
      ]
     },
     "execution_count": 259,
     "metadata": {},
     "output_type": "execute_result"
    }
   ],
   "source": [
    "function trench!{T<:BlasFloat}(r::AbstractVector{T}, y::AbstractVector{T}, B::AbstractMatrix{T})\n",
    "    n = length(r)+1\n",
    "    if length(r) != length(y) throw(DimensionMismatch(\"Vector must have same length\")) end\n",
    "    if (n,n) != size(B) throw(DimensionMismatch(\"B must have same size (n,n)\")) end\n",
    "    γ::T = one(T)/(one(T)+dot(r,y))\n",
    "    vrev = γ .* y\n",
    "    v = reverse(vrev)    \n",
    "    B[1,1] = B[end,end] = γ\n",
    "    B[1,2:end] = vrev\n",
    "    B[1:end-1,end] = v\n",
    "    @inbounds for i in 2:(((n-1)÷2)+1)\n",
    "        for j in i:(n-i+1)\n",
    "             B[i,j] = B[i-1,j-1]+(v[n+1-j]*v[n+1-i]-v[i-1]*v[j-1])/γ\n",
    "             B[end-j+1,end-i+1] = B[i,j]\n",
    "        end\n",
    "    end\n",
    "    return B\n",
    "end\n",
    "function trench(r::AbstractVector, y::AbstractVector)\n",
    "    n = length(r)+1\n",
    "    B = ones(Float64, (n,n))\n",
    "    return trench!(r, y, B)\n",
    "end\n",
    "function inv{T<:BlasFloat}(A::SymmetricToeplitz{T})\n",
    "    r = A.vc[2:end]./A.vc[1]\n",
    "    y=durbin(r)\n",
    "    return Symmetric(trench(r,y))./A.vc[1]\n",
    "end"
   ]
  },
  {
   "cell_type": "code",
   "execution_count": 231,
   "metadata": {
    "collapsed": false
   },
   "outputs": [
    {
     "name": "stdout",
     "output_type": "stream",
     "text": [
      "  0.095140 seconds (25.16 k allocations: 31.678 MB, 46.06% gc time)\n"
     ]
    }
   ],
   "source": [
    "@time Symmetric(trench(Al.vc[2:end], y));"
   ]
  },
  {
   "cell_type": "code",
   "execution_count": 270,
   "metadata": {
    "collapsed": false
   },
   "outputs": [
    {
     "name": "stdout",
     "output_type": "stream",
     "text": [
      "Variables:\n",
      "  r::Array{Float64,1}\n",
      "  y::Array{Float64,1}\n",
      "  B::Array{Float64,2}\n",
      "  n::Int64\n",
      "  γ::Float64\n",
      "  vrev::Array{Float64,1}\n",
      "  v::Array{Float64,1}\n",
      "  #s2420::Int64\n",
      "  i::Int64\n",
      "  #s2421::Int64\n",
      "  j::Int64\n",
      "  ##I#13538::Tuple{}\n",
      "  ##I#13539::Tuple{}\n",
      "  ##I#13540::Tuple{Int64,UnitRange{Int64}}\n",
      "  ####J#11450#13541::Tuple{Int64,UnitRange{Int64}}\n",
      "  ######I#11438#11451#13542::Tuple{Int64,UnitRange{Int64}}\n",
      "  #########s21#11419#11439#11452#13543::Bool\n",
      "  ########_var0#11420#11440#11453#13544::Bool\n",
      "  ###########s20#11414#11421#11441#11454#13545::Bool\n",
      "  ##########_var0#11415#11422#11442#11455#13546::Int64\n",
      "  ##########_var1#11416#11423#11443#11456#13547::Bool\n",
      "  ##########_var2#11417#11424#11444#11457#13548::Int64\n",
      "  ##########_var3#11418#11425#11445#11458#13549::Bool\n",
      "  ########_var4#11426#11446#11459#13550::Bool\n",
      "  ######_var1#11447#11460#13551::Bool\n",
      "  ######J#11448#11461#13552::Tuple{Int64,UnitRange{Int64}}\n",
      "  ########I#11437#11449#11462#13553::Tuple{UnitRange{Int64}}\n",
      "  ##I#13554::Tuple{UnitRange{Int64},Int64}\n",
      "  ####J#11484#13555::Tuple{UnitRange{Int64},Int64}\n",
      "  ######I#11472#11485#13556::Tuple{UnitRange{Int64},Int64}\n",
      "  #########s21#10177#11473#11486#13557::Bool\n",
      "  ###########s20#10172#10178#11474#11487#13558::Bool\n",
      "  ##########_var0#10173#10179#11475#11488#13559::Int64\n",
      "  ##########_var1#10174#10180#11476#11489#13560::Bool\n",
      "  ##########_var2#10175#10181#11477#11490#13561::Int64\n",
      "  ##########_var3#10176#10182#11478#11491#13562::Bool\n",
      "  ########_var4#10183#11479#11492#13563::Bool\n",
      "  ########_var0#10184#11480#11493#13564::Bool\n",
      "  ######_var1#11481#11494#13565::Bool\n",
      "  ######J#11482#11495#13566::Tuple{UnitRange{Int64},Int64}\n",
      "  ########I#11471#11483#11496#13567::Tuple{Int64}\n",
      "  ##I#13568::Tuple{}\n",
      "  ##I#13569::Tuple{}\n",
      "  ##I#13570::Tuple{}\n",
      "  ##I#13571::Tuple{}\n",
      "\n",
      "Body:\n",
      "  begin  # In[259], line 2:\n",
      "      NewvarNode(:γ)\n",
      "      NewvarNode(:vrev)\n",
      "      NewvarNode(:v)\n",
      "      n = (Base.box)(Int64,(Base.add_int)((Base.arraylen)(r::Array{Float64,1})::Int64,1)) # In[259], line 3:\n",
      "      unless (Base.box)(Base.Bool,(Base.not_int)(((Base.arraylen)(r::Array{Float64,1})::Int64 === (Base.arraylen)(y::Array{Float64,1})::Int64)::Bool)) goto 0 # In[259], line 3:\n",
      "      (Main.throw)($(Expr(:new, :((top(getfield))(Base,:DimensionMismatch)::Type{DimensionMismatch}), \"Vector must have same length\")))::UNION{}\n",
      "      0:  # In[259], line 4:\n",
      "      $(Expr(:inbounds, false))\n",
      "      GenSym(7) = (top(tuple))((Base.arraysize)(B::Array{Float64,2},1)::Int64,(Base.arraysize)(B::Array{Float64,2},2)::Int64)::Tuple{Int64,Int64} # operators.jl, line 27:\n",
      "      GenSym(8) = ((top(tuple))(n::Int64,n::Int64)::Tuple{Int64,Int64} == GenSym(7))::Bool # bool.jl, line 16:\n",
      "      $(Expr(:inbounds, :pop))\n",
      "      unless (Base.box)(Base.Bool,(Base.not_int)(GenSym(8))) goto 1 # In[259], line 4:\n",
      "      (Main.throw)($(Expr(:new, :((top(getfield))(Base,:DimensionMismatch)::Type{DimensionMismatch}), \"B must have same size (n,n)\")))::UNION{}\n",
      "      1:  # In[259], line 5:\n",
      "      $(Expr(:inbounds, false))\n",
      "      GenSym(9) = (Main.dot)(r::Array{Float64,1},y::Array{Float64,1})::Float64 # float.jl, line 208:\n",
      "      $(Expr(:inbounds, :pop))\n",
      "      γ = (Base.box)(Base.Float64,(Base.div_float)((Base.box)(Float64,(Base.sitofp)(Float64,1)),(Base.box)(Base.Float64,(Base.add_float)((Base.box)(Float64,(Base.sitofp)(Float64,1)),GenSym(9))))) # In[259], line 6:\n",
      "      vrev = (γ::Float64 .* y::Array{Float64,1})::Array{Float64,1} # In[259], line 7:\n",
      "      v = (Main.reverse)(vrev::Array{Float64,1})::Array{Float64,1} # In[259], line 8:\n",
      "      $(Expr(:inbounds, false))\n",
      "      GenSym(11) = (Base.arraysize)(B::Array{Float64,2},1)::Int64\n",
      "      GenSym(10) = (top(trailingsize))(B::Array{Float64,2},2)::Int64 # array.jl, line 305:\n",
      "      $(Expr(:inbounds, :pop))\n",
      "      (Base.arrayset)(B::Array{Float64,2},γ::Float64,GenSym(11),GenSym(10))::Array{Float64,2}\n",
      "      GenSym(0) = γ::Float64\n",
      "      (Base.arrayset)(B::Array{Float64,2},GenSym(0),1,1)::Array{Float64,2} # In[259], line 9:\n",
      "      $(Expr(:inbounds, false))\n",
      "      GenSym(12) = (top(trailingsize))(B::Array{Float64,2},2)::Int64 # range.jl, line 83:\n",
      "      $(Expr(:inbounds, :pop)) # abstractarray.jl, line 583: # abstractarray.jl, line 584:\n",
      "      GenSym(14) = 1\n",
      "      GenSym(13) = $(Expr(:new, UnitRange{Int64}, 2, :(((top(getfield))(Base.Intrinsics,:select_value)::I)((Base.sle_int)(2,GenSym(12))::Bool,GenSym(12),(Base.box)(Int64,(Base.sub_int)(2,1)))::Int64))) # multidimensional.jl, line 280: # abstractarray.jl, line 150:\n",
      "      GenSym(16) = GenSym(14)\n",
      "      GenSym(15) = GenSym(13) # abstractarray.jl, line 157:\n",
      "      NewvarNode(symbol(\"#########s21#11419#11439#11452#13543\")) # abstractarray.jl, line 158:\n",
      "      GenSym(17) = (Base.arraysize)(B::Array{Float64,2},1)::Int64 # abstractarray.jl, line 131:\n",
      "      unless (Base.sle_int)(1,GenSym(16))::Bool goto 29\n",
      "      ########_var0#11420#11440#11453#13544 = (Base.sle_int)(GenSym(16),GenSym(17))::Bool\n",
      "      goto 30\n",
      "      29: \n",
      "      ########_var0#11420#11440#11453#13544 = false\n",
      "      30: \n",
      "      unless ########_var0#11420#11440#11453#13544::Bool goto 42\n",
      "      GenSym(18) = (Base.arraysize)(B::Array{Float64,2},2)::Int64 # abstractarray.jl, line 134: # abstractarray.jl, line 135:\n",
      "      ###########s20#11414#11421#11441#11454#13545 = (Base.slt_int)((top(getfield))(GenSym(15),:stop)::Int64,(top(getfield))(GenSym(15),:start)::Int64)::Bool\n",
      "      unless ###########s20#11414#11421#11441#11454#13545::Bool goto 31\n",
      "      ########_var4#11426#11446#11459#13550 = ###########s20#11414#11421#11441#11454#13545::Bool\n",
      "      goto 41\n",
      "      31:  # range.jl, line 367:\n",
      "      unless (Base.slt_int)((top(getfield))(GenSym(15),:stop)::Int64,(top(getfield))(GenSym(15),:start)::Int64)::Bool goto 32\n",
      "      ##########_var0#11415#11422#11442#11455#13546 = (Base.throw)($(Expr(:new, :((top(getfield))(Base,:ArgumentError)::Type{ArgumentError}), \"range must be non-empty\")))::UNION{}\n",
      "      goto 33\n",
      "      32: \n",
      "      ##########_var0#11415#11422#11442#11455#13546 = (top(getfield))(GenSym(15),:start)::Int64\n",
      "      33: \n",
      "      GenSym(19) = ##########_var0#11415#11422#11442#11455#13546::Int64 # abstractarray.jl, line 131:\n",
      "      unless (Base.sle_int)(1,GenSym(19))::Bool goto 34\n",
      "      ##########_var1#11416#11423#11443#11456#13547 = (Base.sle_int)(GenSym(19),GenSym(18))::Bool\n",
      "      goto 35\n",
      "      34: \n",
      "      ##########_var1#11416#11423#11443#11456#13547 = false\n",
      "      35: \n",
      "      unless ##########_var1#11416#11423#11443#11456#13547::Bool goto 40 # range.jl, line 368:\n",
      "      unless (Base.slt_int)((top(getfield))(GenSym(15),:stop)::Int64,(top(getfield))(GenSym(15),:start)::Int64)::Bool goto 36\n",
      "      ##########_var2#11417#11424#11444#11457#13548 = (Base.throw)($(Expr(:new, :((top(getfield))(Base,:ArgumentError)::Type{ArgumentError}), \"range must be non-empty\")))::UNION{}\n",
      "      goto 37\n",
      "      36: \n",
      "      ##########_var2#11417#11424#11444#11457#13548 = (top(getfield))(GenSym(15),:stop)::Int64\n",
      "      37: \n",
      "      GenSym(20) = ##########_var2#11417#11424#11444#11457#13548::Int64 # abstractarray.jl, line 131:\n",
      "      unless (Base.sle_int)(1,GenSym(20))::Bool goto 38\n",
      "      ##########_var3#11418#11425#11445#11458#13549 = (Base.sle_int)(GenSym(20),GenSym(18))::Bool\n",
      "      goto 39\n",
      "      38: \n",
      "      ##########_var3#11418#11425#11445#11458#13549 = false\n",
      "      39: \n",
      "      ########_var4#11426#11446#11459#13550 = ##########_var3#11418#11425#11445#11458#13549::Bool\n",
      "      goto 41\n",
      "      40: \n",
      "      ########_var4#11426#11446#11459#13550 = false\n",
      "      41: \n",
      "      #########s21#11419#11439#11452#13543 = ########_var4#11426#11446#11459#13550::Bool\n",
      "      goto 43\n",
      "      42: \n",
      "      #########s21#11419#11439#11452#13543 = false\n",
      "      43: \n",
      "      unless #########s21#11419#11439#11452#13543::Bool goto 44\n",
      "      ######_var1#11447#11460#13551 = #########s21#11419#11439#11452#13543::Bool\n",
      "      goto 45\n",
      "      44: \n",
      "      ######_var1#11447#11460#13551 = (Base.throw_boundserror)(B::Array{Float64,2},(top(tuple))(GenSym(16),GenSym(15))::Tuple{Int64,UnitRange{Int64}})::UNION{}\n",
      "      45: \n",
      "      ######_var1#11447#11460#13551::Bool # multidimensional.jl, line 281:\n",
      "      (Base._unsafe_batchsetindex!)(B::Array{Float64,2},vrev::Array{Float64,1},GenSym(14),GenSym(13))::Array{Float64,2}\n",
      "      vrev::Array{Float64,1} # In[259], line 10:\n",
      "      $(Expr(:inbounds, false))\n",
      "      GenSym(21) = (Base.arraysize)(B::Array{Float64,2},1)::Int64 # int.jl, line 29:\n",
      "      $(Expr(:inbounds, :pop))\n",
      "      $(Expr(:inbounds, false))\n",
      "      GenSym(22) = (Base.box)(Int64,(Base.sub_int)(GenSym(21),1)) # range.jl, line 83:\n",
      "      $(Expr(:inbounds, :pop))\n",
      "      GenSym(23) = (top(trailingsize))(B::Array{Float64,2},2)::Int64 # abstractarray.jl, line 583: # abstractarray.jl, line 584:\n",
      "      GenSym(25) = $(Expr(:new, UnitRange{Int64}, 1, :(((top(getfield))(Base.Intrinsics,:select_value)::I)((Base.sle_int)(1,GenSym(22))::Bool,GenSym(22),(Base.box)(Int64,(Base.sub_int)(1,1)))::Int64)))\n",
      "      GenSym(24) = GenSym(23) # multidimensional.jl, line 280: # abstractarray.jl, line 150:\n",
      "      GenSym(27) = GenSym(25)\n",
      "      GenSym(26) = GenSym(24) # abstractarray.jl, line 157:\n",
      "      NewvarNode(symbol(\"#########s21#10177#11473#11486#13557\")) # abstractarray.jl, line 158:\n",
      "      GenSym(28) = (Base.arraysize)(B::Array{Float64,2},1)::Int64 # abstractarray.jl, line 134: # abstractarray.jl, line 135:\n",
      "      ###########s20#10172#10178#11474#11487#13558 = (Base.slt_int)((top(getfield))(GenSym(27),:stop)::Int64,(top(getfield))(GenSym(27),:start)::Int64)::Bool\n",
      "      unless ###########s20#10172#10178#11474#11487#13558::Bool goto 50\n",
      "      ########_var4#10183#11479#11492#13563 = ###########s20#10172#10178#11474#11487#13558::Bool\n",
      "      goto 60\n",
      "      50:  # range.jl, line 367:\n",
      "      unless (Base.slt_int)((top(getfield))(GenSym(27),:stop)::Int64,(top(getfield))(GenSym(27),:start)::Int64)::Bool goto 51\n",
      "      ##########_var0#10173#10179#11475#11488#13559 = (Base.throw)($(Expr(:new, :((top(getfield))(Base,:ArgumentError)::Type{ArgumentError}), \"range must be non-empty\")))::UNION{}\n",
      "      goto 52\n",
      "      51: \n",
      "      ##########_var0#10173#10179#11475#11488#13559 = (top(getfield))(GenSym(27),:start)::Int64\n",
      "      52: \n",
      "      GenSym(29) = ##########_var0#10173#10179#11475#11488#13559::Int64 # abstractarray.jl, line 131:\n",
      "      unless (Base.sle_int)(1,GenSym(29))::Bool goto 53\n",
      "      ##########_var1#10174#10180#11476#11489#13560 = (Base.sle_int)(GenSym(29),GenSym(28))::Bool\n",
      "      goto 54\n",
      "      53: \n",
      "      ##########_var1#10174#10180#11476#11489#13560 = false\n",
      "      54: \n",
      "      unless ##########_var1#10174#10180#11476#11489#13560::Bool goto 59 # range.jl, line 368:\n",
      "      unless (Base.slt_int)((top(getfield))(GenSym(27),:stop)::Int64,(top(getfield))(GenSym(27),:start)::Int64)::Bool goto 55\n",
      "      ##########_var2#10175#10181#11477#11490#13561 = (Base.throw)($(Expr(:new, :((top(getfield))(Base,:ArgumentError)::Type{ArgumentError}), \"range must be non-empty\")))::UNION{}\n",
      "      goto 56\n",
      "      55: \n",
      "      ##########_var2#10175#10181#11477#11490#13561 = (top(getfield))(GenSym(27),:stop)::Int64\n",
      "      56: \n",
      "      GenSym(30) = ##########_var2#10175#10181#11477#11490#13561::Int64 # abstractarray.jl, line 131:\n",
      "      unless (Base.sle_int)(1,GenSym(30))::Bool goto 57\n",
      "      ##########_var3#10176#10182#11478#11491#13562 = (Base.sle_int)(GenSym(30),GenSym(28))::Bool\n",
      "      goto 58\n",
      "      57: \n",
      "      ##########_var3#10176#10182#11478#11491#13562 = false\n",
      "      58: \n",
      "      ########_var4#10183#11479#11492#13563 = ##########_var3#10176#10182#11478#11491#13562::Bool\n",
      "      goto 60\n",
      "      59: \n",
      "      ########_var4#10183#11479#11492#13563 = false\n",
      "      60: \n",
      "      unless ########_var4#10183#11479#11492#13563::Bool goto 63\n",
      "      GenSym(31) = (Base.arraysize)(B::Array{Float64,2},2)::Int64 # abstractarray.jl, line 131:\n",
      "      unless (Base.sle_int)(1,GenSym(26))::Bool goto 61\n",
      "      ########_var0#10184#11480#11493#13564 = (Base.sle_int)(GenSym(26),GenSym(31))::Bool\n",
      "      goto 62\n",
      "      61: \n",
      "      ########_var0#10184#11480#11493#13564 = false\n",
      "      62: \n",
      "      #########s21#10177#11473#11486#13557 = ########_var0#10184#11480#11493#13564::Bool\n",
      "      goto 64\n",
      "      63: \n",
      "      #########s21#10177#11473#11486#13557 = false\n",
      "      64: \n",
      "      unless #########s21#10177#11473#11486#13557::Bool goto 65\n",
      "      ######_var1#11481#11494#13565 = #########s21#10177#11473#11486#13557::Bool\n",
      "      goto 66\n",
      "      65: \n",
      "      ######_var1#11481#11494#13565 = (Base.throw_boundserror)(B::Array{Float64,2},(top(tuple))(GenSym(27),GenSym(26))::Tuple{UnitRange{Int64},Int64})::UNION{}\n",
      "      66: \n",
      "      ######_var1#11481#11494#13565::Bool # multidimensional.jl, line 281:\n",
      "      (Base._unsafe_batchsetindex!)(B::Array{Float64,2},v::Array{Float64,1},GenSym(25),GenSym(24))::Array{Float64,2}\n",
      "      v::Array{Float64,1} # In[259], line 11:\n",
      "      $(Expr(:inbounds, true))\n",
      "      $(Expr(:inbounds, false))\n",
      "      GenSym(32) = (Base.box)(Int64,(Base.add_int)((Base.box)(Int64,(Base.checked_sdiv_int)((Base.box)(Int64,(Base.sub_int)(n::Int64,1)),2)),1)) # range.jl, line 83:\n",
      "      $(Expr(:inbounds, :pop))\n",
      "      GenSym(1) = $(Expr(:new, UnitRange{Int64}, 2, :(((top(getfield))(Base.Intrinsics,:select_value)::I)((Base.sle_int)(2,GenSym(32))::Bool,GenSym(32),(Base.box)(Int64,(Base.sub_int)(2,1)))::Int64)))\n",
      "      #s2420 = (top(getfield))(GenSym(1),:start)::Int64\n",
      "      unless (Base.box)(Base.Bool,(Base.not_int)((#s2420::Int64 === (Base.box)(Int64,(Base.add_int)((top(getfield))(GenSym(1),:stop)::Int64,1)))::Bool)) goto 3\n",
      "      4: \n",
      "      GenSym(36) = #s2420::Int64\n",
      "      GenSym(37) = (Base.box)(Int64,(Base.add_int)(#s2420::Int64,1))\n",
      "      i = GenSym(36)\n",
      "      #s2420 = GenSym(37) # In[259], line 12:\n",
      "      $(Expr(:inbounds, false))\n",
      "      GenSym(33) = (Base.box)(Int64,(Base.add_int)((Base.box)(Int64,(Base.sub_int)(n::Int64,i::Int64)),1)) # range.jl, line 83:\n",
      "      $(Expr(:inbounds, :pop))\n",
      "      GenSym(3) = $(Expr(:new, UnitRange{Int64}, :(i::Int64), :(((top(getfield))(Base.Intrinsics,:select_value)::I)((Base.sle_int)(i::Int64,GenSym(33))::Bool,GenSym(33),(Base.box)(Int64,(Base.sub_int)(i::Int64,1)))::Int64)))\n",
      "      #s2421 = (top(getfield))(GenSym(3),:start)::Int64\n",
      "      unless (Base.box)(Base.Bool,(Base.not_int)((#s2421::Int64 === (Base.box)(Int64,(Base.add_int)((top(getfield))(GenSym(3),:stop)::Int64,1)))::Bool)) goto 7\n",
      "      8: \n",
      "      GenSym(38) = #s2421::Int64\n",
      "      GenSym(39) = (Base.box)(Int64,(Base.add_int)(#s2421::Int64,1))\n",
      "      j = GenSym(38)\n",
      "      #s2421 = GenSym(39) # In[259], line 13:\n",
      "      GenSym(5) = (Base.box)(Base.Float64,(Base.add_float)((Base.arrayref)(B::Array{Float64,2},(Base.box)(Int64,(Base.sub_int)(i::Int64,1)),(Base.box)(Int64,(Base.sub_int)(j::Int64,1)))::Float64,(Base.box)(Base.Float64,(Base.div_float)((Base.box)(Base.Float64,(Base.sub_float)((Base.box)(Base.Float64,(Base.mul_float)((Base.arrayref)(v::Array{Float64,1},(Base.box)(Int64,(Base.sub_int)((Base.box)(Int64,(Base.add_int)(n::Int64,1)),j::Int64)))::Float64,(Base.arrayref)(v::Array{Float64,1},(Base.box)(Int64,(Base.sub_int)((Base.box)(Int64,(Base.add_int)(n::Int64,1)),i::Int64)))::Float64)),(Base.box)(Base.Float64,(Base.mul_float)((Base.arrayref)(v::Array{Float64,1},(Base.box)(Int64,(Base.sub_int)(i::Int64,1)))::Float64,(Base.arrayref)(v::Array{Float64,1},(Base.box)(Int64,(Base.sub_int)(j::Int64,1)))::Float64)))),γ::Float64))))\n",
      "      (Base.arrayset)(B::Array{Float64,2},GenSym(5),i::Int64,j::Int64)::Array{Float64,2} # In[259], line 14:\n",
      "      GenSym(6) = (Base.arrayref)(B::Array{Float64,2},i::Int64,j::Int64)::Float64\n",
      "      $(Expr(:inbounds, false))\n",
      "      GenSym(35) = (Base.arraysize)(B::Array{Float64,2},1)::Int64 # int.jl, line 29:\n",
      "      $(Expr(:inbounds, :pop))\n",
      "      $(Expr(:inbounds, false))\n",
      "      GenSym(34) = (top(trailingsize))(B::Array{Float64,2},2)::Int64 # int.jl, line 29:\n",
      "      $(Expr(:inbounds, :pop))\n",
      "      (Base.arrayset)(B::Array{Float64,2},GenSym(6),(Base.box)(Int64,(Base.add_int)((Base.box)(Int64,(Base.sub_int)(GenSym(35),j::Int64)),1)),(Base.box)(Int64,(Base.add_int)((Base.box)(Int64,(Base.sub_int)(GenSym(34),i::Int64)),1)))::Array{Float64,2}\n",
      "      9: \n",
      "      unless (Base.box)(Base.Bool,(Base.not_int)((Base.box)(Base.Bool,(Base.not_int)((#s2421::Int64 === (Base.box)(Int64,(Base.add_int)((top(getfield))(GenSym(3),:stop)::Int64,1)))::Bool)))) goto 8\n",
      "      7: \n",
      "      6: \n",
      "      5: \n",
      "      unless (Base.box)(Base.Bool,(Base.not_int)((Base.box)(Base.Bool,(Base.not_int)((#s2420::Int64 === (Base.box)(Int64,(Base.add_int)((top(getfield))(GenSym(1),:stop)::Int64,1)))::Bool)))) goto 4\n",
      "      3: \n",
      "      2: \n",
      "      $(Expr(:inbounds, :((top(getfield))(Base,:pop)))) # In[259], line 17:\n",
      "      return B::Array{Float64,2}\n",
      "  end::Array{Float64,2}\n"
     ]
    }
   ],
   "source": [
    "r = Al.vc[2:end]\n",
    "B = ones(Float64, nl, nl)\n",
    "@code_warntype trench!(r, y, B);"
   ]
  },
  {
   "cell_type": "code",
   "execution_count": 262,
   "metadata": {
    "collapsed": false
   },
   "outputs": [
    {
     "name": "stdout",
     "output_type": "stream",
     "text": [
      "  0.056081 seconds (22 allocations: 61.112 MB)\n"
     ]
    },
    {
     "data": {
      "text/plain": [
       "2000x2000 Array{Float64,2}:\n",
       "  5.26316       -4.73684        7.85747e-31   …   6.81274e-106  -1.69847e-106\n",
       " -4.73684        9.52632       -4.73684          -1.80585e-105   6.81274e-106\n",
       "  7.85747e-31   -4.73684        9.52632           1.92644e-105  -1.1927e-105 \n",
       "  8.95356e-31   -2.00734e-32   -4.73684          -2.5628e-106    8.53007e-106\n",
       " -8.88541e-31    1.69504e-30   -2.00734e-32      -1.65487e-105   5.11427e-106\n",
       " -5.81404e-32   -8.36215e-31    1.69504e-30   …   1.92436e-105  -1.19459e-105\n",
       "  7.67891e-31   -7.49242e-31   -8.36215e-31      -1.78716e-105   8.49233e-106\n",
       " -8.71125e-31    1.5519e-30    -7.49242e-31       2.28312e-105  -1.02285e-105\n",
       "  6.89788e-31   -1.49193e-30    1.5519e-30       -2.58884e-105   1.36255e-105\n",
       " -4.45794e-31    1.091e-30     -1.49193e-30       2.58884e-105  -1.36255e-105\n",
       "  2.04385e-31   -6.29741e-31    1.091e-30     …  -2.24915e-105   1.36255e-105\n",
       " -6.53706e-32    2.63219e-31   -6.29741e-31       1.26026e-105  -1.02285e-105\n",
       "  1.38393e-15   -1.24554e-15    2.63219e-31       3.73663e-106   3.39693e-106\n",
       "  ⋮                                           ⋱                              \n",
       " -1.02285e-105   1.26026e-105   3.73663e-106      2.63219e-31   -6.53706e-32 \n",
       "  1.36255e-105  -2.24915e-105   1.26026e-105     -6.29741e-31    2.04385e-31 \n",
       " -1.36255e-105   2.58884e-105  -2.24915e-105  …   1.091e-30     -4.45794e-31 \n",
       "  1.36255e-105  -2.58884e-105   2.58884e-105     -1.49193e-30    6.89788e-31 \n",
       " -1.02285e-105   2.28312e-105  -2.58884e-105      1.5519e-30    -8.71125e-31 \n",
       "  8.49233e-106  -1.78716e-105   2.28312e-105     -7.49242e-31    7.67891e-31 \n",
       " -1.19459e-105   1.92436e-105  -1.78716e-105     -8.36215e-31   -5.81404e-32 \n",
       "  5.11427e-106  -1.65487e-105   1.92436e-105  …   1.69504e-30   -8.88541e-31 \n",
       "  8.53007e-106  -2.5628e-106   -1.65487e-105     -2.00734e-32    8.95356e-31 \n",
       " -1.1927e-105    1.92644e-105  -2.5628e-106      -4.73684        7.85747e-31 \n",
       "  6.81274e-106  -1.80585e-105   1.92644e-105      9.52632       -4.73684     \n",
       " -1.69847e-106   6.81274e-106  -1.1927e-105      -4.73684        5.26316     "
      ]
     },
     "execution_count": 262,
     "metadata": {},
     "output_type": "execute_result"
    }
   ],
   "source": [
    "@time inv(Al)"
   ]
  },
  {
   "cell_type": "code",
   "execution_count": 83,
   "metadata": {
    "collapsed": false
   },
   "outputs": [
    {
     "name": "stdout",
     "output_type": "stream",
     "text": [
      "  0.460745 seconds (22 allocations: 92.545 MB, 8.26% gc time)\n"
     ]
    },
    {
     "data": {
      "text/plain": [
       "2000x2000 Array{Float64,2}:\n",
       "  5.26316       -4.73684       -5.84328e-18   …   5.58059e-106  -1.05494e-106\n",
       " -4.73684        9.52632       -4.73684          -1.41863e-105   4.79911e-106\n",
       "  0.0           -4.73684        9.52632           1.52895e-105  -1.012e-105  \n",
       "  6.21725e-16    1.77636e-15   -4.73684          -1.54806e-106   7.07128e-106\n",
       " -1.68754e-15    1.33227e-15    4.44089e-15      -1.66799e-105   6.85048e-106\n",
       " -6.21725e-16   -5.32907e-16   -2.84217e-15   …   2.40464e-105  -1.524e-105  \n",
       "  2.84217e-15   -5.4623e-15     6.30607e-15      -2.4547e-105    1.2546e-105 \n",
       " -8.43769e-16    3.64153e-15   -6.75016e-15       1.82204e-105  -7.68461e-106\n",
       " -1.33227e-16   -1.33227e-16    1.86517e-15      -8.76465e-106   4.22163e-106\n",
       "  8.15137e-16   -3.92668e-16   -1.0664e-15        1.27274e-105  -7.01844e-106\n",
       " -7.90011e-16    3.09694e-17    1.99197e-15   …  -1.85355e-105   1.24403e-105\n",
       " -1.02024e-15    2.34841e-15   -1.49062e-15       2.04118e-105  -1.5022e-105 \n",
       "  2.40393e-15   -4.30358e-15    1.41232e-15      -9.90376e-106   1.06645e-105\n",
       "  ⋮                                           ⋱                              \n",
       " -8.9713e-106    1.49163e-105   2.89721e-106      4.73598e-15   -3.18459e-15 \n",
       "  1.40328e-105  -2.18725e-105   6.57035e-106      4.93757e-16    2.62948e-16 \n",
       " -1.35681e-105   2.36194e-105  -1.57109e-105  …  -7.49418e-30   -3.2138e-15  \n",
       "  1.24264e-105  -2.03378e-105   2.01671e-105      4.77396e-15   -1.75298e-16 \n",
       " -9.23807e-106   1.77318e-105  -2.1326e-105      -9.74659e-15    5.37582e-15 \n",
       "  9.50341e-106  -1.9242e-105    2.3192e-105       3.6988e-15    -1.57769e-15 \n",
       " -1.19252e-105   2.13404e-105  -2.16487e-105      2.6061e-15    -3.7397e-15  \n",
       "  3.02055e-106  -1.41662e-105   2.13906e-105  …   2.18077e-15    5.56649e-16 \n",
       "  8.89026e-106  -4.5172e-106   -1.69314e-105     -3.2138e-15    -2.92164e-15 \n",
       " -1.10295e-105   1.7802e-105   -6.69082e-107     -4.73684        5.84328e-15 \n",
       "  5.76429e-106  -1.56757e-105   1.70992e-105      9.52632       -4.73684     \n",
       " -1.02119e-106   5.51186e-106  -1.05877e-105     -4.73684        5.26316     "
      ]
     },
     "execution_count": 83,
     "metadata": {},
     "output_type": "execute_result"
    }
   ],
   "source": [
    "@time inv(full(Al))"
   ]
  },
  {
   "cell_type": "code",
   "execution_count": 37,
   "metadata": {
    "collapsed": false
   },
   "outputs": [
    {
     "data": {
      "text/plain": [
       "false"
      ]
     },
     "execution_count": 37,
     "metadata": {},
     "output_type": "execute_result"
    }
   ],
   "source": [
    "any(Symmetric(B).==1.0)"
   ]
  },
  {
   "cell_type": "code",
   "execution_count": 263,
   "metadata": {
    "collapsed": false
   },
   "outputs": [],
   "source": [
    "@test_approx_eq(inv(Al)*full(Al),eye(nl))"
   ]
  },
  {
   "cell_type": "code",
   "execution_count": 264,
   "metadata": {
    "collapsed": true
   },
   "outputs": [],
   "source": [
    "@test_approx_eq(inv(As)*full(As),eye(ns))"
   ]
  },
  {
   "cell_type": "code",
   "execution_count": 265,
   "metadata": {
    "collapsed": false
   },
   "outputs": [],
   "source": [
    "Ab = SymmetricToeplitz(0.9.^( 0:ns-1 ))\n",
    "Ab.vc[1] = 2.0\n",
    "@test_approx_eq(inv(Ab)*full(Ab),eye(ns))"
   ]
  }
 ],
 "metadata": {
  "kernelspec": {
   "display_name": "Julia 0.5.0-dev",
   "language": "julia",
   "name": "julia-0.5"
  },
  "language_info": {
   "file_extension": ".jl",
   "mimetype": "application/julia",
   "name": "julia",
   "version": "0.5.0"
  }
 },
 "nbformat": 4,
 "nbformat_minor": 0
}

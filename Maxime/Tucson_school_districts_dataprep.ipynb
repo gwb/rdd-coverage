{
 "cells": [
  {
   "cell_type": "markdown",
   "metadata": {
    "toc": "true"
   },
   "source": [
    "# Table of Contents\n",
    " <p><div class=\"lev1\"><a href=\"#Import-data\"><span class=\"toc-item-num\">1&nbsp;&nbsp;</span>Import data</a></div><div class=\"lev2\"><a href=\"#School-District-Boundaries\"><span class=\"toc-item-num\">1.1&nbsp;&nbsp;</span>School District Boundaries</a></div><div class=\"lev2\"><a href=\"#City-Boundaries\"><span class=\"toc-item-num\">1.2&nbsp;&nbsp;</span>City Boundaries</a></div><div class=\"lev2\"><a href=\"#Sales\"><span class=\"toc-item-num\">1.3&nbsp;&nbsp;</span>Sales</a></div><div class=\"lev2\"><a href=\"#Parcel-geolocation\"><span class=\"toc-item-num\">1.4&nbsp;&nbsp;</span>Parcel geolocation</a></div><div class=\"lev2\"><a href=\"#Covariates\"><span class=\"toc-item-num\">1.5&nbsp;&nbsp;</span>Covariates</a></div><div class=\"lev1\"><a href=\"#Projection\"><span class=\"toc-item-num\">2&nbsp;&nbsp;</span>Projection</a></div><div class=\"lev1\"><a href=\"#Map-of-school-districts\"><span class=\"toc-item-num\">3&nbsp;&nbsp;</span>Map of school districts</a></div><div class=\"lev1\"><a href=\"#Merge-sales,-covariates,-and-parcel-data\"><span class=\"toc-item-num\">4&nbsp;&nbsp;</span>Merge sales, covariates, and parcel data</a></div><div class=\"lev2\"><a href=\"#Missing-data\"><span class=\"toc-item-num\">4.1&nbsp;&nbsp;</span>Missing data</a></div><div class=\"lev1\"><a href=\"#Plotting-house-sales-in-Tucson\"><span class=\"toc-item-num\">5&nbsp;&nbsp;</span>Plotting house sales in Tucson</a></div><div class=\"lev1\"><a href=\"#Attach-school-district-to-each-sale\"><span class=\"toc-item-num\">6&nbsp;&nbsp;</span>Attach school district to each sale</a></div><div class=\"lev1\"><a href=\"#Borders\"><span class=\"toc-item-num\">7&nbsp;&nbsp;</span>Borders</a></div><div class=\"lev2\"><a href=\"#Example\"><span class=\"toc-item-num\">7.1&nbsp;&nbsp;</span>Example</a></div><div class=\"lev2\"><a href=\"#Automate\"><span class=\"toc-item-num\">7.2&nbsp;&nbsp;</span>Automate</a></div><div class=\"lev1\"><a href=\"#Export\"><span class=\"toc-item-num\">8&nbsp;&nbsp;</span>Export</a></div>"
   ]
  },
  {
   "cell_type": "markdown",
   "metadata": {},
   "source": [
    "Merge the sales data with the parcel location data to get geocoded sales data, to be used to build our Spatial RDD example."
   ]
  },
  {
   "cell_type": "code",
   "execution_count": 1,
   "metadata": {
    "collapsed": true
   },
   "outputs": [],
   "source": [
    "%matplotlib inline\n",
    "%config InlineBackend.figure_format='retina'\n",
    "# plt.rc(\"figure\", autolayout=True)\n",
    "import matplotlib.pyplot as plt\n",
    "plt.rcParams['figure.figsize'] = (8.0, 6.0)"
   ]
  },
  {
   "cell_type": "code",
   "execution_count": 2,
   "metadata": {
    "collapsed": false
   },
   "outputs": [
    {
     "name": "stdout",
     "output_type": "stream",
     "text": [
      "PyTables is not installed. No support for HDF output.\n",
      "SQLalchemy is not installed. No support for SQL output.\n"
     ]
    }
   ],
   "source": [
    "import geopandas as gpd\n",
    "import pandas as pd\n",
    "import numpy as np\n",
    "import zipfile\n",
    "from simpledbf import Dbf5\n",
    "plot_dataframe = gpd.plotting.plot_dataframe"
   ]
  },
  {
   "cell_type": "code",
   "execution_count": 3,
   "metadata": {
    "collapsed": true
   },
   "outputs": [],
   "source": [
    "import shapely\n",
    "from shapely.geometry import Point, LineString, MultiLineString, MultiPoint"
   ]
  },
  {
   "cell_type": "markdown",
   "metadata": {},
   "source": [
    "# Import data"
   ]
  },
  {
   "cell_type": "markdown",
   "metadata": {},
   "source": [
    "## School District Boundaries"
   ]
  },
  {
   "cell_type": "code",
   "execution_count": 4,
   "metadata": {
    "collapsed": true
   },
   "outputs": [],
   "source": [
    "schdistrs=gpd.read_file(\"national_data/Tiger/tlgdb_2015_a_us_school.gdb/a00000009.gdbtable\")"
   ]
  },
  {
   "cell_type": "markdown",
   "metadata": {},
   "source": [
    "## City Boundaries"
   ]
  },
  {
   "cell_type": "code",
   "execution_count": 5,
   "metadata": {
    "collapsed": true
   },
   "outputs": [],
   "source": [
    "cities=gpd.read_file(\"national_data/Place_2010Census_DP1/Place_2010Census_DP1.shp\").to_crs(schdistrs.crs)"
   ]
  },
  {
   "cell_type": "markdown",
   "metadata": {},
   "source": [
    "## Sales"
   ]
  },
  {
   "cell_type": "code",
   "execution_count": 6,
   "metadata": {
    "collapsed": false
   },
   "outputs": [],
   "source": [
    "tucson_sales_yearly=[]\n",
    "for year in range(2011,2016):\n",
    "    tucson_sales_yearly.append(pd.read_csv(\"Tucson_data/Sales/Sale%d.csv\" % year,\n",
    "        dtype={\"SaleDate\": str, \"SequenceNum\": str, \"SalePrice\": str}\n",
    "    ))"
   ]
  },
  {
   "cell_type": "code",
   "execution_count": 7,
   "metadata": {
    "collapsed": false
   },
   "outputs": [
    {
     "ename": "NameError",
     "evalue": "name 'tucson_sales' is not defined",
     "output_type": "error",
     "traceback": [
      "\u001b[0;31m---------------------------------------------------------------------------\u001b[0m",
      "\u001b[0;31mNameError\u001b[0m                                 Traceback (most recent call last)",
      "\u001b[0;32m<ipython-input-7-4e5394333e28>\u001b[0m in \u001b[0;36m<module>\u001b[0;34m()\u001b[0m\n\u001b[0;32m----> 1\u001b[0;31m \u001b[0mtucson_sales\u001b[0m\u001b[0;34m\u001b[0m\u001b[0m\n\u001b[0m",
      "\u001b[0;31mNameError\u001b[0m: name 'tucson_sales' is not defined"
     ]
    }
   ],
   "source": [
    "tucson_sales"
   ]
  },
  {
   "cell_type": "markdown",
   "metadata": {},
   "source": [
    "## Parcel geolocation"
   ]
  },
  {
   "cell_type": "code",
   "execution_count": null,
   "metadata": {
    "collapsed": true
   },
   "outputs": [],
   "source": [
    "adparcel=gpd.read_file(\"Tucson_data/adparcel/adparcel.shp\")\n",
    "adparcel.set_index(\"PARCEL\", inplace=True)"
   ]
  },
  {
   "cell_type": "code",
   "execution_count": null,
   "metadata": {
    "collapsed": false
   },
   "outputs": [],
   "source": [
    "print(adparcel.columns)"
   ]
  },
  {
   "cell_type": "markdown",
   "metadata": {},
   "source": [
    "## Covariates"
   ]
  },
  {
   "cell_type": "code",
   "execution_count": null,
   "metadata": {
    "collapsed": false
   },
   "outputs": [],
   "source": [
    "mas10=Dbf5(\"Tucson_data/Residential/MAS2010.DBF\").to_dataframe()\n",
    "mas11=Dbf5(\"Tucson_data/Residential/MAS2011.DBF\").to_dataframe()\n",
    "mas10.head()"
   ]
  },
  {
   "cell_type": "code",
   "execution_count": null,
   "metadata": {
    "collapsed": false
   },
   "outputs": [],
   "source": [
    "mas14=pd.read_csv(\"Tucson_data/Residential/Mas14.csv\", dtype={\"VALUATIONC\":\"S3\"})\n",
    "mas16=pd.read_csv(\"Tucson_data/Residential/Mas16.csv\", dtype={\"VALUATIONC\":\"S3\"})\n",
    "mas17=pd.read_csv(\"Tucson_data/Residential/Mas17.csv\", dtype={\"VALUATIONC\":\"S3\"})"
   ]
  },
  {
   "cell_type": "code",
   "execution_count": null,
   "metadata": {
    "collapsed": false
   },
   "outputs": [],
   "source": [
    "print(len(set(mas10.PARCEL).intersection(set(mas16.PARCEL))), \"parcels in both 2010 and 2016\")\n",
    "print(len(set(mas10.PARCEL).difference(set(mas16.PARCEL))), \"parcels in 2010 not 2016\")\n",
    "print(len(set(mas16.PARCEL).difference(set(mas10.PARCEL))), \"parcels in 2016 not 2010\")\n",
    "print(len(set(mas14.PARCEL).difference(set(mas16.PARCEL))), \"parcels in 2014 not 2016\")\n",
    "print(len(set(mas17.PARCEL).difference(set(mas16.PARCEL))), \"parcels in 2017 not 2016\")"
   ]
  },
  {
   "cell_type": "code",
   "execution_count": null,
   "metadata": {
    "collapsed": false
   },
   "outputs": [],
   "source": [
    "mas16.columns"
   ]
  },
  {
   "cell_type": "markdown",
   "metadata": {},
   "source": [
    "Some columns are integer levels of factors that have corresponding labels, which are available online. Let's replace those columns with categorical columns to make data manipulation and interpretation more intuitive."
   ]
  },
  {
   "cell_type": "code",
   "execution_count": null,
   "metadata": {
    "collapsed": true
   },
   "outputs": [],
   "source": [
    "# from http://www.asr.pima.gov/downloads/pages/layout.aspx?tbl=MAS&year=2015\n",
    "mas16_codes = {\n",
    "    \"Class\": dict(enumerate([\"LM\",\"R-1\",\"R-2\",\"R-3\",\"R-4\",\"R-5\",\"R-6\"],0)),\n",
    "    \"Quality\": dict(enumerate([\"Minimum\",\"Fair\",\"Good\",\"Excellent\"],1)),\n",
    "    \"Walls\": dict(enumerate([\"Framed Wood\",\"Framed Block\",\"8 inch Painted\",\"8 inch Stucco\",\n",
    "              \"Brick\",\"Stone\",\"SlumpBlock\",\"Adobe\",\"Other\"], 0)),\n",
    "    \"Roof\": dict(enumerate([\"Wood\",\"Asphalt\",\"Asbestos\",\"Built Up\",\n",
    "                            \"Tile\",\"Slate\",\"Metal\",\"Prepared Roll\",\"Other\"], 0)),\n",
    "    \"Heat\": dict(enumerate([\"Gravity\",\"Forced\",\"Steam\",\"Hot Water\",\"Radiant\",\"Floor Furnance\" # [sic]\n",
    "             ,\"Wall Furnance\", \"Electric Panel\", \"Other\", \"None\"], 0)),\n",
    "    \"Cool\": {0: \"Refrigeration\",1:\"Evaporative\",2:\"Wall\",9:\"None\"},\n",
    "    \"Patio\": {1:\"Slab\",3:\"Covered\",6:\"Covered Slab (both)\",9:\"None\"},\n",
    "#     \"Condition\": dict(enumerate([\"Minimum\",\"Fair\",\"Good\",\"Excellent\"],1)), # doesn't seem to be accurate\n",
    "    \"Garage\": {1:\"Garage\",3:\"Carport\",6:\"Garage & Carport (both)\",9:\"None\"},\n",
    "}"
   ]
  },
  {
   "cell_type": "code",
   "execution_count": null,
   "metadata": {
    "collapsed": false
   },
   "outputs": [],
   "source": [
    "set(mas16[\"CONDITION\"])"
   ]
  },
  {
   "cell_type": "code",
   "execution_count": null,
   "metadata": {
    "collapsed": false
   },
   "outputs": [],
   "source": [
    "for key, labels_dict in mas16_codes.items():\n",
    "    print(key)\n",
    "    col=mas16[key.upper()]\n",
    "    cat=pd.Categorical(col)\n",
    "    new_labels=[labels_dict[k] for k in cat.categories]\n",
    "    cat.rename_categories(new_labels, inplace=True)\n",
    "    mas16[key.upper()] = cat\n",
    "for key, labels_dict in mas16_codes.items():\n",
    "    print(key)\n",
    "    col=mas17[key.upper()]\n",
    "    cat=pd.Categorical(col)\n",
    "    new_labels=[labels_dict[k] for k in cat.categories]\n",
    "    cat.rename_categories(new_labels, inplace=True)\n",
    "    mas17[key.upper()] = cat\n",
    "print(mas16[\"GARAGE\"].value_counts())\n",
    "print(mas17[\"GARAGE\"].value_counts())"
   ]
  },
  {
   "cell_type": "code",
   "execution_count": null,
   "metadata": {
    "collapsed": false
   },
   "outputs": [],
   "source": [
    "masAdds16=pd.read_csv(\"Tucson_data/Additions/MasAdds16.csv\")\n",
    "masAdds16.columns"
   ]
  },
  {
   "cell_type": "code",
   "execution_count": null,
   "metadata": {
    "collapsed": true
   },
   "outputs": [],
   "source": [
    "# from http://www.asr.pima.gov/downloads/pages/layout.aspx?tbl=MAS&year=2015\n",
    "masAdds16_codes = {\n",
    "    \"SfrCondo\": {\"S\": \"Single Family Residence\"},\n",
    "    \"Class\": dict(enumerate([\"LM\",\"R-1\",\"R-2\",\"R-3\",\"R-4\",\"R-5\",\"R-6\"],0)),\n",
    "    \"Walls\": dict(enumerate([\"Framed Wood\",\"Framed Block\",\"8 inch Painted\",\"8 inch Stucco\",\n",
    "              \"Brick\",\"Stone\",\"SlumpBlock\",\"Adobe\",\"Other\"], 0)),\n",
    "    \"Roof\": dict(enumerate([\"Wood\",\"Asphalt\",\"Asbestos\",\"Built Up\",\n",
    "                            \"Tile\",\"Slate\",\"Metal\",\"Prepared Roll\",\"Other\"], 0)),\n",
    "    \"Heat\": dict(enumerate([\"Gravity\",\"Forced\",\"Steam\",\"Hot Water\",\"Radiant\",\"Floor Furnance\" # [sic]\n",
    "             ,\"Wall Furnance\", \"Electric Panel\", \"Other\", \"None\"], 0)),\n",
    "    \"Cool\": {0: \"Refrigeration\",1:\"Evaporative\",2:\"Wall\",9:\"None\"},\n",
    "    \"Patio\": {1:\"Slab\",3:\"Covered\",6:\"Covered Slab (both)\",9:\"None\"},\n",
    "#     \"Condition\": dict(enumerate([\"Minimum\",\"Fair\",\"Good\",\"Excellent\"],1)), # doesn't seem to be accurate\n",
    "    \"Garage\": {1:\"Garage\",3:\"Carport\",6:\"Garage & Carport (both)\",9:\"None\"},\n",
    "}"
   ]
  },
  {
   "cell_type": "code",
   "execution_count": null,
   "metadata": {
    "collapsed": false
   },
   "outputs": [],
   "source": [
    "for key, labels_dict in masAdds16_codes.items():\n",
    "    print(key)\n",
    "    col=masAdds16[key.upper()]\n",
    "    cat=pd.Categorical(col)\n",
    "    new_labels=[labels_dict[k] for k in cat.categories]\n",
    "    cat.rename_categories(new_labels, inplace=True)\n",
    "    masAdds16[key.upper()] = cat\n",
    "masAdds16[\"GARAGE\"].value_counts()"
   ]
  },
  {
   "cell_type": "code",
   "execution_count": null,
   "metadata": {
    "collapsed": false
   },
   "outputs": [],
   "source": [
    "land16=pd.read_csv(\"Tucson_data/Land/Land16.csv\")\n",
    "print(land16.size)\n",
    "land16.head()"
   ]
  },
  {
   "cell_type": "markdown",
   "metadata": {},
   "source": [
    "# Projection\n",
    "\n",
    "Ultimately, our Gaussian Process code will need x and y planar coordinates, with which distances between two points can be calculated as $\\sqrt{(x_1-x_2)^2+(y_1-y_2)^2}$. Therefore we can't use raw longitudes and latitudes, they first need to be projected onto a Euclidian plane. Arizona has its own [coordinate system](https://www.webcms.pima.gov/cms/One.aspx?portalId=169&pageId=28222) that is a good choice for this task, and is associated with the [EPSG code 26749](http://www.spatialreference.org/ref/epsg/26749/). All we need to do is convert the coordinate reference system (CRS) of all our dataframes to EPSG 26749."
   ]
  },
  {
   "cell_type": "code",
   "execution_count": null,
   "metadata": {
    "collapsed": true
   },
   "outputs": [],
   "source": [
    "adparcel = adparcel.to_crs(epsg=26749)\n",
    "schdistrs = schdistrs.to_crs(epsg=26749)\n",
    "cities = cities.to_crs(epsg=26749)"
   ]
  },
  {
   "cell_type": "code",
   "execution_count": null,
   "metadata": {
    "collapsed": false
   },
   "outputs": [],
   "source": [
    "print(adparcel.ix[0, \"geometry\"])\n",
    "print(adparcel.ix[1, \"geometry\"])"
   ]
  },
  {
   "cell_type": "markdown",
   "metadata": {},
   "source": [
    "Let's take a quick moment to check that the distances returned by the geopandas library can also be obtained via the simple Euclidian distance formula."
   ]
  },
  {
   "cell_type": "code",
   "execution_count": null,
   "metadata": {
    "collapsed": false
   },
   "outputs": [],
   "source": [
    "adparcel.geometry[0].distance(adparcel.geometry[1])"
   ]
  },
  {
   "cell_type": "code",
   "execution_count": null,
   "metadata": {
    "collapsed": false
   },
   "outputs": [],
   "source": [
    "np.sqrt((936436.4682794245-937315.5846172333)**2+(553187.1136988925-552895.5028526088)**2)"
   ]
  },
  {
   "cell_type": "markdown",
   "metadata": {},
   "source": [
    "# Map of school districts"
   ]
  },
  {
   "cell_type": "code",
   "execution_count": null,
   "metadata": {
    "collapsed": true
   },
   "outputs": [],
   "source": [
    "def city_schdistrs(city):\n",
    "    intersect = schdistrs[schdistrs.intersects(city)]\n",
    "    areas = intersect.intersection(city).area\n",
    "    # throw out districts that aren't at least a thousandth of the city's surface area\n",
    "    nonzero_area = areas > (city.area/1000)\n",
    "    return intersect[nonzero_area] \n",
    "    \n",
    "def simplename(s):\n",
    "    return (s\n",
    "        .replace(\"District\",\"\")\n",
    "        .replace(\"School\",\"\")\n",
    "        .replace(\"Community\",\"\")\n",
    "        .replace(\"Independent\",\"\")\n",
    "        .replace(\"Unified\",\"\")\n",
    "        .strip()\n",
    "    )\n",
    "def plot_city(city):\n",
    "    plot_dataframe(city, color=\"white\", linewidth=3)\n",
    "    old_xlim = plt.xlim()\n",
    "    old_ylim = plt.ylim()\n",
    "    schdistrs = city_schdistrs(city.geometry.values[0])\n",
    "    plot_dataframe(schdistrs, ax=plt.gca())\n",
    "    plt.xlim(old_xlim[0]-0.1,old_xlim[1]+0.1)\n",
    "    plt.ylim(old_ylim[0]-0.1,old_ylim[1]+0.1)\n",
    "\n",
    "    for row in schdistrs.iterrows():\n",
    "        name = row[1].NAME\n",
    "        geom = row[1].geometry\n",
    "        x = geom.centroid.x\n",
    "        y = geom.centroid.y\n",
    "        plt.text(np.clip(x,*plt.xlim()), np.clip(y,*plt.ylim()), simplename(name), horizontalalignment='center')"
   ]
  },
  {
   "cell_type": "code",
   "execution_count": null,
   "metadata": {
    "collapsed": false
   },
   "outputs": [],
   "source": [
    "tucson=cities[cities.NAMELSAD10==\"Tucson city\"].iloc[0:1]\n",
    "plot_city(tucson)"
   ]
  },
  {
   "cell_type": "markdown",
   "metadata": {},
   "source": [
    "# Merge sales, covariates, and parcel data"
   ]
  },
  {
   "cell_type": "code",
   "execution_count": null,
   "metadata": {
    "collapsed": false
   },
   "outputs": [],
   "source": [
    "TC_sales_geocoded=adparcel.join(tucson_sales, how=\"right\")"
   ]
  },
  {
   "cell_type": "markdown",
   "metadata": {},
   "source": [
    "Remove sales with no location (only 8311 sales are removed out of 114343, so no big deal)."
   ]
  },
  {
   "cell_type": "code",
   "execution_count": null,
   "metadata": {
    "collapsed": false
   },
   "outputs": [],
   "source": [
    "notnan = np.logical_not(TC_sales_geocoded.geometry.isnull().values)\n",
    "TC_sales_notnan = TC_sales_geocoded[notnan]\n",
    "pd.Series(notnan).value_counts()"
   ]
  },
  {
   "cell_type": "code",
   "execution_count": null,
   "metadata": {
    "collapsed": false
   },
   "outputs": [],
   "source": [
    "in_tucson = TC_sales_notnan.within(tucson.geometry.values[0])"
   ]
  },
  {
   "cell_type": "code",
   "execution_count": null,
   "metadata": {
    "collapsed": false
   },
   "outputs": [],
   "source": [
    "TC_sales_Tucson = TC_sales_notnan[in_tucson]\n",
    "TC_sales_Tucson=TC_sales_Tucson.to_crs(tucson.crs)"
   ]
  },
  {
   "cell_type": "markdown",
   "metadata": {},
   "source": [
    "Now merge in the covariates."
   ]
  },
  {
   "cell_type": "code",
   "execution_count": null,
   "metadata": {
    "collapsed": false
   },
   "outputs": [],
   "source": [
    "TC_sales_Tucson=TC_sales_Tucson.join(mas17.set_index(\"PARCEL\"), how=\"left\")\n",
    "TC_sales_Tucson=TC_sales_Tucson.join(masAdds16.set_index(\"PARCEL\"), how=\"left\", rsuffix=\"Adds\")"
   ]
  },
  {
   "cell_type": "markdown",
   "metadata": {},
   "source": [
    "## Missing data"
   ]
  },
  {
   "cell_type": "markdown",
   "metadata": {},
   "source": [
    "**Bad news:** a quarter of sales don't have associates square footage data."
   ]
  },
  {
   "cell_type": "code",
   "execution_count": null,
   "metadata": {
    "collapsed": false
   },
   "outputs": [],
   "source": [
    "pd.Series(np.isnan(TC_sales_Tucson.SQFT.values)).value_counts()"
   ]
  },
  {
   "cell_type": "code",
   "execution_count": null,
   "metadata": {
    "collapsed": false
   },
   "outputs": [],
   "source": [
    "print(np.isnan(TC_sales_Tucson.SQFT).mean(), \"<- fraction of missing values\")"
   ]
  },
  {
   "cell_type": "code",
   "execution_count": null,
   "metadata": {
    "collapsed": false
   },
   "outputs": [],
   "source": [
    "print(len(set(in_tucson[in_tucson.values].index.values).difference(set(mas16.PARCEL))), \n",
    "    \"Tucson parcels missing in `mas16` dataset\")\n",
    "print(len(set(in_tucson[in_tucson.values].index.values).difference(set(mas17.PARCEL))), \n",
    "    \"Tucson parcels missing in `mas17` dataset\")"
   ]
  },
  {
   "cell_type": "markdown",
   "metadata": {},
   "source": [
    "How can 9615 sales have missing square footage, but only 5512 parcels be missing from the `mas17` dataset? Well, for one thing, some parcels are repeatedly sold and account for many sales."
   ]
  },
  {
   "cell_type": "code",
   "execution_count": null,
   "metadata": {
    "collapsed": false
   },
   "outputs": [],
   "source": [
    "import collections\n",
    "c=collections.Counter(in_tucson[in_tucson].index.values)\n",
    "c.most_common(10)"
   ]
  },
  {
   "cell_type": "markdown",
   "metadata": {},
   "source": [
    "Let's have a closer look at sales with missing square footage. First of all many are commercial properties or vacant land, so will be filtered out when we focus on residential buildings."
   ]
  },
  {
   "cell_type": "code",
   "execution_count": null,
   "metadata": {
    "collapsed": false
   },
   "outputs": [],
   "source": [
    "nosqft=np.isnan(TC_sales_Tucson.SQFT.values)\n",
    "TC_sales_Tucson.iloc[nosqft,:].PropertyType.value_counts()"
   ]
  },
  {
   "cell_type": "markdown",
   "metadata": {},
   "source": [
    "Let's have a closer look at single family houses:"
   ]
  },
  {
   "cell_type": "code",
   "execution_count": null,
   "metadata": {
    "collapsed": false
   },
   "outputs": [],
   "source": [
    "TC_sales_Tucson[nosqft & (TC_sales_Tucson.PropertyType==\"Single Family\")]"
   ]
  },
  {
   "cell_type": "code",
   "execution_count": null,
   "metadata": {
    "collapsed": true
   },
   "outputs": [],
   "source": [
    "pd.set_option(\"display.max_columns\",200)\n",
    "pd.set_option(\"display.max_info_columns\",200)\n",
    "pd.set_option(\"display.max_rows\",200)"
   ]
  },
  {
   "cell_type": "markdown",
   "metadata": {},
   "source": [
    "The first house listed with parcel ID 10512058B has details available at http://www.asr.pima.gov/links/frm_AdvancedSearch_v2.aspx?search=Parcel . Why isn't it in in mas17? It's also not in the land dataset:"
   ]
  },
  {
   "cell_type": "code",
   "execution_count": null,
   "metadata": {
    "collapsed": false
   },
   "outputs": [],
   "source": [
    "land16[land16.PARCEL==\"10512058B\"]"
   ]
  },
  {
   "cell_type": "markdown",
   "metadata": {},
   "source": [
    "It turns out the problem was that the parcel was in lowercase in the mas datasets! Here is the data:"
   ]
  },
  {
   "cell_type": "code",
   "execution_count": null,
   "metadata": {
    "collapsed": false
   },
   "outputs": [],
   "source": [
    "mas17[mas17.PARCEL==\"10512058b\"]"
   ]
  },
  {
   "cell_type": "markdown",
   "metadata": {},
   "source": [
    "But still no land data:"
   ]
  },
  {
   "cell_type": "code",
   "execution_count": null,
   "metadata": {
    "collapsed": false
   },
   "outputs": [],
   "source": [
    "land16.PARCEL[land16.PARCEL>=\"10512058\"].sort_values()[:1]"
   ]
  },
  {
   "cell_type": "code",
   "execution_count": null,
   "metadata": {
    "collapsed": false
   },
   "outputs": [],
   "source": [
    "TC_sales_Tucson = TC_sales_notnan[in_tucson]\n",
    "TC_sales_Tucson=TC_sales_Tucson.to_crs(tucson.crs)\n",
    "mas17.PARCEL=mas17.PARCEL.str.upper()\n",
    "mas17.PARCEL=mas17.PARCEL.str.strip()\n",
    "land16.PARCEL=land16.PARCEL.str.upper()\n",
    "land16.PARCEL=land16.PARCEL.str.strip()\n",
    "masAdds16.PARCEL=masAdds16.PARCEL.str.upper()\n",
    "masAdds16.PARCEL=masAdds16.PARCEL.str.strip()\n",
    "TC_sales_Tucson=TC_sales_Tucson.join(mas17.set_index(\"PARCEL\"), how=\"left\")\n",
    "TC_sales_Tucson=TC_sales_Tucson.join(masAdds16.set_index(\"PARCEL\"), how=\"left\", rsuffix=\"Adds\")\n",
    "TC_sales_Tucson=TC_sales_Tucson.join(land16.set_index(\"PARCEL\"), how=\"left\", rsuffix=\"Land\")"
   ]
  },
  {
   "cell_type": "code",
   "execution_count": null,
   "metadata": {
    "collapsed": false
   },
   "outputs": [],
   "source": [
    "nosqft=np.isnan(TC_sales_Tucson.SQFT.values)\n",
    "TC_sales_Tucson.iloc[nosqft,:].PropertyType.value_counts()"
   ]
  },
  {
   "cell_type": "markdown",
   "metadata": {},
   "source": [
    "Less progress than hoped! Still 339 (down from 353) single family homes with no square footage data. Let's look at the next one down."
   ]
  },
  {
   "cell_type": "code",
   "execution_count": null,
   "metadata": {
    "collapsed": false
   },
   "outputs": [],
   "source": [
    "TC_sales_Tucson[nosqft & (TC_sales_Tucson.PropertyType==\"Single Family\")]"
   ]
  },
  {
   "cell_type": "markdown",
   "metadata": {},
   "source": [
    "Let's investigate parcel 106011260. No residential covariates, but we do have land information for this one:"
   ]
  },
  {
   "cell_type": "code",
   "execution_count": null,
   "metadata": {
    "collapsed": false
   },
   "outputs": [],
   "source": [
    "land16[land16.PARCEL==\"106011260\"]"
   ]
  },
  {
   "cell_type": "markdown",
   "metadata": {},
   "source": [
    "Looking up the property on [asr.pima.gov](http://www.asr.pima.gov/links/frm_AdvancedSearch_v2.aspx?search=Parcel), residential characteristics aren't available there either, instead there is data on commercial characteristics. Maybe this property is being used commercially? This is odd, as it's also labeled as a primary residence. Furthermore, we have a sale recorded in October 2013 for \\$86,900, described as a “Sale to or from a government agency”. In 2006 the same house sold for $205,000, so the low sale price is odd. It's not marked as a “partial interest” either, which I think might mean that only part of the property was purchased. It's also not marked as a “personal property”, but then again that's the case for the vast majority of sales, so I don't think that's hugely significant."
   ]
  },
  {
   "cell_type": "code",
   "execution_count": null,
   "metadata": {
    "collapsed": false
   },
   "outputs": [],
   "source": [
    "TC_sales_Tucson.ValidationDescription.value_counts()"
   ]
  },
  {
   "cell_type": "code",
   "execution_count": null,
   "metadata": {
    "collapsed": false
   },
   "outputs": [],
   "source": [
    "TC_sales_Tucson.PartialInterest.value_counts()"
   ]
  },
  {
   "cell_type": "code",
   "execution_count": null,
   "metadata": {
    "collapsed": false
   },
   "outputs": [],
   "source": [
    "TC_sales_Tucson.PersonalProperty.value_counts()"
   ]
  },
  {
   "cell_type": "markdown",
   "metadata": {},
   "source": [
    "# Plotting house sales in Tucson"
   ]
  },
  {
   "cell_type": "code",
   "execution_count": null,
   "metadata": {
    "collapsed": false
   },
   "outputs": [],
   "source": [
    "plot_city(tucson)\n",
    "plot_dataframe(TC_sales_Tucson, ax=plt.gca(), color=\"black\", alpha=0.2)"
   ]
  },
  {
   "cell_type": "markdown",
   "metadata": {},
   "source": [
    "Each dot represents the sale of a property in 2015. The borders between school districts in the North-West part of the city look particularly promising. The border between Tucson Unified and Sunnyside Unified could also work. The long straight border between Tucson Unified and Vail Unified is unfortunately only populated on one side."
   ]
  },
  {
   "cell_type": "markdown",
   "metadata": {},
   "source": [
    "# Attach school district to each sale"
   ]
  },
  {
   "cell_type": "code",
   "execution_count": null,
   "metadata": {
    "collapsed": false
   },
   "outputs": [],
   "source": [
    "tucson_schdistrs=city_schdistrs(tucson.geometry.values[0])\n",
    "tucson_schdistrs"
   ]
  },
  {
   "cell_type": "code",
   "execution_count": null,
   "metadata": {
    "collapsed": true
   },
   "outputs": [],
   "source": [
    "def get_ind(zones, point):\n",
    "    ind=np.where(zones.contains(point))[0]\n",
    "    if len(ind)==0:\n",
    "        return None\n",
    "    elif len(ind)>1:\n",
    "        return None#np.argmin(zones.iloc[ind].area)\n",
    "    return ind[0]"
   ]
  },
  {
   "cell_type": "code",
   "execution_count": null,
   "metadata": {
    "collapsed": true
   },
   "outputs": [],
   "source": [
    "idistr=[get_ind(tucson_schdistrs, house) for house in TC_sales_Tucson.geometry]"
   ]
  },
  {
   "cell_type": "code",
   "execution_count": null,
   "metadata": {
    "collapsed": false
   },
   "outputs": [],
   "source": [
    "sum([i is None for i in idistr])"
   ]
  },
  {
   "cell_type": "code",
   "execution_count": null,
   "metadata": {
    "collapsed": true
   },
   "outputs": [],
   "source": [
    "TC_sales_Tucson[\"SchDistr\"]=tucson_schdistrs.NAME.values[idistr]"
   ]
  },
  {
   "cell_type": "markdown",
   "metadata": {
    "collapsed": true
   },
   "source": [
    "# Borders"
   ]
  },
  {
   "cell_type": "markdown",
   "metadata": {},
   "source": [
    "## Example"
   ]
  },
  {
   "cell_type": "code",
   "execution_count": null,
   "metadata": {
    "collapsed": true
   },
   "outputs": [],
   "source": [
    "d1=tucson_schdistrs.geometry.values[0]\n",
    "d2=tucson_schdistrs.geometry.values[1]"
   ]
  },
  {
   "cell_type": "code",
   "execution_count": null,
   "metadata": {
    "collapsed": false
   },
   "outputs": [],
   "source": [
    "border=d1.intersection(d2)\n",
    "assert isinstance(border, MultiLineString)"
   ]
  },
  {
   "cell_type": "code",
   "execution_count": null,
   "metadata": {
    "collapsed": false
   },
   "outputs": [],
   "source": [
    "len(border.geoms)"
   ]
  },
  {
   "cell_type": "code",
   "execution_count": null,
   "metadata": {
    "collapsed": false
   },
   "outputs": [],
   "source": [
    "max([l.length for l in border])"
   ]
  },
  {
   "cell_type": "code",
   "execution_count": null,
   "metadata": {
    "collapsed": false
   },
   "outputs": [],
   "source": [
    "MultiPoint([border.interpolate(x, normalized=True) for x in np.linspace(0,1.0,100)])"
   ]
  },
  {
   "cell_type": "code",
   "execution_count": null,
   "metadata": {
    "collapsed": false
   },
   "outputs": [],
   "source": [
    "shapely.ops.linemerge(border.geoms)"
   ]
  },
  {
   "cell_type": "markdown",
   "metadata": {},
   "source": [
    "## Automate"
   ]
  },
  {
   "cell_type": "code",
   "execution_count": null,
   "metadata": {
    "collapsed": true
   },
   "outputs": [],
   "source": [
    "import itertools"
   ]
  },
  {
   "cell_type": "code",
   "execution_count": null,
   "metadata": {
    "collapsed": false
   },
   "outputs": [],
   "source": [
    "ndistr = tucson_schdistrs.shape[0]\n",
    "distr1_ls=[]\n",
    "distr2_ls=[]\n",
    "sentinels_ls=[]\n",
    "borders_ls=[]\n",
    "\n",
    "for i,j in itertools.combinations(range(ndistr),2):\n",
    "    di = tucson_schdistrs.geometry.values[i]\n",
    "    dj = tucson_schdistrs.geometry.values[j]\n",
    "    distr_i = tucson_schdistrs.NAME.values[i]\n",
    "    distr_j = tucson_schdistrs.NAME.values[j]\n",
    "    border = di.intersection(dj)\n",
    "    if not border.geoms:\n",
    "        continue\n",
    "#     assert isinstance(border, MultiLineString)\n",
    "    merged_border = shapely.ops.linemerge(border)\n",
    "    sentinels = MultiPoint([border.interpolate(x, normalized=True) for x in np.linspace(0,1.0,100)])\n",
    "    sentinels_ls.append(sentinels)\n",
    "    sentinels_ls.append(sentinels)\n",
    "    borders_ls.append(merged_border)\n",
    "    borders_ls.append(merged_border)\n",
    "    distr1_ls.append(distr_i)\n",
    "    distr1_ls.append(distr_j)\n",
    "    distr2_ls.append(distr_j)\n",
    "    distr2_ls.append(distr_i)"
   ]
  },
  {
   "cell_type": "code",
   "execution_count": null,
   "metadata": {
    "collapsed": false
   },
   "outputs": [],
   "source": [
    "borders = gpd.GeoDataFrame({\"SchoolDistrict1\":distr1_ls, \"SchoolDistrict2\": distr2_ls, \"geometry\": borders_ls})\n",
    "sentinels = gpd.GeoDataFrame({\"SchoolDistrict1\":distr1_ls, \"SchoolDistrict2\": distr2_ls, \"geometry\": sentinels_ls})"
   ]
  },
  {
   "cell_type": "code",
   "execution_count": null,
   "metadata": {
    "collapsed": false
   },
   "outputs": [],
   "source": [
    "plot_dataframe(borders)\n",
    "plt.title(\"Borders between school districts\")"
   ]
  },
  {
   "cell_type": "markdown",
   "metadata": {},
   "source": [
    "# Export"
   ]
  },
  {
   "cell_type": "code",
   "execution_count": null,
   "metadata": {
    "collapsed": false
   },
   "outputs": [],
   "source": [
    "TC_sales_Tucson[\"X_PRJ\"] = [p.x for p in TC_sales_Tucson.geometry.values]\n",
    "TC_sales_Tucson[\"Y_PRJ\"] = [p.y for p in TC_sales_Tucson.geometry.values]"
   ]
  },
  {
   "cell_type": "code",
   "execution_count": null,
   "metadata": {
    "collapsed": true
   },
   "outputs": [],
   "source": [
    "TC_sales_Tucson.to_csv(\"Tucson_data/processed/Tucson_sales.csv\")"
   ]
  },
  {
   "cell_type": "code",
   "execution_count": null,
   "metadata": {
    "collapsed": false
   },
   "outputs": [],
   "source": [
    "borders.to_file('Tucson_data/processed/SchoolDistrict_borders/SchoolDistrict_borders.shp', driver='ESRI Shapefile')"
   ]
  },
  {
   "cell_type": "code",
   "execution_count": null,
   "metadata": {
    "collapsed": false
   },
   "outputs": [],
   "source": [
    "sentinels.to_file('Tucson_data/processed/SchoolDistrict_borders/SchoolDistrict_sentinels.shp', driver='ESRI Shapefile')"
   ]
  },
  {
   "cell_type": "code",
   "execution_count": null,
   "metadata": {
    "collapsed": false
   },
   "outputs": [],
   "source": [
    "with open(\"Tucson_data/processed/SchoolDistrict_borders/SchoolDistrict_borders.json\", \"w\") as f:\n",
    "    f.write(borders.to_json())"
   ]
  },
  {
   "cell_type": "code",
   "execution_count": null,
   "metadata": {
    "collapsed": false
   },
   "outputs": [],
   "source": [
    "with open(\"Tucson_data/processed/SchoolDistrict_borders/SchoolDistrict_sentinels.json\", \"w\") as f:\n",
    "    f.write(sentinels.to_json())"
   ]
  }
 ],
 "metadata": {
  "kernelspec": {
   "display_name": "python3 venv",
   "language": "python",
   "name": "python3"
  },
  "language_info": {
   "codemirror_mode": {
    "name": "ipython",
    "version": 3
   },
   "file_extension": ".py",
   "mimetype": "text/x-python",
   "name": "python",
   "nbconvert_exporter": "python",
   "pygments_lexer": "ipython3",
   "version": "3.5.1"
  },
  "toc": {
   "toc_cell": true,
   "toc_number_sections": true,
   "toc_threshold": 6,
   "toc_window_display": false
  }
 },
 "nbformat": 4,
 "nbformat_minor": 0
}

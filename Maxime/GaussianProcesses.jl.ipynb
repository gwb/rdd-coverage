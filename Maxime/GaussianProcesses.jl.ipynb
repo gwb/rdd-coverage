{
 "cells": [
  {
   "cell_type": "markdown",
   "metadata": {
    "toc": "true"
   },
   "source": [
    "# Table of Contents\n",
    " <p><div class=\"lev1 toc-item\"><a href=\"#Macros\" data-toc-modified-id=\"Macros-1\"><span class=\"toc-item-num\">1&nbsp;&nbsp;</span>Macros</a></div><div class=\"lev1 toc-item\"><a href=\"#Sum-Kernels\" data-toc-modified-id=\"Sum-Kernels-2\"><span class=\"toc-item-num\">2&nbsp;&nbsp;</span>Sum Kernels</a></div><div class=\"lev1 toc-item\"><a href=\"#Checking-derivatives\" data-toc-modified-id=\"Checking-derivatives-3\"><span class=\"toc-item-num\">3&nbsp;&nbsp;</span>Checking derivatives</a></div><div class=\"lev1 toc-item\"><a href=\"#mll-timing\" data-toc-modified-id=\"mll-timing-4\"><span class=\"toc-item-num\">4&nbsp;&nbsp;</span>mll timing</a></div><div class=\"lev1 toc-item\"><a href=\"#Optimizing-hyperparameters\" data-toc-modified-id=\"Optimizing-hyperparameters-5\"><span class=\"toc-item-num\">5&nbsp;&nbsp;</span>Optimizing hyperparameters</a></div><div class=\"lev1 toc-item\"><a href=\"#Updating-Cholesky\" data-toc-modified-id=\"Updating-Cholesky-6\"><span class=\"toc-item-num\">6&nbsp;&nbsp;</span>Updating Cholesky</a></div><div class=\"lev1 toc-item\"><a href=\"#Linear-Kernel\" data-toc-modified-id=\"Linear-Kernel-7\"><span class=\"toc-item-num\">7&nbsp;&nbsp;</span>Linear Kernel</a></div>"
   ]
  },
  {
   "cell_type": "code",
   "execution_count": 1,
   "metadata": {
    "collapsed": false,
    "scrolled": false
   },
   "outputs": [],
   "source": [
    "using GaussianProcesses"
   ]
  },
  {
   "cell_type": "code",
   "execution_count": null,
   "metadata": {
    "collapsed": true
   },
   "outputs": [],
   "source": [
    "using PyPlot"
   ]
  },
  {
   "cell_type": "code",
   "execution_count": 5,
   "metadata": {
    "collapsed": false
   },
   "outputs": [],
   "source": [
    "# Simulate example\n",
    "n = 10\n",
    "x = 2π * rand(n)\n",
    "μ = 0.2\n",
    "y = μ + sin(x) + 0.05*randn(n)\n",
    "mConst = MeanConst(0.0) # constant mean\n",
    "kern = SE(0.0,0.0)\n",
    "logObsVar = -1.0\n",
    "gp = GP(x,y,mConst,kern, logObsVar)      # Fit the GP\n",
    "\n",
    "GaussianProcesses.update_mll_and_dmll!(gp)"
   ]
  },
  {
   "cell_type": "markdown",
   "metadata": {},
   "source": [
    "# Macros"
   ]
  },
  {
   "cell_type": "code",
   "execution_count": 7,
   "metadata": {
    "collapsed": false
   },
   "outputs": [
    {
     "data": {
      "text/plain": [
       "\"1 + 1\""
      ]
     },
     "execution_count": 7,
     "metadata": {},
     "output_type": "execute_result"
    }
   ],
   "source": [
    "prog = \"1 + 1\""
   ]
  },
  {
   "cell_type": "code",
   "execution_count": 9,
   "metadata": {
    "collapsed": false
   },
   "outputs": [
    {
     "data": {
      "text/plain": [
       ":(1 + 1)"
      ]
     },
     "execution_count": 9,
     "metadata": {},
     "output_type": "execute_result"
    }
   ],
   "source": [
    "ex1 = parse(prog)"
   ]
  },
  {
   "cell_type": "code",
   "execution_count": 10,
   "metadata": {
    "collapsed": false
   },
   "outputs": [
    {
     "data": {
      "text/plain": [
       "String"
      ]
     },
     "execution_count": 10,
     "metadata": {},
     "output_type": "execute_result"
    }
   ],
   "source": [
    "typeof(prog)"
   ]
  },
  {
   "cell_type": "code",
   "execution_count": 14,
   "metadata": {
    "collapsed": false
   },
   "outputs": [
    {
     "data": {
      "text/plain": [
       "Any"
      ]
     },
     "execution_count": 14,
     "metadata": {},
     "output_type": "execute_result"
    }
   ],
   "source": [
    "ex1.typ"
   ]
  },
  {
   "cell_type": "code",
   "execution_count": 15,
   "metadata": {
    "collapsed": false
   },
   "outputs": [
    {
     "data": {
      "text/plain": [
       ":(1 + 1)"
      ]
     },
     "execution_count": 15,
     "metadata": {},
     "output_type": "execute_result"
    }
   ],
   "source": [
    "ex2 = Expr(:call, :+, 1, 1)"
   ]
  },
  {
   "cell_type": "code",
   "execution_count": 16,
   "metadata": {
    "collapsed": false
   },
   "outputs": [
    {
     "data": {
      "text/plain": [
       "true"
      ]
     },
     "execution_count": 16,
     "metadata": {},
     "output_type": "execute_result"
    }
   ],
   "source": [
    "ex1 == ex2"
   ]
  },
  {
   "cell_type": "code",
   "execution_count": 102,
   "metadata": {
    "collapsed": false
   },
   "outputs": [
    {
     "name": "stdout",
     "output_type": "stream",
     "text": [
      "Expr\n",
      "  head: Symbol call\n",
      "  args: Array{Any}((3,))\n",
      "    1: Symbol +\n",
      "    2: Int64 1\n",
      "    3: Int64 1\n",
      "  typ: Any\n"
     ]
    }
   ],
   "source": [
    "dump(:(1+1))"
   ]
  },
  {
   "cell_type": "code",
   "execution_count": 107,
   "metadata": {
    "collapsed": false
   },
   "outputs": [
    {
     "data": {
      "text/plain": [
       ":VarSym5"
      ]
     },
     "execution_count": 107,
     "metadata": {},
     "output_type": "execute_result"
    }
   ],
   "source": [
    "Symbol(:Var, :Sym, :($(2+3)))"
   ]
  },
  {
   "cell_type": "code",
   "execution_count": 17,
   "metadata": {
    "collapsed": false
   },
   "outputs": [
    {
     "name": "stdout",
     "output_type": "stream",
     "text": [
      "Expr\n",
      "  head: Symbol call\n",
      "  args: Array{Any}((3,))\n",
      "    1: Symbol +\n",
      "    2: Int64 1\n",
      "    3: Int64 1\n",
      "  typ: Any\n"
     ]
    }
   ],
   "source": [
    "dump(ex2)"
   ]
  },
  {
   "cell_type": "code",
   "execution_count": 31,
   "metadata": {
    "collapsed": false
   },
   "outputs": [
    {
     "data": {
      "text/plain": [
       ":(:a in :a + :b)"
      ]
     },
     "execution_count": 31,
     "metadata": {},
     "output_type": "execute_result"
    }
   ],
   "source": [
    ":( :a in $( :(:a + :b) ) )"
   ]
  },
  {
   "cell_type": "code",
   "execution_count": 77,
   "metadata": {
    "collapsed": false
   },
   "outputs": [
    {
     "data": {
      "text/plain": [
       "3"
      ]
     },
     "execution_count": 77,
     "metadata": {},
     "output_type": "execute_result"
    }
   ],
   "source": [
    "i=3"
   ]
  },
  {
   "cell_type": "code",
   "execution_count": 80,
   "metadata": {
    "collapsed": false
   },
   "outputs": [
    {
     "data": {
      "text/plain": [
       "Symbol(\"ba + 3\")"
      ]
     },
     "execution_count": 80,
     "metadata": {},
     "output_type": "execute_result"
    }
   ],
   "source": [
    "Symbol(:b, :(a+$(i)))"
   ]
  },
  {
   "cell_type": "code",
   "execution_count": 72,
   "metadata": {
    "collapsed": false
   },
   "outputs": [
    {
     "data": {
      "text/plain": [
       ":(a + 2)"
      ]
     },
     "execution_count": 72,
     "metadata": {},
     "output_type": "execute_result"
    }
   ],
   "source": [
    ":(a+$(1+1))"
   ]
  },
  {
   "cell_type": "code",
   "execution_count": 95,
   "metadata": {
    "collapsed": false
   },
   "outputs": [
    {
     "ename": "LoadError",
     "evalue": "LoadError: TypeError: Expr: expected Symbol, got String\nwhile loading In[95], in expression starting on line 1",
     "output_type": "error",
     "traceback": [
      "LoadError: TypeError: Expr: expected Symbol, got String\nwhile loading In[95], in expression starting on line 1",
      "",
      " in Expr(::Any) at ./boot.jl:279"
     ]
    }
   ],
   "source": [
    "Expr(\"1+2\")"
   ]
  },
  {
   "cell_type": "code",
   "execution_count": 114,
   "metadata": {
    "collapsed": false
   },
   "outputs": [
    {
     "data": {
      "text/plain": [
       ":((a + b) $ i)"
      ]
     },
     "execution_count": 114,
     "metadata": {},
     "output_type": "execute_result"
    }
   ],
   "source": [
    "i=3\n",
    ":(a+b$i)"
   ]
  },
  {
   "cell_type": "code",
   "execution_count": 124,
   "metadata": {
    "collapsed": false
   },
   "outputs": [
    {
     "data": {
      "text/plain": [
       "\"abc\""
      ]
     },
     "execution_count": 124,
     "metadata": {},
     "output_type": "execute_result"
    }
   ],
   "source": [
    "\"a\"join((\"b\",\"c\"))"
   ]
  },
  {
   "cell_type": "code",
   "execution_count": 123,
   "metadata": {
    "collapsed": false
   },
   "outputs": [
    {
     "data": {
      "text/plain": [
       "\"a\""
      ]
     },
     "execution_count": 123,
     "metadata": {},
     "output_type": "execute_result"
    }
   ],
   "source": [
    "join(\"a\", \"b\", \"c\")"
   ]
  },
  {
   "cell_type": "code",
   "execution_count": 140,
   "metadata": {
    "collapsed": false
   },
   "outputs": [
    {
     "data": {
      "text/plain": [
       ":(1 + 1)"
      ]
     },
     "execution_count": 140,
     "metadata": {},
     "output_type": "execute_result"
    }
   ],
   "source": [
    "parse(\"1+1\")"
   ]
  },
  {
   "cell_type": "code",
   "execution_count": 184,
   "metadata": {
    "collapsed": false
   },
   "outputs": [
    {
     "name": "stderr",
     "output_type": "stream",
     "text": [
      "WARNING: Method definition @gen_grad_kern(ANY<:Any, ANY<:Any) in module Main at In[181]:2 overwritten at In[184]:2.\n"
     ]
    },
    {
     "data": {
      "text/plain": [
       "@gen_grad_kern (macro with 1 method)"
      ]
     },
     "execution_count": 184,
     "metadata": {},
     "output_type": "execute_result"
    }
   ],
   "source": [
    "macro gen_grad_kern(kerntype, num_pars)\n",
    "    inarray = [\"dkdθ$i(k,r)\" for i in 1:num_pars]\n",
    "    array_str = \"[\"join(inarray,\", \")\"]\"\n",
    "    esc(quote\n",
    "        function asdfasdf(k::$kerntype, x::Vector{Float64}, y::Vector{Float64})\n",
    "            println(\"in macro grad_kern\")\n",
    "            r = distance(k, x, y)\n",
    "            dK_theta = $(parse(array_str))\n",
    "            return dK_theta\n",
    "        end\n",
    "    end)\n",
    "end"
   ]
  },
  {
   "cell_type": "code",
   "execution_count": 10,
   "metadata": {
    "collapsed": false
   },
   "outputs": [
    {
     "data": {
      "text/plain": [
       "3-element Array{Expr,1}:\n",
       " quote  # In[10], line 2:\n",
       "    2 + 1\n",
       "end\n",
       " quote  # In[10], line 2:\n",
       "    3 + 2\n",
       "end\n",
       " quote  # In[10], line 2:\n",
       "    4 + 3\n",
       "end"
      ]
     },
     "execution_count": 10,
     "metadata": {},
     "output_type": "execute_result"
    }
   ],
   "source": [
    "[quote \n",
    "    $(1+i)+$i\n",
    "end for i in 1:3]"
   ]
  },
  {
   "cell_type": "code",
   "execution_count": 29,
   "metadata": {
    "collapsed": false
   },
   "outputs": [
    {
     "data": {
      "text/plain": [
       "Expr"
      ]
     },
     "execution_count": 29,
     "metadata": {},
     "output_type": "execute_result"
    }
   ],
   "source": [
    "typeof(parse(\"1+1\"))"
   ]
  },
  {
   "cell_type": "code",
   "execution_count": 30,
   "metadata": {
    "collapsed": false
   },
   "outputs": [
    {
     "data": {
      "text/plain": [
       "\"\\n    blah\\n    blih\\n\""
      ]
     },
     "execution_count": 30,
     "metadata": {},
     "output_type": "execute_result"
    }
   ],
   "source": [
    "\"\n",
    "    blah\n",
    "    blih\n",
    "\""
   ]
  },
  {
   "cell_type": "code",
   "execution_count": 77,
   "metadata": {
    "collapsed": false
   },
   "outputs": [
    {
     "name": "stderr",
     "output_type": "stream",
     "text": [
      "WARNING: Method definition @gen_dKdθi!(ANY<:Any, ANY<:Any) in module Main at In[75]:2 overwritten at In[77]:2.\n"
     ]
    },
    {
     "data": {
      "text/plain": [
       "@gen_dKdθi! (macro with 1 method)"
      ]
     },
     "execution_count": 77,
     "metadata": {},
     "output_type": "execute_result"
    }
   ],
   "source": [
    "macro gen_dKdθi!(kerntype, num_pars)\n",
    "    inarray = [\"dkdθ$i(k,R[i,j])\" for i in 1:num_pars]\n",
    "    block_arrays = [\" iparam==$iparam\n",
    "        @inbounds for j in 1:nobsv\n",
    "            @simd for i in 1:j\n",
    "                    Kgrad[i,j] = $(inarray[iparam])\n",
    "                    Kgrad[j,i] = Kgrad[i,j]\n",
    "            end\n",
    "        end\\n\" \n",
    "        for iparam in 1:num_pars\n",
    "    ]\n",
    "    ifstatements = (\"    if\"join(block_arrays,\"    elseif\")\"    end\")\n",
    "    println(parse(ifstatements))\n",
    "    esc(quote\n",
    "        function dKdθi!(Kgrad::AbstractMatrix,  pe::$kerntype, X::Matrix{Float64}, data::IsotropicData, iparam::Int)\n",
    "            1 <= iparam <= num_params(pe) || throw(ArgumentError, \"iparam must be between 1 and %d\", num_params(pe))\n",
    "            d, nobsv = size(X)\n",
    "            R = distance!(pe, X, data)\n",
    "\n",
    "            $(parse(ifstatements))\n",
    "            return Kgrad\n",
    "        end\n",
    "    end)\n",
    "end"
   ]
  },
  {
   "cell_type": "code",
   "execution_count": null,
   "metadata": {
    "collapsed": true
   },
   "outputs": [],
   "source": [
    "macro gen_grad_stack!(kerntype)\n",
    "    esc(quote\n",
    "        function grad_stack!(stack::AbstractArray, k::$kerntype, X::Matrix{Float64}, data::KernelData)\n",
    "            for iparam in 1:num_params(k)\n",
    "                dKdθi!(Base.view(stack,:,:,iparam), k, X, data, iparam)\n",
    "            end\n",
    "            return stack\n",
    "        end\n",
    "    end)\n",
    "end"
   ]
  },
  {
   "cell_type": "code",
   "execution_count": 78,
   "metadata": {
    "collapsed": false
   },
   "outputs": [
    {
     "name": "stdout",
     "output_type": "stream",
     "text": [
      "if iparam == 1 # none, line 2:\n",
      "    @inbounds for j = 1:nobsv # none, line 3:\n",
      "            @simd for i = 1:j # none, line 4:\n",
      "                    Kgrad[i,j] = dkdθ1(k,R[i,j]) # none, line 5:\n",
      "                    Kgrad[j,i] = Kgrad[i,j]\n",
      "                end\n",
      "        end\n",
      "else  # none, line 8:\n",
      "    if iparam == 2 # none, line 9:\n",
      "        @inbounds for j = 1:nobsv # none, line 10:\n",
      "                @simd for i = 1:j # none, line 11:\n",
      "                        Kgrad[i,j] = dkdθ2(k,R[i,j]) # none, line 12:\n",
      "                        Kgrad[j,i] = Kgrad[i,j]\n",
      "                    end\n",
      "            end\n",
      "    else  # none, line 15:\n",
      "        if iparam == 3 # none, line 16:\n",
      "            @inbounds for j = 1:nobsv # none, line 17:\n",
      "                    @simd for i = 1:j # none, line 18:\n",
      "                            Kgrad[i,j] = dkdθ3(k,R[i,j]) # none, line 19:\n",
      "                            Kgrad[j,i] = Kgrad[i,j]\n",
      "                        end\n",
      "                end\n",
      "        end\n",
      "    end\n",
      "end\n"
     ]
    },
    {
     "ename": "LoadError",
     "evalue": "LoadError: UndefVarError: IsotropicData not defined\nwhile loading In[78], in expression starting on line 15",
     "output_type": "error",
     "traceback": [
      "LoadError: UndefVarError: IsotropicData not defined\nwhile loading In[78], in expression starting on line 15",
      ""
     ]
    }
   ],
   "source": [
    "@gen_dKdθi!(Periodic, 3)"
   ]
  },
  {
   "cell_type": "code",
   "execution_count": 2,
   "metadata": {
    "collapsed": false,
    "scrolled": true
   },
   "outputs": [
    {
     "data": {
      "text/plain": [
       "3-element Array{Float64,1}:\n",
       " 1.39342\n",
       " 0.34263\n",
       " 1.0877 "
      ]
     },
     "execution_count": 2,
     "metadata": {},
     "output_type": "execute_result"
    }
   ],
   "source": [
    "k1 = Periodic(log(0.5), log(√(10.0)), log(24.0))\n",
    "GaussianProcesses.grad_kern(k1, [1.0, 2.0, 3.0], [4.4, 5.5, 6.6])"
   ]
  },
  {
   "cell_type": "code",
   "execution_count": 164,
   "metadata": {
    "collapsed": false
   },
   "outputs": [
    {
     "data": {
      "text/plain": [
       "quote  # In[161], line 5:\n",
       "    function #280#asdfasdf(#283#k::Periodic,#284#x::Vector{Float64},#285#y::Vector{Float64}) # In[161], line 6:\n",
       "        println(\"in macro grad_kern\") # In[161], line 7:\n",
       "        #281#r = distance(#283#k,#284#x,#285#y) # In[161], line 8:\n",
       "        #282#dK_theta = [dkdθ1(#283#k,#281#r),dkdθ2(#283#k,#281#r),dkdθ3(#283#k,#281#r)] # In[161], line 9:\n",
       "        return #282#dK_theta\n",
       "    end\n",
       "end"
      ]
     },
     "execution_count": 164,
     "metadata": {},
     "output_type": "execute_result"
    }
   ],
   "source": [
    "macroexpand(:(@gen_grad_kern(Periodic, 3)))"
   ]
  },
  {
   "cell_type": "markdown",
   "metadata": {},
   "source": [
    "# Sum Kernels"
   ]
  },
  {
   "cell_type": "code",
   "execution_count": 3,
   "metadata": {
    "collapsed": false
   },
   "outputs": [
    {
     "data": {
      "text/plain": [
       "Type: GaussianProcesses.ProdKernel\n",
       "  Type: GaussianProcesses.SumKernel\n",
       "    Type: GaussianProcesses.Periodic, Params: [-0.693147,1.15129,3.17805]\n",
       "    Type: GaussianProcesses.SEIso, Params: [4.78749,1.84444]\n",
       "    Type: GaussianProcesses.SEIso, Params: [8.47637,2.19101]\n",
       "    Type: GaussianProcesses.SEIso, Params: [2.48491,1.15129]\n",
       "    Type: GaussianProcesses.Noise, Params: [0.0]\n",
       "  Type: GaussianProcesses.SEIso, Params: [6.17379,0.0]\n"
      ]
     },
     "execution_count": 3,
     "metadata": {},
     "output_type": "execute_result"
    }
   ],
   "source": [
    "k1 = Periodic(log(0.5), log(√(10.0)), log(24.0))\n",
    "k2 = SE(log(5.0*24), log(√40.0))\n",
    "k3 = SE(log(200.0*24), log(√80.0))\n",
    "k4 = SE(log(0.5*24), log(√10.0))\n",
    "k5 = Noise(log(√1.0))\n",
    "k6 = SE(log(20.0*24), 0.0)\n",
    "_k=(k1+k2+k3+k4+k5)*k6"
   ]
  },
  {
   "cell_type": "code",
   "execution_count": 10,
   "metadata": {
    "collapsed": false
   },
   "outputs": [
    {
     "data": {
      "text/plain": [
       "GP object:\n",
       "  Dim = 1\n",
       "  Number of observations = 10\n",
       "  Mean function:\n",
       "    Type: GaussianProcesses.MeanConst, Params: [0.0]\n",
       "  Kernel:\n",
       "    Type: GaussianProcesses.ProdKernel\n",
       "      Type: GaussianProcesses.SumKernel\n",
       "        Type: GaussianProcesses.Periodic, Params: [-0.693147,1.15129,3.17805]\n",
       "        Type: GaussianProcesses.SEIso, Params: [4.78749,1.84444]\n",
       "        Type: GaussianProcesses.SEIso, Params: [8.47637,2.19101]\n",
       "        Type: GaussianProcesses.SEIso, Params: [2.48491,1.15129]\n",
       "        Type: GaussianProcesses.Noise, Params: [0.0]\n",
       "      Type: GaussianProcesses.SEIso, Params: [6.17379,0.0]\n",
       "  Input observations = \n",
       "[2.02392 2.43558 6.02094 3.53654 1.35737 6.10887 3.83164 5.755 4.24817 0.844245]\n",
       "  Output observations = [1.04139,0.786694,-0.0587062,-0.247649,1.25824,0.00791292,-0.415704,-0.351884,-0.603731,0.947892]\n",
       "  Variance of observation noise = 0.1353352832366127\n",
       "  Marginal Log-Likelihood = -16.891"
      ]
     },
     "execution_count": 10,
     "metadata": {},
     "output_type": "execute_result"
    }
   ],
   "source": [
    "gp2=GaussianProcesses.GP(x,y,mConst, _k, logObsVar)"
   ]
  },
  {
   "cell_type": "code",
   "execution_count": 4,
   "metadata": {
    "collapsed": false
   },
   "outputs": [
    {
     "data": {
      "text/plain": [
       "12"
      ]
     },
     "execution_count": 4,
     "metadata": {},
     "output_type": "execute_result"
    }
   ],
   "source": [
    "GaussianProcesses.num_params(_k)"
   ]
  },
  {
   "cell_type": "code",
   "execution_count": 11,
   "metadata": {
    "collapsed": false
   },
   "outputs": [],
   "source": [
    "GaussianProcesses.set_params!(_k, GaussianProcesses.get_params(_k))\n",
    "GaussianProcesses.update_mll_and_dmll!(gp2)"
   ]
  },
  {
   "cell_type": "markdown",
   "metadata": {},
   "source": [
    "# Checking derivatives"
   ]
  },
  {
   "cell_type": "code",
   "execution_count": 6,
   "metadata": {
    "collapsed": false
   },
   "outputs": [
    {
     "name": "stdout",
     "output_type": "stream",
     "text": [
      "change in log likelihood: -0.0005331052146200221\n",
      "expected change in log likelihood: -0.0005330724996024072\n"
     ]
    }
   ],
   "source": [
    "prev_mLL=gp.mLL\n",
    "prev_dmLL=gp.dmLL\n",
    "\n",
    "prev_params=GaussianProcesses.get_params(gp)\n",
    "\n",
    "dθ=[1.0, 0.0, 1.0, 1.0]*1e-4 # select mean parameters\n",
    "GaussianProcesses.set_params!(gp, prev_params.+dθ)\n",
    "GaussianProcesses.update_mll_and_dmll!(gp)\n",
    "\n",
    "println(\"change in log likelihood: \", gp.mLL-prev_mLL)\n",
    "println(\"expected change in log likelihood: \", dot(prev_dmLL, dθ))"
   ]
  },
  {
   "cell_type": "code",
   "execution_count": 7,
   "metadata": {
    "collapsed": false
   },
   "outputs": [
    {
     "data": {
      "text/plain": [
       "Type: GaussianProcesses.SEIso, Params: [0.0,0.0]\n"
      ]
     },
     "execution_count": 7,
     "metadata": {},
     "output_type": "execute_result"
    }
   ],
   "source": [
    "# Training data\n",
    "n = 10\n",
    "x = 2π * rand(n)\n",
    "μ = 0.2\n",
    "y = μ + sin(x) + 0.05*randn(n)\n",
    "\n",
    "# Select mean and covariance function\n",
    "mConst = MeanConst(0.0)                   # constant mean\n",
    "kern = SE(0.0,0.0)                   # Squared exponential kernel with parameters\n",
    "                                     # log(ℓ) = 0.0, log(σ) = 0.0"
   ]
  },
  {
   "cell_type": "code",
   "execution_count": 8,
   "metadata": {
    "collapsed": false
   },
   "outputs": [
    {
     "data": {
      "text/plain": [
       "Type: GaussianProcesses.MeanConst, Params: [0.0]\n"
      ]
     },
     "execution_count": 8,
     "metadata": {},
     "output_type": "execute_result"
    }
   ],
   "source": [
    "mZero = MeanZero()"
   ]
  },
  {
   "cell_type": "code",
   "execution_count": 9,
   "metadata": {
    "collapsed": false
   },
   "outputs": [
    {
     "data": {
      "text/plain": [
       "GP object:\n",
       "  Dim = 1\n",
       "  Number of observations = 10\n",
       "  Mean function:\n",
       "    Type: GaussianProcesses.MeanConst, Params: [0.0]\n",
       "  Kernel:\n",
       "    Type: GaussianProcesses.SEIso, Params: [0.0,0.0]\n",
       "  Input observations = \n",
       "[5.1877 1.25477 4.2079 4.77396 6.23273 4.25078 5.05695 3.28277 3.24286 3.10401]\n",
       "  Output observations = [-0.736578,1.21941,-0.678843,-0.80676,0.245601,-0.723342,-0.765713,0.0192677,0.0536838,0.265152]\n",
       "  Variance of observation noise = 0.1353352832366127\n",
       "  Marginal Log-Likelihood = -6.354"
      ]
     },
     "execution_count": 9,
     "metadata": {},
     "output_type": "execute_result"
    }
   ],
   "source": [
    "logObsNoise = -1.0                        # log standard deviation of observation noise (this is optional)\n",
    "gp = GP(x,y,mZero,kern, logObsNoise)      # Fit the GP"
   ]
  },
  {
   "cell_type": "code",
   "execution_count": 10,
   "metadata": {
    "collapsed": false
   },
   "outputs": [
    {
     "name": "stdout",
     "output_type": "stream",
     "text": [
      "change in log likelihood 7.789098631860725e-6\n",
      "expected change in log likelihood 7.789234749557313e-6\n"
     ]
    }
   ],
   "source": [
    "GaussianProcesses.update_mll_and_dmll!(gp)\n",
    "prev_mLL=gp.mLL\n",
    "prev_dmLL=gp.dmLL\n",
    "\n",
    "prev_params=GaussianProcesses.get_params(gp)\n",
    "\n",
    "dθ=[0.0, 1.0, 0.0, 0.0]*1e-5\n",
    "GaussianProcesses.set_params!(gp, prev_params.+dθ)\n",
    "\n",
    "GaussianProcesses.get_params(gp).-prev_params\n",
    "\n",
    "GaussianProcesses.update_mll_and_dmll!(gp)\n",
    "\n",
    "println(\"change in log likelihood \", gp.mLL-prev_mLL)\n",
    "\n",
    "println(\"expected change in log likelihood \", dot(prev_dmLL, dθ))\n",
    "\n",
    "# reset parameter to what they were before\n",
    "GaussianProcesses.set_params!(gp, prev_params)\n",
    "GaussianProcesses.update_mll_and_dmll!(gp)"
   ]
  },
  {
   "cell_type": "code",
   "execution_count": 11,
   "metadata": {
    "collapsed": false
   },
   "outputs": [
    {
     "data": {
      "image/png": "[encoded data removed]",
      "text/plain": [
       "PyPlot.Figure(PyObject <matplotlib.figure.Figure object at 0x3274c3790>)"
      ]
     },
     "metadata": {},
     "output_type": "display_data"
    },
    {
     "name": "stderr",
     "output_type": "stream",
     "text": [
      "WARNING: both ArrayViews and Base export \"view\"; uses of it in module GaussianProcesses must be qualified\n"
     ]
    }
   ],
   "source": [
    "plot(gp)"
   ]
  },
  {
   "cell_type": "code",
   "execution_count": 12,
   "metadata": {
    "collapsed": false
   },
   "outputs": [
    {
     "name": "stderr",
     "output_type": "stream",
     "text": [
      "INFO: Building Homebrew\n"
     ]
    },
    {
     "name": "stdout",
     "output_type": "stream",
     "text": [
      "Already up-to-date.\n"
     ]
    },
    {
     "name": "stderr",
     "output_type": "stream",
     "text": [
      "INFO: Building Nettle\n",
      "INFO: Building ZMQ\n",
      "INFO: Building IJulia\n",
      "INFO: Found Jupyter version 4.1.1: jupyter\n",
      "Writing IJulia kernelspec to /Users/imolk/.julia/v0.5/IJulia/deps/julia-0.5/kernel.json ...\n",
      "Installing julia kernelspec julia-0.5\n",
      "[InstallKernelSpec] Removing existing kernelspec in /Users/imolk/Library/Jupyter/kernels/julia-0.5\n",
      "[InstallKernelSpec] Installed kernelspec julia-0.5 in /Users/imolk/Library/Jupyter/kernels/julia-0.5\n"
     ]
    }
   ],
   "source": [
    "Pkg.build(\"IJulia\")"
   ]
  },
  {
   "cell_type": "markdown",
   "metadata": {},
   "source": [
    "# mll timing"
   ]
  },
  {
   "cell_type": "markdown",
   "metadata": {},
   "source": [
    "# Optimizing hyperparameters"
   ]
  },
  {
   "cell_type": "code",
   "execution_count": 13,
   "metadata": {
    "collapsed": false
   },
   "outputs": [
    {
     "name": "stdout",
     "output_type": "stream",
     "text": [
      "Results of Optimization Algorithm\n",
      " * Algorithm: Conjugate Gradient\n",
      " * Starting Point: [-1.0,0.0,0.0,0.0]\n",
      " * Minimizer: [-4.144653037524202,0.4147885886908506, ...]\n",
      " * Minimum: -5.810760e+00\n",
      " * Iterations: 23\n",
      " * Convergence: true\n",
      "   * |x - x'| < 1.0e-32: false\n",
      "   * |f(x) - f(x')| / |f(x)| < 1.0e-32: true\n",
      "   * |g(x)| < 1.0e-08: false\n",
      "   * Reached Maximum Number of Iterations: false\n",
      " * Objective Function Calls: 82\n",
      " * Gradient Calls: 59"
     ]
    }
   ],
   "source": [
    "optimize!(gp)"
   ]
  },
  {
   "cell_type": "code",
   "execution_count": 14,
   "metadata": {
    "collapsed": false
   },
   "outputs": [
    {
     "data": {
      "image/png": "[encoded data removed]",
      "text/plain": [
       "PyPlot.Figure(PyObject <matplotlib.figure.Figure object at 0x3274c3d10>)"
      ]
     },
     "metadata": {},
     "output_type": "display_data"
    }
   ],
   "source": [
    "plot(gp)"
   ]
  },
  {
   "cell_type": "markdown",
   "metadata": {},
   "source": [
    "# Updating Cholesky"
   ]
  },
  {
   "cell_type": "code",
   "execution_count": 15,
   "metadata": {
    "collapsed": false
   },
   "outputs": [
    {
     "name": "stderr",
     "output_type": "stream",
     "text": [
      "WARNING: imported binding for LinAlg overwritten in module Main\n"
     ]
    },
    {
     "data": {
      "text/plain": [
       "Base.LinAlg"
      ]
     },
     "execution_count": 15,
     "metadata": {},
     "output_type": "execute_result"
    }
   ],
   "source": [
    "import Base.LinAlg\n",
    "LinAlg = Base.LinAlg"
   ]
  },
  {
   "cell_type": "code",
   "execution_count": 16,
   "metadata": {
    "collapsed": false
   },
   "outputs": [
    {
     "data": {
      "text/plain": [
       "Base.LinAlg.Cholesky{Float64,Array{Float64,2}} with factor:\n",
       "[0.827781 0.002107 0.571157 0.774547 0.542757 0.589576 0.822033 0.203789 0.192051 0.154742; 0.0 0.827779 0.0270683 0.00495877 -0.00132371 0.0243457 0.0010214 0.168532 0.179355 0.220534; 0.0 0.0 0.598555 0.271867 -0.282902 0.579871 0.0818546 0.620217 0.607322 0.557198; 0.0 0.0 0.0 0.106594 -0.397007 0.0172873 0.0483245 -0.34771 -0.353935 -0.366786; 0.0 0.0 0.0 0.0 0.391135 0.00312971 -0.00561206 -0.125754 -0.130391 -0.143296; 0.0 0.0 0.0 0.0 0.0 0.0216881 -0.000813361 -0.0226763 -0.0249344 -0.032363; 0.0 0.0 0.0 0.0 0.0 0.0 0.0203866 0.0366992 0.0386263 0.0445512; 0.0 0.0 0.0 0.0 0.0 0.0 0.0 0.303384 0.319945 0.376951; 0.0 0.0 0.0 0.0 0.0 0.0 0.0 0.0 0.0240852 0.0242984; 0.0 0.0 0.0 0.0 0.0 0.0 0.0 0.0 0.0 0.0373029]"
      ]
     },
     "execution_count": 16,
     "metadata": {},
     "output_type": "execute_result"
    }
   ],
   "source": [
    "gp.cK.chol"
   ]
  },
  {
   "cell_type": "code",
   "execution_count": 17,
   "metadata": {
    "collapsed": false
   },
   "outputs": [
    {
     "data": {
      "text/markdown": [
       "```\n",
       "lowrankupdate(C::Cholesky, v::StridedVector) -> CC::Cholesky\n",
       "```\n",
       "\n",
       "Update a Cholesky factorization `C` with the vector `v`. If `A = C[:U]'C[:U]` then `CC = cholfact(C[:U]'C[:U] + v*v')` but the computation of `CC` only uses `O(n^2)` operations.\n"
      ],
      "text/plain": [
       "```\n",
       "lowrankupdate(C::Cholesky, v::StridedVector) -> CC::Cholesky\n",
       "```\n",
       "\n",
       "Update a Cholesky factorization `C` with the vector `v`. If `A = C[:U]'C[:U]` then `CC = cholfact(C[:U]'C[:U] + v*v')` but the computation of `CC` only uses `O(n^2)` operations.\n"
      ]
     },
     "execution_count": 17,
     "metadata": {},
     "output_type": "execute_result"
    }
   ],
   "source": [
    "?LinAlg.lowrankupdate"
   ]
  },
  {
   "cell_type": "code",
   "execution_count": 18,
   "metadata": {
    "collapsed": false
   },
   "outputs": [
    {
     "data": {
      "text/html": [
       "1 method for generic function <b>lowrankupdate</b>:<ul><li> lowrankupdate(C::<b>Base.LinAlg.Cholesky</b>, v::<b>Union{Base.ReshapedArray{T<:Any,1,A<:DenseArray,MI<:Tuple{Vararg{Base.MultiplicativeInverses.SignedMultiplicativeInverse{Int64},N<:Any}}},DenseArray{T<:Any,1},SubArray{T<:Any,1,A<:Union{Base.ReshapedArray{T<:Any,N<:Any,A<:DenseArray,MI<:Tuple{Vararg{Base.MultiplicativeInverses.SignedMultiplicativeInverse{Int64},N<:Any}}},DenseArray},I<:Tuple{Vararg{Union{Base.AbstractCartesianIndex,Colon,Int64,Range{Int64}},N<:Any}},L<:Any}}</b>) at <a href=\"https://github.com/JuliaLang/julia/tree/0350e5769b43f56c4c570741b0f5b2edf9399dc7/base/linalg/cholesky.jl#L551\" target=\"_blank\">linalg/cholesky.jl:551</a></li> </ul>"
      ],
      "text/plain": [
       "# 1 method for generic function \"lowrankupdate\":\n",
       "lowrankupdate(C::Base.LinAlg.Cholesky, v::Union{Base.ReshapedArray{T<:Any,1,A<:DenseArray,MI<:Tuple{Vararg{Base.MultiplicativeInverses.SignedMultiplicativeInverse{Int64},N<:Any}}},DenseArray{T<:Any,1},SubArray{T<:Any,1,A<:Union{Base.ReshapedArray{T<:Any,N<:Any,A<:DenseArray,MI<:Tuple{Vararg{Base.MultiplicativeInverses.SignedMultiplicativeInverse{Int64},N<:Any}}},DenseArray},I<:Tuple{Vararg{Union{Base.AbstractCartesianIndex,Colon,Int64,Range{Int64}},N<:Any}},L<:Any}}) at linalg/cholesky.jl:551"
      ]
     },
     "execution_count": 18,
     "metadata": {},
     "output_type": "execute_result"
    }
   ],
   "source": [
    "methods(LinAlg.lowrankupdate)"
   ]
  },
  {
   "cell_type": "code",
   "execution_count": 19,
   "metadata": {
    "collapsed": false
   },
   "outputs": [
    {
     "data": {
      "text/plain": [
       "Base.LinAlg.Cholesky{Float64,Array{Float64,2}} with factor:\n",
       "[0.827781 0.002107 0.571157 0.774547 0.542757 0.589576 0.822033 0.203789 0.192051 0.154742; 0.0 0.827779 0.0270683 0.00495877 -0.00132371 0.0243457 0.0010214 0.168532 0.179355 0.220534; 0.0 0.0 0.598555 0.271867 -0.282902 0.579871 0.0818546 0.620217 0.607322 0.557198; 0.0 0.0 0.0 0.106594 -0.397007 0.0172873 0.0483245 -0.34771 -0.353935 -0.366786; 0.0 0.0 0.0 0.0 0.391135 0.00312971 -0.00561206 -0.125754 -0.130391 -0.143296; 0.0 0.0 0.0 0.0 0.0 0.0216881 -0.000813361 -0.0226763 -0.0249344 -0.032363; 0.0 0.0 0.0 0.0 0.0 0.0 0.0203866 0.0366992 0.0386263 0.0445512; 0.0 0.0 0.0 0.0 0.0 0.0 0.0 0.303384 0.319945 0.376951; 0.0 0.0 0.0 0.0 0.0 0.0 0.0 0.0 0.0240852 0.0242984; 0.0 0.0 0.0 0.0 0.0 0.0 0.0 0.0 0.0 0.0373029]"
      ]
     },
     "execution_count": 19,
     "metadata": {},
     "output_type": "execute_result"
    }
   ],
   "source": [
    "gp.cK.chol"
   ]
  },
  {
   "cell_type": "code",
   "execution_count": 20,
   "metadata": {
    "collapsed": false
   },
   "outputs": [
    {
     "data": {
      "text/plain": [
       "Base.LinAlg.Cholesky{Float64,Array{Float64,2}} with factor:\n",
       "[0.995716 0.705043 0.0477388 0.253165 0.167547 -0.0545443 1.51466 -0.219772 -0.0543405 -0.0739818; 0.0 1.33773 -0.734471 -0.794246 -0.571113 -0.882381 0.618559 -0.442016 -0.22433 -0.169194; 0.0 0.0 0.856769 0.64209 0.123036 0.924599 -0.290508 0.83592 0.71408 0.685494; 0.0 0.0 0.0 0.268996 0.316004 0.0916344 -0.346323 -0.184274 -0.27942 -0.24582; 0.0 0.0 0.0 0.0 0.690299 0.0188468 -0.169712 0.175265 0.144387 0.160557; 0.0 0.0 0.0 0.0 0.0 0.0235439 -0.0435128 0.0854005 0.0772477 0.0808261; 0.0 0.0 0.0 0.0 0.0 0.0 0.102953 -0.24801 -0.234399 -0.260241; 0.0 0.0 0.0 0.0 0.0 0.0 0.0 0.315762 0.331457 0.389352; 0.0 0.0 0.0 0.0 0.0 0.0 0.0 0.0 0.0246711 0.0259583; 0.0 0.0 0.0 0.0 0.0 0.0 0.0 0.0 0.0 0.0376126]"
      ]
     },
     "execution_count": 20,
     "metadata": {},
     "output_type": "execute_result"
    }
   ],
   "source": [
    "LinAlg.lowrankupdate(gp.cK.chol, randn(n))"
   ]
  },
  {
   "cell_type": "markdown",
   "metadata": {},
   "source": [
    "# Linear Kernel"
   ]
  },
  {
   "cell_type": "code",
   "execution_count": 21,
   "metadata": {
    "collapsed": false,
    "scrolled": true
   },
   "outputs": [
    {
     "data": {
      "text/plain": [
       "Type: GaussianProcesses.LinIso, Params: [1.0]\n"
      ]
     },
     "execution_count": 21,
     "metadata": {},
     "output_type": "execute_result"
    }
   ],
   "source": [
    "k = LinIso(1.0)"
   ]
  },
  {
   "cell_type": "code",
   "execution_count": 22,
   "metadata": {
    "collapsed": true
   },
   "outputs": [],
   "source": [
    "D = randn(2000,50);"
   ]
  },
  {
   "cell_type": "code",
   "execution_count": 23,
   "metadata": {
    "collapsed": false
   },
   "outputs": [
    {
     "name": "stdout",
     "output_type": "stream",
     "text": [
      "  0.208845 seconds (152 allocations: 63.332 MB, 89.87% gc time)\n"
     ]
    }
   ],
   "source": [
    "GaussianProcesses.grad_stack(k, D');\n",
    "@time gs=GaussianProcesses.grad_stack(k, D');"
   ]
  },
  {
   "cell_type": "code",
   "execution_count": 24,
   "metadata": {
    "collapsed": false
   },
   "outputs": [
    {
     "data": {
      "text/plain": [
       "2.718281828459045"
      ]
     },
     "execution_count": 24,
     "metadata": {},
     "output_type": "execute_result"
    }
   ],
   "source": [
    "ell = exp(k.ll)"
   ]
  },
  {
   "cell_type": "code",
   "execution_count": 25,
   "metadata": {
    "collapsed": false
   },
   "outputs": [],
   "source": [
    "X=D';"
   ]
  },
  {
   "cell_type": "code",
   "execution_count": 26,
   "metadata": {
    "collapsed": true
   },
   "outputs": [],
   "source": [
    "stack = Array(Float64, 2000, 2000, 1);"
   ]
  },
  {
   "cell_type": "code",
   "execution_count": 27,
   "metadata": {
    "collapsed": false
   },
   "outputs": [
    {
     "name": "stdout",
     "output_type": "stream",
     "text": [
      "  0.042819 seconds (224 allocations: 30.532 MB, 4.74% gc time)\n"
     ]
    }
   ],
   "source": [
    "@time stack[:,:,1] = X' * X;"
   ]
  },
  {
   "cell_type": "code",
   "execution_count": 28,
   "metadata": {
    "collapsed": false
   },
   "outputs": [
    {
     "name": "stdout",
     "output_type": "stream",
     "text": [
      "  0.064882 seconds (53.78 k allocations: 2.247 MB)\n"
     ]
    }
   ],
   "source": [
    "@time Base.LinAlg.BLAS.gemm!('T', 'N', -2.0/ell^2, X, X, 0.0, @view(stack[:,:,1]));"
   ]
  },
  {
   "cell_type": "code",
   "execution_count": 29,
   "metadata": {
    "collapsed": false
   },
   "outputs": [
    {
     "data": {
      "text/plain": [
       "-1.9378308033888367"
      ]
     },
     "execution_count": 29,
     "metadata": {},
     "output_type": "execute_result"
    }
   ],
   "source": [
    "gs[10,20,1]"
   ]
  },
  {
   "cell_type": "code",
   "execution_count": 30,
   "metadata": {
    "collapsed": false
   },
   "outputs": [
    {
     "data": {
      "text/plain": [
       "1-element Array{Float64,1}:\n",
       " -1.93783"
      ]
     },
     "execution_count": 30,
     "metadata": {},
     "output_type": "execute_result"
    }
   ],
   "source": [
    "GaussianProcesses.grad_kern(k, D[10,:], D[20,:])"
   ]
  },
  {
   "cell_type": "code",
   "execution_count": 31,
   "metadata": {
    "collapsed": false
   },
   "outputs": [
    {
     "name": "stdout",
     "output_type": "stream",
     "text": [
      "  0.042274 seconds (16 allocations: 32.807 MB, 73.26% gc time)\n"
     ]
    },
    {
     "data": {
      "text/plain": [
       "0.9689154016944184"
      ]
     },
     "execution_count": 31,
     "metadata": {},
     "output_type": "execute_result"
    }
   ],
   "source": [
    "GaussianProcesses.cov(k, D')[10,20]\n",
    "@time GaussianProcesses.cov(k, D')[10,20]"
   ]
  },
  {
   "cell_type": "code",
   "execution_count": 32,
   "metadata": {
    "collapsed": false
   },
   "outputs": [
    {
     "data": {
      "text/plain": [
       "0.9689154016944184"
      ]
     },
     "execution_count": 32,
     "metadata": {},
     "output_type": "execute_result"
    }
   ],
   "source": [
    "GaussianProcesses.cov(k, D[10,:], D[20,:])"
   ]
  },
  {
   "cell_type": "code",
   "execution_count": 33,
   "metadata": {
    "collapsed": false
   },
   "outputs": [
    {
     "ename": "LoadError",
     "evalue": "LoadError: AssertionError: issymmetric(GaussianProcesses.cov(k,D'))\nwhile loading In[33], in expression starting on line 1",
     "output_type": "error",
     "traceback": [
      "LoadError: AssertionError: issymmetric(GaussianProcesses.cov(k,D'))\nwhile loading In[33], in expression starting on line 1",
      ""
     ]
    }
   ],
   "source": [
    "@assert issymmetric(GaussianProcesses.cov(k, D'))"
   ]
  },
  {
   "cell_type": "code",
   "execution_count": 34,
   "metadata": {
    "collapsed": true
   },
   "outputs": [],
   "source": [
    "mat=GaussianProcesses.cov(k, D');"
   ]
  },
  {
   "cell_type": "code",
   "execution_count": 35,
   "metadata": {
    "collapsed": false
   },
   "outputs": [
    {
     "data": {
      "text/plain": [
       "false"
      ]
     },
     "execution_count": 35,
     "metadata": {},
     "output_type": "execute_result"
    }
   ],
   "source": [
    "issymmetric(mat)"
   ]
  },
  {
   "cell_type": "code",
   "execution_count": 36,
   "metadata": {
    "collapsed": false
   },
   "outputs": [
    {
     "data": {
      "text/html": [
       "2 methods for generic function <b>copytri!</b>:<ul><li> copytri!(A::<b>AbstractArray{T<:Any,2}</b>, uplo::<b>Char</b>) at <a href=\"https://github.com/JuliaLang/julia/tree/0350e5769b43f56c4c570741b0f5b2edf9399dc7/base/linalg/matmul.jl#L200\" target=\"_blank\">linalg/matmul.jl:200</a></li> <li> copytri!(A::<b>AbstractArray{T<:Any,2}</b>, uplo::<b>Char</b>, conjugate::<b>Bool</b>) at <a href=\"https://github.com/JuliaLang/julia/tree/0350e5769b43f56c4c570741b0f5b2edf9399dc7/base/linalg/matmul.jl#L200\" target=\"_blank\">linalg/matmul.jl:200</a></li> </ul>"
      ],
      "text/plain": [
       "# 2 methods for generic function \"copytri!\":\n",
       "copytri!(A::AbstractArray{T<:Any,2}, uplo::Char) at linalg/matmul.jl:200\n",
       "copytri!(A::AbstractArray{T<:Any,2}, uplo::Char, conjugate::Bool) at linalg/matmul.jl:200"
      ]
     },
     "execution_count": 36,
     "metadata": {},
     "output_type": "execute_result"
    }
   ],
   "source": [
    "methods(Base.LinAlg.copytri!)"
   ]
  },
  {
   "cell_type": "code",
   "execution_count": 37,
   "metadata": {
    "collapsed": false
   },
   "outputs": [],
   "source": [
    "Base.LinAlg.copytri!(mat, 'U');"
   ]
  },
  {
   "cell_type": "code",
   "execution_count": 38,
   "metadata": {
    "collapsed": false
   },
   "outputs": [
    {
     "data": {
      "text/plain": [
       "true"
      ]
     },
     "execution_count": 38,
     "metadata": {},
     "output_type": "execute_result"
    }
   ],
   "source": [
    "issymmetric(mat)"
   ]
  },
  {
   "cell_type": "code",
   "execution_count": 39,
   "metadata": {
    "collapsed": false
   },
   "outputs": [
    {
     "data": {
      "text/plain": [
       "Type: GaussianProcesses.LinArd, Params: [-1.83053,0.702697,0.146815,0.211462,0.342764,-1.77563,-1.28504,-2.10494,2.28994,0.556233,-1.8737,0.5513,0.241587,-0.570517,0.176188,-0.77589,-2.52825,0.43079,-1.33702,-0.179666,0.263395,-1.22524,0.333214,0.375885,-0.695029,-2.11762,0.308911,0.290946,-0.905062,0.621092,-0.426527,-1.41091,-1.23688,0.509521,0.399751,-0.0159841,-0.19424,0.97771,-1.26295,-0.847359,-1.20433,-0.198976,0.717195,-0.348773,-0.220668,-0.709438,0.694147,-1.32192,0.643331,1.49063]\n"
      ]
     },
     "execution_count": 39,
     "metadata": {},
     "output_type": "execute_result"
    }
   ],
   "source": [
    "k=LinArd(randn(50))"
   ]
  },
  {
   "cell_type": "code",
   "execution_count": 40,
   "metadata": {
    "collapsed": false,
    "scrolled": false
   },
   "outputs": [
    {
     "name": "stdout",
     "output_type": "stream",
     "text": [
      "  1.389580 seconds (1.11 k allocations: 2.984 GB, 31.65% gc time)\n"
     ]
    }
   ],
   "source": [
    "GaussianProcesses.grad_stack(k, D');\n",
    "@time gs=GaussianProcesses.grad_stack(k, D');"
   ]
  },
  {
   "cell_type": "code",
   "execution_count": 41,
   "metadata": {
    "collapsed": false
   },
   "outputs": [
    {
     "data": {
      "text/plain": [
       "0.6943398834848901"
      ]
     },
     "execution_count": 41,
     "metadata": {},
     "output_type": "execute_result"
    }
   ],
   "source": [
    "gs[290,890,5]"
   ]
  },
  {
   "cell_type": "code",
   "execution_count": 42,
   "metadata": {
    "collapsed": false
   },
   "outputs": [
    {
     "data": {
      "text/plain": [
       "0.6943398834848902"
      ]
     },
     "execution_count": 42,
     "metadata": {},
     "output_type": "execute_result"
    }
   ],
   "source": [
    "GaussianProcesses.grad_kern(k, D[290,:], D[890,:])[5]"
   ]
  },
  {
   "cell_type": "code",
   "execution_count": 43,
   "metadata": {
    "collapsed": false
   },
   "outputs": [
    {
     "name": "stdout",
     "output_type": "stream",
     "text": [
      "  0.010051 seconds (22 allocations: 32.808 MB, 13.75% gc time)\n"
     ]
    },
    {
     "data": {
      "text/plain": [
       "-142.1483503397153"
      ]
     },
     "execution_count": 43,
     "metadata": {},
     "output_type": "execute_result"
    }
   ],
   "source": [
    "Kb=GaussianProcesses.cov(k, D')\n",
    "@time GaussianProcesses.cov(k, D')[290,890]"
   ]
  },
  {
   "cell_type": "code",
   "execution_count": 44,
   "metadata": {
    "collapsed": false
   },
   "outputs": [
    {
     "data": {
      "text/plain": [
       "-142.14835033971528"
      ]
     },
     "execution_count": 44,
     "metadata": {},
     "output_type": "execute_result"
    }
   ],
   "source": [
    "GaussianProcesses.cov(k, D[290,:], D[890,:])"
   ]
  },
  {
   "cell_type": "code",
   "execution_count": 45,
   "metadata": {
    "collapsed": false
   },
   "outputs": [],
   "source": [
    "@assert issymmetric(GaussianProcesses.cov(k, D'))"
   ]
  },
  {
   "cell_type": "code",
   "execution_count": 46,
   "metadata": {
    "collapsed": false
   },
   "outputs": [
    {
     "data": {
      "text/markdown": [
       "```\n",
       "issymmetric(A) -> Bool\n",
       "```\n",
       "\n",
       "Test whether a matrix is symmetric.\n"
      ],
      "text/plain": [
       "```\n",
       "issymmetric(A) -> Bool\n",
       "```\n",
       "\n",
       "Test whether a matrix is symmetric.\n"
      ]
     },
     "execution_count": 46,
     "metadata": {},
     "output_type": "execute_result"
    }
   ],
   "source": [
    "?Base.LinAlg.issymmetric"
   ]
  },
  {
   "cell_type": "code",
   "execution_count": 47,
   "metadata": {
    "collapsed": false
   },
   "outputs": [
    {
     "data": {
      "text/plain": [
       "5.7155888072953255e10"
      ]
     },
     "execution_count": 47,
     "metadata": {},
     "output_type": "execute_result"
    }
   ],
   "source": [
    "peakflops()"
   ]
  },
  {
   "cell_type": "code",
   "execution_count": 48,
   "metadata": {
    "collapsed": false
   },
   "outputs": [],
   "source": [
    "import PkgDev"
   ]
  },
  {
   "cell_type": "code",
   "execution_count": 49,
   "metadata": {
    "collapsed": false
   },
   "outputs": [],
   "source": [
    "# PkgDev.submit(\"GaussianProcesses\")"
   ]
  },
  {
   "cell_type": "code",
   "execution_count": 50,
   "metadata": {
    "collapsed": false
   },
   "outputs": [
    {
     "data": {
      "text/plain": [
       "2×2 Array{Int64,2}:\n",
       " 1  3\n",
       " 2  4"
      ]
     },
     "execution_count": 50,
     "metadata": {},
     "output_type": "execute_result"
    }
   ],
   "source": [
    "mat = [[1,2] [3,4]]"
   ]
  },
  {
   "cell_type": "code",
   "execution_count": 51,
   "metadata": {
    "collapsed": false
   },
   "outputs": [
    {
     "data": {
      "text/plain": [
       "2×2 Array{Int64,2}:\n",
       " 1  3\n",
       " 3  4"
      ]
     },
     "execution_count": 51,
     "metadata": {},
     "output_type": "execute_result"
    }
   ],
   "source": [
    "Base.LinAlg.copytri!(mat, 'U')"
   ]
  },
  {
   "cell_type": "code",
   "execution_count": 52,
   "metadata": {
    "collapsed": false
   },
   "outputs": [
    {
     "data": {
      "text/plain": [
       "2×2×3 Array{Int64,3}:\n",
       "[:, :, 1] =\n",
       " 1  3\n",
       " 2  4\n",
       "\n",
       "[:, :, 2] =\n",
       " 5  7\n",
       " 6  8\n",
       "\n",
       "[:, :, 3] =\n",
       "  9  11\n",
       " 10  12"
      ]
     },
     "execution_count": 52,
     "metadata": {},
     "output_type": "execute_result"
    }
   ],
   "source": [
    "mat = reshape(collect(1:12), 2,2,3)"
   ]
  },
  {
   "cell_type": "code",
   "execution_count": 53,
   "metadata": {
    "collapsed": false
   },
   "outputs": [
    {
     "data": {
      "text/plain": [
       "2×2 SubArray{Int64,2,Array{Int64,3},Tuple{Colon,Colon,Int64},true}:\n",
       " 1  3\n",
       " 3  4"
      ]
     },
     "execution_count": 53,
     "metadata": {},
     "output_type": "execute_result"
    }
   ],
   "source": [
    "Base.LinAlg.copytri!(@view(mat[:,:,1]), 'U')"
   ]
  },
  {
   "cell_type": "code",
   "execution_count": 54,
   "metadata": {
    "collapsed": false
   },
   "outputs": [
    {
     "data": {
      "text/plain": [
       "2×2×3 Array{Int64,3}:\n",
       "[:, :, 1] =\n",
       " 1  3\n",
       " 3  4\n",
       "\n",
       "[:, :, 2] =\n",
       " 5  7\n",
       " 6  8\n",
       "\n",
       "[:, :, 3] =\n",
       "  9  11\n",
       " 10  12"
      ]
     },
     "execution_count": 54,
     "metadata": {},
     "output_type": "execute_result"
    }
   ],
   "source": [
    "mat"
   ]
  },
  {
   "cell_type": "code",
   "execution_count": 55,
   "metadata": {
    "collapsed": false
   },
   "outputs": [
    {
     "name": "stdout",
     "output_type": "stream",
     "text": [
      "  0.041146 seconds (1.77 k allocations: 30.605 MB, 15.82% gc time)\n"
     ]
    }
   ],
   "source": [
    "@time DDt = D * D';"
   ]
  },
  {
   "cell_type": "code",
   "execution_count": 56,
   "metadata": {
    "collapsed": false
   },
   "outputs": [
    {
     "name": "stdout",
     "output_type": "stream",
     "text": [
      "  0.018828 seconds (4 allocations: 160 bytes)\n"
     ]
    }
   ],
   "source": [
    "@time Base.LinAlg.copytri!(DDt,'U');"
   ]
  },
  {
   "cell_type": "code",
   "execution_count": 57,
   "metadata": {
    "collapsed": true
   },
   "outputs": [],
   "source": [
    "DDt2 = reshape(DDt, 2000, 2000, 1);"
   ]
  },
  {
   "cell_type": "code",
   "execution_count": 58,
   "metadata": {
    "collapsed": false
   },
   "outputs": [
    {
     "name": "stdout",
     "output_type": "stream",
     "text": [
      "  0.137118 seconds (111.83 k allocations: 3.337 MB)\n"
     ]
    }
   ],
   "source": [
    "@time Base.LinAlg.copytri!(@view(DDt2[:,:,1]),'U');"
   ]
  },
  {
   "cell_type": "code",
   "execution_count": 60,
   "metadata": {
    "collapsed": false
   },
   "outputs": [
    {
     "name": "stdout",
     "output_type": "stream",
     "text": [
      "  4.850667 seconds (22 allocations: 762.940 MB, 1.24% gc time)\n"
     ]
    }
   ],
   "source": [
    "A = randn(10000,10000);\n",
    "AtA = A'A;\n",
    "@time cholfact(AtA);"
   ]
  }
 ],
 "metadata": {
  "kernelspec": {
   "display_name": "Julia 0.5.0",
   "language": "julia",
   "name": "julia-0.5"
  },
  "language_info": {
   "file_extension": ".jl",
   "mimetype": "application/julia",
   "name": "julia",
   "version": "0.5.0"
  },
  "nav_menu": {},
  "toc": {
   "navigate_menu": true,
   "number_sections": true,
   "sideBar": true,
   "threshold": 6,
   "toc_cell": true,
   "toc_section_display": "block",
   "toc_window_display": false
  }
 },
 "nbformat": 4,
 "nbformat_minor": 0
}

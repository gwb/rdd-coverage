{
 "cells": [
  {
   "cell_type": "markdown",
   "metadata": {
    "toc": "true"
   },
   "source": [
    "# Table of Contents\n",
    " <p>"
   ]
  },
  {
   "cell_type": "code",
   "execution_count": 1,
   "metadata": {
    "collapsed": false,
    "scrolled": true
   },
   "outputs": [
    {
     "name": "stdout",
     "output_type": "stream",
     "text": [
      "Julia Version 0.5.0\n",
      "Commit 3c9d753 (2016-09-19 18:14 UTC)\n",
      "Platform Info:\n",
      "  System: Darwin (x86_64-apple-darwin14.5.0)\n",
      "  CPU: Intel(R) Core(TM) i7-4870HQ CPU @ 2.50GHz\n",
      "  WORD_SIZE: 64\n",
      "  BLAS: libopenblas (USE64BITINT DYNAMIC_ARCH NO_AFFINITY Haswell)\n",
      "  LAPACK: libopenblas64_\n",
      "  LIBM: libopenlibm\n",
      "  LLVM: libLLVM-3.7.1 (ORCJIT, haswell)\n"
     ]
    }
   ],
   "source": [
    "versioninfo()"
   ]
  },
  {
   "cell_type": "code",
   "execution_count": 5,
   "metadata": {
    "collapsed": false
   },
   "outputs": [
    {
     "ename": "LoadError",
     "evalue": "LoadError: unknown package SQLQuery\n in macro expansion at ./pkg/entry.jl:53 [inlined]\n in (::Base.Pkg.Entry.##2#5{String,Base.Pkg.Types.VersionSet})() at ./task.jl:360\nwhile loading In[5], in expression starting on line 1",
     "output_type": "error",
     "traceback": [
      "LoadError: unknown package SQLQuery\n in macro expansion at ./pkg/entry.jl:53 [inlined]\n in (::Base.Pkg.Entry.##2#5{String,Base.Pkg.Types.VersionSet})() at ./task.jl:360\nwhile loading In[5], in expression starting on line 1",
      "",
      " in sync_end() at ./task.jl:311",
      " in macro expansion at ./task.jl:327 [inlined]",
      " in add(::String, ::Base.Pkg.Types.VersionSet) at ./pkg/entry.jl:51",
      " in (::Base.Pkg.Dir.##2#3{Array{Any,1},Base.Pkg.Entry.#add,Tuple{String}})() at ./pkg/dir.jl:31",
      " in cd(::Base.Pkg.Dir.##2#3{Array{Any,1},Base.Pkg.Entry.#add,Tuple{String}}, ::String) at ./file.jl:59",
      " in #cd#1(::Array{Any,1}, ::Function, ::Function, ::String, ::Vararg{Any,N}) at ./pkg/dir.jl:31",
      " in add(::String) at ./pkg/pkg.jl:100"
     ]
    }
   ],
   "source": [
    "Pkg.add(\"SQLQuery\")"
   ]
  },
  {
   "cell_type": "code",
   "execution_count": 2,
   "metadata": {
    "collapsed": false
   },
   "outputs": [
    {
     "name": "stderr",
     "output_type": "stream",
     "text": [
      "INFO: Precompiling module GeoDataFrames.\n",
      "\n",
      "WARNING: deprecated syntax \"[a=>b for (a,b) in c]\".\n",
      "Use \"Dict(a=>b for (a,b) in c)\" instead.\n",
      "WARNING: Method definition getcategorynames(Ptr{GDAL.GDALRasterBandH}) in module ArchGDAL at /Users/imolk/.julia/v0.5/ArchGDAL/src/raster/rasterband.jl:140 overwritten at /Users/imolk/.julia/v0.5/ArchGDAL/src/raster/rasterband.jl:318.\n",
      "WARNING: replacing docs for 'ArchGDAL.getcategorynames :: Tuple{Ptr{GDAL.GDALRasterBandH}}' in module 'ArchGDAL'.\n",
      "WARNING: Base.ASCIIString is deprecated, use String instead.\n",
      "  likely near /Users/imolk/.julia/v0.5/ArchGDAL/src/raster/rasterband.jl:480\n",
      "WARNING: Base.ASCIIString is deprecated, use String instead.\n",
      "  likely near /Users/imolk/.julia/v0.5/ArchGDAL/src/raster/rasterband.jl:481\n",
      "WARNING: Method definition unsafe_fromWKT(AbstractString) in module ArchGDAL at /Users/imolk/.julia/v0.5/ArchGDAL/src/spatialref.jl:73 overwritten at /Users/imolk/.julia/v0.5/ArchGDAL/src/ogr/geometry.jl:44.\n",
      "WARNING: symbol is deprecated, use Symbol instead.\n",
      " in depwarn(::String, ::Symbol) at ./deprecated.jl:64\n",
      " in symbol(::String, ::Vararg{String,N}) at ./deprecated.jl:30\n",
      " in macro expansion; at /Users/imolk/.julia/v0.5/ArchGDAL/src/ogr/geometry.jl:866 [inlined]\n",
      " in anonymous at ./<missing>:?\n",
      " in include_from_node1(::String) at ./loading.jl:488\n",
      " in include_from_node1(::String) at /Users/imolk/.julia/julia/usr/lib/julia/sys.dylib:?\n",
      " in include_from_node1(::String) at ./loading.jl:488\n",
      " in include_from_node1(::String) at /Users/imolk/.julia/julia/usr/lib/julia/sys.dylib:?\n",
      " in macro expansion; at ./none:2 [inlined]\n",
      " in anonymous at ./<missing>:?\n",
      " in eval(::Module, ::Any) at ./boot.jl:234\n",
      " in eval(::Module, ::Any) at /Users/imolk/.julia/julia/usr/lib/julia/sys.dylib:?\n",
      " in process_options(::Base.JLOptions) at ./client.jl:239\n",
      " in _start() at ./client.jl:318\n",
      " in _start() at /Users/imolk/.julia/julia/usr/lib/julia/sys.dylib:?\n",
      "while loading /Users/imolk/.julia/v0.5/ArchGDAL/src/ogr/geometry.jl, in expression starting on line 858\n",
      "WARNING: symbol is deprecated, use Symbol instead.\n",
      " in depwarn(::String, ::Symbol) at ./deprecated.jl:64\n",
      " in symbol(::String, ::Vararg{String,N}) at ./deprecated.jl:30\n",
      " in macro expansion; at /Users/imolk/.julia/v0.5/ArchGDAL/src/ogr/geometry.jl:896 [inlined]\n",
      " in anonymous at ./<missing>:?\n",
      " in include_from_node1(::String) at ./loading.jl:488\n",
      " in include_from_node1(::String) at /Users/imolk/.julia/julia/usr/lib/julia/sys.dylib:?\n",
      " in include_from_node1(::String) at ./loading.jl:488\n",
      " in include_from_node1(::String) at /Users/imolk/.julia/julia/usr/lib/julia/sys.dylib:?\n",
      " in macro expansion; at ./none:2 [inlined]\n",
      " in anonymous at ./<missing>:?\n",
      " in eval(::Module, ::Any) at ./boot.jl:234\n",
      " in eval(::Module, ::Any) at /Users/imolk/.julia/julia/usr/lib/julia/sys.dylib:?\n",
      " in process_options(::Base.JLOptions) at ./client.jl:239\n",
      " in _start() at ./client.jl:318\n",
      " in _start() at /Users/imolk/.julia/julia/usr/lib/julia/sys.dylib:?\n",
      "while loading /Users/imolk/.julia/v0.5/ArchGDAL/src/ogr/geometry.jl, in expression starting on line 894\n",
      "WARNING: symbol is deprecated, use Symbol instead.\n",
      " in depwarn(::String, ::Symbol) at ./deprecated.jl:64\n",
      " in symbol(::String, ::Vararg{String,N}) at ./deprecated.jl:30\n",
      " in macro expansion; at /Users/imolk/.julia/v0.5/ArchGDAL/src/ogr/geometry.jl:896 [inlined]\n",
      " in anonymous at ./<missing>:?\n",
      " in include_from_node1(::String) at ./loading.jl:488\n",
      " in include_from_node1(::String) at /Users/imolk/.julia/julia/usr/lib/julia/sys.dylib:?\n",
      " in include_from_node1(::String) at ./loading.jl:488\n",
      " in include_from_node1(::String) at /Users/imolk/.julia/julia/usr/lib/julia/sys.dylib:?\n",
      " in macro expansion; at ./none:2 [inlined]\n",
      " in anonymous at ./<missing>:?\n",
      " in eval(::Module, ::Any) at ./boot.jl:234\n",
      " in eval(::Module, ::Any) at /Users/imolk/.julia/julia/usr/lib/julia/sys.dylib:?\n",
      " in process_options(::Base.JLOptions) at ./client.jl:239\n",
      " in _start() at ./client.jl:318\n",
      " in _start() at /Users/imolk/.julia/julia/usr/lib/julia/sys.dylib:?\n",
      "while loading /Users/imolk/.julia/v0.5/ArchGDAL/src/ogr/geometry.jl, in expression starting on line 894\n",
      "WARNING: symbol is deprecated, use Symbol instead.\n",
      " in depwarn(::String, ::Symbol) at ./deprecated.jl:64\n",
      " in symbol(::String, ::Vararg{String,N}) at ./deprecated.jl:30\n",
      " in macro expansion; at /Users/imolk/.julia/v0.5/ArchGDAL/src/ogr/geometry.jl:952 [inlined]\n",
      " in anonymous at ./<missing>:?\n",
      " in include_from_node1(::String) at ./loading.jl:488\n",
      " in include_from_node1(::String) at /Users/imolk/.julia/julia/usr/lib/julia/sys.dylib:?\n",
      " in include_from_node1(::String) at ./loading.jl:488\n",
      " in include_from_node1(::String) at /Users/imolk/.julia/julia/usr/lib/julia/sys.dylib:?\n",
      " in macro expansion; at ./none:2 [inlined]\n",
      " in anonymous at ./<missing>:?\n",
      " in eval(::Module, ::Any) at ./boot.jl:234\n",
      " in eval(::Module, ::Any) at /Users/imolk/.julia/julia/usr/lib/julia/sys.dylib:?\n",
      " in process_options(::Base.JLOptions) at ./client.jl:239\n",
      " in _start() at ./client.jl:318\n",
      " in _start() at /Users/imolk/.julia/julia/usr/lib/julia/sys.dylib:?\n",
      "while loading /Users/imolk/.julia/v0.5/ArchGDAL/src/ogr/geometry.jl, in expression starting on line 948\n",
      "WARNING: symbol is deprecated, use Symbol instead.\n",
      " in depwarn(::String, ::Symbol) at ./deprecated.jl:64\n",
      " in symbol(::String, ::Vararg{String,N}) at ./deprecated.jl:30\n",
      " in macro expansion; at /Users/imolk/.julia/v0.5/ArchGDAL/src/ogr/geometry.jl:986 [inlined]\n",
      " in anonymous at ./<missing>:?\n",
      " in include_from_node1(::String) at ./loading.jl:488\n",
      " in include_from_node1(::String) at /Users/imolk/.julia/julia/usr/lib/julia/sys.dylib:?\n",
      " in include_from_node1(::String) at ./loading.jl:488\n",
      " in include_from_node1(::String) at /Users/imolk/.julia/julia/usr/lib/julia/sys.dylib:?\n",
      " in macro expansion; at ./none:2 [inlined]\n",
      " in anonymous at ./<missing>:?\n",
      " in eval(::Module, ::Any) at ./boot.jl:234\n",
      " in eval(::Module, ::Any) at /Users/imolk/.julia/julia/usr/lib/julia/sys.dylib:?\n",
      " in process_options(::Base.JLOptions) at ./client.jl:239\n",
      " in _start() at ./client.jl:318\n",
      " in _start() at /Users/imolk/.julia/julia/usr/lib/julia/sys.dylib:?\n",
      "while loading /Users/imolk/.julia/v0.5/ArchGDAL/src/ogr/geometry.jl, in expression starting on line 978\n",
      "\n",
      "WARNING: deprecated syntax \"[a=>b for (a,b) in c]\".\n",
      "Use \"Dict(a=>b for (a,b) in c)\" instead.\n",
      "\n",
      "WARNING: deprecated syntax \"[a=>b for (a,b) in c]\".\n",
      "Use \"Dict(a=>b for (a,b) in c)\" instead.\n",
      "\n",
      "WARNING: deprecated syntax \"[a=>b for (a,b) in c]\".\n",
      "Use \"Dict(a=>b for (a,b) in c)\" instead.\n",
      "WARNING: symbol is deprecated, use Symbol instead.\n",
      " in depwarn(::String, ::Symbol) at ./deprecated.jl:64\n",
      " in symbol(::String, ::Vararg{String,N}) at ./deprecated.jl:30\n",
      " in macro expansion; at /Users/imolk/.julia/v0.5/ArchGDAL/src/context.jl:69 [inlined]\n",
      " in anonymous at ./<missing>:?\n",
      " in include_from_node1(::String) at ./loading.jl:488\n",
      " in include_from_node1(::String) at /Users/imolk/.julia/julia/usr/lib/julia/sys.dylib:?\n",
      " in include_from_node1(::String) at ./loading.jl:488\n",
      " in include_from_node1(::String) at /Users/imolk/.julia/julia/usr/lib/julia/sys.dylib:?\n",
      " in macro expansion; at ./none:2 [inlined]\n",
      " in anonymous at ./<missing>:?\n",
      " in eval(::Module, ::Any) at ./boot.jl:234\n",
      " in eval(::Module, ::Any) at /Users/imolk/.julia/julia/usr/lib/julia/sys.dylib:?\n",
      " in process_options(::Base.JLOptions) at ./client.jl:239\n",
      " in _start() at ./client.jl:318\n",
      " in _start() at /Users/imolk/.julia/julia/usr/lib/julia/sys.dylib:?\n",
      "while loading /Users/imolk/.julia/v0.5/ArchGDAL/src/context.jl, in expression starting on line 54\n",
      "WARNING: Method definition cgrad(Any, Any) in module PlotUtils at /Users/imolk/.julia/v0.5/PlotUtils/src/color_gradients.jl:82 overwritten at /Users/imolk/.julia/v0.5/PlotUtils/src/color_gradients.jl:99.\n",
      "WARNING: Method definition #cgrad(Array{Any, 1}, PlotUtils.#cgrad, Any, Any) in module PlotUtils overwritten.\n",
      "ERROR: LoadError: ArgumentError: Module SQLQuery not found in current path.\n",
      "Run `Pkg.add(\"SQLQuery\")` to install the SQLQuery package.\n",
      " in require(::Symbol) at ./loading.jl:365\n",
      " in require(::Symbol) at /Users/imolk/.julia/julia/usr/lib/julia/sys.dylib:?\n",
      " in include_from_node1(::String) at ./loading.jl:488\n",
      " in include_from_node1(::String) at /Users/imolk/.julia/julia/usr/lib/julia/sys.dylib:?\n",
      " in macro expansion; at ./none:2 [inlined]\n",
      " in anonymous at ./<missing>:?\n",
      " in eval(::Module, ::Any) at ./boot.jl:234\n",
      " in eval(::Module, ::Any) at /Users/imolk/.julia/julia/usr/lib/julia/sys.dylib:?\n",
      " in process_options(::Base.JLOptions) at ./client.jl:239\n",
      " in _start() at ./client.jl:318\n",
      " in _start() at /Users/imolk/.julia/julia/usr/lib/julia/sys.dylib:?\n",
      "while loading /Users/imolk/.julia/v0.5/GeoDataFrames/src/GeoDataFrames.jl, in expression starting on line 6\n"
     ]
    },
    {
     "ename": "LoadError",
     "evalue": "LoadError: Failed to precompile GeoDataFrames to /Users/imolk/.julia/lib/v0.5/GeoDataFrames.ji.\nwhile loading In[2], in expression starting on line 1",
     "output_type": "error",
     "traceback": [
      "LoadError: Failed to precompile GeoDataFrames to /Users/imolk/.julia/lib/v0.5/GeoDataFrames.ji.\nwhile loading In[2], in expression starting on line 1",
      "",
      " in compilecache(::String) at ./loading.jl:593",
      " in require(::Symbol) at ./loading.jl:422",
      " in require(::Symbol) at /Users/imolk/.julia/julia/usr/lib/julia/sys.dylib:?"
     ]
    }
   ],
   "source": [
    "using GeoDataFrames; const GD = GeoDataFrames"
   ]
  },
  {
   "cell_type": "code",
   "execution_count": 3,
   "metadata": {
    "collapsed": true
   },
   "outputs": [],
   "source": [
    "using DataFrames"
   ]
  },
  {
   "cell_type": "code",
   "execution_count": 4,
   "metadata": {
    "collapsed": false
   },
   "outputs": [
    {
     "ename": "LoadError",
     "evalue": "LoadError: UndefVarError: GD not defined\nwhile loading In[4], in expression starting on line 1",
     "output_type": "error",
     "traceback": [
      "LoadError: UndefVarError: GD not defined\nwhile loading In[4], in expression starting on line 1",
      ""
     ]
    }
   ],
   "source": [
    "nycdistrs=GD.read(\"NYC/nysd_16c/nysd.shp\")\n",
    "head(nycdistrs)"
   ]
  }
 ],
 "metadata": {
  "kernelspec": {
   "display_name": "Julia 0.5.0",
   "language": "julia",
   "name": "julia-0.5"
  },
  "language_info": {
   "file_extension": ".jl",
   "mimetype": "application/julia",
   "name": "julia",
   "version": "0.5.0"
  },
  "nav_menu": {},
  "toc": {
   "navigate_menu": true,
   "number_sections": true,
   "sideBar": true,
   "threshold": 6,
   "toc_cell": true,
   "toc_section_display": "block",
   "toc_window_display": false
  }
 },
 "nbformat": 4,
 "nbformat_minor": 1
}

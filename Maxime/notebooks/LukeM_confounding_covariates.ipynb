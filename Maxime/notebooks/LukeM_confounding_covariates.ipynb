{
 "cells": [
  {
   "cell_type": "markdown",
   "metadata": {},
   "source": [
    "$$\n",
    "    \\newcommand{\\genericdel}[3]{%\n",
    "      \\left#1#3\\right#2\n",
    "    }\n",
    "    \\newcommand{\\del}[1]{\\genericdel(){#1}}\n",
    "    \\newcommand{\\sbr}[1]{\\genericdel[]{#1}}\n",
    "    \\newcommand{\\cbr}[1]{\\genericdel\\{\\}{#1}}\n",
    "    \\newcommand{\\abs}[1]{\\genericdel||{#1}}\n",
    "    \\DeclareMathOperator*{\\argmin}{arg\\,min}\n",
    "    \\DeclareMathOperator*{\\argmax}{arg\\,max}\n",
    "    \\DeclareMathOperator{\\Pr}{\\mathbb{p}}\n",
    "    \\DeclareMathOperator{\\E}{\\mathbb{E}}\n",
    "    \\DeclareMathOperator{\\Ind}{\\mathbb{I}}\n",
    "    \\DeclareMathOperator{\\V}{\\mathbb{V}}\n",
    "    \\DeclareMathOperator{\\cov}{Cov}\n",
    "    \\DeclareMathOperator{\\var}{Var}\n",
    "    \\DeclareMathOperator{\\ones}{\\mathbf{1}}\n",
    "    \\DeclareMathOperator{\\invchi}{\\mathrm{Inv-\\chi}^2}\n",
    "    \\DeclareMathOperator*{\\argmin}{arg\\,min}\n",
    "    \\DeclareMathOperator*{\\argmax}{arg\\,max}\n",
    "    \\newcommand{\\effect}{\\mathrm{eff}}\n",
    "    \\newcommand{\\xtilde}{\\widetilde{X}}\n",
    "    \\DeclareMathOperator{\\normal}{\\mathcal{N}}\n",
    "    \\DeclareMathOperator{\\unif}{Uniform}\n",
    "    \\newcommand{\\boxleft}{\\unicode{x25E7}}\n",
    "    \\newcommand{\\boxright}{\\unicode{x25E8}}\n",
    "    \\newcommand{\\discont}{\\unicode{x25EB}}\n",
    "    \\newcommand{\\jleft}{\\unicode{x21E5}}\n",
    "    \\newcommand{\\jright}{\\unicode{x21E4}}\n",
    "    \\DeclareMathOperator*{\\gp}{\\mathcal{GP}}\n",
    "    \\newcommand{\\trans}{^{\\intercal}}\n",
    "    \\newcommand{\\area}{\\mathcal{A}}\n",
    "    \\newcommand{\\treat}{\\mathrm{T}}\n",
    "    \\newcommand{\\ctrol}{\\mathrm{C}}\n",
    "    \\newcommand{\\treatind}{Z}\n",
    "    \\newcommand{\\treatarea}{\\area{}^{\\treat}}\n",
    "    \\newcommand{\\ctrolarea}{\\area{}^{\\ctrol}}\n",
    "    \\newcommand{\\sigmaf}{\\sigma_{\\mathrm{GP}}}\n",
    "    \\newcommand{\\sigman}{\\sigma_{\\epsilon}}\n",
    "    \\newcommand{\\sigmatau}{\\sigma_{\\tau}}\n",
    "    \\newcommand{\\sigmabeta}{\\sigma_{\\beta}}\n",
    "    \\newcommand{\\sigmamu}{\\sigma_{m}}\n",
    "    \\newcommand{\\svec}{\\mathbf{s}}\n",
    "    \\newcommand{\\vvec}{\\mathbf{v}}\n",
    "    \\newcommand{\\yvec}{\\mathbf{y}}\n",
    "    \\newcommand{\\muvec}{\\mathbf{\\mu}}\n",
    "    \\newcommand{\\indep}{\\perp}\n",
    "    \\newcommand{\\iid}{iid}\n",
    "    \\newcommand{\\vectreat}{Z}\n",
    "    \\newcommand{\\yt}{Y^\\treat}\n",
    "    \\newcommand{\\yc}{Y^\\ctrol}\n",
    "    \\newcommand{\\border}{\\mathcal{B}}\n",
    "    \\newcommand{\\sentinel}{\\mathbf{b}}\n",
    "    \\newcommand{\\numsent}{R}\n",
    "    \\newcommand{\\sentinels}{\\sentinel_{1:\\numsent}}\n",
    "    \\newcommand{\\isent}{r}\n",
    "    \\newcommand{\\sentinelset}{\\cbr{\\sentinel_1,\\ldots,\\sentinel_\\numsent}}\n",
    "    \\newcommand{\\eye}{\\mathbf{I}}\n",
    "    \\newcommand{\\K}{\\mathbf{K}}\n",
    "    \\DeclareMathOperator{\\trace}{trace}\n",
    "    \\newcommand{\\tauw}{\\tau^{w}}\n",
    "    \\newcommand{\\unifavg}{\\tau^{\\mathrm{UNIF}}}\n",
    "    \\newcommand{\\invvar}{\\tau^{\\mathrm{INV}}}\n",
    "    \\newcommand{\\taurho}{\\tau^{\\rho}}\n",
    "    \\newcommand{\\tauproj}{\\tau^{\\mathrm{PROJ}}}\n",
    "    \\newcommand{\\taugeo}{\\tau^{\\mathrm{GEO}}}\n",
    "    \\newcommand{\\taupop}{\\tau^{\\mathrm{POP}}}\n",
    "    \\newcommand{\\modnull}{\\mathscr{M}_0}\n",
    "    \\newcommand{\\modalt}{\\mathscr{M}_1}\n",
    "    \\newcommand{\\degree}{\\hspace{0pt}^\\circ}\n",
    "    % NYC %\n",
    "    \\newcommand{\\saleprice}{\\mathtt{SalePrice}}\n",
    "    \\newcommand{\\sqft}{\\mathtt{SQFT}}\n",
    "    \\newcommand{\\xvec}{\\mathbf{x}}\n",
    "    \\newcommand{\\dvec}{\\mathbf{d}}\n",
    "    \\newcommand{\\tax}{\\mathtt{Tax}}\n",
    "    \\newcommand{\\building}{\\mathtt{Building}}\n",
    "    \\newcommand{\\district}{\\mathtt{Distr}}\n",
    "    \\newcommand{\\eqlabel}[1]{\\label{#1}}\n",
    "    %\\renewcommand{\\eqref}[1]{(\\verbß#1ß)}\n",
    "    \\DeclareMathOperator{\\proj}{proj}\n",
    "    \\DeclareMathOperator{\\dif}{d}\n",
    "    \\newcommand{\\taubold}{\\mathbf{\\tau}}\n",
    "    \\DeclareMathOperator{\\Forall}{\\forall}\n",
    "    \\newcommand{\\weightb}{w_{\\border}}\n",
    "    \\newcommand{\\wt}{w_{\\treat}}   \n",
    "    \\newcommand{\\wc}{w_{\\ctrol}}\n",
    "$$"
   ]
  },
  {
   "cell_type": "markdown",
   "metadata": {},
   "source": [
    "**Luke M:**\n",
    "\n",
    "```\n",
    "Hi!  The attached script illustrates one thing I was trying to say about covariate adjustment.  If we have treatment variation by covariate, we can get bias.  \n",
    "\n",
    "Another reason I am nervous is due to the following: say the school district line is set, with a good school on one side and a bad school on the other.  Then, due to being in a better district, people start building more condos which are more expensive.  If we then adjust for condos we are adjusting out one of the consequences of treatment.\n",
    "\n",
    "In our GeoRDD framework we would in principle see this by a step change in the density of condos at the border.\n",
    "\n",
    "(This is not fully thought out, but i hope it points the way to why I think there is something to consider here.)\n",
    "```"
   ]
  },
  {
   "cell_type": "markdown",
   "metadata": {},
   "source": [
    "Here's Luke's setup:"
   ]
  },
  {
   "cell_type": "markdown",
   "metadata": {},
   "source": [
    "\\begin{equation}\n",
    "\\begin{split}\n",
    "    Y_{0i} &= a_0 + a_1 \\Ind\\cbr{W_i=\\mathrm{“B”}} + \\epsilon_i & \\text{covariate shifts outcomes}\\\\\n",
    "    \\tau_i &= a_2 + a_3 \\Ind\\cbr{W_i=\\mathrm{“B”}} & \\text{covariate shifts }\\tau\\\\\n",
    "    Y_{1i} &= Y_{0i} + \\tau_i \\\\\n",
    "    \\epsilon_i &\\sim \\normal\\del{0, 0.1^2} \\\\\n",
    "    Z_i &= i \\mod 2 \\,&\\text{treatment indicator}\\\\\n",
    "    U_i &\\sim \\unif\\del{0,1} & \\text{latent covariate (unobserved)}\\\\\n",
    "    W_i &= \\begin{cases}\n",
    "        \\mathrm{“A”} & \\mathrm{if}~U_i \\le 0.2 + 0.7 Z_i \\\\\n",
    "        \\mathrm{“B”} & \\mathrm{otherwise.}\n",
    "    \\end{cases}\\,\n",
    "    & \\text{treatment affects covariates}\n",
    "\\end{split}\n",
    "\\end{equation}"
   ]
  },
  {
   "cell_type": "markdown",
   "metadata": {},
   "source": [
    "With values\n",
    "\\begin{equation}\n",
    "\\begin{split}\n",
    "    a_0 &= 3 \\\\\n",
    "    a_1 &= -1 \\\\\n",
    "    a_2 &= 0 \\\\\n",
    "    a_3 &= 1\n",
    "\\end{split}\n",
    "\\end{equation}"
   ]
  },
  {
   "cell_type": "code",
   "execution_count": 1,
   "metadata": {},
   "outputs": [
    {
     "name": "stderr",
     "output_type": "stream",
     "text": [
      "── Attaching packages ─────────────────────────────────────── tidyverse 1.2.1 ──\n",
      "✔ ggplot2 2.2.1     ✔ purrr   0.2.4\n",
      "✔ tibble  1.4.1     ✔ dplyr   0.7.4\n",
      "✔ tidyr   0.7.2     ✔ stringr 1.2.0\n",
      "✔ readr   1.1.1     ✔ forcats 0.2.0\n",
      "── Conflicts ────────────────────────────────────────── tidyverse_conflicts() ──\n",
      "✖ dplyr::filter() masks stats::filter()\n",
      "✖ dplyr::lag()    masks stats::lag()\n"
     ]
    }
   ],
   "source": [
    "library( tidyverse )"
   ]
  },
  {
   "cell_type": "markdown",
   "metadata": {},
   "source": [
    "## with model misspecification"
   ]
  },
  {
   "cell_type": "code",
   "execution_count": 2,
   "metadata": {},
   "outputs": [
    {
     "data": {
      "text/html": [
       "<table>\n",
       "<thead><tr><th scope=col>Z</th><th scope=col>W</th><th scope=col>Y.bar</th></tr></thead>\n",
       "<tbody>\n",
       "\t<tr><td>0       </td><td>A       </td><td>2.999260</td></tr>\n",
       "\t<tr><td>0       </td><td>B       </td><td>2.000445</td></tr>\n",
       "\t<tr><td>1       </td><td>A       </td><td>2.999320</td></tr>\n",
       "\t<tr><td>1       </td><td>B       </td><td>2.999196</td></tr>\n",
       "</tbody>\n",
       "</table>\n"
      ],
      "text/latex": [
       "\\begin{tabular}{r|lll}\n",
       " Z & W & Y.bar\\\\\n",
       "\\hline\n",
       "\t 0        & A        & 2.999260\\\\\n",
       "\t 0        & B        & 2.000445\\\\\n",
       "\t 1        & A        & 2.999320\\\\\n",
       "\t 1        & B        & 2.999196\\\\\n",
       "\\end{tabular}\n"
      ],
      "text/markdown": [
       "\n",
       "Z | W | Y.bar | \n",
       "|---|---|---|---|\n",
       "| 0        | A        | 2.999260 | \n",
       "| 0        | B        | 2.000445 | \n",
       "| 1        | A        | 2.999320 | \n",
       "| 1        | B        | 2.999196 | \n",
       "\n",
       "\n"
      ],
      "text/plain": [
       "  Z W Y.bar   \n",
       "1 0 A 2.999260\n",
       "2 0 B 2.000445\n",
       "3 1 A 2.999320\n",
       "4 1 B 2.999196"
      ]
     },
     "metadata": {},
     "output_type": "display_data"
    }
   ],
   "source": [
    "# Demo:\n",
    "# Confounded covariate can bias treatment impact estimate.\n",
    "\n",
    "# Let W be covariate (e.g., type of house)\n",
    "# Let Z be treatment (confounded with region)\n",
    "\n",
    "a0 = 3\n",
    "a1 = -1\n",
    "a2 = 0\n",
    "a3 = 1\n",
    "\n",
    "N = 10000\n",
    "dat = data.frame( Z = rep( c(0,1), N ) )\n",
    "dat <- mutate( dat,\n",
    "               W = ifelse( runif( n() ) <= 0.2 + 0.7 * Z, \"A\", \"B\" ),\n",
    "               Y0 = a0 + a1 * (W == \"B\") + rnorm( n(), sd=0.1 ),\n",
    "               tau =   a2 + a3 * (W == \"B\"),\n",
    "               Y1 = Y0 + tau,\n",
    "               Yobs = ifelse( Z, Y1, Y0 ) )\n",
    "\n",
    "dat %>% group_by( Z, W ) %>% summarize( Y.bar = mean(Yobs) )"
   ]
  },
  {
   "cell_type": "markdown",
   "metadata": {},
   "source": [
    "In group A there's no treatment effect (because $a_2=0$), while there's a large treatment effect in group B."
   ]
  },
  {
   "cell_type": "code",
   "execution_count": 3,
   "metadata": {},
   "outputs": [
    {
     "data": {
      "text/html": [
       "<table>\n",
       "<thead><tr><th scope=col>Z</th><th scope=col>Y.bar</th><th scope=col>prop.B</th></tr></thead>\n",
       "<tbody>\n",
       "\t<tr><td>0       </td><td>2.200608</td><td>0.7996  </td></tr>\n",
       "\t<tr><td>1       </td><td>2.999308</td><td>0.0975  </td></tr>\n",
       "</tbody>\n",
       "</table>\n"
      ],
      "text/latex": [
       "\\begin{tabular}{r|lll}\n",
       " Z & Y.bar & prop.B\\\\\n",
       "\\hline\n",
       "\t 0        & 2.200608 & 0.7996  \\\\\n",
       "\t 1        & 2.999308 & 0.0975  \\\\\n",
       "\\end{tabular}\n"
      ],
      "text/markdown": [
       "\n",
       "Z | Y.bar | prop.B | \n",
       "|---|---|\n",
       "| 0        | 2.200608 | 0.7996   | \n",
       "| 1        | 2.999308 | 0.0975   | \n",
       "\n",
       "\n"
      ],
      "text/plain": [
       "  Z Y.bar    prop.B\n",
       "1 0 2.200608 0.7996\n",
       "2 1 2.999308 0.0975"
      ]
     },
     "metadata": {},
     "output_type": "display_data"
    }
   ],
   "source": [
    "dat %>% group_by( Z ) %>% summarize( Y.bar = mean(Yobs), prop.B = mean( W == \"B\" ) )"
   ]
  },
  {
   "cell_type": "markdown",
   "metadata": {},
   "source": [
    "The treated group also has a higher proportion of units in group B, and hence higher average observed outcomes."
   ]
  },
  {
   "cell_type": "code",
   "execution_count": 4,
   "metadata": {},
   "outputs": [
    {
     "data": {
      "text/plain": [
       "\n",
       "Call:\n",
       "lm(formula = Yobs ~ W + Z, data = dat)\n",
       "\n",
       "Residuals:\n",
       "     Min       1Q   Median       3Q      Max \n",
       "-0.44368 -0.12044 -0.04556  0.05039  0.89322 \n",
       "\n",
       "Coefficients:\n",
       "             Estimate Std. Error t value Pr(>|t|)    \n",
       "(Intercept)  2.716189   0.003703  733.41   <2e-16 ***\n",
       "WB          -0.644799   0.003931 -164.03   <2e-16 ***\n",
       "Z            0.345987   0.003910   88.48   <2e-16 ***\n",
       "---\n",
       "Signif. codes:  0 ‘***’ 0.001 ‘**’ 0.01 ‘*’ 0.05 ‘.’ 0.1 ‘ ’ 1\n",
       "\n",
       "Residual standard error: 0.1959 on 19997 degrees of freedom\n",
       "Multiple R-squared:  0.8462,\tAdjusted R-squared:  0.8462 \n",
       "F-statistic: 5.503e+04 on 2 and 19997 DF,  p-value: < 2.2e-16\n"
      ]
     },
     "metadata": {},
     "output_type": "display_data"
    }
   ],
   "source": [
    "M0 = lm( Yobs ~ W + Z, data = dat )\n",
    "summary(M0)"
   ]
  },
  {
   "cell_type": "markdown",
   "metadata": {},
   "source": [
    "This translates into bias, if the model doesn't have an interaction term between $W$ and $Z$.\n",
    "The coefficient of `Z` doesn't go to $a_2$, and that of `WB` doesn't go to $a_1$."
   ]
  },
  {
   "cell_type": "code",
   "execution_count": 5,
   "metadata": {},
   "outputs": [
    {
     "data": {
      "text/html": [
       "0.44855"
      ],
      "text/latex": [
       "0.44855"
      ],
      "text/markdown": [
       "0.44855"
      ],
      "text/plain": [
       "[1] 0.44855"
      ]
     },
     "metadata": {},
     "output_type": "display_data"
    }
   ],
   "source": [
    "mean( dat$Y1 - dat$Y0 )"
   ]
  },
  {
   "cell_type": "markdown",
   "metadata": {},
   "source": [
    "The coefficient of `Z` also doesn't go to the average treatment effect."
   ]
  },
  {
   "cell_type": "code",
   "execution_count": 6,
   "metadata": {},
   "outputs": [
    {
     "data": {
      "text/plain": [
       "\n",
       "Call:\n",
       "lm(formula = Yobs ~ W * Z, data = dat)\n",
       "\n",
       "Residuals:\n",
       "     Min       1Q   Median       3Q      Max \n",
       "-0.37486 -0.06674 -0.00031  0.06756  0.39844 \n",
       "\n",
       "Coefficients:\n",
       "              Estimate Std. Error  t value Pr(>|t|)    \n",
       "(Intercept)  2.999e+00  2.237e-03 1340.710   <2e-16 ***\n",
       "WB          -9.988e-01  2.502e-03 -399.247   <2e-16 ***\n",
       "Z            6.052e-05  2.473e-03    0.024     0.98    \n",
       "WB:Z         9.987e-01  4.202e-03  237.675   <2e-16 ***\n",
       "---\n",
       "Signif. codes:  0 ‘***’ 0.001 ‘**’ 0.01 ‘*’ 0.05 ‘.’ 0.1 ‘ ’ 1\n",
       "\n",
       "Residual standard error: 0.1001 on 19996 degrees of freedom\n",
       "Multiple R-squared:  0.9598,\tAdjusted R-squared:  0.9598 \n",
       "F-statistic: 1.591e+05 on 3 and 19996 DF,  p-value: < 2.2e-16\n"
      ]
     },
     "metadata": {},
     "output_type": "display_data"
    }
   ],
   "source": [
    "M1 = lm( Yobs ~ W*Z, data = dat )\n",
    "summary(M1)"
   ]
  },
  {
   "cell_type": "markdown",
   "metadata": {},
   "source": [
    "Of course all this goes away if we include the interaction term. Then we get the correct answers, and recover $a_0$, $a_1$, $a_2$, and $a_3$ correctly."
   ]
  },
  {
   "cell_type": "markdown",
   "metadata": {},
   "source": [
    "## Without model misspecification"
   ]
  },
  {
   "cell_type": "code",
   "execution_count": 7,
   "metadata": {},
   "outputs": [
    {
     "data": {
      "text/plain": [
       "\n",
       "Call:\n",
       "lm(formula = Yobs ~ W + Z, data = dat)\n",
       "\n",
       "Residuals:\n",
       "     Min       1Q   Median       3Q      Max \n",
       "-0.41199 -0.06654 -0.00011  0.06690  0.43485 \n",
       "\n",
       "Coefficients:\n",
       "             Estimate Std. Error  t value Pr(>|t|)    \n",
       "(Intercept)  3.002549   0.001884 1593.364   <2e-16 ***\n",
       "WB          -1.003179   0.001999 -501.871   <2e-16 ***\n",
       "Z           -0.002239   0.001988   -1.126     0.26    \n",
       "---\n",
       "Signif. codes:  0 ‘***’ 0.001 ‘**’ 0.01 ‘*’ 0.05 ‘.’ 0.1 ‘ ’ 1\n",
       "\n",
       "Residual standard error: 0.09911 on 19997 degrees of freedom\n",
       "Multiple R-squared:  0.9619,\tAdjusted R-squared:  0.9619 \n",
       "F-statistic: 2.526e+05 on 2 and 19997 DF,  p-value: < 2.2e-16\n"
      ]
     },
     "metadata": {},
     "output_type": "display_data"
    }
   ],
   "source": [
    "# Demo:\n",
    "# Confounded covariate can bias treatment impact estimate.\n",
    "\n",
    "# Let W be covariate (e.g., type of house)\n",
    "# Let Z be treatment (confounded with region)\n",
    "\n",
    "a0 = 3\n",
    "a1 = -1\n",
    "a2 = 0\n",
    "a3 = 0\n",
    "\n",
    "N = 10000\n",
    "dat = data.frame( Z = rep( c(0,1), N ) )\n",
    "dat <- mutate( dat,\n",
    "               W = ifelse( runif( n() ) <= 0.2 + 0.7 * Z, \"A\", \"B\" ),\n",
    "               Y0 = a0 + a1 * (W == \"B\") + rnorm( n(), sd=0.1 ),\n",
    "               tau =   a2 + a3 * (W == \"B\"),\n",
    "               Y1 = Y0 + tau,\n",
    "               Yobs = ifelse( Z, Y1, Y0 ) )\n",
    "M0 = lm( Yobs ~ W + Z, data = dat )\n",
    "summary(M0)"
   ]
  },
  {
   "cell_type": "markdown",
   "metadata": {},
   "source": [
    "If there's no model misspecification ($a_3=0$), then the model without interaction does get the right answer $a_2=0$. This is despite observed outcomes being higher on average amongst treated units."
   ]
  },
  {
   "cell_type": "code",
   "execution_count": 8,
   "metadata": {},
   "outputs": [
    {
     "data": {
      "text/html": [
       "<table>\n",
       "<thead><tr><th scope=col>Z</th><th scope=col>Y.bar</th><th scope=col>prop.B</th></tr></thead>\n",
       "<tbody>\n",
       "\t<tr><td>0       </td><td>2.198200</td><td>0.8018  </td></tr>\n",
       "\t<tr><td>1       </td><td>2.903805</td><td>0.0962  </td></tr>\n",
       "</tbody>\n",
       "</table>\n"
      ],
      "text/latex": [
       "\\begin{tabular}{r|lll}\n",
       " Z & Y.bar & prop.B\\\\\n",
       "\\hline\n",
       "\t 0        & 2.198200 & 0.8018  \\\\\n",
       "\t 1        & 2.903805 & 0.0962  \\\\\n",
       "\\end{tabular}\n"
      ],
      "text/markdown": [
       "\n",
       "Z | Y.bar | prop.B | \n",
       "|---|---|\n",
       "| 0        | 2.198200 | 0.8018   | \n",
       "| 1        | 2.903805 | 0.0962   | \n",
       "\n",
       "\n"
      ],
      "text/plain": [
       "  Z Y.bar    prop.B\n",
       "1 0 2.198200 0.8018\n",
       "2 1 2.903805 0.0962"
      ]
     },
     "metadata": {},
     "output_type": "display_data"
    }
   ],
   "source": [
    "dat %>% group_by( Z ) %>% summarize( Y.bar = mean(Yobs), prop.B = mean( W == \"B\" ) )"
   ]
  }
 ],
 "metadata": {
  "hide_input": false,
  "kernelspec": {
   "display_name": "R",
   "language": "R",
   "name": "ir"
  },
  "language_info": {
   "codemirror_mode": "r",
   "file_extension": ".r",
   "mimetype": "text/x-r-source",
   "name": "R",
   "pygments_lexer": "r",
   "version": "3.4.2"
  },
  "toc": {
   "colors": {
    "hover_highlight": "#DAA520",
    "running_highlight": "#FF0000",
    "selected_highlight": "#FFD700"
   },
   "moveMenuLeft": true,
   "nav_menu": {
    "height": "12px",
    "width": "252px"
   },
   "navigate_menu": true,
   "number_sections": true,
   "sideBar": true,
   "threshold": 4,
   "toc_cell": false,
   "toc_section_display": "block",
   "toc_window_display": false,
   "widenNotebook": false
  }
 },
 "nbformat": 4,
 "nbformat_minor": 2
}

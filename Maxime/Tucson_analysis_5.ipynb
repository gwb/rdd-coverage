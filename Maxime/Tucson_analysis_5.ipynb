{
 "cells": [
  {
   "cell_type": "markdown",
   "metadata": {
    "toc": "true"
   },
   "source": [
    "# Table of Contents\n",
    " <p>"
   ]
  },
  {
   "cell_type": "code",
   "execution_count": 1,
   "metadata": {
    "collapsed": false
   },
   "outputs": [],
   "source": [
    "using LaTeXStrings\n",
    "using GaussianProcesses\n",
    "using Distributions\n",
    "using Base.LinAlg\n",
    "using Distances\n",
    "import PyPlot; plt=PyPlot\n",
    "using DataFrames\n",
    "using GeoJSON\n",
    "using Optim\n",
    "using GLM\n",
    "import MultivariateStats\n",
    "mvst=MultivariateStats\n",
    "plt.rc(\"figure\", dpi=300.0)\n",
    "# plt.rc(\"figure\", figsize=(6,4))\n",
    "# plt.rc(\"figure\", autolayout=true)\n",
    "plt.rc(\"savefig\", dpi=300.0)\n",
    "plt.rc(\"text\", usetex=true)\n",
    "plt.rc(\"font\", family=\"serif\")\n",
    "plt.rc(\"font\", serif=\"Palatino\")\n",
    ";"
   ]
  },
  {
   "cell_type": "code",
   "execution_count": 2,
   "metadata": {
    "collapsed": true
   },
   "outputs": [],
   "source": [
    "Tucson_sales=readtable(\"Tucson_data/processed/Tucson_sales.csv\", header=true)\n",
    "# categorical variables\n",
    "pool!(Tucson_sales, [\n",
    "    :PropertyType, \n",
    "    :SchDistr, \n",
    "    :Financing, \n",
    "    :ValidationDescription, \n",
    "    :BuyerSellerRelated, \n",
    "    :Solar,\n",
    "    :PersonalProperty, \n",
    "    :PartialInterest,\n",
    "    :HEAT,\n",
    "    :COOL,\n",
    "    :QUALITY,\n",
    "    :CLASS,\n",
    "    :WALLS,\n",
    "    :ROOF,\n",
    "    :GARAGE,\n",
    "    ])\n",
    "believable = zeros(Bool, size(Tucson_sales,1))\n",
    "for i in 1:size(Tucson_sales,1)\n",
    "    if isna(Tucson_sales[i,:BuyerSellerRelated])\n",
    "        continue\n",
    "    end\n",
    "    if Tucson_sales[i,:BuyerSellerRelated]!=\"No\"\n",
    "        continue\n",
    "    end\n",
    "    if isna(Tucson_sales[i,:PartialInterest])\n",
    "        continue\n",
    "    end\n",
    "    if Tucson_sales[i,:PartialInterest]!=\"No\"\n",
    "        continue\n",
    "    end\n",
    "    if isna(Tucson_sales[i,:PropertyType])\n",
    "        continue\n",
    "    end\n",
    "    if !(Tucson_sales[i,:PropertyType] in (\"2-4 Plex\", \"Condo/Townhouse\", \"Single Family\"))\n",
    "        continue\n",
    "    end\n",
    "    if isna(Tucson_sales[i,:ValidationDescription])\n",
    "        continue\n",
    "    end\n",
    "    if !(Tucson_sales[i,:ValidationDescription] in (\"Good Sale\", \"Buyer/Seller has an Out-Of-State Address\"))\n",
    "        continue\n",
    "    end\n",
    "    if isna(Tucson_sales[i,:SQFT])\n",
    "        continue\n",
    "    end\n",
    "    believable[i] = true\n",
    "end"
   ]
  },
  {
   "cell_type": "code",
   "execution_count": 3,
   "metadata": {
    "collapsed": false
   },
   "outputs": [
    {
     "name": "stderr",
     "output_type": "stream",
     "text": [
      "WARNING: the no-op `transpose` fallback is deprecated, and no more specific `transpose` method for DataFrames.DataFrame exists. Consider `permutedims(x, [2, 1])` or writing a specific `transpose(x::DataFrames.DataFrame)` method if appropriate.\n",
      " in depwarn(::String, ::Symbol) at ./deprecated.jl:64\n",
      " in transpose(::DataFrames.DataFrame) at ./deprecated.jl:771\n",
      " in ctranspose(::DataFrames.DataFrame) at ./operators.jl:310\n",
      " in macro expansion; at ./In[3]:6 [inlined]\n",
      " in anonymous at ./<missing>:?\n",
      " in include_string(::String, ::String) at ./loading.jl:380\n",
      " in execute_request(::ZMQ.Socket, ::IJulia.Msg) at /Users/imolk/.julia/v0.5/IJulia/src/execute_request.jl:170\n",
      " in eventloop(::ZMQ.Socket) at /Users/imolk/.julia/v0.5/IJulia/src/IJulia.jl:143\n",
      " in (::IJulia.##25#31)() at ./task.jl:360\n",
      "while loading In[3], in expression starting on line 4\n"
     ]
    },
    {
     "data": {
      "text/plain": [
       "22203"
      ]
     },
     "execution_count": 3,
     "metadata": {},
     "output_type": "execute_result"
    }
   ],
   "source": [
    "Y_dict=Dict{String, Vector{Float64}}()\n",
    "X_dict=Dict{String, Array{Float64,2}}()\n",
    "schdistrs = unique(Tucson_sales[:,:SchDistr])\n",
    "for name in schdistrs\n",
    "    Y_dict[name] = log(Tucson_sales[believable & (Tucson_sales[:,:SchDistr] .== name),:SalePrice])\n",
    "    X_dict[name] =     Tucson_sales[believable & (Tucson_sales[:,:SchDistr] .== name),[:X_PRJ, :Y_PRJ]]'\n",
    "end\n",
    "sentinels_json=GeoJSON.parsefile(\"Tucson_data/processed/SchoolDistrict_borders/SchoolDistrict_sentinels.json\")\n",
    "sentinels=Dict{Tuple{String,String},GeoJSON.MultiPoint}()\n",
    "for f in sentinels_json.features\n",
    "    key = (f.properties[\"SchoolDistrict1\"], f.properties[\"SchoolDistrict2\"])\n",
    "    sentinels[key] = f.geometry\n",
    "end\n",
    "sum(believable)"
   ]
  },
  {
   "cell_type": "code",
   "execution_count": 4,
   "metadata": {
    "collapsed": true
   },
   "outputs": [],
   "source": [
    "Tucson_sales[:logSalePrice] = log(Tucson_sales[:SalePrice]);"
   ]
  },
  {
   "cell_type": "code",
   "execution_count": 5,
   "metadata": {
    "collapsed": false
   },
   "outputs": [
    {
     "data": {
      "text/plain": [
       "Array{GaussianProcesses.GP,1}"
      ]
     },
     "execution_count": 5,
     "metadata": {},
     "output_type": "execute_result"
    }
   ],
   "source": [
    "typealias MultiGP Vector{GP}"
   ]
  },
  {
   "cell_type": "code",
   "execution_count": 6,
   "metadata": {
    "collapsed": false
   },
   "outputs": [
    {
     "data": {
      "text/plain": [
       "5-element Array{Float64,1}:\n",
       " -1.80728\n",
       " 11.7879 \n",
       "  8.04658\n",
       " -1.70133\n",
       "  1.66984"
      ]
     },
     "execution_count": 6,
     "metadata": {},
     "output_type": "execute_result"
    }
   ],
   "source": [
    "hyp = [-1.80728,11.7879,8.04658,-1.70133,1.66984]"
   ]
  },
  {
   "cell_type": "code",
   "execution_count": 7,
   "metadata": {
    "collapsed": false
   },
   "outputs": [],
   "source": [
    "GP_dict=Dict{String, GP}()\n",
    "lσβ=-hyp[5]\n",
    "kern = SEIso(hyp[3], hyp[4])\n",
    "for name in schdistrs\n",
    "    X = X_dict[name]\n",
    "    Y = Y_dict[name]\n",
    "    if length(Y)==0\n",
    "        println(\"no data for \", name)\n",
    "        continue\n",
    "    end\n",
    "    fit = GP(X', Y, MeanConst(hyp[2]), kern, hyp[1])\n",
    "    GP_dict[name] = fit\n",
    "end\n",
    "schdistrs_have = collect(keys(GP_dict))\n",
    "multiGP = GaussianProcesses.GP[GP_dict[name] for name in schdistrs_have]\n",
    ";"
   ]
  },
  {
   "cell_type": "code",
   "execution_count": 8,
   "metadata": {
    "collapsed": false
   },
   "outputs": [],
   "source": [
    "nobsv_ = sum([gp.nobsv for gp in multiGP])\n",
    "for_mm = copy(Tucson_sales[believable,:])\n",
    "for_mm[:SQFT] =  for_mm[:SQFT] .- mean(for_mm[:SQFT])\n",
    "for_mm[:SQFT] = for_mm[:SQFT] ./ std(for_mm[:SQFT])\n",
    "for_mm[:ROOMS] = for_mm[:ROOMS] .- mean(for_mm[:ROOMS])\n",
    "for_mm[:ROOMS] = for_mm[:ROOMS] ./ std(for_mm[:ROOMS])\n",
    "for_mm[:STORIES] = for_mm[:STORIES] .- mean(for_mm[:STORIES])\n",
    "for_mm[:STORIES] = for_mm[:STORIES] ./ std(for_mm[:STORIES])\n",
    "reordering = collect(1:nobsv_)\n",
    "istart = 1\n",
    "for name in schdistrs_have\n",
    "    indices = find(for_mm[:SchDistr] .== name)\n",
    "    nobsv_schdistr = length(indices)\n",
    "    iend = istart+nobsv_schdistr-1\n",
    "    reordering[istart:iend,:] = indices\n",
    "    istart = iend+1\n",
    "end\n",
    "for_mm = for_mm[reordering,:]\n",
    ";"
   ]
  },
  {
   "cell_type": "code",
   "execution_count": 9,
   "metadata": {
    "collapsed": false
   },
   "outputs": [
    {
     "data": {
      "text/plain": [
       "(22203,32)"
      ]
     },
     "execution_count": 9,
     "metadata": {},
     "output_type": "execute_result"
    }
   ],
   "source": [
    "contrasts_dict = Dict()\n",
    "for (term,col) in eachcol(for_mm)\n",
    "    DataFrames.is_categorical(col) || continue\n",
    "    contrasts_dict[term] = DataFrames.FullDummyCoding()\n",
    "end\n",
    "mf=DataFrames.ModelFrame(logSalePrice ~ SQFT + QUALITY + STORIES + CLASS + ROOF + GARAGE + SchDistr, \n",
    "    for_mm, \n",
    "    contrasts=contrasts_dict)\n",
    "mm=ModelMatrix(mf)\n",
    "p = size(mm,2)\n",
    "D_=mm.m\n",
    "size(D_)"
   ]
  },
  {
   "cell_type": "code",
   "execution_count": 10,
   "metadata": {
    "collapsed": true
   },
   "outputs": [],
   "source": [
    "type MultiGPCovarsPlugin{MT<:GaussianProcesses.Mean, KT<:GaussianProcesses.Kernel}\n",
    "    D::Array{Float64,2}\n",
    "    y::Vector{Float64}\n",
    "    mgp::MultiGP\n",
    "    p::Int\n",
    "    dim::Int\n",
    "    nobsv::Int\n",
    "    logNoise::Float64\n",
    "    m::MT\n",
    "    k::KT\n",
    "    σβ::Float64\n",
    "    # Auxiliary data\n",
    "    cK::PDMats.PDMat        # (k + obsNoise²)\n",
    "    alpha::Vector{Float64}  # (k + obsNoise²)⁻¹y\n",
    "    mLL::Float64            # Marginal log-likelihood\n",
    "    dmLL::Vector{Float64}   # Gradient marginal log-likelihood\n",
    "    βhat::Vector{Float64}   # fitted β coefficients\n",
    "    resid::Vector{Float64}  # residuals\n",
    "    function MultiGPCovarsPlugin(D::Array{Float64,2}, \n",
    "        y::Vector{Float64},\n",
    "        mgp::MultiGP, \n",
    "        p::Int,\n",
    "        dim::Int,\n",
    "        nobsv::Int,\n",
    "        logNoise::Float64,\n",
    "        σβ::Float64,\n",
    "        m::MT,\n",
    "        k::KT,\n",
    "        )\n",
    "        mgpcv = new(D, y, mgp, p, dim, nobsv, logNoise, σβ, m, k)\n",
    "        update_mll!(mgpcv)\n",
    "        return mgpcv\n",
    "    end\n",
    "end"
   ]
  },
  {
   "cell_type": "code",
   "execution_count": 11,
   "metadata": {
    "collapsed": false
   },
   "outputs": [
    {
     "data": {
      "text/plain": [
       "MultiGPCovarsPlugin{MT<:GaussianProcesses.Mean,KT<:GaussianProcesses.Kernel}"
      ]
     },
     "execution_count": 11,
     "metadata": {},
     "output_type": "execute_result"
    }
   ],
   "source": [
    "function MultiGPCovarsPlugin(D::Array{Float64,2}, mgp::MultiGP, σβ::Float64)\n",
    "    nobsv = sum([gp.nobsv for gp in mgp])\n",
    "    size(D,1) == nobsv || throw(ArgumentError(\"incompatible dimensions of covariates matrix and gaussian processes\"))\n",
    "    first_gp = mgp[1]\n",
    "    dim = first_gp.dim\n",
    "    logNoise = first_gp.logNoise\n",
    "    k = first_gp.k\n",
    "    m = first_gp.m\n",
    "    # harmonize parameters\n",
    "    for gp in mgp\n",
    "        gp.k = k\n",
    "        gp.m = m\n",
    "        gp.logNoise = logNoise\n",
    "    end\n",
    "    p = size(D,2)\n",
    "    y = vcat([gp.y for gp in recent_multiGP]...)\n",
    "    mgpcv = MultiGPCovarsPlugin{typeof(m),typeof(k)}(D, y, mgp, p, dim, nobsv, logNoise, σβ, m, k)\n",
    "    return mgpcv\n",
    "end"
   ]
  },
  {
   "cell_type": "code",
   "execution_count": 12,
   "metadata": {
    "collapsed": false
   },
   "outputs": [
    {
     "data": {
      "text/plain": [
       "get_cK (generic function with 1 method)"
      ]
     },
     "execution_count": 12,
     "metadata": {},
     "output_type": "execute_result"
    }
   ],
   "source": [
    "function get_cK!(mgpcv::MultiGPCovarsPlugin, cK::Matrix{Float64})\n",
    "    cK = zeros(Float64, mgpcv.nobsv, mgpcv.nobsv)\n",
    "    propagate_params!(mgpcv)\n",
    "    istart=0\n",
    "    for gp in mgpcv.mgp\n",
    "        addcov!(view(cK, istart+1:istart+gp.nobsv, istart+1:istart+gp.nobsv), mgpcv.k, gp.X, gp.data)\n",
    "        istart += gp.nobsv\n",
    "    end\n",
    "    for i in 1:mgpcv.nobsv\n",
    "        cK[i,i] += max(exp(2*mgpcv.logNoise),1e-8)\n",
    "    end\n",
    "    return PDMats.PDMat(cK)\n",
    "end\n",
    "\n",
    "function get_cK(mgpcv::MultiGPCovarsPlugin)\n",
    "    cK = zeros(Float64, mgpcv.nobsv, mgpcv.nobsv)\n",
    "    return get_cK!(mgpcv, cK)\n",
    "end"
   ]
  },
  {
   "cell_type": "code",
   "execution_count": 13,
   "metadata": {
    "collapsed": false
   },
   "outputs": [
    {
     "ename": "LoadError",
     "evalue": "LoadError: UndefVarError: MultiGPCovars not defined\nwhile loading In[13], in expression starting on line 35",
     "output_type": "error",
     "traceback": [
      "LoadError: UndefVarError: MultiGPCovars not defined\nwhile loading In[13], in expression starting on line 35",
      ""
     ]
    }
   ],
   "source": [
    "function propagate_params!(mgpcv::MultiGPCovarsPlugin)\n",
    "    for gp in mgpcv.mgp\n",
    "        # harmonize parameters\n",
    "        gp.k = mgpcv.k\n",
    "        gp.m = mgpcv.m\n",
    "        gp.logNoise = mgpcv.logNoise\n",
    "    end\n",
    "end\n",
    "\n",
    "function get_βhat(cK::PDMats.AbstractPDMat, D::AbstractMatrix, σβ2::Float64, m::Vector{Float64})\n",
    "    tmp = PDMats.Xt_invA_X(cK, D)\n",
    "    for i in 1:p\n",
    "        tmp[i,i] += σβ2\n",
    "    end\n",
    "    βhat = (tmp \\ D') * (cK \\ (mgpcv.y.-m))\n",
    "#     βhat_dict=Dict(zip(coefnames(mf), βhat))\n",
    "end\n",
    "\n",
    "function update_mll!(mgpcv::MultiGPCovarsPlugin, cK::Matrix{Float64})\n",
    "    propagate_params!(mgpcv)\n",
    "    m = Array(Float64, mgpcv.nobsv)\n",
    "    istart=0\n",
    "    for gp in mgpcv.mgp\n",
    "        m[istart+1:istart+gp.nobsv] = mean(mgpcv.m,gp.X)\n",
    "        istart += gp.nobsv\n",
    "    end\n",
    "    cK = get_cK!(mgpcv, cK)\n",
    "    mgpcv.cK = cK\n",
    "    mgpcv.alpha = mgpcv.cK \\ (mgpcv.y .- m)\n",
    "    βhat = get_βhat(cK, mgpcv.D, mgpcv.σβ^2, m)\n",
    "    fitted_vals = mgpcv.D * βhat\n",
    "    mgpcv.mLL = -dot((mgpcv.y-m),mgpcv.alpha)/2.0 - logdet(mgpcv.cK)/2.0 - mgpcv.nobsv*log(2π)/2.0\n",
    "end\n",
    "\n",
    "function update_mll!(mgpcv::MultiGPCovars)\n",
    "    cK_buffer = Array(Float64, mgpcv.nobsv, mgpcv.nobsv)\n",
    "    update_mll!(mgpcv, cK_buffer)\n",
    "end\n",
    "function update_mll_and_dmll!(mgpcv::MultiGPCovars,\n",
    "    cK::Matrix{Float64},\n",
    "    Kgrads::Array{Float64,3}\n",
    "    ; \n",
    "    noise::Bool=true, # include gradient component for the logNoise term\n",
    "    mean::Bool=true, # include gradient components for the mean parameters\n",
    "    kern::Bool=true, # include gradient components for the spatial kernel parameters\n",
    "    beta::Bool=true, # include gradient components for the linear regression prior terms\n",
    "    )\n",
    "    update_mll!(mgpcv, cK)\n",
    "    n_mean_params = GaussianProcesses.num_params(mgpcv.m)\n",
    "    n_kern_params = GaussianProcesses.num_params(mgpcv.k)\n",
    "    n_beta_params = GaussianProcesses.num_params(mgpcv.βkern)\n",
    "    dmLL = Array(Float64, noise + mean*n_mean_params + kern*n_kern_params + beta*n_beta_params)\n",
    "    logNoise = mgpcv.logNoise\n",
    "    α = mgpcv.alpha\n",
    "    ααinvcKI = α*α' - mgpcv.cK \\ eye(mgpcv.nobsv)\n",
    "    i=1\n",
    "    if noise\n",
    "        dmLL[i] = exp(2*logNoise)*trace(ααinvcKI)\n",
    "        i+=1\n",
    "    end\n",
    "    if mean\n",
    "        Mgrads = vcat([GaussianProcesses.grad_stack(gp.m, gp.X) for gp in recent_multiGP]...)\n",
    "        for j in 1:n_mean_params\n",
    "            dmLL[i] = dot(Mgrads[:,j],α)\n",
    "            i+=1\n",
    "        end\n",
    "    end\n",
    "    if kern\n",
    "        Kgrad[:,:] = 0.0\n",
    "        for j in i:i+n_kern_params-1\n",
    "            dmLL[j] = 0.0\n",
    "        end\n",
    "        for iparam in 1:n_kern_params\n",
    "            istart=0\n",
    "            for gp in mgpcv.mgp\n",
    "                Kview = view(Kgrad, istart+1:istart+gp.nobsv, istart+1:istart+gp.nobsv)\n",
    "                ααview = view(ααinvcKI, istart+1:istart+gp.nobsv, istart+1:istart+gp.nobsv)\n",
    "                grad_slice!(Kview, mgpcv.k, gp.X, gp.data, iparam)\n",
    "                Kview[:,:] .*= ααview\n",
    "                dmLL[i] += sum(Kview)/2\n",
    "                istart += gp.nobsv\n",
    "            end\n",
    "            i+=1\n",
    "        end\n",
    "    end\n",
    "    if beta\n",
    "        for iparam in 1:num_params(mgpcv.βkern)\n",
    "            grad_slice!(Kgrad, mgpcv.βkern, mgpcv.D', KernelData(mgpcv.βkern,mgpcv.D'), iparam)\n",
    "            dmLL[i] = dot(ααinvcKI,Kgrad)/2.0\n",
    "            i+=1\n",
    "        end\n",
    "    end\n",
    "    mgpcv.dmLL = dmLL\n",
    "end\n",
    "function get_params(mgpcv::MultiGPCovars; noise::Bool=true, mean::Bool=true, kern::Bool=true, beta::Bool=true)\n",
    "    params = Float64[]\n",
    "    if noise; push!(params, mgpcv.logNoise); end\n",
    "    if mean;  append!(params, GaussianProcesses.get_params(mgpcv.m)); end\n",
    "    if kern; append!(params,  GaussianProcesses.get_params(mgpcv.k)); end\n",
    "    if beta; append!(params,  GaussianProcesses.get_params(mgpcv.βkern)); end\n",
    "    return params\n",
    "end\n",
    "function set_params!(mgpcv::MultiGPCovars, hyp::Vector{Float64}; \n",
    "                    noise::Bool=true, mean::Bool=true, kern::Bool=true, beta::Bool=true)\n",
    "    i=1\n",
    "    if noise\n",
    "        mgpcv.logNoise = hyp[i]\n",
    "        i+=1\n",
    "    end\n",
    "    if mean\n",
    "        GaussianProcesses.set_params!(mgpcv.m, hyp[i:i+GaussianProcesses.num_params(mgpcv.m)-1])\n",
    "        i+=GaussianProcesses.num_params(mgpcv.m)\n",
    "    end\n",
    "    if kern\n",
    "        GaussianProcesses.set_params!(mgpcv.k, hyp[i:i+GaussianProcesses.num_params(mgpcv.k)-1])\n",
    "        i+=GaussianProcesses.num_params(mgpcv.k)\n",
    "    end\n",
    "    if beta\n",
    "        GaussianProcesses.set_params!(mgpcv.βkern, hyp[i:i+GaussianProcesses.num_params(mgpcv.βkern)-1])\n",
    "        i+=GaussianProcesses.num_params(mgpcv.βkern)\n",
    "    end\n",
    "    propagate_params!(mgpcv)\n",
    "end\n",
    "@doc \"\"\"\n",
    "# Description\n",
    "A function for optimising the GP hyperparameters based on type II maximum likelihood estimation. This function performs gradient based optimisation using the Optim pacakge to which the user is referred to for further details.\n",
    "\n",
    "# Arguments:\n",
    "* `gp::GP`: Predefined Gaussian process type\n",
    "* `noise::Bool`: Noise hyperparameters should be optmized\n",
    "* `mean::Bool`: Mean function hyperparameters should be optmized\n",
    "* `kern::Bool`: Kernel function hyperparameters should be optmized\n",
    "* `kwargs`: Keyword arguments for the optimize function from the Optim package\n",
    "\"\"\" ->\n",
    "function GaussianProcesses.optimize!(mgpcv::MultiGPCovars; noise::Bool=true, mean::Bool=true, kern::Bool=true, beta::Bool=true, \n",
    "                    method=ConjugateGradient(), kwargs...)\n",
    "    cK_buffer = Array(Float64, mgpcv.nobsv, mgpcv.nobsv)\n",
    "    Kgrads_buffer = Array(Float64, mgpcv.nobsv, mgpcv.nobsv, 3)\n",
    "    function mll(hyp::Vector{Float64})\n",
    "        try\n",
    "            set_params!(mgpcv, hyp; noise=noise, mean=mean, kern=kern, beta=beta)\n",
    "            update_mll!(mgpcv, cK_buffer)\n",
    "            return -mgpcv.mLL\n",
    "        catch err\n",
    "             if !all(isfinite(hyp))\n",
    "                println(err)\n",
    "                return Inf\n",
    "            elseif isa(err, ArgumentError)\n",
    "                println(err)\n",
    "                return Inf\n",
    "            elseif isa(err, Base.LinAlg.PosDefException)\n",
    "                println(err)\n",
    "                return Inf\n",
    "            else\n",
    "                throw(err)\n",
    "            end\n",
    "        end        \n",
    "    end\n",
    "\n",
    "    function mll_and_dmll!(hyp::Vector{Float64}, grad::Vector{Float64})\n",
    "        try\n",
    "            set_params!(mgpcv, hyp; noise=noise, mean=mean, kern=kern, beta=beta)\n",
    "            update_mll_and_dmll!(mgpcv, cK_buffer, Kgrads_buffer; noise=noise, mean=mean, kern=kern, beta=beta)\n",
    "            grad[:] = -mgpcv.dmLL\n",
    "            return -mgpcv.mLL\n",
    "        catch err\n",
    "             if !all(isfinite(hyp))\n",
    "                println(err)\n",
    "                return Inf\n",
    "            elseif isa(err, ArgumentError)\n",
    "                println(err)\n",
    "                return Inf\n",
    "            elseif isa(err, Base.LinAlg.PosDefException)\n",
    "                println(err)\n",
    "                return Inf\n",
    "            else\n",
    "                throw(err)\n",
    "            end\n",
    "        end \n",
    "    end\n",
    "    function dmll!(hyp::Vector{Float64}, grad::Vector{Float64})\n",
    "        mll_and_dmll!(hyp::Vector{Float64}, grad::Vector{Float64})\n",
    "    end\n",
    "\n",
    "    func = DifferentiableFunction(mll, dmll!, mll_and_dmll!)\n",
    "    init = get_params(mgpcv;  noise=noise, mean=mean, kern=kern, beta=beta)  # Initial hyperparameter values\n",
    "    results=optimize(func,init; method=method, kwargs...)                     # Run optimizer\n",
    "    return results\n",
    "end\n",
    "mgpcv=MultiGPCovars(D_, recent_multiGP::MultiGP, βkern_);"
   ]
  }
 ],
 "metadata": {
  "kernelspec": {
   "display_name": "Julia 0.5.0-rc2",
   "language": "julia",
   "name": "julia-0.5"
  },
  "language_info": {
   "file_extension": ".jl",
   "mimetype": "application/julia",
   "name": "julia",
   "version": "0.5.0"
  },
  "nav_menu": {},
  "toc": {
   "navigate_menu": true,
   "number_sections": true,
   "sideBar": true,
   "threshold": 6,
   "toc_cell": true,
   "toc_section_display": "block",
   "toc_window_display": false
  }
 },
 "nbformat": 4,
 "nbformat_minor": 1
}

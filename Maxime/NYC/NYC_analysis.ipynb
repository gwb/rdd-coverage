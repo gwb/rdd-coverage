{
 "cells": [
  {
   "cell_type": "markdown",
   "metadata": {
    "toc": "true"
   },
   "source": [
    "# Table of Contents\n",
    " <p><div class=\"lev1 toc-item\"><a href=\"#Dataset\" data-toc-modified-id=\"Dataset-1\"><span class=\"toc-item-num\">1&nbsp;&nbsp;</span>Dataset</a></div><div class=\"lev2 toc-item\"><a href=\"#Data-cleaning\" data-toc-modified-id=\"Data-cleaning-1.1\"><span class=\"toc-item-num\">1.1&nbsp;&nbsp;</span>Data cleaning</a></div><div class=\"lev1 toc-item\"><a href=\"#Model\" data-toc-modified-id=\"Model-2\"><span class=\"toc-item-num\">2&nbsp;&nbsp;</span>Model</a></div><div class=\"lev1 toc-item\"><a href=\"#Optimize-hyperparameters-using-district-27\" data-toc-modified-id=\"Optimize-hyperparameters-using-district-27-3\"><span class=\"toc-item-num\">3&nbsp;&nbsp;</span>Optimize hyperparameters using district 27</a></div><div class=\"lev1 toc-item\"><a href=\"#Get-posterior-mean-$\\hat\\beta$\" data-toc-modified-id=\"Get-posterior-mean-$\\hat\\beta$-4\"><span class=\"toc-item-num\">4&nbsp;&nbsp;</span>Get posterior mean $\\hat\\beta$</a></div><div class=\"lev1 toc-item\"><a href=\"#Fit-GPs-to-residuals\" data-toc-modified-id=\"Fit-GPs-to-residuals-5\"><span class=\"toc-item-num\">5&nbsp;&nbsp;</span>Fit GPs to residuals</a></div><div class=\"lev1 toc-item\"><a href=\"#Pairwise-treatment-effect\" data-toc-modified-id=\"Pairwise-treatment-effect-6\"><span class=\"toc-item-num\">6&nbsp;&nbsp;</span>Pairwise treatment effect</a></div><div class=\"lev1 toc-item\"><a href=\"#Next-steps\" data-toc-modified-id=\"Next-steps-7\"><span class=\"toc-item-num\">7&nbsp;&nbsp;</span>Next steps</a></div><div class=\"lev1 toc-item\"><a href=\"#Optimizing-hyperparameters-using-multiple-districts\" data-toc-modified-id=\"Optimizing-hyperparameters-using-multiple-districts-8\"><span class=\"toc-item-num\">8&nbsp;&nbsp;</span>Optimizing hyperparameters using multiple districts</a></div><div class=\"lev2 toc-item\"><a href=\"#subset-of-districts\" data-toc-modified-id=\"subset-of-districts-8.1\"><span class=\"toc-item-num\">8.1&nbsp;&nbsp;</span>subset of districts</a></div><div class=\"lev1 toc-item\"><a href=\"#Get-posterior-mean-$\\beta$-using-multiple-districts\" data-toc-modified-id=\"Get-posterior-mean-$\\beta$-using-multiple-districts-9\"><span class=\"toc-item-num\">9&nbsp;&nbsp;</span>Get posterior mean $\\beta$ using multiple districts</a></div><div class=\"lev1 toc-item\"><a href=\"#Fit-residuals-with-new-$\\hat\\beta$-and-hyperparameters\" data-toc-modified-id=\"Fit-residuals-with-new-$\\hat\\beta$-and-hyperparameters-10\"><span class=\"toc-item-num\">10&nbsp;&nbsp;</span>Fit residuals with new $\\hat\\beta$ and hyperparameters</a></div><div class=\"lev1 toc-item\"><a href=\"#Parwise-treatment-effect\" data-toc-modified-id=\"Parwise-treatment-effect-11\"><span class=\"toc-item-num\">11&nbsp;&nbsp;</span>Parwise treatment effect</a></div>"
   ]
  },
  {
   "cell_type": "markdown",
   "metadata": {},
   "source": [
    "$$\n",
    "    \\newcommand{\\genericdel}[3]{%\n",
    "      \\left#1#3\\right#2\n",
    "    }\n",
    "    \\newcommand{\\del}[1]{\\genericdel(){#1}}\n",
    "    \\newcommand{\\sbr}[1]{\\genericdel[]{#1}}\n",
    "    \\newcommand{\\cbr}[1]{\\genericdel\\{\\}{#1}}\n",
    "    \\newcommand{\\abs}[1]{\\genericdel||{#1}}\n",
    "    \\DeclareMathOperator*{\\argmin}{arg\\,min}\n",
    "    \\DeclareMathOperator*{\\argmax}{arg\\,max}\n",
    "    \\DeclareMathOperator{\\Pr}{\\mathbb{p}}\n",
    "    \\DeclareMathOperator{\\E}{\\mathbb{E}}\n",
    "    \\DeclareMathOperator{\\V}{\\mathbb{V}}\n",
    "    \\DeclareMathOperator{\\Ind}{\\mathbb{I}}\n",
    "    \\DeclareMathOperator{\\var}{var}\n",
    "    \\DeclareMathOperator{\\cov}{cov}\n",
    "    \\DeclareMathOperator{\\invchi}{\\mathrm{Inv-\\chi}^2}\n",
    "    \\DeclareMathOperator*{\\argmin}{arg\\,min}\n",
    "    \\DeclareMathOperator*{\\argmax}{arg\\,max}\n",
    "    \\DeclareMathOperator{\\normal}{\\mathcal{N}}\n",
    "    \\DeclareMathOperator{\\unif}{Uniform}\n",
    "    \\DeclareMathOperator{\\GP}{\\mathcal{GP}}\n",
    "    \\DeclareMathOperator{\\scrl}{\\mathscr{l}}\n",
    "    \\newcommand{\\saleprice}{\\mathtt{SalePrice}}\n",
    "    \\newcommand{\\sqft}{\\mathtt{SQFT}}\n",
    "    \\newcommand{\\xvec}{\\mathbf{x}}\n",
    "    \\newcommand{\\tax}{\\mathtt{TaxClass}}\n",
    "    \\newcommand{\\building}{\\mathtt{BuildingClass}}\n",
    "    \\newcommand{\\trans}{^{\\intercal}}\n",
    "$$"
   ]
  },
  {
   "cell_type": "markdown",
   "metadata": {},
   "source": [
    "The New York City school district is itself divided into sub-districts. From now on, by “district”, I will be talking about these sub-districts. Residents are guaranteed a slot in a school within their district, but there is some system whereby a child can apply to attend schools outside of the district, which might possibly dampen the treatment effect.\n",
    "\n",
    "Our goal is to detect discontinuities in the price of housing across the school district boundaries."
   ]
  },
  {
   "cell_type": "code",
   "execution_count": 3,
   "metadata": {
    "collapsed": false,
    "scrolled": false
   },
   "outputs": [],
   "source": [
    "using LaTeXStrings\n",
    "using GaussianProcesses\n",
    "using GaussianProcesses: grad_slice!, cov!, addcov!, KernelData\n",
    "import GaussianProcesses: get_params, set_params!, num_params\n",
    "import GaussianProcesses: distance, optimize!\n",
    "import GaussianProcesses: Mean, Kernel, grad_stack!, grad_stack\n",
    "import PDMats: AbstractPDMat, PDMat\n",
    "import Base: mean\n",
    "using Distributions\n",
    "using Base.LinAlg\n",
    "using Distances\n",
    "using DataFrames\n",
    "using GeoJSON\n",
    "using Optim\n",
    "using GLM\n",
    "import MultivariateStats\n",
    "mvst=MultivariateStats\n",
    "\n",
    "import PyPlot; plt=PyPlot\n",
    "plt.rc(\"figure\", dpi=300.0)\n",
    "# plt.rc(\"figure\", figsize=(6,4))\n",
    "# plt.rc(\"figure\", autolayout=true)\n",
    "plt.rc(\"savefig\", dpi=300.0)\n",
    "plt.rc(\"text\", usetex=true)\n",
    "plt.rc(\"font\", family=\"serif\")\n",
    "plt.rc(\"font\", serif=\"Palatino\")\n",
    ";"
   ]
  },
  {
   "cell_type": "code",
   "execution_count": 4,
   "metadata": {
    "collapsed": false
   },
   "outputs": [
    {
     "data": {
      "text/plain": [
       "GeoRDD"
      ]
     },
     "execution_count": 4,
     "metadata": {},
     "output_type": "execute_result"
    }
   ],
   "source": [
    "module GeoRDD\n",
    "    using GaussianProcesses\n",
    "    include(\"../src/cliff_face.jl\")\n",
    "    include(\"../src/point_estimates.jl\")\n",
    "end"
   ]
  },
  {
   "cell_type": "code",
   "execution_count": 73,
   "metadata": {
    "collapsed": false
   },
   "outputs": [],
   "source": [
    "NYC_sales=readtable(\"NYC_data/processed/NYC_sales.csv\", header=true)\n",
    "# categorical variables\n",
    "categorical!(NYC_sales, [:BOROUGH,\n",
    "    :BUILDING_CLASS_CATEGORY,\n",
    "    :BUILDING_CLASS_AT_TIME_OF_SALE,\n",
    "    :ZIP_CODE,\n",
    "    :TAX_CLASS_AT_PRESENT,\n",
    "    :TAX_CLASS_AT_TIME_OF_SALE,\n",
    "    :NEIGHBORHOOD,\n",
    "    ])   "
   ]
  },
  {
   "cell_type": "code",
   "execution_count": 74,
   "metadata": {
    "collapsed": false
   },
   "outputs": [],
   "source": [
    "residential = Dict(\n",
    "\"01  ONE FAMILY DWELLINGS\"=>true,\n",
    "\"02  TWO FAMILY DWELLINGS\"=>true,\n",
    "\"03  THREE FAMILY DWELLINGS\"=>true,\n",
    "\"04  TAX CLASS 1 CONDOS\"=>true,\n",
    "\"05  TAX CLASS 1 VACANT LAND\"=>false,\n",
    "\"06  TAX CLASS 1 - OTHER\"=>false,\n",
    "\"07  RENTALS - WALKUP APARTMENTS\"=>false,\n",
    "\"08  RENTALS - ELEVATOR APARTMENTS\"=>false,\n",
    "\"09  COOPS - WALKUP APARTMENTS\"=>true,\n",
    "\"10  COOPS - ELEVATOR APARTMENTS\"=>true,\n",
    "\"11  SPECIAL CONDO BILLING LOTS\"=>false,\n",
    "\"11A CONDO-RENTALS\"=>false,\n",
    "\"12  CONDOS - WALKUP APARTMENTS\"=>true, # why are these duplicated?\n",
    "\"13  CONDOS - ELEVATOR APARTMENTS\"=>true,\n",
    "\"14  RENTALS - 4-10 UNIT\"=>false,\n",
    "\"15  CONDOS - 2-10 UNIT RESIDENTIAL\"=>true,\n",
    "\"16  CONDOS - 2-10 UNIT WITH COMMERCIAL UNIT\"=>false,\n",
    "\"17  CONDO COOPS\"=>true,\n",
    "\"18  TAX CLASS 3 - UNTILITY PROPERTIES\"=>false,\n",
    "\"21  OFFICE BUILDINGS\"=>false,\n",
    "\"22  STORE BUILDINGS\"=>false,\n",
    "\"23  LOFT BUILDINGS\"=>false,\n",
    "\"25  LUXURY HOTELS\"=>false,\n",
    "\"26  OTHER HOTELS\"=>false,\n",
    "\"27  FACTORIES\"=>false,\n",
    "\"28  COMMERCIAL CONDOS\"=>false,\n",
    "\"29  COMMERCIAL GARAGES\"=>false,\n",
    "\"30  WAREHOUSES\"=>false,\n",
    "\"31  COMMERCIAL VACANT LAND\"=>false,\n",
    "\"32  HOSPITAL AND HEALTH FACILITIES\"=>false,\n",
    "\"33  EDUCATIONAL FACILITIES\"=>false,\n",
    "\"34  THEATRES\"=>false,\n",
    "\"35  INDOOR PUBLIC AND CULTURAL FACILITIES\"=>false,\n",
    "\"36  OUTDOOR RECREATIONAL FACILITIES\"=>false,\n",
    "\"37  RELIGIOUS FACILITIES\"=>false,\n",
    "\"38  ASYLUMS AND HOMES\"=>false,\n",
    "\"41  TAX CLASS 4 - OTHER\"=>false,\n",
    "\"42  CONDO CULTURAL/MEDICAL/EDUCATIONAL/ETC\"=>false,\n",
    "\"43  CONDO OFFICE BUILDINGS\"=>false,\n",
    "\"44  CONDO PARKING\"=>false,\n",
    "\"45  CONDO HOTELS\"=>false,\n",
    "\"46  CONDO STORE BUILDINGS\"=>false,\n",
    "\"47  CONDO NON-BUSINESS STORAGE\"=>false,\n",
    "\"48  CONDO TERRACES/GARDENS/CABANAS\"=>false,\n",
    "\"49  CONDO WAREHOUSES/FACTORY/INDUS\"=>false,\n",
    ");"
   ]
  },
  {
   "cell_type": "code",
   "execution_count": 75,
   "metadata": {
    "collapsed": false
   },
   "outputs": [],
   "source": [
    "NYC_sales[:logSalePricePerSQFT] = map(log, NYC_sales[:SALE_PRICE]; lift=true) .- map(log, NYC_sales[:GROSS_SQUARE_FEET]; lift=true)\n",
    "believable = zeros(Bool, size(NYC_sales,1))\n",
    "removed=zeros(Int, 12)\n",
    "for i in 1:size(NYC_sales,1)\n",
    "    if NYC_sales[i,:SALE_PRICE].isnull\n",
    "        removed[1] += 1\n",
    "        continue\n",
    "    end\n",
    "    if get(NYC_sales[i,:SchDistr])==0\n",
    "        removed[2] += 1\n",
    "        continue\n",
    "    end\n",
    "    if NYC_sales[i,:BUILDING_CLASS_AT_TIME_OF_SALE].isnull\n",
    "        removed[3] += 1\n",
    "        continue\n",
    "    end\n",
    "    if NYC_sales[i,:BUILDING_CLASS_CATEGORY].isnull\n",
    "        removed[4] += 1\n",
    "        continue\n",
    "    end\n",
    "    if !residential[get(NYC_sales[i,:BUILDING_CLASS_CATEGORY])]\n",
    "        removed[5] += 1\n",
    "        continue\n",
    "    end\n",
    "    if NYC_sales[i,:BUILDING_CLASS_CATEGORY].isnull\n",
    "        removed[6] += 1\n",
    "        continue\n",
    "    end\n",
    "    if NYC_sales[i,:TAX_CLASS_AT_TIME_OF_SALE].isnull\n",
    "        removed[7] += 1\n",
    "        continue\n",
    "    end\n",
    "    if NYC_sales[i,:GROSS_SQUARE_FEET].isnull\n",
    "        removed[8] += 1\n",
    "        continue\n",
    "    end\n",
    "    if get(NYC_sales[i,:GROSS_SQUARE_FEET])<100.0\n",
    "        removed[9] += 1\n",
    "        continue\n",
    "    end\n",
    "    if get(NYC_sales[i,:logSalePricePerSQFT]) < 3.0\n",
    "        removed[10] += 1\n",
    "        # that's too cheap\n",
    "        continue\n",
    "    end\n",
    "    if get(NYC_sales[i,:logSalePricePerSQFT]) > 8.0\n",
    "        removed[11] += 1\n",
    "        # that's too expensive\n",
    "        continue\n",
    "    end\n",
    "    if NYC_sales[i,:X_PRJ].isnull\n",
    "        removed[12] += 1\n",
    "        continue\n",
    "    end\n",
    "    if NYC_sales[i,:Y_PRJ].isnull\n",
    "        removed[13] += 1\n",
    "        continue\n",
    "    end\n",
    "    believable[i] = true\n",
    "end\n",
    "\n",
    "nobsv_ = sum(believable)\n",
    "for_mm = copy(NYC_sales[believable,:])\n",
    "reordering = collect(1:nobsv_)\n",
    "schdistrs = unique(for_mm[:,:SchDistr].values)\n",
    "istart = 1\n",
    "for name in schdistrs\n",
    "    indices = find(for_mm[:SchDistr].values .== name)\n",
    "    nobsv_schdistr = length(indices)\n",
    "    iend = istart+nobsv_schdistr-1\n",
    "    reordering[istart:iend,:] = indices\n",
    "    istart = iend+1\n",
    "end\n",
    "for_mm = for_mm[reordering,:]\n",
    "schdistr_indices = Dict{Int,Vector{Int}}()\n",
    "for name in schdistrs\n",
    "    indices = find(for_mm[:SchDistr].values .== name)\n",
    "    schdistr_indices[name] = indices\n",
    "end\n",
    ";\n",
    "Y_dict=Dict{Int, Vector{Float64}}()\n",
    "X_dict=Dict{Int, Array{Float64,2}}()\n",
    "for name in schdistrs\n",
    "    Y_dict[name] = for_mm[schdistr_indices[name], :logSalePricePerSQFT]\n",
    "    X_dict[name] = for_mm[schdistr_indices[name],[:X_PRJ, :Y_PRJ]]\n",
    "end\n",
    "sentinels_json=GeoJSON.parsefile(\"NYC_data/processed/SchoolDistrict_borders/SchoolDistrict_sentinels.json\")\n",
    "sentinels=Dict{Tuple{Int,Int},GeoJSON.MultiPoint}()\n",
    "for f in sentinels_json.features\n",
    "    key = (f.properties[\"SchoolDistrict1\"], f.properties[\"SchoolDistrict2\"])\n",
    "    sentinels[key] = f.geometry\n",
    "end"
   ]
  },
  {
   "cell_type": "code",
   "execution_count": 76,
   "metadata": {
    "collapsed": false
   },
   "outputs": [
    {
     "data": {
      "text/plain": [
       "12-element Array{Int64,1}:\n",
       "     0\n",
       " 55817\n",
       "     0\n",
       "     0\n",
       "    58\n",
       "     0\n",
       "     0\n",
       "   403\n",
       "     0\n",
       "    23\n",
       "     0\n",
       "     0"
      ]
     },
     "execution_count": 76,
     "metadata": {},
     "output_type": "execute_result"
    }
   ],
   "source": [
    "removed"
   ]
  },
  {
   "cell_type": "code",
   "execution_count": 10,
   "metadata": {
    "collapsed": false
   },
   "outputs": [
    {
     "ename": "LoadError",
     "evalue": "syntax: incomplete: premature end of input",
     "output_type": "error",
     "traceback": [
      "syntax: incomplete: premature end of input",
      ""
     ]
    }
   ],
   "source": [
    "s=String(get(NYC_sales[5,:BUILDING_CLASS_AT_TIME_OF_SALE]))[1] ∉"
   ]
  },
  {
   "cell_type": "code",
   "execution_count": 11,
   "metadata": {
    "collapsed": false
   },
   "outputs": [
    {
     "ename": "LoadError",
     "evalue": "UndefVarError: s not defined",
     "output_type": "error",
     "traceback": [
      "UndefVarError: s not defined",
      ""
     ]
    }
   ],
   "source": [
    "methodswith(typeof(s))"
   ]
  },
  {
   "cell_type": "code",
   "execution_count": 12,
   "metadata": {
    "collapsed": false
   },
   "outputs": [
    {
     "ename": "LoadError",
     "evalue": "UndefVarError: s not defined",
     "output_type": "error",
     "traceback": [
      "UndefVarError: s not defined",
      ""
     ]
    }
   ],
   "source": [
    "String(s)"
   ]
  },
  {
   "cell_type": "code",
   "execution_count": 13,
   "metadata": {
    "collapsed": false
   },
   "outputs": [
    {
     "data": {
      "image/png": "[encoded data removed]",
      "text/plain": [
       "PyPlot.Figure(PyObject <matplotlib.figure.Figure object at 0x32a309710>)"
      ]
     },
     "metadata": {},
     "output_type": "display_data"
    },
    {
     "data": {
      "text/plain": [
       "1-element Array{Any,1}:\n",
       " PyObject <matplotlib.lines.Line2D object at 0x32c9b5450>"
      ]
     },
     "execution_count": 13,
     "metadata": {},
     "output_type": "execute_result"
    }
   ],
   "source": [
    "plt.plot(for_mm[:SchDistr].values)"
   ]
  },
  {
   "cell_type": "markdown",
   "metadata": {
    "variables": {
     "length(believable)": "56815",
     "sum(believable)": "514"
    }
   },
   "source": [
    "# Dataset\n",
    "\n",
    "New York publishes a year's worth of house sales on a rolling basis. Annoyingly, this means that data that is older than a year disappears, and I've not been able to find this data online. But New York is a density, so even just a year's data is quite a large dataset.\n",
    "\n",
    "I also have some covariates, though somewhat less rich than I found in Tucson. What I have is square footage, tax class and [building class](http://nycprop.nyc.gov/nycproperty/help/hlpbldgcode.html). I've geocoded the address of each sale to get a latitude and longitude, and projected the coordinates onto a Euclidean plane in order to be able to calculate distances.\n",
    "\n",
    "![sales map](NYC_plots/NYC_sales.png)\n",
    "\n",
    "## Data cleaning\n",
    "\n",
    "I remove the following sales:\n",
    "\n",
    "* any sale with missing data in the sale price, square footage, property covariates, geographical coordinates (due to failed geocoding)\n",
    "* sales outside of any NYC school district\n",
    "* properties smaller than 100 sq ft\n",
    "* outliers in the price per sqft, which I defined as sales outside of $3 < Y_i < 8$\n",
    "\n",
    "I remove tiny properties because I feel like they might behave differently than the rest of the market.\n",
    "Removing outliers is possibly contentious, but it makes sense to me that some sales between friends or family members could have a very low $Y_i$ that isn't a true representation of the market price, and that some high prices could be equally disconnected from the market.\n",
    "\n",
    "This leaves {{sum(believable)}} out of {{length(believable)}} sales records in NYC, mostly because of properties that don't have a reported gross square footage."
   ]
  },
  {
   "cell_type": "markdown",
   "metadata": {},
   "source": [
    "# Model\n",
    "\n",
    "I decided to define the outcome to be the log price per square foot. The model is a Gaussian Process in the spatial covariates on top of a ridge regression on the property covariates (building and tax class). Within a school district we could write the model as [suggestions for clearer notation welcome]:\n",
    "\n",
    "\\begin{align}\n",
    "    Y_i &= \\log\\del{ \\frac{\\saleprice_i}{\\sqft_i}} = \\beta_0 + \\beta_{1\\tax\\sbr{i}} + \\beta_{2\\building\\sbr{i}} + f(\\xvec_i) + \\epsilon_i \\\\\n",
    "    \\epsilon_i &\\sim \\normal\\del{0, \\sigma_y^2} \\\\\n",
    "    \\beta_{1j},\\beta_{2j} &\\sim \\normal\\del{0, \\sigma_\\beta^2} \\\\\n",
    "    f(\\xvec_i) &\\sim \\GP\\del{0, k(\\xvec, \\xvec')} \\\\\n",
    "    k(\\xvec, \\xvec') &= \\sigma_f^2 \\exp\\cbr{ - (\\xvec-\\xvec')\\trans(\\xvec-\\xvec') / 2\\scrl^2}\n",
    "\\end{align}\n",
    "\n",
    "A visual inspection of the house sales map above led me to focus on the boundary between districts 19 and 27. I found a map online of average maths performance in each school district, which shows that districts 19 and 27 are quite different. It's important to note that the boundary between the two districts is also part of the boundary between Brooklyn and Queens, so we won't be able to attribute a causal effect solely to the difference in school districts. A histogram of $Y$ in both districts also shows that marginally the house prices are very different.\n",
    "\n",
    "![districts](NYC_plots/NYC_school_performances_croppped.png)"
   ]
  },
  {
   "cell_type": "code",
   "execution_count": 16,
   "metadata": {
    "collapsed": false
   },
   "outputs": [
    {
     "ename": "LoadError",
     "evalue": "KeyError: key 19 not found",
     "output_type": "error",
     "traceback": [
      "KeyError: key 19 not found",
      "",
      " in getindex(::Dict{Int64,Array{Float64,1}}, ::Int64) at ./dict.jl:688"
     ]
    }
   ],
   "source": [
    "distrA = 19\n",
    "distrB = 27\n",
    "plt.plt[:hist](Y_dict[distrA],bins=50, histtype=\"step\", label=@sprintf(\"district %d\", distrA), linewidth=2)\n",
    "plt.plt[:hist](Y_dict[distrB],bins=50, histtype=\"step\", label=@sprintf(\"district %d\", distrB), linewidth=2)\n",
    "plt.title(\"Histogram of log prices per sqft\")\n",
    "plt.legend(loc=\"upper left\")\n",
    ";"
   ]
  },
  {
   "cell_type": "code",
   "execution_count": 17,
   "metadata": {
    "collapsed": false
   },
   "outputs": [],
   "source": [
    "contrasts_dict = Dict()\n",
    "for (term,col) in eachcol(for_mm)\n",
    "    DataFrames.is_categorical(col) || continue\n",
    "    contrasts_dict[term] = DataFrames.FullDummyCoding()\n",
    "end\n",
    "mf=DataFrames.ModelFrame(logSalePricePerSQFT ~ BUILDING_CLASS_AT_TIME_OF_SALE + TAX_CLASS_AT_TIME_OF_SALE, \n",
    "    for_mm, \n",
    "    contrasts=contrasts_dict)\n",
    "mm=ModelMatrix(mf)\n",
    "p = size(mm,2)\n",
    "D_=mm.m;"
   ]
  },
  {
   "cell_type": "code",
   "execution_count": 18,
   "metadata": {
    "collapsed": false
   },
   "outputs": [],
   "source": [
    "σβ = 1.0\n",
    "βkern_ = GaussianProcesses.LinIso(log(σβ))\n",
    "type GPCovars   \n",
    "    m:: Mean                # Mean object\n",
    "    k::Kernel               # Kernel object\n",
    "    βkern::Kernel\n",
    "    logNoise::Float64       # log standard deviation of observation noise\n",
    "    \n",
    "    # Observation data\n",
    "    nobsv::Int              # Number of observations\n",
    "    X::Matrix{Float64}      # Input observations\n",
    "    y::Vector{Float64}      # Output observations\n",
    "    D::Array{Float64,2}\n",
    "    data::KernelData        # Auxiliary observation data (to speed up calculations)\n",
    "    βdata::KernelData\n",
    "    p::Int                  # Dimensions of covariates\n",
    "    dim::Int                # Dimension of inputs\n",
    "    \n",
    "    # Auxiliary data\n",
    "    cK::AbstractPDMat       # (k + exp(2*obsNoise))\n",
    "    alpha::Vector{Float64}  # (k + exp(2*obsNoise))⁻¹y\n",
    "    mLL::Float64            # Marginal log-likelihood\n",
    "    dmLL::Vector{Float64}   # Gradient marginal log-likelihood\n",
    "\n",
    "    function GPCovars(X::Matrix{Float64}, \n",
    "        y::Vector{Float64}, \n",
    "        D::Matrix{Float64},\n",
    "        m::Mean, \n",
    "        k::Kernel,\n",
    "        βkern::Kernel,\n",
    "        logNoise::Float64=-1e8,\n",
    "        )\n",
    "        dim, nobsv = size(X)\n",
    "        p, nobsv2 = size(D)\n",
    "        nobsv == nobsv2 || throw(ArgumentError(\"X and D should have the same number of rows\"))\n",
    "        length(y) == nobsv || throw(ArgumentError(\"X and y should have the same number of rows\"))\n",
    "        gp = new(m, k, βkern, logNoise, nobsv, X, y, D, KernelData(k, X), KernelData(βkern, D), p, dim)\n",
    "        update_mll!(gp)\n",
    "        return gp\n",
    "    end\n",
    "end"
   ]
  },
  {
   "cell_type": "code",
   "execution_count": 19,
   "metadata": {
    "collapsed": false
   },
   "outputs": [],
   "source": [
    "function update_mll!(gp::GPCovars, cK::Matrix{Float64})\n",
    "    μ = mean(gp.m, gp.X)\n",
    "    cov!(cK, gp.βkern, gp.D, gp.βdata)\n",
    "    addcov!(cK, gp.k, gp.X, gp.data)\n",
    "    for i in 1:gp.nobsv\n",
    "        cK[i,i] += max(exp(2*gp.logNoise),1e-8)\n",
    "    end\n",
    "    gp.cK = PDMat(cK)\n",
    "    gp.alpha = gp.cK \\ (gp.y .- μ)\n",
    "    gp.mLL = -dot((gp.y-μ),gp.alpha)/2.0 - logdet(gp.cK)/2.0 - gp.nobsv*log(2π)/2.0\n",
    "end\n",
    "function update_mll!(gp::GPCovars)\n",
    "    Σbuffer = Array(Float64, gp.nobsv, gp.nobsv)\n",
    "    update_mll!(gp, Σbuffer)\n",
    "end\n",
    "function update_mll!!(gp::GPCovars)\n",
    "    cK = gp.cK.mat\n",
    "    μ = mean(gp.m, gp.X)\n",
    "    cov!(cK, gp.βkern, gp.D, gp.βdata)\n",
    "    addcov!(cK, gp.k, gp.X, gp.data)\n",
    "    for i in 1:gp.nobsv\n",
    "        cK[i,i] += max(exp(2*gp.logNoise),1e-8)\n",
    "    end\n",
    "    chol_buffer = gp.cK.chol.factors\n",
    "    copy!(chol_buffer, cK)\n",
    "    chol = cholfact!(Symmetric(chol_buffer))\n",
    "    gp.cK = PDMats.PDMat(cK, chol)\n",
    "    gp.alpha = gp.cK \\ (gp.y - μ)\n",
    "    gp.mLL = -dot((gp.y - μ),gp.alpha)/2.0 - logdet(gp.cK)/2.0 - gp.nobsv*log(2π)/2.0 # Marginal log-likelihood\n",
    "end\n",
    "function get_ααinvcKI!(ααinvcKI::Matrix, cK::AbstractPDMat, α::Vector)\n",
    "    nobsv = length(α)\n",
    "    size(ααinvcKI) == (nobsv, nobsv) || throw(ArgumentError, \n",
    "                @sprintf(\"Buffer for ααinvcKI should be a %dx%d matrix, not %dx%d\",\n",
    "                         nobsv, nobsv,\n",
    "                         size(ααinvcKI,1), size(ααinvcKI,2)))\n",
    "    ααinvcKI[:,:] = 0.0\n",
    "    @inbounds for i in 1:nobsv\n",
    "        ααinvcKI[i,i] = -1.0\n",
    "    end\n",
    "    A_ldiv_B!(cK.chol, ααinvcKI)\n",
    "    LinAlg.BLAS.ger!(1.0, α, α, ααinvcKI)\n",
    "end\n",
    "\"\"\" Update gradient of marginal log-likelihood \"\"\"\n",
    "function update_mll_and_dmll!(gp::GPCovars,\n",
    "    Kgrad::Matrix{Float64},\n",
    "    ααinvcKI::Matrix{Float64}\n",
    "    ; \n",
    "    noise::Bool=true, # include gradient component for the logNoise term\n",
    "    mean::Bool=true, # include gradient components for the mean parameters\n",
    "    kern::Bool=true, # include gradient components for the spatial kernel parameters\n",
    "    beta::Bool=true, # include gradient components for the linear regression prior terms\n",
    "    )\n",
    "    update_mll!!(gp)\n",
    "    n_mean_params = num_params(gp.m)\n",
    "    n_kern_params = num_params(gp.k)\n",
    "    n_beta_params = num_params(gp.βkern)\n",
    "    gp.dmLL = Array(Float64, noise + mean*n_mean_params + kern*n_kern_params + beta*n_beta_params)\n",
    "    logNoise = gp.logNoise\n",
    "    get_ααinvcKI!(ααinvcKI, gp.cK, gp.alpha)\n",
    "    i=1\n",
    "    if noise\n",
    "        gp.dmLL[i] = exp(2.0*logNoise)*trace(ααinvcKI)\n",
    "        i+=1\n",
    "    end\n",
    "    if mean\n",
    "        Mgrads = grad_stack(gp.m, gp.X)\n",
    "        for j in 1:n_mean_params\n",
    "            gp.dmLL[i] = dot(Mgrads[:,j],gp.alpha)\n",
    "            i += 1\n",
    "        end\n",
    "    end\n",
    "    if kern\n",
    "        for iparam in 1:n_kern_params\n",
    "            grad_slice!(Kgrad, gp.k, gp.X, gp.data, iparam)\n",
    "            gp.dmLL[i] = dot(Kgrad,ααinvcKI)/2.0\n",
    "            i+=1\n",
    "        end\n",
    "    end\n",
    "    if beta\n",
    "        for iparam in 1:n_beta_params\n",
    "            grad_slice!(Kgrad, gp.βkern, gp.D, gp.βdata, iparam)\n",
    "            gp.dmLL[i] = vecdot(ααinvcKI,Kgrad)/2.0\n",
    "            i+=1\n",
    "        end\n",
    "    end\n",
    "end\n",
    "function set_params!(gp::GPCovars, hyp::Vector{Float64}; \n",
    "                    noise::Bool=true, mean::Bool=true, kern::Bool=true, beta::Bool=true)\n",
    "    i=1\n",
    "    if noise\n",
    "        gp.logNoise = hyp[i]\n",
    "        i+=1\n",
    "    end\n",
    "    if mean\n",
    "        set_params!(gp.m, hyp[i:i+num_params(gp.m)-1])\n",
    "        i+=num_params(gp.m)\n",
    "    end\n",
    "    if kern\n",
    "        set_params!(gp.k, hyp[i:i+num_params(gp.k)-1])\n",
    "        i+=num_params(gp.k)\n",
    "    end\n",
    "    if beta\n",
    "        set_params!(gp.βkern, hyp[i:i+num_params(gp.βkern)-1])\n",
    "        i+=num_params(gp.βkern)\n",
    "    end\n",
    "end\n",
    "function get_params(gp::GPCovars; noise::Bool=true, mean::Bool=true, kern::Bool=true, beta::Bool=true)\n",
    "    params = Float64[]\n",
    "    if noise; push!(params, gp.logNoise); end\n",
    "    if mean;  append!(params, get_params(gp.m)); end\n",
    "    if kern; append!(params,  get_params(gp.k)); end\n",
    "    if beta; append!(params,  get_params(gp.βkern)); end\n",
    "    return params\n",
    "end\n",
    "function optimize!(gp::GPCovars; noise::Bool=true, mean::Bool=true, kern::Bool=true, beta::Bool=true, \n",
    "                    method=ConjugateGradient(), kwargs...)\n",
    "    Kgrad_buffer = Array(Float64, gp.nobsv, gp.nobsv)\n",
    "    ααinvcKI = Array(Float64, gp.nobsv, gp.nobsv)\n",
    "    function mll(hyp::Vector{Float64})\n",
    "        try\n",
    "            set_params!(gp, hyp; noise=noise, mean=mean, kern=kern, beta=beta)\n",
    "            update_mll!!(gp)\n",
    "            return -gp.mLL\n",
    "        catch err\n",
    "             if !all(isfinite(hyp))\n",
    "                println(err)\n",
    "                return Inf\n",
    "            elseif isa(err, ArgumentError)\n",
    "                println(err)\n",
    "                return Inf\n",
    "            elseif isa(err, Base.LinAlg.PosDefException)\n",
    "                println(err)\n",
    "                return Inf\n",
    "            else\n",
    "                throw(err)\n",
    "            end\n",
    "        end        \n",
    "    end\n",
    "\n",
    "    function mll_and_dmll!(hyp::Vector{Float64}, grad::Vector{Float64})\n",
    "        try\n",
    "            set_params!(gp, hyp; noise=noise, mean=mean, kern=kern, beta=beta)\n",
    "            update_mll_and_dmll!(gp, Kgrad_buffer, ααinvcKI; noise=noise, mean=mean, kern=kern, beta=beta)\n",
    "            grad[:] = -gp.dmLL\n",
    "            return -gp.mLL\n",
    "        catch err\n",
    "             if !all(isfinite(hyp))\n",
    "                println(err)\n",
    "                return Inf\n",
    "            elseif isa(err, ArgumentError)\n",
    "                println(err)\n",
    "                return Inf\n",
    "            elseif isa(err, Base.LinAlg.PosDefException)\n",
    "                println(err)\n",
    "                return Inf\n",
    "            else\n",
    "                throw(err)\n",
    "            end\n",
    "        end \n",
    "    end\n",
    "    function dmll!(hyp::Vector{Float64}, grad::Vector{Float64})\n",
    "        mll_and_dmll!(hyp::Vector{Float64}, grad::Vector{Float64})\n",
    "    end\n",
    "\n",
    "    func = DifferentiableFunction(mll, dmll!, mll_and_dmll!)\n",
    "    init = get_params(gp;  noise=noise, mean=mean, kern=kern, beta=beta)  # Initial hyperparameter values\n",
    "    results=optimize(func,init; method=method, kwargs...)                     # Run optimizer\n",
    "    set_params!(gp, results.minimum; noise=noise, mean=mean, kern=kern, beta=beta)\n",
    "    return results\n",
    "end\n",
    ";"
   ]
  },
  {
   "cell_type": "markdown",
   "metadata": {
    "variables": {
     "length(Y_dict[27])": "<p><strong>LoadError</strong>: KeyError: key 27 not found</p>\n"
    }
   },
   "source": [
    "# Optimize hyperparameters using district 27\n",
    "\n",
    "I start by optimizing the hyperparameters $\\beta_0$, $\\sigma_\\beta$, $\\sigma_f$, $\\scrl$ and $\\sigma_y$ using only data for district 27 (the larger of the two, with {{length(Y_dict[27])}} sales. Optimizing within a single district makes it computationally quicker and easier to implement, and ensures that there is no interference from the treatment effect."
   ]
  },
  {
   "cell_type": "code",
   "execution_count": 21,
   "metadata": {
    "collapsed": false
   },
   "outputs": [
    {
     "ename": "LoadError",
     "evalue": "KeyError: key 27 not found",
     "output_type": "error",
     "traceback": [
      "KeyError: key 27 not found",
      "",
      " in getindex(::Dict{Int64,Array{Float64,2}}, ::Int64) at ./dict.jl:688"
     ]
    }
   ],
   "source": [
    "district=27 # bigger district of the two\n",
    "# GP_dict=Dict{String, GP}()\n",
    "σf = 0.2\n",
    "σy = 0.2\n",
    "L = 1300.0\n",
    "_kern = SEIso(log(L), log(σf))\n",
    "_logNoise = log(σy)\n",
    "_X = X_dict[district]'\n",
    "_Y = Y_dict[district]\n",
    "_Dd = D_[schdistr_indices[district],:]'\n",
    "_m = MeanConst(mean(_Y))\n",
    "gp=GPCovars(_X, _Y, _Dd, _m, _kern, βkern_, _logNoise)\n",
    ";"
   ]
  },
  {
   "cell_type": "markdown",
   "metadata": {},
   "source": [
    "The optimization takes a very reasonable 20-30 seconds."
   ]
  },
  {
   "cell_type": "code",
   "execution_count": 22,
   "metadata": {
    "collapsed": false
   },
   "outputs": [
    {
     "ename": "LoadError",
     "evalue": "UndefVarError: gp not defined",
     "output_type": "error",
     "traceback": [
      "UndefVarError: gp not defined",
      ""
     ]
    }
   ],
   "source": [
    "@time opt_out=optimize!(gp, iterations=10, x_tol=1e-4, f_tol=1e-3);"
   ]
  },
  {
   "cell_type": "code",
   "execution_count": 23,
   "metadata": {
    "collapsed": false
   },
   "outputs": [
    {
     "ename": "LoadError",
     "evalue": "UndefVarError: opt_out not defined",
     "output_type": "error",
     "traceback": [
      "UndefVarError: opt_out not defined",
      ""
     ]
    }
   ],
   "source": [
    "opt_out"
   ]
  },
  {
   "cell_type": "markdown",
   "metadata": {
    "variables": {
     "@sprintf(\"%.4f\", 1/√gp.βkern.ℓ2)": "<p><strong>LoadError</strong>: UndefVarError: gp not defined</p>\n",
     "@sprintf(\"%.4f\", exp(gp.logNoise))": "<p><strong>LoadError</strong>: UndefVarError: gp not defined</p>\n",
     "@sprintf(\"%.4f\", √(gp.k.σ2))": "<p><strong>LoadError</strong>: UndefVarError: gp not defined</p>\n",
     "@sprintf(\"%.4f\", √(gp.k.ℓ2))": "<p><strong>LoadError</strong>: UndefVarError: gp not defined</p>\n"
    }
   },
   "source": [
    "The fitted hyperparameters are:\n",
    "\n",
    "| Parameter      | Fitted Value                             |\n",
    "|----------------|------------------------------------------|\n",
    "| $\\sigma_y$     | {{@sprintf(\"%.4f\", exp(gp.logNoise))}} |\n",
    "| $\\sigma_f$     | {{@sprintf(\"%.4f\", √(gp.k.σ2))}}        |\n",
    "| $\\sigma_\\beta$ | {{@sprintf(\"%.4f\", 1/√gp.βkern.ℓ2)}}   |\n",
    "| $\\scrl$ (feet)   | {{@sprintf(\"%.4f\", √(gp.k.ℓ2))}}       |"
   ]
  },
  {
   "cell_type": "code",
   "execution_count": 28,
   "metadata": {
    "collapsed": false
   },
   "outputs": [
    {
     "ename": "LoadError",
     "evalue": "UndefVarError: gp not defined",
     "output_type": "error",
     "traceback": [
      "UndefVarError: gp not defined",
      ""
     ]
    }
   ],
   "source": [
    "@printf(\"σ_y: %.4f\\n\", exp(gp.logNoise))\n",
    "@printf(\"σ_f: %.4f\\n\", √(gp.k.σ2))\n",
    "@printf(\"σ_β: %.4f\\n\", 1/√gp.βkern.ℓ2)\n",
    "@printf(\"ℓ: %.4f\\n\", √(gp.k.ℓ2))"
   ]
  },
  {
   "cell_type": "markdown",
   "metadata": {},
   "source": [
    "# Get posterior mean $\\hat\\beta$"
   ]
  },
  {
   "cell_type": "markdown",
   "metadata": {},
   "source": [
    "With these hyperparameters in hand, I extract the posterior mean of the linear regression parameters $\\beta_{1j}$ and $\\beta_{2j}$, again only using district 27 data. This makes our lives easier, and I've convinced myself in other examples that it makes very little difference."
   ]
  },
  {
   "cell_type": "code",
   "execution_count": 29,
   "metadata": {
    "collapsed": false
   },
   "outputs": [],
   "source": [
    "function get_ΣYβ!(gp::GPCovars)\n",
    "    Σ = cov(gp.k, gp.X, gp.data)\n",
    "    for i in 1:gp.nobsv\n",
    "        Σ[i,i] += max(exp(2*gp.logNoise),1e-8)\n",
    "    end\n",
    "    return PDMats.PDMat(Σ)\n",
    "end\n",
    ";"
   ]
  },
  {
   "cell_type": "markdown",
   "metadata": {},
   "source": [
    "Obtaining the posterior means is pretty quick, about 0.5 seconds."
   ]
  },
  {
   "cell_type": "code",
   "execution_count": 30,
   "metadata": {
    "collapsed": false
   },
   "outputs": [
    {
     "ename": "LoadError",
     "evalue": "UndefVarError: gp not defined",
     "output_type": "error",
     "traceback": [
      "UndefVarError: gp not defined",
      ""
     ]
    }
   ],
   "source": [
    "@time ΣY_β = get_ΣYβ!(gp);"
   ]
  },
  {
   "cell_type": "code",
   "execution_count": 31,
   "metadata": {
    "collapsed": false
   },
   "outputs": [
    {
     "ename": "LoadError",
     "evalue": "UndefVarError: ΣY_β not defined",
     "output_type": "error",
     "traceback": [
      "UndefVarError: ΣY_β not defined",
      ""
     ]
    }
   ],
   "source": [
    "tmp = PDMats.X_invA_Xt(ΣY_β, gp.D)\n",
    "for i in 1:p\n",
    "    tmp[i,i] += gp.βkern.ℓ2\n",
    "end\n",
    "m = mean(gp.m,gp.X)\n",
    "βhat = (tmp \\ gp.D) * (ΣY_β \\ (gp.y.-m))\n",
    "βhat_dict=Dict(zip(coefnames(mf), βhat))\n",
    ";"
   ]
  },
  {
   "cell_type": "markdown",
   "metadata": {},
   "source": [
    "# Fit GPs to residuals\n",
    "\n",
    "I then go back to the other school districts, obtain their residuals from the linear regression, and fit $\\GP$'s to the residuals (using the hyperparameter values fitted on district 27), with constant mean set to the mean of the residuals. I then look at the boundary between districts 19 and 27, using our machinery to obtain a treatment effect cliff face, and an inverse-variance weighted average."
   ]
  },
  {
   "cell_type": "code",
   "execution_count": 32,
   "metadata": {
    "collapsed": false
   },
   "outputs": [
    {
     "ename": "LoadError",
     "evalue": "UndefVarError: βhat not defined",
     "output_type": "error",
     "traceback": [
      "UndefVarError: βhat not defined",
      ""
     ]
    }
   ],
   "source": [
    "resid = for_mm[:logSalePricePerSQFT].values - D_*βhat\n",
    "resid_dict=Dict{Int, Vector{Float64}}()\n",
    "for name in schdistrs\n",
    "    resid_dict[name] = resid[schdistr_indices[name]]\n",
    "end"
   ]
  },
  {
   "cell_type": "code",
   "execution_count": 33,
   "metadata": {
    "collapsed": false
   },
   "outputs": [
    {
     "ename": "LoadError",
     "evalue": "UndefVarError: resid_dict not defined",
     "output_type": "error",
     "traceback": [
      "UndefVarError: resid_dict not defined",
      "",
      " in macro expansion; at ./In[33]:7 [inlined]",
      " in anonymous at ./<missing>:?"
     ]
    }
   ],
   "source": [
    "resid_GP_dict=Dict{Int, GP}()\n",
    "for name in schdistrs\n",
    "    X = X_dict[name]\n",
    "    if size(X,1)==0\n",
    "        continue\n",
    "    end\n",
    "    Y = resid_dict[name]\n",
    "    fit = GP(X', Y, MeanConst(mean(Y)), gp.k, gp.logNoise)\n",
    "    resid_GP_dict[name] = fit\n",
    "end"
   ]
  },
  {
   "cell_type": "code",
   "execution_count": 34,
   "metadata": {
    "collapsed": false
   },
   "outputs": [
    {
     "ename": "LoadError",
     "evalue": "KeyError: key 19 not found",
     "output_type": "error",
     "traceback": [
      "KeyError: key 19 not found",
      "",
      " in getindex(::Dict{Int64,GaussianProcesses.GP}, ::Int64) at ./dict.jl:688"
     ]
    }
   ],
   "source": [
    "distrA,distrB=19,27\n",
    "resid_μposterior, resid_Σposterior = GeoRDD.cliff_face(resid_GP_dict[distrA], resid_GP_dict[distrB],\n",
    "                                                hcat(sentinels[distrA,distrB].coordinates...))\n",
    ";"
   ]
  },
  {
   "cell_type": "markdown",
   "metadata": {},
   "source": [
    "For context, here is a plot of my sentinel points between the two districts. The districts are on the coastline, so some of the boundary runs in the water, and then there's some sentinels on an island in Jamaica Bay. In the treatment effect cliff face that follows, we see a corresponding discontinuous jump in $\\tau(x)$ and its posterior variance."
   ]
  },
  {
   "cell_type": "code",
   "execution_count": 35,
   "metadata": {
    "collapsed": false
   },
   "outputs": [
    {
     "ename": "LoadError",
     "evalue": "UndefVarError: X◫ not defined",
     "output_type": "error",
     "traceback": [
      "UndefVarError: X◫ not defined",
      ""
     ]
    }
   ],
   "source": [
    "plt.plot(X◫[1,:], X◫[2,:], \"-x\")\n",
    "plt.plot(X◫[1,1], X◫[2,1], \"o\", color=\"green\", label=\"first point\")\n",
    "plt.plot(X◫[1,end], X◫[2,end], \"o\", color=\"red\", label=\"last point\")\n",
    "plt.legend(loc=\"best\", fontsize=\"small\")\n",
    "plt.gca()[:set_aspect](\"equal\")"
   ]
  },
  {
   "cell_type": "code",
   "execution_count": 36,
   "metadata": {
    "collapsed": false
   },
   "outputs": [
    {
     "ename": "LoadError",
     "evalue": "UndefVarError: resid_μposterior not defined",
     "output_type": "error",
     "traceback": [
      "UndefVarError: resid_μposterior not defined",
      ""
     ]
    }
   ],
   "source": [
    "PyPlot.plt[:interactive](true)\n",
    "plt.title(\"Treatment Effect Cliff Face\")\n",
    "PyPlot.plt[:interactive](false)\n",
    "plt.plot(resid_μposterior, color=\"blue\", \"-o\", label=L\"posterior of $\\tau(x)$ on residuals\")\n",
    "plt.plot(resid_μposterior.+√diag(resid_Σposterior), color=\"blue\", linestyle=\":\")\n",
    "plt.plot(resid_μposterior.-√diag(resid_Σposterior), color=\"blue\", linestyle=\":\")\n",
    "plt.axhline(y=0, color=\"black\", linewidth=2)\n",
    "plt.ylabel(L\"\\tau(x)\")\n",
    "plt.xlabel(\"position along boundary\")\n",
    "plt.legend()\n",
    "PyPlot.plt[:interactive](true)\n",
    ";"
   ]
  },
  {
   "cell_type": "markdown",
   "metadata": {},
   "source": [
    "The following plot just shows the posterior standard deviation against the latitude of the sentinel points (the Northmost sentinel point is on the right of this plot, so it's horizontally flipped from the cliff face plot above). We see that the standard deviation is lowest in the most densely populated part of the boundary, and very high on the island."
   ]
  },
  {
   "cell_type": "code",
   "execution_count": 37,
   "metadata": {
    "collapsed": false
   },
   "outputs": [
    {
     "ename": "LoadError",
     "evalue": "UndefVarError: X◫ not defined",
     "output_type": "error",
     "traceback": [
      "UndefVarError: X◫ not defined",
      ""
     ]
    }
   ],
   "source": [
    "plt.plot(X◫[2,:], √diag(resid_Σposterior), \"-o\")\n",
    "plt.plot(X◫[2,1], √diag(resid_Σposterior)[1], color=\"green\", \"o\", label=\"first sentinel\")\n",
    "plt.plot(X◫[2,end], √diag(resid_Σposterior)[end], color=\"red\", \"o\", label=\"last sentinel\")\n",
    "plt.ylim(0)\n",
    "plt.xlabel(\"latitude\")\n",
    "plt.ylabel(L\"\\sqrt\\mathbb{V}\\tau(x)\")\n",
    "plt.legend(loc=\"best\")\n",
    ";"
   ]
  },
  {
   "cell_type": "markdown",
   "metadata": {},
   "source": [
    "The inverse-variance treatment effect is very strong, we get:\n",
    "\\begin{align}\n",
    "    \\tau &\\mid Y \\sim \\normal\\del{\\mu=-0.174, \\sigma=0.049} \\\\\n",
    "    \\Pr\\del{\\tau>0 \\mid Y} &= 0.022\\%\n",
    "\\end{align}"
   ]
  },
  {
   "cell_type": "code",
   "execution_count": 38,
   "metadata": {
    "collapsed": false
   },
   "outputs": [
    {
     "ename": "LoadError",
     "evalue": "UndefVarError: resid_μposterior not defined",
     "output_type": "error",
     "traceback": [
      "UndefVarError: resid_μposterior not defined",
      ""
     ]
    }
   ],
   "source": [
    "τpost=GeoRDD.inverse_variance(resid_μposterior, resid_Σposterior)\n",
    "@printf(\"τ|Y ∼ Normal(μ=%.3f, σ=%.3f)\\n\", mean(τpost), std(τpost))\n",
    "@printf(\"P(τ>0|Y) = %.3f%%\", ccdf(τpost, 0.0)*100)"
   ]
  },
  {
   "cell_type": "code",
   "execution_count": 39,
   "metadata": {
    "collapsed": false
   },
   "outputs": [],
   "source": [
    "# mean(Y_dict[distrA])-mean(Y_dict[distrB])"
   ]
  },
  {
   "cell_type": "markdown",
   "metadata": {},
   "source": [
    "# Pairwise treatment effect\n",
    "\n",
    "Beyond districts 19 and 27, I now look at every pair of contiguous NYC school districts, and compute the inverse-variance treatment effect. I then draw a map of all the district boundaries with the thickness of the boundaries drawn proportionally to the effect size $\\E \\tau/\\sqrt{\\V\\tau}$. Boundaries with $\\tau$ at least two standard deviations away from 0 are shown in black."
   ]
  },
  {
   "cell_type": "code",
   "execution_count": 40,
   "metadata": {
    "collapsed": false
   },
   "outputs": [],
   "source": [
    "function get_τpost(gp_i::GP, gp_j::GP, sentinelX::Matrix)\n",
    "    μ, Σ = GeoRDD.cliff_face(gp_i, gp_j, sentinelX)\n",
    "    τpost = GeoRDD.inverse_variance(μ, Σ)\n",
    "    return τpost\n",
    "end \n",
    ";"
   ]
  },
  {
   "cell_type": "code",
   "execution_count": 41,
   "metadata": {
    "collapsed": false
   },
   "outputs": [
    {
     "ename": "LoadError",
     "evalue": "KeyError: key 30 not found",
     "output_type": "error",
     "traceback": [
      "KeyError: key 30 not found",
      "",
      " in getindex(::Dict{Int64,GaussianProcesses.GP}, ::Int64) at ./dict.jl:688",
      " in macro expansion; at ./In[41]:4 [inlined]",
      " in anonymous at ./<missing>:?"
     ]
    }
   ],
   "source": [
    "τpost_pairs = Dict{Tuple{Int64,Int64},Normal}()\n",
    "for (distrA,distrB) in keys(sentinels)\n",
    "    X◫ = hcat(sentinels[distrA,distrB].coordinates...)\n",
    "    τpost = get_τpost(resid_GP_dict[distrA], resid_GP_dict[distrB], X◫)\n",
    "    τpost_pairs[distrA,distrB] = τpost\n",
    "end"
   ]
  },
  {
   "cell_type": "code",
   "execution_count": 42,
   "metadata": {
    "collapsed": false
   },
   "outputs": [
    {
     "ename": "LoadError",
     "evalue": "KeyError: key 24 not found",
     "output_type": "error",
     "traceback": [
      "KeyError: key 24 not found",
      "",
      " in getindex(::Dict{Int64,Array{Float64,2}}, ::Int64) at ./dict.jl:688",
      " in macro expansion; at ./In[42]:8 [inlined]",
      " in anonymous at ./<missing>:?"
     ]
    }
   ],
   "source": [
    "for distr_pair in keys(sentinels)\n",
    "    distrA, distrB = distr_pair\n",
    "    if distrA > distrB\n",
    "        continue\n",
    "    end\n",
    "    X◫ = hcat(sentinels[distr_pair].coordinates...)\n",
    "    \n",
    "    center_A = mean(X_dict[distrA],1)\n",
    "    center_A = mean(X_dict[distrB],1)\n",
    "    center_X◫ = mean(X◫, 1)\n",
    "    arrow_A = \n",
    "    X_towards_A = \n",
    "    \n",
    "    τpost = τpost_pairs[distr_pair]\n",
    "    eff_size = abs(mean(τpost)) / std(τpost)\n",
    "    if eff_size > 2\n",
    "        color=\"black\"\n",
    "    else\n",
    "        color=\"gray\"\n",
    "    end\n",
    "    plt.plot(X◫[1,:], X◫[2,:], linewidth=eff_size, color=color)\n",
    "end\n",
    "plt.gca()[:set_aspect](\"equal\")\n",
    "plt.title(L\"District borders with thickness $\\propto \\mathbb{E}\\tau/{\\sqrt\\mathbb{V}\\tau}$ \")\n",
    ";"
   ]
  },
  {
   "cell_type": "markdown",
   "metadata": {},
   "source": [
    "# Next steps\n",
    "\n",
    "* Fit hyperparameters on more districts than just the 27th\n",
    "* Decide if this is a sufficiently convincing example to be used in the paper\n",
    "* Revisit once we've implemented Bayesian inference on hyperparameters"
   ]
  },
  {
   "cell_type": "markdown",
   "metadata": {},
   "source": [
    "# Optimizing hyperparameters using multiple districts"
   ]
  },
  {
   "cell_type": "code",
   "execution_count": 43,
   "metadata": {
    "collapsed": false
   },
   "outputs": [
    {
     "ename": "LoadError",
     "evalue": "UndefVarError: gp not defined",
     "output_type": "error",
     "traceback": [
      "UndefVarError: gp not defined",
      "",
      " in macro expansion; at ./In[43]:8 [inlined]",
      " in anonymous at ./<missing>:?"
     ]
    }
   ],
   "source": [
    "GP_dict=Dict{Int, GP}()\n",
    "for name in schdistrs\n",
    "    X = X_dict[name]\n",
    "    if size(X,1)==0\n",
    "        continue\n",
    "    end\n",
    "    Y = Y_dict[name]\n",
    "    fit = GP(X', Y, MeanConst(mean(Y)), gp.k, gp.logNoise)\n",
    "    GP_dict[name] = fit\n",
    "end"
   ]
  },
  {
   "cell_type": "code",
   "execution_count": 44,
   "metadata": {
    "collapsed": false
   },
   "outputs": [
    {
     "data": {
      "text/plain": [
       "MGPCV"
      ]
     },
     "execution_count": 44,
     "metadata": {},
     "output_type": "execute_result"
    }
   ],
   "source": [
    "module MGPCV\n",
    "    using GaussianProcesses\n",
    "    using PDMats\n",
    "    using Optim\n",
    "    include(\"../src/multigp_covars.jl\")\n",
    "end"
   ]
  },
  {
   "cell_type": "markdown",
   "metadata": {},
   "source": [
    "## subset of districts\n",
    "\n",
    "The entire dataset is too big to fit with a $\\GP$, so let's subset to districts near the boundary we are focusing on."
   ]
  },
  {
   "cell_type": "code",
   "execution_count": 45,
   "metadata": {
    "collapsed": false
   },
   "outputs": [
    {
     "ename": "LoadError",
     "evalue": "KeyError: key 18 not found",
     "output_type": "error",
     "traceback": [
      "KeyError: key 18 not found",
      "",
      " in getindex(::Dict{Int64,Array{Int64,1}}, ::Int64) at ./dict.jl:688",
      " in collect(::Base.Generator{Array{Int64,1},##8#9}) at ./array.jl:307"
     ]
    }
   ],
   "source": [
    "local_distrs = [18,19,23,24,25,26,27,28,29]\n",
    "\n",
    "local_indices = vcat(collect(schdistr_indices[distr] for distr in local_distrs)...)\n",
    "\n",
    "mgpcv=MGPCV.MultiGPCovars(D_[local_indices,:], [GP_dict[distr] for distr in local_distrs], βkern_);"
   ]
  },
  {
   "cell_type": "code",
   "execution_count": 46,
   "metadata": {
    "collapsed": false
   },
   "outputs": [
    {
     "ename": "LoadError",
     "evalue": "UndefVarError: mgpcv not defined",
     "output_type": "error",
     "traceback": [
      "UndefVarError: mgpcv not defined",
      ""
     ]
    }
   ],
   "source": [
    "mgpcv.nobsv"
   ]
  },
  {
   "cell_type": "code",
   "execution_count": 47,
   "metadata": {
    "collapsed": false
   },
   "outputs": [
    {
     "ename": "LoadError",
     "evalue": "UndefVarError: mgpcv not defined",
     "output_type": "error",
     "traceback": [
      "UndefVarError: mgpcv not defined",
      ""
     ]
    }
   ],
   "source": [
    "buf1 = zeros(mgpcv.nobsv, mgpcv.nobsv)\n",
    "buf2 = zeros(mgpcv.nobsv, mgpcv.nobsv)\n",
    ";"
   ]
  },
  {
   "cell_type": "code",
   "execution_count": 48,
   "metadata": {
    "collapsed": false
   },
   "outputs": [
    {
     "ename": "LoadError",
     "evalue": "UndefVarError: mgpcv not defined",
     "output_type": "error",
     "traceback": [
      "UndefVarError: mgpcv not defined",
      ""
     ]
    }
   ],
   "source": [
    "@time MGPCV.update_mll!(mgpcv)"
   ]
  },
  {
   "cell_type": "code",
   "execution_count": 49,
   "metadata": {
    "collapsed": false
   },
   "outputs": [
    {
     "ename": "LoadError",
     "evalue": "UndefVarError: mgpcv not defined",
     "output_type": "error",
     "traceback": [
      "UndefVarError: mgpcv not defined",
      ""
     ]
    }
   ],
   "source": [
    "@time MGPCV.update_mll_and_dmll!(mgpcv, buf1, buf2, mean=false)"
   ]
  },
  {
   "cell_type": "code",
   "execution_count": 50,
   "metadata": {
    "collapsed": false
   },
   "outputs": [
    {
     "ename": "LoadError",
     "evalue": "UndefVarError: mgpcv not defined",
     "output_type": "error",
     "traceback": [
      "UndefVarError: mgpcv not defined",
      ""
     ]
    }
   ],
   "source": [
    "@time opt_output=optimize!(\n",
    "        mgpcv, \n",
    "        noise=true,\n",
    "        kern=true,\n",
    "        mean=false,\n",
    "        beta=true,\n",
    "        show_trace=true,\n",
    "        iterations=10,\n",
    "        x_tol=1e-3,\n",
    "        f_tol=1e-3,\n",
    "    )"
   ]
  },
  {
   "cell_type": "markdown",
   "metadata": {
    "variables": {
     "@sprintf(\"%.4f\", 1/√mgpcv.βkern.ℓ2)": "<p><strong>LoadError</strong>: UndefVarError: mgpcv not defined</p>\n",
     "@sprintf(\"%.4f\", exp(mgpcv.logNoise))": "<p><strong>LoadError</strong>: UndefVarError: mgpcv not defined</p>\n",
     "@sprintf(\"%.4f\", √(mgpcv.k.σ2))": "<p><strong>LoadError</strong>: UndefVarError: mgpcv not defined</p>\n",
     "@sprintf(\"%.4f\", √(mgpcv.k.ℓ2))": "<p><strong>LoadError</strong>: UndefVarError: mgpcv not defined</p>\n"
    }
   },
   "source": [
    "The fitted hyperparameters are:\n",
    "\n",
    "| Parameter      | Fitted Value                             |\n",
    "|----------------|------------------------------------------|\n",
    "| $\\sigma_y$     | {{@sprintf(\"%.4f\", exp(mgpcv.logNoise))}} |\n",
    "| $\\sigma_f$     | {{@sprintf(\"%.4f\", √(mgpcv.k.σ2))}}        |\n",
    "| $\\sigma_\\beta$ | {{@sprintf(\"%.4f\", 1/√mgpcv.βkern.ℓ2)}}   |\n",
    "| $\\scrl$ (feet)   | {{@sprintf(\"%.4f\", √(mgpcv.k.ℓ2))}}       |"
   ]
  },
  {
   "cell_type": "code",
   "execution_count": 55,
   "metadata": {
    "collapsed": false
   },
   "outputs": [
    {
     "ename": "LoadError",
     "evalue": "UndefVarError: gp not defined",
     "output_type": "error",
     "traceback": [
      "UndefVarError: gp not defined",
      ""
     ]
    }
   ],
   "source": [
    "@printf(\"σ_y: %.4f\\n\", exp(gp.logNoise))\n",
    "@printf(\"σ_f: %.4f\\n\", √(gp.k.σ2))\n",
    "@printf(\"σ_β: %.4f\\n\", 1/√gp.βkern.ℓ2)\n",
    "@printf(\"ℓ: %.4f\\n\", √(gp.k.ℓ2))"
   ]
  },
  {
   "cell_type": "markdown",
   "metadata": {},
   "source": [
    "It takes a few minutes to fit the hyperparameters. The fitted lengthscale is very (suspiciously) long! 5400 feet $\\approx$ 1 mile or 1.6 km. Do we believe that spatial variation in house prices in NYC has a lengthscale of the order of a mile?"
   ]
  },
  {
   "cell_type": "markdown",
   "metadata": {},
   "source": [
    "# Get posterior mean $\\beta$ using multiple districts"
   ]
  },
  {
   "cell_type": "code",
   "execution_count": 56,
   "metadata": {
    "collapsed": false
   },
   "outputs": [
    {
     "data": {
      "text/plain": [
       "spatial_cov (generic function with 1 method)"
      ]
     },
     "execution_count": 56,
     "metadata": {},
     "output_type": "execute_result"
    }
   ],
   "source": [
    "function spatial_cov(mgpcv::MGPCV.MultiGPCovars)\n",
    "    cK = zeros(mgpcv.nobsv, mgpcv.nobsv)\n",
    "    istart=0\n",
    "    for gp in mgpcv.mgp\n",
    "        addcov!(view(cK, istart+1:istart+gp.nobsv, istart+1:istart+gp.nobsv), mgpcv.k, gp.X, gp.data)\n",
    "        istart += gp.nobsv\n",
    "    end\n",
    "    return cK\n",
    "end"
   ]
  },
  {
   "cell_type": "code",
   "execution_count": 57,
   "metadata": {
    "collapsed": true
   },
   "outputs": [],
   "source": [
    "function get_ΣYβ(mgpcv::MGPCV.MultiGPCovars)\n",
    "    cK = spatial_cov(mgpcv)\n",
    "    for i in 1:mgpcv.nobsv\n",
    "        cK[i,i] += max(exp(2*mgpcv.logNoise),1e-8)\n",
    "    end\n",
    "    return PDMats.PDMat(cK)\n",
    "end\n",
    ";"
   ]
  },
  {
   "cell_type": "code",
   "execution_count": 58,
   "metadata": {
    "collapsed": false
   },
   "outputs": [
    {
     "data": {
      "text/plain": [
       "mean (generic function with 88 methods)"
      ]
     },
     "execution_count": 58,
     "metadata": {},
     "output_type": "execute_result"
    }
   ],
   "source": [
    "function mean(mgpcv::MGPCV.MultiGPCovars)\n",
    "    μ = Array(Float64, mgpcv.nobsv)\n",
    "    istart=0\n",
    "    for gp in mgpcv.mgp\n",
    "        μ[istart+1:istart+gp.nobsv] = mean(mgpcv.m,gp.X)\n",
    "        istart += gp.nobsv\n",
    "    end\n",
    "    return μ\n",
    "end    "
   ]
  },
  {
   "cell_type": "code",
   "execution_count": 59,
   "metadata": {
    "collapsed": false
   },
   "outputs": [
    {
     "ename": "LoadError",
     "evalue": "UndefVarError: mgpcv not defined",
     "output_type": "error",
     "traceback": [
      "UndefVarError: mgpcv not defined",
      ""
     ]
    }
   ],
   "source": [
    "@time ΣY_β = get_ΣYβ(mgpcv);"
   ]
  },
  {
   "cell_type": "code",
   "execution_count": 60,
   "metadata": {
    "collapsed": false
   },
   "outputs": [
    {
     "ename": "LoadError",
     "evalue": "UndefVarError: ΣY_β not defined",
     "output_type": "error",
     "traceback": [
      "UndefVarError: ΣY_β not defined",
      ""
     ]
    }
   ],
   "source": [
    "tmp = PDMats.X_invA_Xt(ΣY_β, mgpcv.D')\n",
    "for i in 1:p\n",
    "    tmp[i,i] += mgpcv.βkern.ℓ2\n",
    "end"
   ]
  },
  {
   "cell_type": "code",
   "execution_count": 61,
   "metadata": {
    "collapsed": false
   },
   "outputs": [
    {
     "ename": "LoadError",
     "evalue": "UndefVarError: mgpcv not defined",
     "output_type": "error",
     "traceback": [
      "UndefVarError: mgpcv not defined",
      ""
     ]
    }
   ],
   "source": [
    "m = mean(mgpcv);"
   ]
  },
  {
   "cell_type": "code",
   "execution_count": 62,
   "metadata": {
    "collapsed": false
   },
   "outputs": [
    {
     "ename": "LoadError",
     "evalue": "UndefVarError: tmp not defined",
     "output_type": "error",
     "traceback": [
      "UndefVarError: tmp not defined",
      ""
     ]
    }
   ],
   "source": [
    "βhat = (tmp \\ mgpcv.D') * (ΣY_β \\ (mgpcv.y.-m))\n",
    "βhat_dict=Dict(zip(coefnames(mf), βhat))"
   ]
  },
  {
   "cell_type": "code",
   "execution_count": 63,
   "metadata": {
    "collapsed": false
   },
   "outputs": [
    {
     "name": "stdout",
     "output_type": "stream",
     "text": [
      "search: \u001b[1mw\u001b[22m\u001b[1mr\u001b[22m\u001b[1mi\u001b[22m\u001b[1mt\u001b[22m\u001b[1me\u001b[22m\u001b[1mt\u001b[22m\u001b[1ma\u001b[22m\u001b[1mb\u001b[22m\u001b[1ml\u001b[22m\u001b[1me\u001b[22m\n",
      "\n"
     ]
    },
    {
     "data": {
      "text/markdown": [
       "Write data to a tabular-file format (CSV, TSV, ...)\n",
       "\n",
       "```julia\n",
       "writetable(filename, df, [keyword options])\n",
       "```\n",
       "\n",
       "### Arguments\n",
       "\n",
       "  * `filename::AbstractString` : the filename to be created\n",
       "  * `df::AbstractDataFrame` : the AbstractDataFrame to be written\n",
       "\n",
       "### Keyword Arguments\n",
       "\n",
       "  * `separator::Char` – The separator character that you would like to use. Defaults to the output of `getseparator(filename)`, which uses commas for files that end in `.csv`, tabs for files that end in `.tsv` and a single space for files that end in `.wsv`.\n",
       "  * `quotemark::Char` – The character used to delimit string fields. Defaults to `'\"'`.\n",
       "  * `header::Bool` – Should the file contain a header that specifies the column names from `df`. Defaults to `true`.\n",
       "  * `nastring::AbstractString` – What to write in place of missing data. Defaults to `\"NULL\"`.\n",
       "\n",
       "### Result\n",
       "\n",
       "  * `::DataFrame`\n",
       "\n",
       "### Examples\n",
       "\n",
       "```julia\n",
       "df = DataFrame(A = 1:10)\n",
       "writetable(\"output.csv\", df)\n",
       "writetable(\"output.dat\", df, separator = ',', header = false)\n",
       "writetable(\"output.dat\", df, quotemark = '', separator = ',')\n",
       "writetable(\"output.dat\", df, header = false)\n",
       "```\n"
      ],
      "text/plain": [
       "Write data to a tabular-file format (CSV, TSV, ...)\n",
       "\n",
       "```julia\n",
       "writetable(filename, df, [keyword options])\n",
       "```\n",
       "\n",
       "### Arguments\n",
       "\n",
       "  * `filename::AbstractString` : the filename to be created\n",
       "  * `df::AbstractDataFrame` : the AbstractDataFrame to be written\n",
       "\n",
       "### Keyword Arguments\n",
       "\n",
       "  * `separator::Char` – The separator character that you would like to use. Defaults to the output of `getseparator(filename)`, which uses commas for files that end in `.csv`, tabs for files that end in `.tsv` and a single space for files that end in `.wsv`.\n",
       "  * `quotemark::Char` – The character used to delimit string fields. Defaults to `'\"'`.\n",
       "  * `header::Bool` – Should the file contain a header that specifies the column names from `df`. Defaults to `true`.\n",
       "  * `nastring::AbstractString` – What to write in place of missing data. Defaults to `\"NULL\"`.\n",
       "\n",
       "### Result\n",
       "\n",
       "  * `::DataFrame`\n",
       "\n",
       "### Examples\n",
       "\n",
       "```julia\n",
       "df = DataFrame(A = 1:10)\n",
       "writetable(\"output.csv\", df)\n",
       "writetable(\"output.dat\", df, separator = ',', header = false)\n",
       "writetable(\"output.dat\", df, quotemark = '', separator = ',')\n",
       "writetable(\"output.dat\", df, header = false)\n",
       "```\n"
      ]
     },
     "execution_count": 63,
     "metadata": {},
     "output_type": "execute_result"
    }
   ],
   "source": [
    "?writetable"
   ]
  },
  {
   "cell_type": "code",
   "execution_count": 64,
   "metadata": {
    "collapsed": false
   },
   "outputs": [
    {
     "ename": "LoadError",
     "evalue": "UndefVarError: βhat not defined",
     "output_type": "error",
     "traceback": [
      "UndefVarError: βhat not defined",
      ""
     ]
    }
   ],
   "source": [
    "writetable(\"betahat.csv\", sort(DataFrame(key=coefnames(mf), val=βhat)))"
   ]
  },
  {
   "cell_type": "markdown",
   "metadata": {},
   "source": [
    "# Fit residuals with new $\\hat\\beta$ and hyperparameters"
   ]
  },
  {
   "cell_type": "code",
   "execution_count": 65,
   "metadata": {
    "collapsed": false
   },
   "outputs": [
    {
     "ename": "LoadError",
     "evalue": "UndefVarError: βhat not defined",
     "output_type": "error",
     "traceback": [
      "UndefVarError: βhat not defined",
      ""
     ]
    }
   ],
   "source": [
    "resid = for_mm[:logSalePricePerSQFT].values - D_*βhat\n",
    "resid_dict=Dict{Int, Vector{Float64}}()\n",
    "for name in schdistrs\n",
    "    resid_dict[name] = resid[schdistr_indices[name]]\n",
    "end"
   ]
  },
  {
   "cell_type": "code",
   "execution_count": 66,
   "metadata": {
    "collapsed": false
   },
   "outputs": [
    {
     "ename": "LoadError",
     "evalue": "UndefVarError: resid_dict not defined",
     "output_type": "error",
     "traceback": [
      "UndefVarError: resid_dict not defined",
      "",
      " in macro expansion; at ./In[66]:7 [inlined]",
      " in anonymous at ./<missing>:?"
     ]
    }
   ],
   "source": [
    "resid_GP_dict=Dict{Int, GP}()\n",
    "for name in schdistrs\n",
    "    X = X_dict[name]\n",
    "    if size(X,1)==0\n",
    "        continue\n",
    "    end\n",
    "    Y = resid_dict[name]\n",
    "    fit = GP(X', Y, MeanConst(mean(Y)), mgpcv.k, mgpcv.logNoise)\n",
    "    resid_GP_dict[name] = fit\n",
    "end"
   ]
  },
  {
   "cell_type": "code",
   "execution_count": 67,
   "metadata": {
    "collapsed": false
   },
   "outputs": [
    {
     "ename": "LoadError",
     "evalue": "KeyError: key 19 not found",
     "output_type": "error",
     "traceback": [
      "KeyError: key 19 not found",
      "",
      " in getindex(::Dict{Int64,GaussianProcesses.GP}, ::Int64) at ./dict.jl:688"
     ]
    }
   ],
   "source": [
    "distrA,distrB=19,27\n",
    "resid_μposterior, resid_Σposterior = GeoRDD.cliff_face(resid_GP_dict[distrA], resid_GP_dict[distrB],\n",
    "                                                hcat(sentinels[distrA,distrB].coordinates...))\n",
    ";"
   ]
  },
  {
   "cell_type": "code",
   "execution_count": 68,
   "metadata": {
    "collapsed": false
   },
   "outputs": [
    {
     "ename": "LoadError",
     "evalue": "UndefVarError: resid_μposterior not defined",
     "output_type": "error",
     "traceback": [
      "UndefVarError: resid_μposterior not defined",
      ""
     ]
    }
   ],
   "source": [
    "PyPlot.plt[:interactive](true)\n",
    "plt.title(\"Treatment Effect Cliff Face\")\n",
    "PyPlot.plt[:interactive](false)\n",
    "plt.plot(resid_μposterior, color=\"blue\", \"-o\", label=L\"posterior of $\\tau(x)$ on residuals\")\n",
    "plt.plot(resid_μposterior.+√diag(resid_Σposterior), color=\"blue\", linestyle=\":\")\n",
    "plt.plot(resid_μposterior.-√diag(resid_Σposterior), color=\"blue\", linestyle=\":\")\n",
    "plt.axhline(y=0, color=\"black\", linewidth=2)\n",
    "plt.ylabel(L\"\\tau(x)\")\n",
    "plt.xlabel(\"position along boundary\")\n",
    "plt.legend()\n",
    "PyPlot.plt[:interactive](true)\n",
    ";"
   ]
  },
  {
   "cell_type": "code",
   "execution_count": 69,
   "metadata": {
    "collapsed": false
   },
   "outputs": [
    {
     "ename": "LoadError",
     "evalue": "UndefVarError: resid_μposterior not defined",
     "output_type": "error",
     "traceback": [
      "UndefVarError: resid_μposterior not defined",
      ""
     ]
    }
   ],
   "source": [
    "τpost=GeoRDD.inverse_variance(resid_μposterior, resid_Σposterior)\n",
    "@printf(\"τ|Y ∼ Normal(μ=%.3f, σ=%.3f)\\n\", mean(τpost), std(τpost))\n",
    "@printf(\"P(τ>0|Y) = %.3f%%\", ccdf(τpost, 0.0)*100)"
   ]
  },
  {
   "cell_type": "markdown",
   "metadata": {},
   "source": [
    "With the updated $\\hat\\beta$ and hyperparameters, the cliff face appears smoother, and the treatment effect gets a little bit weaker. There's a bigger increase in posterior variance when the border goes over the water."
   ]
  },
  {
   "cell_type": "markdown",
   "metadata": {},
   "source": [
    "# Parwise treatment effect"
   ]
  },
  {
   "cell_type": "code",
   "execution_count": 70,
   "metadata": {
    "collapsed": false
   },
   "outputs": [
    {
     "ename": "LoadError",
     "evalue": "KeyError: key 30 not found",
     "output_type": "error",
     "traceback": [
      "KeyError: key 30 not found",
      "",
      " in getindex(::Dict{Int64,GaussianProcesses.GP}, ::Int64) at ./dict.jl:688",
      " in macro expansion; at ./In[70]:4 [inlined]",
      " in anonymous at ./<missing>:?"
     ]
    }
   ],
   "source": [
    "τpost_pairs = Dict{Tuple{Int64,Int64},Normal}()\n",
    "for (distrA,distrB) in keys(sentinels)\n",
    "    X◫ = hcat(sentinels[distrA,distrB].coordinates...)\n",
    "    τpost = get_τpost(resid_GP_dict[distrA], resid_GP_dict[distrB], X◫)\n",
    "    τpost_pairs[distrA,distrB] = τpost\n",
    "end"
   ]
  },
  {
   "cell_type": "code",
   "execution_count": 71,
   "metadata": {
    "collapsed": false
   },
   "outputs": [
    {
     "ename": "LoadError",
     "evalue": "KeyError: key (24,27) not found",
     "output_type": "error",
     "traceback": [
      "KeyError: key (24,27) not found",
      "",
      " in getindex(::Dict{Tuple{Int64,Int64},Distributions.Normal}, ::Tuple{Int64,Int64}) at ./dict.jl:688",
      " in macro expansion; at ./In[71]:8 [inlined]",
      " in anonymous at ./<missing>:?"
     ]
    }
   ],
   "source": [
    "for distr_pair in keys(sentinels)\n",
    "    distrA, distrB = distr_pair\n",
    "    if distrA > distrB\n",
    "        continue\n",
    "    end\n",
    "    X◫ = hcat(sentinels[distr_pair].coordinates...)\n",
    "    \n",
    "    τpost = τpost_pairs[distr_pair]\n",
    "    eff_size = abs(mean(τpost)) / std(τpost)\n",
    "    if eff_size > 2\n",
    "        color=\"black\"\n",
    "    else\n",
    "        color=\"gray\"\n",
    "    end\n",
    "    plt.plot(X◫[1,:], X◫[2,:], linewidth=eff_size, color=color)\n",
    "end\n",
    "plt.gca()[:set_aspect](\"equal\")\n",
    "plt.title(L\"District borders with thickness $\\propto \\mathbb{E}\\tau/{\\sqrt\\mathbb{V}\\tau}$ \")\n",
    ";"
   ]
  },
  {
   "cell_type": "markdown",
   "metadata": {},
   "source": [
    "There isn't a clear trend in treatment effects getting stronger or weaker when we go from fitting the hyperparameters on a single district to multiple districts in Brooklyn and Queens. However, it does appear that treatment effects involving districts that were included in the hyperparameter fitting go down, whereas they go up in Manhattan.\n",
    "\n",
    "One possible explanation is that some tax and building classes only appear in Manhattan, so that when we fit the linear regression parameters, those classes are given a coefficient of zero (no data, so the posterior mean is zero)."
   ]
  }
 ],
 "metadata": {
  "kernelspec": {
   "display_name": "Julia 0.5.0",
   "language": "julia",
   "name": "julia-0.5"
  },
  "language_info": {
   "file_extension": ".jl",
   "mimetype": "application/julia",
   "name": "julia",
   "version": "0.5.0"
  },
  "nav_menu": {},
  "toc": {
   "navigate_menu": true,
   "number_sections": true,
   "sideBar": true,
   "threshold": 6,
   "toc_cell": true,
   "toc_section_display": "block",
   "toc_window_display": true
  }
 },
 "nbformat": 4,
 "nbformat_minor": 1
}

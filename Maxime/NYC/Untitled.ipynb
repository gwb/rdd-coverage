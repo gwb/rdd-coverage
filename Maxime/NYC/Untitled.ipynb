{
 "cells": [
  {
   "cell_type": "markdown",
   "metadata": {},
   "source": [
    "$$\n",
    "    \\newcommand{\\genericdel}[3]{%\n",
    "      \\left#1#3\\right#2\n",
    "    }\n",
    "    \\newcommand{\\del}[1]{\\genericdel(){#1}}\n",
    "    \\newcommand{\\sbr}[1]{\\genericdel[]{#1}}\n",
    "    \\newcommand{\\cbr}[1]{\\genericdel\\{\\}{#1}}\n",
    "    \\newcommand{\\abs}[1]{\\genericdel||{#1}}\n",
    "    \\DeclareMathOperator*{\\argmin}{arg\\,min}\n",
    "    \\DeclareMathOperator*{\\argmax}{arg\\,max}\n",
    "    \\DeclareMathOperator{\\Pr}{\\mathbb{p}}\n",
    "    \\DeclareMathOperator{\\E}{\\mathbb{E}}\n",
    "    \\DeclareMathOperator{\\Ind}{\\mathbb{I}}\n",
    "    \\DeclareMathOperator{\\V}{\\mathbb{V}}\n",
    "    \\DeclareMathOperator{\\cov}{Cov}\n",
    "    \\DeclareMathOperator{\\var}{Var}\n",
    "    \\DeclareMathOperator{\\ones}{\\mathbf{1}}\n",
    "    \\DeclareMathOperator{\\invchi}{\\mathrm{Inv-\\chi}^2}\n",
    "    \\DeclareMathOperator*{\\argmin}{arg\\,min}\n",
    "    \\DeclareMathOperator*{\\argmax}{arg\\,max}\n",
    "    \\newcommand{\\effect}{\\mathrm{eff}}\n",
    "    \\newcommand{\\xtilde}{\\widetilde{X}}\n",
    "    \\DeclareMathOperator{\\normal}{\\mathcal{N}}\n",
    "    \\DeclareMathOperator{\\unif}{Uniform}\n",
    "    \\newcommand{\\boxleft}{\\unicode{x25E7}}\n",
    "    \\newcommand{\\boxright}{\\unicode{x25E8}}\n",
    "    \\newcommand{\\discont}{\\unicode{x25EB}}\n",
    "    \\newcommand{\\jleft}{\\unicode{x21E5}}\n",
    "    \\newcommand{\\jright}{\\unicode{x21E4}}\n",
    "    \\DeclareMathOperator*{\\gp}{\\mathcal{GP}}\n",
    "    \\newcommand{\\trans}{^{\\intercal}}\n",
    "    \\newcommand{\\scrS}{\\mathscr{S}}\n",
    "    \\newcommand{\\sigmaf}{\\sigma_{\\mathrm{GP}}}\n",
    "    \\newcommand{\\sigman}{\\sigma_{\\epsilon}}\n",
    "    \\newcommand{\\sigmatau}{\\sigma_{\\tau}}\n",
    "    \\newcommand{\\sigmabeta}{\\sigma_{\\beta}}\n",
    "    \\newcommand{\\sigmamu}{\\sigma_{\\mu}}\n",
    "    \\newcommand{\\sigmagamma}{\\sigma_{\\gamma}}\n",
    "    \\newcommand{\\svec}{\\mathbf{s}}\n",
    "    \\newcommand{\\indep}{\\perp}\n",
    "    \\newcommand{\\iid}{iid}\n",
    "    \\newcommand{\\vectreat}{\\Ind_{T}}\n",
    "    \\newcommand{\\yt}{Y^\\mathrm{T}}\n",
    "    \\newcommand{\\yc}{Y^\\mathrm{C}}\n",
    "    \\newcommand{\\boundary}{\\partial}\n",
    "    \\newcommand{\\sentinels}{\\mathbf{\\boundary}}\n",
    "    \\newcommand{\\eye}{\\mathbf{I}}\n",
    "    \\newcommand{\\K}{\\mathbf{K}}\n",
    "    \\DeclareMathOperator{\\trace}{trace}\n",
    "    \\newcommand{\\linavg}{\\bar{\\tau}}\n",
    "    \\newcommand{\\invvar}{\\tau^{IV}}\n",
    "    \\newcommand{\\modnull}{\\mathscr{M}_0}\n",
    "    \\newcommand{\\modalt}{\\mathscr{M}_1}\n",
    "    \\newcommand{\\degree}{\\hspace{0pt}^\\circ}\n",
    "    \\newcommand{\\saleprice}{\\mathtt{SalePrice}}\n",
    "    \\newcommand{\\sqft}{\\mathtt{SQFT}}\n",
    "    \\newcommand{\\xvec}{\\mathbf{x}}\n",
    "    \\newcommand{\\tax}{\\mathtt{TaxClass}}\n",
    "    \\newcommand{\\building}{\\mathtt{BuildingClass}}\n",
    "    \\newcommand{\\trans}{^{\\intercal}}\n",
    "$$"
   ]
  },
  {
   "cell_type": "markdown",
   "metadata": {},
   "source": [
    "$\\alpha$ alpha $abcdef$"
   ]
  },
  {
   "cell_type": "code",
   "execution_count": 19,
   "metadata": {
    "collapsed": true
   },
   "outputs": [],
   "source": [
    "import GeoInterface\n",
    "import LibGEOS"
   ]
  },
  {
   "cell_type": "code",
   "execution_count": 32,
   "metadata": {
    "collapsed": true
   },
   "outputs": [],
   "source": [
    "import GeoJSON"
   ]
  },
  {
   "cell_type": "code",
   "execution_count": 61,
   "metadata": {},
   "outputs": [
    {
     "name": "stderr",
     "output_type": "stream",
     "text": [
      "WARNING: replacing module NYC\n",
      "WARNING: Method definition (::Type{Union{LibGEOS.MultiLineString, LibGEOS.LineString}})(GeoInterface.LineString) in module NYC at /Users/imolk/Documents/Harvard/Miratrix/rdd-coverage/Maxime/NYC/NYC.jl:12 overwritten in module NYC at /Users/imolk/Documents/Harvard/Miratrix/rdd-coverage/Maxime/NYC/NYC.jl:12.\n",
      "WARNING: Method definition (::Type{Union{LibGEOS.MultiLineString, LibGEOS.LineString}})(GeoInterface.MultiLineString) in module NYC at /Users/imolk/Documents/Harvard/Miratrix/rdd-coverage/Maxime/NYC/NYC.jl:13 overwritten in module NYC at /Users/imolk/Documents/Harvard/Miratrix/rdd-coverage/Maxime/NYC/NYC.jl:13.\n",
      "WARNING: Method definition convert(Type{Union{GeoInterface.AbstractPolygon, GeoInterface.AbstractMultiPolygon}}, GeoInterface.Polygon) in module NYC at /Users/imolk/Documents/Harvard/Miratrix/rdd-coverage/Maxime/NYC/NYC.jl:18 overwritten in module NYC at /Users/imolk/Documents/Harvard/Miratrix/rdd-coverage/Maxime/NYC/NYC.jl:18.\n",
      "WARNING: Method definition convert(Type{Union{GeoInterface.AbstractPolygon, GeoInterface.AbstractMultiPolygon}}, GeoInterface.MultiPolygon) in module NYC at /Users/imolk/Documents/Harvard/Miratrix/rdd-coverage/Maxime/NYC/NYC.jl:19 overwritten in module NYC at /Users/imolk/Documents/Harvard/Miratrix/rdd-coverage/Maxime/NYC/NYC.jl:19.\n"
     ]
    },
    {
     "data": {
      "text/plain": [
       "NYC"
      ]
     },
     "execution_count": 61,
     "metadata": {},
     "output_type": "execute_result"
    }
   ],
   "source": [
    "module NYC\n",
    "    include(\"NYC.jl\")\n",
    "end"
   ]
  },
  {
   "cell_type": "code",
   "execution_count": 64,
   "metadata": {},
   "outputs": [
    {
     "data": {
      "text/plain": [
       "Dict{Int64,Union{GeoInterface.AbstractMultiPolygon, GeoInterface.AbstractPolygon}} with 32 entries:\n",
       "  1  => LibGEOS.Polygon(Ptr{Ptr{Void}} @0x00007ffcb9c15908)\n",
       "  30 => LibGEOS.Polygon(Ptr{Ptr{Void}} @0x00007ffcb9ccd368)\n",
       "  32 => LibGEOS.Polygon(Ptr{Ptr{Void}} @0x00007ffcb9c16118)\n",
       "  2  => LibGEOS.MultiPolygon(Ptr{Ptr{Void}} @0x00007ffcb93ce768)\n",
       "  16 => LibGEOS.Polygon(Ptr{Ptr{Void}} @0x00007ffcb9c51638)\n",
       "  11 => LibGEOS.MultiPolygon(Ptr{Ptr{Void}} @0x00007ffcba5e0d28)\n",
       "  21 => LibGEOS.Polygon(Ptr{Ptr{Void}} @0x00007ffcba596478)\n",
       "  26 => LibGEOS.Polygon(Ptr{Ptr{Void}} @0x00007ffcb9c51288)\n",
       "  9  => LibGEOS.Polygon(Ptr{Ptr{Void}} @0x00007ffcb93b2fa8)\n",
       "  25 => LibGEOS.Polygon(Ptr{Ptr{Void}} @0x00007ffcb9ce7278)\n",
       "  10 => LibGEOS.MultiPolygon(Ptr{Ptr{Void}} @0x00007ffcb96ed7f8)\n",
       "  7  => LibGEOS.MultiPolygon(Ptr{Ptr{Void}} @0x00007ffcb9ccd178)\n",
       "  29 => LibGEOS.Polygon(Ptr{Ptr{Void}} @0x00007ffcba5a6508)\n",
       "  19 => LibGEOS.MultiPolygon(Ptr{Ptr{Void}} @0x00007ffcba5f9778)\n",
       "  17 => LibGEOS.Polygon(Ptr{Ptr{Void}} @0x00007ffcba674248)\n",
       "  8  => LibGEOS.MultiPolygon(Ptr{Ptr{Void}} @0x00007ffcba674928)\n",
       "  22 => LibGEOS.MultiPolygon(Ptr{Ptr{Void}} @0x00007ffcb9a7b9e8)\n",
       "  6  => LibGEOS.Polygon(Ptr{Ptr{Void}} @0x00007ffcba0a29b8)\n",
       "  24 => LibGEOS.MultiPolygon(Ptr{Ptr{Void}} @0x00007ffcb9c64058)\n",
       "  4  => LibGEOS.MultiPolygon(Ptr{Ptr{Void}} @0x00007ffcb939e2f8)\n",
       "  3  => LibGEOS.Polygon(Ptr{Ptr{Void}} @0x00007ffcb9c8d688)\n",
       "  28 => LibGEOS.Polygon(Ptr{Ptr{Void}} @0x00007ffcb9cfa638)\n",
       "  5  => LibGEOS.Polygon(Ptr{Ptr{Void}} @0x00007ffcba0b4b18)\n",
       "  20 => LibGEOS.Polygon(Ptr{Ptr{Void}} @0x00007ffcb9c89718)\n",
       "  23 => LibGEOS.MultiPolygon(Ptr{Ptr{Void}} @0x00007ffcb9c2c9e8)\n",
       "  ⋮  => ⋮"
      ]
     },
     "execution_count": 64,
     "metadata": {},
     "output_type": "execute_result"
    }
   ],
   "source": [
    "schdistr_shape_dict = NYC.read_distr_shapes()"
   ]
  },
  {
   "cell_type": "code",
   "execution_count": 66,
   "metadata": {},
   "outputs": [
    {
     "data": {
      "text/plain": [
       "LibGEOS.MultiPolygon(Ptr{Ptr{Void}} @0x00007ffcba201998)"
      ]
     },
     "execution_count": 66,
     "metadata": {},
     "output_type": "execute_result"
    }
   ],
   "source": [
    "LibGEOS.union(schdistr_shape_dict[19], schdistr_shape_dict[27])"
   ]
  }
 ],
 "metadata": {
  "hide_input": false,
  "kernelspec": {
   "display_name": "Julia 0.6.0",
   "language": "julia",
   "name": "julia-0.6"
  },
  "language_info": {
   "file_extension": ".jl",
   "mimetype": "application/julia",
   "name": "julia",
   "version": "0.6.0"
  },
  "toc": {
   "colors": {
    "hover_highlight": "#DAA520",
    "running_highlight": "#FF0000",
    "selected_highlight": "#FFD700"
   },
   "moveMenuLeft": true,
   "nav_menu": {
    "height": "12px",
    "width": "252px"
   },
   "navigate_menu": true,
   "number_sections": true,
   "sideBar": true,
   "threshold": 4,
   "toc_cell": false,
   "toc_section_display": "block",
   "toc_window_display": false,
   "widenNotebook": false
  }
 },
 "nbformat": 4,
 "nbformat_minor": 2
}

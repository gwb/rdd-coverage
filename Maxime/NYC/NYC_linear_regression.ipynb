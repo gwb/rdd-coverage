{
 "cells": [
  {
   "cell_type": "code",
   "execution_count": 2,
   "metadata": {},
   "outputs": [],
   "source": [
    "using LaTeXStrings\n",
    "import PyPlot; plt=PyPlot\n",
    "plt.rc(\"figure\", dpi=300.0)\n",
    "plt.rc(\"figure\", figsize=(6,4))\n",
    "# plt.rc(\"figure\", autolayout=true)\n",
    "plt.rc(\"savefig\", dpi=300.0)\n",
    "plt.rc(\"text\", usetex=true)\n",
    "plt.rc(\"font\", family=\"serif\")\n",
    "plt.rc(\"font\", serif=\"Palatino\")\n",
    "cbbPalette = [\"#E69F00\", \"#56B4E9\", \"#009E73\", \"#F0E442\", \"#0072B2\", \"#D55E00\", \"#CC79A7\"]\n",
    ";"
   ]
  },
  {
   "cell_type": "code",
   "execution_count": 38,
   "metadata": {
    "scrolled": false
   },
   "outputs": [],
   "source": [
    "using DataFrames\n",
    "# import PDMats: AbstractPDMat, PDMat\n",
    "# import Base: mean\n",
    "using Distributions\n",
    "# using Base.LinAlg\n",
    "# using Distances\n",
    "# using GeoJSON\n",
    "# using LibGEOS\n",
    "using GLM\n",
    "# import MultivariateStats\n",
    "# import StatsModels\n",
    "# mvst=MultivariateStats\n",
    ";"
   ]
  },
  {
   "cell_type": "code",
   "execution_count": 4,
   "metadata": {
    "scrolled": true
   },
   "outputs": [
    {
     "name": "stderr",
     "output_type": "stream",
     "text": [
      "\n",
      "WARNING: deprecated syntax \"inner constructor MultiGPCovars(...) around /Users/imolk/Documents/Harvard/Miratrix/rdd-coverage/Maxime/src/multigp_covars.jl:38\".\n",
      "Use \"MultiGPCovars{MT,KT1,KT2}(...) where {MT,KT1,KT2}\" instead.\n",
      "WARNING: using NLopt.optimize! in module GeoRDD conflicts with an existing identifier.\n"
     ]
    },
    {
     "data": {
      "text/plain": [
       "GeoRDD"
      ]
     },
     "execution_count": 4,
     "metadata": {},
     "output_type": "execute_result"
    }
   ],
   "source": [
    "include(\"../src/GeoRDD.jl\")"
   ]
  },
  {
   "cell_type": "markdown",
   "metadata": {},
   "source": [
    "# Dataset and Preprocessing"
   ]
  },
  {
   "cell_type": "code",
   "execution_count": 5,
   "metadata": {
    "scrolled": false
   },
   "outputs": [
    {
     "name": "stderr",
     "output_type": "stream",
     "text": [
      "WARNING: Method definition (::Type{Union{LibGEOS.MultiLineString, LibGEOS.LineString}})(GeoInterface.LineString) in module GeoRDD at /Users/imolk/Documents/Harvard/Miratrix/rdd-coverage/Maxime/src/geometry.jl:6 overwritten in module NYC at /Users/imolk/Documents/Harvard/Miratrix/rdd-coverage/Maxime/NYC/NYC.jl:13.\n",
      "WARNING: Method definition (::Type{Union{LibGEOS.MultiLineString, LibGEOS.LineString}})(GeoInterface.MultiLineString) in module GeoRDD at /Users/imolk/Documents/Harvard/Miratrix/rdd-coverage/Maxime/src/geometry.jl:7 overwritten in module NYC at /Users/imolk/Documents/Harvard/Miratrix/rdd-coverage/Maxime/NYC/NYC.jl:14.\n",
      "\u001b[1m\u001b[36mINFO: \u001b[39m\u001b[22m\u001b[36mRecompiling stale cache file /Users/imolk/Library/Julia/packages_experimental/lib/v0.6/Formatting.ji for module Formatting.\n",
      "\u001b[39m\u001b[1m\u001b[33mWARNING: \u001b[39m\u001b[22m\u001b[33mnullable=true argument is deprecated, use allowmissing=:all instead\u001b[39m\n",
      "Stacktrace:\n",
      " [1] \u001b[1mdepwarn\u001b[22m\u001b[22m\u001b[1m(\u001b[22m\u001b[22m::String, ::Symbol\u001b[1m)\u001b[22m\u001b[22m at \u001b[1m./deprecated.jl:70\u001b[22m\u001b[22m\n",
      " [2] \u001b[1m#Source#24\u001b[22m\u001b[22m\u001b[1m(\u001b[22m\u001b[22m::String, ::CSV.Options{Void}, ::Int64, ::Int64, ::Dict{String,Union}, ::Symbol, ::Bool, ::Bool, ::Bool, ::Int64, ::Int64, ::Int64, ::Bool, ::Type{T} where T\u001b[1m)\u001b[22m\u001b[22m at \u001b[1m/Users/imolk/Library/Julia/packages_experimental/v0.6/CSV/src/Source.jl:66\u001b[22m\u001b[22m\n",
      " [3] \u001b[1m(::Core.#kw#Type)\u001b[22m\u001b[22m\u001b[1m(\u001b[22m\u001b[22m::Array{Any,1}, ::Type{CSV.Source}\u001b[1m)\u001b[22m\u001b[22m at \u001b[1m./<missing>:0\u001b[22m\u001b[22m\n",
      " [4] \u001b[1m#Source#23\u001b[22m\u001b[22m\u001b[1m(\u001b[22m\u001b[22m::UInt8, ::UInt8, ::UInt8, ::String, ::Void, ::Int64, ::Int64, ::Dict{String,Union}, ::Symbol, ::Bool, ::Void, ::UInt8, ::String, ::String, ::Bool, ::Bool, ::Int64, ::Int64, ::Int64, ::Bool, ::Type{T} where T, ::String\u001b[1m)\u001b[22m\u001b[22m at \u001b[1m/Users/imolk/Library/Julia/packages_experimental/v0.6/CSV/src/Source.jl:30\u001b[22m\u001b[22m\n",
      " [5] \u001b[1m(::Core.#kw#Type)\u001b[22m\u001b[22m\u001b[1m(\u001b[22m\u001b[22m::Array{Any,1}, ::Type{CSV.Source}, ::String\u001b[1m)\u001b[22m\u001b[22m at \u001b[1m./<missing>:0\u001b[22m\u001b[22m\n",
      " [6] \u001b[1m#read#43\u001b[22m\u001b[22m\u001b[1m(\u001b[22m\u001b[22m::Bool, ::Dict{Int64,Function}, ::Bool, ::Array{Any,1}, ::Function, ::String, ::Type{T} where T\u001b[1m)\u001b[22m\u001b[22m at \u001b[1m/Users/imolk/Library/Julia/packages_experimental/v0.6/CSV/src/Source.jl:338\u001b[22m\u001b[22m\n",
      " [7] \u001b[1m(::CSV.#kw##read)\u001b[22m\u001b[22m\u001b[1m(\u001b[22m\u001b[22m::Array{Any,1}, ::CSV.#read, ::String, ::Type{T} where T\u001b[1m)\u001b[22m\u001b[22m at \u001b[1m./<missing>:0\u001b[22m\u001b[22m\n",
      " [8] \u001b[1mread_processed_sales\u001b[22m\u001b[22m\u001b[1m(\u001b[22m\u001b[22m\u001b[1m)\u001b[22m\u001b[22m at \u001b[1m/Users/imolk/Documents/Harvard/Miratrix/rdd-coverage/Maxime/NYC/NYC.jl:72\u001b[22m\u001b[22m\n",
      " [9] \u001b[1minclude_string\u001b[22m\u001b[22m\u001b[1m(\u001b[22m\u001b[22m::String, ::String\u001b[1m)\u001b[22m\u001b[22m at \u001b[1m/Users/imolk/bin/julia_v0.6.2_binary/lib/julia/sys.dylib:?\u001b[22m\u001b[22m\n",
      " [10] \u001b[1mexecute_request\u001b[22m\u001b[22m\u001b[1m(\u001b[22m\u001b[22m::ZMQ.Socket, ::IJulia.Msg\u001b[1m)\u001b[22m\u001b[22m at \u001b[1m/Users/imolk/Library/Julia/packages_experimental/v0.6/IJulia/src/execute_request.jl:158\u001b[22m\u001b[22m\n",
      " [11] \u001b[1m(::Compat.#inner#17{Array{Any,1},IJulia.#execute_request,Tuple{ZMQ.Socket,IJulia.Msg}})\u001b[22m\u001b[22m\u001b[1m(\u001b[22m\u001b[22m\u001b[1m)\u001b[22m\u001b[22m at \u001b[1m/Users/imolk/Library/Julia/packages_experimental/v0.6/Compat/src/Compat.jl:385\u001b[22m\u001b[22m\n",
      " [12] \u001b[1meventloop\u001b[22m\u001b[22m\u001b[1m(\u001b[22m\u001b[22m::ZMQ.Socket\u001b[1m)\u001b[22m\u001b[22m at \u001b[1m/Users/imolk/Library/Julia/packages_experimental/v0.6/IJulia/src/eventloop.jl:8\u001b[22m\u001b[22m\n",
      " [13] \u001b[1m(::IJulia.##14#17)\u001b[22m\u001b[22m\u001b[1m(\u001b[22m\u001b[22m\u001b[1m)\u001b[22m\u001b[22m at \u001b[1m./task.jl:335\u001b[22m\u001b[22m\n",
      "while loading In[5], in expression starting on line 6\n",
      "\u001b[1m\u001b[33mWARNING: \u001b[39m\u001b[22m\u001b[33msort!(df, cols=cols) is deprecated, use sort!(df, cols) instead\u001b[39m\n",
      "Stacktrace:\n",
      " [1] \u001b[1mdepwarn\u001b[22m\u001b[22m\u001b[1m(\u001b[22m\u001b[22m::String, ::Symbol\u001b[1m)\u001b[22m\u001b[22m at \u001b[1m./deprecated.jl:70\u001b[22m\u001b[22m\n",
      " [2] \u001b[1m#sort!#220\u001b[22m\u001b[22m\u001b[1m(\u001b[22m\u001b[22m::Symbol, ::Void, ::Function, ::Function, ::Bool, ::Base.Order.ForwardOrdering, ::Function, ::DataFrames.DataFrame, ::Array{Any,1}\u001b[1m)\u001b[22m\u001b[22m at \u001b[1m/Users/imolk/Library/Julia/packages_experimental/v0.6/DataFrames/src/dataframe/sort.jl:74\u001b[22m\u001b[22m\n",
      " [3] \u001b[1m(::Base.#kw##sort!)\u001b[22m\u001b[22m\u001b[1m(\u001b[22m\u001b[22m::Array{Any,1}, ::Base.#sort!, ::DataFrames.DataFrame, ::Array{Any,1}\u001b[1m)\u001b[22m\u001b[22m at \u001b[1m./<missing>:0\u001b[22m\u001b[22m (repeats 2 times)\n",
      " [4] \u001b[1mread_processed_sales\u001b[22m\u001b[22m\u001b[1m(\u001b[22m\u001b[22m\u001b[1m)\u001b[22m\u001b[22m at \u001b[1m/Users/imolk/Documents/Harvard/Miratrix/rdd-coverage/Maxime/NYC/NYC.jl:91\u001b[22m\u001b[22m\n",
      " [5] \u001b[1minclude_string\u001b[22m\u001b[22m\u001b[1m(\u001b[22m\u001b[22m::String, ::String\u001b[1m)\u001b[22m\u001b[22m at \u001b[1m/Users/imolk/bin/julia_v0.6.2_binary/lib/julia/sys.dylib:?\u001b[22m\u001b[22m\n",
      " [6] \u001b[1mexecute_request\u001b[22m\u001b[22m\u001b[1m(\u001b[22m\u001b[22m::ZMQ.Socket, ::IJulia.Msg\u001b[1m)\u001b[22m\u001b[22m at \u001b[1m/Users/imolk/Library/Julia/packages_experimental/v0.6/IJulia/src/execute_request.jl:158\u001b[22m\u001b[22m\n",
      " [7] \u001b[1m(::Compat.#inner#17{Array{Any,1},IJulia.#execute_request,Tuple{ZMQ.Socket,IJulia.Msg}})\u001b[22m\u001b[22m\u001b[1m(\u001b[22m\u001b[22m\u001b[1m)\u001b[22m\u001b[22m at \u001b[1m/Users/imolk/Library/Julia/packages_experimental/v0.6/Compat/src/Compat.jl:385\u001b[22m\u001b[22m\n",
      " [8] \u001b[1meventloop\u001b[22m\u001b[22m\u001b[1m(\u001b[22m\u001b[22m::ZMQ.Socket\u001b[1m)\u001b[22m\u001b[22m at \u001b[1m/Users/imolk/Library/Julia/packages_experimental/v0.6/IJulia/src/eventloop.jl:8\u001b[22m\u001b[22m\n",
      " [9] \u001b[1m(::IJulia.##14#17)\u001b[22m\u001b[22m\u001b[1m(\u001b[22m\u001b[22m\u001b[1m)\u001b[22m\u001b[22m at \u001b[1m./task.jl:335\u001b[22m\u001b[22m\n",
      "while loading In[5], in expression starting on line 6\n"
     ]
    },
    {
     "name": "stdout",
     "output_type": "stream",
     "text": [
      "District 01 has 4 sales\n",
      "District 02 has 80 sales\n",
      "District 03 has 31 sales\n",
      "District 04 has 6 sales\n",
      "District 05 has 39 sales\n",
      "District 06 has 30 sales\n",
      "District 07 has 69 sales\n",
      "District 08 has 739 sales\n",
      "District 09 has 163 sales\n",
      "District 10 has 312 sales\n",
      "District 11 has 1172 sales\n",
      "District 12 has 204 sales\n",
      "District 13 has 321 sales\n",
      "District 14 has 195 sales\n",
      "District 15 has 516 sales\n",
      "District 16 has 420 sales\n",
      "District 17 has 459 sales\n",
      "District 18 has 559 sales\n",
      "District 19 has 686 sales\n",
      "District 20 has 1010 sales\n",
      "District 21 has 770 sales\n",
      "District 22 has 1453 sales\n",
      "District 23 has 245 sales\n",
      "District 24 has 1283 sales\n",
      "District 25 has 1317 sales\n",
      "District 26 has 1268 sales\n",
      "District 27 has 2199 sales\n",
      "District 28 has 1033 sales\n",
      "District 29 has 1956 sales\n",
      "District 30 has 695 sales\n",
      "District 31 has 0 sales\n",
      "District 32 has 344 sales\n"
     ]
    },
    {
     "data": {
      "text/plain": [
       "(27394, 18)"
      ]
     },
     "execution_count": 5,
     "metadata": {},
     "output_type": "execute_result"
    }
   ],
   "source": [
    "module NYC\n",
    "    include(\"NYC.jl\")\n",
    "end\n",
    "include(\"NYCPlots.jl\")\n",
    "\n",
    "NYC_sales = NYC.read_processed_sales()\n",
    "\n",
    "filtered = NYC.filter_sales(NYC_sales)\n",
    "\n",
    "sentinels = NYC.read_sentinels()\n",
    "\n",
    "model_dicts = NYC.sales_dicts(filtered[:filtered])\n",
    "schdistr_indices = model_dicts[:schdistr_indices]\n",
    "schdistrs = model_dicts[:schdistrs]\n",
    "X_dict = model_dicts[:X_dict]\n",
    "Y_dict = model_dicts[:Y_dict]\n",
    ";\n",
    "\n",
    "d = NYC_sales[.!ismissing.(NYC_sales[:SchDistr]), :]\n",
    "distr1 = d[:SchDistr].==\"01\"\n",
    "res = [NYC.RESIDENTIAL_DICT[v] for v in d[NYC.BUILDING_CLASS_CATEGORY]]\n",
    "sqft = .!ismissing.(d[NYC.SQFT])\n",
    "d[res .& sqft .& distr1, :]\n",
    "\n",
    "missing_sqft = d[res .& .!sqft, :]\n",
    "size(missing_sqft)"
   ]
  },
  {
   "cell_type": "markdown",
   "metadata": {},
   "source": [
    "# model matrix"
   ]
  },
  {
   "cell_type": "code",
   "execution_count": 21,
   "metadata": {},
   "outputs": [],
   "source": [
    "local_distrs = [\"18\",\"19\",\"23\",\"24\",\"25\",\"26\",\"27\",\"28\",\"29\"]\n",
    "local_indices = vcat(collect(schdistr_indices[distr] for distr in local_distrs)...)\n",
    ";"
   ]
  },
  {
   "cell_type": "code",
   "execution_count": 90,
   "metadata": {},
   "outputs": [
    {
     "data": {
      "text/plain": [
       "(19578, 4)"
      ]
     },
     "execution_count": 90,
     "metadata": {},
     "output_type": "execute_result"
    }
   ],
   "source": [
    "for_mm = DataFrame(\n",
    "        Y=float.(filtered[:filtered][:logSalePricePerSQFT]),\n",
    "        BUILDING=filtered[:filtered][NYC.BUILDING_CLASS_AT_TIME_OF_SALE],\n",
    "        TAX=filtered[:filtered][NYC.TAX_CLASS_AT_TIME_OF_SALE],\n",
    "        DISTRICT=string.(filtered[:filtered][:SchDistr]),\n",
    ")\n",
    "size(for_mm)"
   ]
  },
  {
   "cell_type": "code",
   "execution_count": 91,
   "metadata": {},
   "outputs": [
    {
     "data": {
      "text/plain": [
       "StatsModels.DataFrameRegressionModel{GLM.LinearModel{GLM.LmResp{Array{Float64,1}},GLM.DensePredChol{Float64,Base.LinAlg.Cholesky{Float64,Array{Float64,2}}}},Array{Float64,2}}\n",
       "\n",
       "Formula: Y ~ 1 + BUILDING + DISTRICT\n",
       "\n",
       "Coefficients:\n",
       "                Estimate Std.Error   t value Pr(>|t|)\n",
       "(Intercept)      5.60448 0.0218029   257.052   <1e-99\n",
       "BUILDING: A1  -0.0466165 0.0146214  -3.18824   0.0014\n",
       "BUILDING: S1   -0.120938  0.051939  -2.32846   0.0199\n",
       "BUILDING: A9  -0.0246849 0.0319052 -0.773697   0.4391\n",
       "BUILDING: A2    0.116118 0.0182145     6.375    <1e-9\n",
       "BUILDING: B1   -0.228897 0.0178637  -12.8135   <1e-36\n",
       "BUILDING: S2   -0.390796 0.0379945  -10.2856   <1e-23\n",
       "BUILDING: B3  -0.0748821 0.0170774  -4.38487    <1e-4\n",
       "BUILDING: B9   -0.257676 0.0341961  -7.53524   <1e-13\n",
       "BUILDING: B2   -0.184555 0.0167834  -10.9963   <1e-27\n",
       "BUILDING: C0   -0.355748 0.0194462   -18.294   <1e-72\n",
       "BUILDING: A4  -0.0319171     0.217 -0.147083   0.8831\n",
       "BUILDING: A3    0.143069 0.0478621   2.98919   0.0028\n",
       "BUILDING: S0   -0.437788  0.216598   -2.0212   0.0433\n",
       "BUILDING: A0    0.156409 0.0313179   4.99424    <1e-6\n",
       "BUILDING: A7   0.0311381  0.432642 0.0719719   0.9426\n",
       "BUILDING: A6   -0.500251 0.0860754  -5.81177    <1e-8\n",
       "DISTRICT: 19    -0.06045 0.0248147  -2.43606   0.0149\n",
       "DISTRICT: 23  -0.0264311 0.0333641 -0.792201   0.4283\n",
       "DISTRICT: 24    0.447656 0.0222112   20.1545   <1e-87\n",
       "DISTRICT: 25    0.566042 0.0223505   25.3257   <1e-99\n",
       "DISTRICT: 26     0.55267 0.0230712    23.955   <1e-99\n",
       "DISTRICT: 27   0.0556148 0.0211274   2.63236   0.0085\n",
       "DISTRICT: 28    0.182861 0.0234079   7.81194   <1e-14\n",
       "DISTRICT: 29    0.026927 0.0217338   1.23894   0.2154\n"
      ]
     },
     "execution_count": 91,
     "metadata": {},
     "output_type": "execute_result"
    }
   ],
   "source": [
    "NYC_ols = lm(@formula(Y ~ BUILDING + DISTRICT), \n",
    "    for_mm[local_indices, :],\n",
    "    )"
   ]
  },
  {
   "cell_type": "code",
   "execution_count": 92,
   "metadata": {
    "scrolled": true
   },
   "outputs": [
    {
     "data": {
      "text/plain": [
       "-0.1160648046201865"
      ]
     },
     "execution_count": 92,
     "metadata": {},
     "output_type": "execute_result"
    }
   ],
   "source": [
    "NYC_coefdict = Dict(zip(coefnames(NYC_ols.mf), coef(NYC_ols)))\n",
    "\n",
    "NYC_coefdict[\"DISTRICT: 19\"] - NYC_coefdict[\"DISTRICT: 27\"]"
   ]
  },
  {
   "cell_type": "markdown",
   "metadata": {},
   "source": [
    "**Use district 27 as base.**"
   ]
  },
  {
   "cell_type": "code",
   "execution_count": 98,
   "metadata": {},
   "outputs": [
    {
     "data": {
      "text/html": [
       "4 methods for generic function <b>Type</b>:<ul><li> StatsModels.EffectsCoding(; <i>base, levels</i>) at <a href=\"https://github.com/JuliaStats/StatsModels.jl/tree/9bbc2a7404e75250f37f854d16233f0b0ce9bf15//src/contrasts.jl#L212\" target=\"_blank\">/Users/imolk/Library/Julia/packages_experimental/v0.6/StatsModels/src/contrasts.jl:212</a></li> <li> StatsModels.EffectsCoding(base, levels::<b>Union{Array{T,1} where T, Void}</b>) at <a href=\"https://github.com/JuliaStats/StatsModels.jl/tree/9bbc2a7404e75250f37f854d16233f0b0ce9bf15//src/contrasts.jl#L208\" target=\"_blank\">/Users/imolk/Library/Julia/packages_experimental/v0.6/StatsModels/src/contrasts.jl:208</a></li> <li> StatsModels.EffectsCoding(base, levels) at <a href=\"https://github.com/JuliaStats/StatsModels.jl/tree/9bbc2a7404e75250f37f854d16233f0b0ce9bf15//src/contrasts.jl#L208\" target=\"_blank\">/Users/imolk/Library/Julia/packages_experimental/v0.6/StatsModels/src/contrasts.jl:208</a></li> <li> (::<b>Type{T}</b>)<i>{T}</i>(arg) at <a href=\"https://github.com/JuliaLang/julia/tree/d386e40c17d43b79fc89d3e579fc04547241787c/base/sysimg.jl#L77\" target=\"_blank\">sysimg.jl:77</a></li> </ul>"
      ],
      "text/plain": [
       "# 4 methods for generic function \"(::Type)\":\n",
       "StatsModels.EffectsCoding(; base, levels) in StatsModels at /Users/imolk/Library/Julia/packages_experimental/v0.6/StatsModels/src/contrasts.jl:212\n",
       "StatsModels.EffectsCoding(base, levels::Union{Array{T,1} where T, Void}) in StatsModels at /Users/imolk/Library/Julia/packages_experimental/v0.6/StatsModels/src/contrasts.jl:208\n",
       "StatsModels.EffectsCoding(base, levels) in StatsModels at /Users/imolk/Library/Julia/packages_experimental/v0.6/StatsModels/src/contrasts.jl:208\n",
       "(::Type{T})(arg) where T in Base at sysimg.jl:77"
      ]
     },
     "execution_count": 98,
     "metadata": {},
     "output_type": "execute_result"
    }
   ],
   "source": [
    "methods(StatsModels.EffectsCoding)"
   ]
  },
  {
   "cell_type": "code",
   "execution_count": 104,
   "metadata": {},
   "outputs": [
    {
     "data": {
      "text/plain": [
       "StatsModels.EffectsCoding(nothing, nothing)"
      ]
     },
     "execution_count": 104,
     "metadata": {},
     "output_type": "execute_result"
    }
   ],
   "source": [
    "StatsModels.EffectsCoding()"
   ]
  },
  {
   "cell_type": "code",
   "execution_count": 110,
   "metadata": {},
   "outputs": [
    {
     "data": {
      "text/plain": [
       "-0.5303669662620432"
      ]
     },
     "execution_count": 110,
     "metadata": {},
     "output_type": "execute_result"
    }
   ],
   "source": [
    "mf = StatsModels.ModelFrame(@formula(Y ~ BUILDING + DISTRICT), \n",
    "    for_mm,\n",
    "    contrasts = Dict(:DISTRICT => StatsModels.EffectsCoding(\"27\", nothing)),\n",
    "    )\n",
    "mm = StatsModels.ModelMatrix(mf)\n",
    "\n",
    "NYC_ols_27 = lm(mm.m, for_mm[:Y]) # use district 27 as base\n",
    "\n",
    "NYC_coefdict_27 = Dict(zip(coefnames(mf), coef(NYC_ols_27)))\n",
    "\n",
    "NYC_coefdict_27[\"DISTRICT: 19\"]"
   ]
  }
 ],
 "metadata": {
  "hide_input": false,
  "hide_markdown_input": false,
  "kernelspec": {
   "display_name": "Julia 0.6.2 Experimental",
   "language": "julia",
   "name": "julia-0.6-experimental"
  },
  "language_info": {
   "file_extension": ".jl",
   "mimetype": "application/julia",
   "name": "julia",
   "version": "0.6.2"
  },
  "toc": {
   "nav_menu": {},
   "number_sections": true,
   "sideBar": true,
   "skip_h1_title": false,
   "title_cell": "Table of Contents",
   "title_sidebar": "Contents",
   "toc_cell": false,
   "toc_position": {},
   "toc_section_display": true,
   "toc_window_display": true
  }
 },
 "nbformat": 4,
 "nbformat_minor": 2
}

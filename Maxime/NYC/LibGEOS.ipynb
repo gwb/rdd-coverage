{
 "cells": [
  {
   "cell_type": "code",
   "execution_count": 1,
   "metadata": {},
   "outputs": [],
   "source": [
    "import LibGEOS\n",
    "import GeoJSON"
   ]
  },
  {
   "cell_type": "code",
   "execution_count": 2,
   "metadata": {},
   "outputs": [
    {
     "data": {
      "text/plain": [
       "GeoJSON.FeatureCollection(GeoJSON.Feature[GeoJSON.Feature(GeoJSON.LineString(Array{Float64,1}[[1.04771e6,2.2437e5],[1.04778e6,2.24293e5],[1.04773e6,2.24262e5],[1.04771e6,2.24242e5],[1.04769e6,2.24228e5],[1.04767e6,224216.0],[1.04744e6,224054.0],[1.0473e6,2.23944e5],[1.04704e6,2.23757e5],[1.04683e6,2.23601e5]  …  [1.03952e6,2.03953e5],[1.03943e6,2.03909e5],[1.03955e6,2.03879e5],[1.03958e6,2.03364e5],[1.03952e6,2.03301e5],[1.03964e6,2.03242e5],[1.03968e6,2.02834e5],[1.03963e6,2.02745e5],[1.03963e6,2.02726e5],[1.03954e6,2.02685e5]],#undef,#undef),Dict{String,Any}(Pair{String,Any}(\"SchoolDistrict2\",26),Pair{String,Any}(\"SchoolDistrict1\",25)),#undef,#undef,\"0\"),GeoJSON.Feature(GeoJSON.LineString(Array{Float64,1}[[1.04771e6,2.2437e5],[1.04778e6,2.24293e5],[1.04773e6,2.24262e5],[1.04771e6,2.24242e5],[1.04769e6,2.24228e5],[1.04767e6,224216.0],[1.04744e6,224054.0],[1.0473e6,2.23944e5],[1.04704e6,2.23757e5],[1.04683e6,2.23601e5]  …  [1.03952e6,2.03953e5],[1.03943e6,2.03909e5],[1.03955e6,2.03879e5],[1.03958e6,2.03364e5],[1.03952e6,2.03301e5],[1.03964e6,2.03242e5],[1.03968e6,2.02834e5],[1.03963e6,2.02745e5],[1.03963e6,2.02726e5],[1.03954e6,2.02685e5]],#undef,#undef),Dict{String,Any}(Pair{String,Any}(\"SchoolDistrict2\",25),Pair{String,Any}(\"SchoolDistrict1\",26)),#undef,#undef,\"1\"),GeoJSON.Feature(GeoJSON.LineString(Array{Float64,1}[[1.02708e6,2.08799e5],[1.02708e6,2.0881e5],[1.02707e6,2.0888e5],[1.02706e6,2.08904e5],[1.02706e6,2.08929e5],[1.02705e6,2.08993e5],[1.02693e6,2.09553e5],[1.02689e6,2.09691e5],[1.02677e6,2.10085e5],[1.02671e6,2.10275e5]  …  [1.0247e6,2.15299e5],[1.02468e6,2.15344e5],[1.02464e6,2.15422e5],[1.02456e6,2.15572e5],[1.02454e6,2.15611e5],[1.02452e6,2.1564e5],[1.02442e6,2.1579e5],[1.02452e6,215734.0],[1.02452e6,2.15788e5],[1.02452e6,2.15815e5]],#undef,#undef),Dict{String,Any}(Pair{String,Any}(\"SchoolDistrict2\",24),Pair{String,Any}(\"SchoolDistrict1\",25)),#undef,#undef,\"2\"),GeoJSON.Feature(GeoJSON.LineString(Array{Float64,1}[[1.02708e6,2.08799e5],[1.02708e6,2.0881e5],[1.02707e6,2.0888e5],[1.02706e6,2.08904e5],[1.02706e6,2.08929e5],[1.02705e6,2.08993e5],[1.02693e6,2.09553e5],[1.02689e6,2.09691e5],[1.02677e6,2.10085e5],[1.02671e6,2.10275e5]  …  [1.0247e6,2.15299e5],[1.02468e6,2.15344e5],[1.02464e6,2.15422e5],[1.02456e6,2.15572e5],[1.02454e6,2.15611e5],[1.02452e6,2.1564e5],[1.02442e6,2.1579e5],[1.02452e6,215734.0],[1.02452e6,2.15788e5],[1.02452e6,2.15815e5]],#undef,#undef),Dict{String,Any}(Pair{String,Any}(\"SchoolDistrict2\",25),Pair{String,Any}(\"SchoolDistrict1\",24)),#undef,#undef,\"3\"),GeoJSON.Feature(GeoJSON.LineString(Array{Float64,1}[[1.03869e6,2.01416e5],[1.03861e6,2.01399e5],[1.03859e6,2.01393e5],[1.03857e6,2.01389e5],[1.03831e6,2.01328e5],[1.03806e6,2.01269e5],[1.03782e6,201211.0],[1.03756e6,2.01153e5],[1.0373e6,2.01084e5],[1.03719e6,2.016e5]  …  [1.02715e6,2.08365e5],[1.02714e6,2.08414e5],[1.02711e6,2.08605e5],[1.0271e6,2.08706e5],[1.02708e6,2.0881e5],[1.02707e6,2.0888e5],[1.02706e6,2.08904e5],[1.02706e6,2.08929e5],[1.02705e6,2.08993e5],[1.02704e6,2.09002e5]],#undef,#undef),Dict{String,Any}(Pair{String,Any}(\"SchoolDistrict2\",28),Pair{String,Any}(\"SchoolDistrict1\",25)),#undef,#undef,\"4\"),GeoJSON.Feature(GeoJSON.LineString(Array{Float64,1}[[1.03869e6,2.01416e5],[1.03861e6,2.01399e5],[1.03859e6,2.01393e5],[1.03857e6,2.01389e5],[1.03831e6,2.01328e5],[1.03806e6,2.01269e5],[1.03782e6,201211.0],[1.03756e6,2.01153e5],[1.0373e6,2.01084e5],[1.03719e6,2.016e5]  …  [1.02715e6,2.08365e5],[1.02714e6,2.08414e5],[1.02711e6,2.08605e5],[1.0271e6,2.08706e5],[1.02708e6,2.0881e5],[1.02707e6,2.0888e5],[1.02706e6,2.08904e5],[1.02706e6,2.08929e5],[1.02705e6,2.08993e5],[1.02704e6,2.09002e5]],#undef,#undef),Dict{String,Any}(Pair{String,Any}(\"SchoolDistrict2\",25),Pair{String,Any}(\"SchoolDistrict1\",28)),#undef,#undef,\"5\"),GeoJSON.Feature(GeoJSON.LineString(Array{Float64,1}[[1.02452e6,2.15634e5],[1.02452e6,2.1564e5],[1.02442e6,2.1579e5],[1.02452e6,215734.0],[1.02452e6,2.15788e5],[1.02452e6,2.15824e5],[1.02454e6,2.15856e5],[1.02456e6,2.15892e5],[1.02458e6,2.15915e5],[1.02443e6,2.16013e5],[1.02397e6,2.16251e5],[1.02398e6,2.16298e5],[1.02413e6,2.16355e5],[1.02428e6,2.16412e5],[1.02434e6,216435.0],[1.0244e6,2.16361e5]],#undef,#undef),Dict{String,Any}(Pair{String,Any}(\"SchoolDistrict2\",30),Pair{String,Any}(\"SchoolDistrict1\",25)),#undef,#undef,\"6\"),GeoJSON.Feature(GeoJSON.LineString(Array{Float64,1}[[1.02452e6,2.15634e5],[1.02452e6,2.1564e5],[1.02442e6,2.1579e5],[1.02452e6,215734.0],[1.02452e6,2.15788e5],[1.02452e6,2.15824e5],[1.02454e6,2.15856e5],[1.02456e6,2.15892e5],[1.02458e6,2.15915e5],[1.02443e6,2.16013e5],[1.02397e6,2.16251e5],[1.02398e6,2.16298e5],[1.02413e6,2.16355e5],[1.02428e6,2.16412e5],[1.02434e6,216435.0],[1.0244e6,2.16361e5]],#undef,#undef),Dict{String,Any}(Pair{String,Any}(\"SchoolDistrict2\",25),Pair{String,Any}(\"SchoolDistrict1\",30)),#undef,#undef,\"7\"),GeoJSON.Feature(GeoJSON.LineString(Array{Float64,1}[[1.03968e6,2.02858e5],[1.03968e6,2.02834e5],[1.03963e6,2.02745e5],[1.03963e6,2.02726e5],[1.03939e6,2.02619e5],[1.03915e6,2.02506e5],[1.03892e6,2.02404e5],[1.03876e6,2.0233e5],[1.03868e6,2.02291e5],[1.03869e6,2.02275e5],[1.03881e6,2.01914e5],[1.03894e6,2.01476e5],[1.03861e6,2.01399e5],[1.03859e6,2.01393e5],[1.03857e6,2.01389e5],[1.03849e6,2.0137e5]],#undef,#undef),Dict{String,Any}(Pair{String,Any}(\"SchoolDistrict2\",29),Pair{String,Any}(\"SchoolDistrict1\",25)),#undef,#undef,\"8\"),GeoJSON.Feature(GeoJSON.LineString(Array{Float64,1}[[1.03968e6,2.02858e5],[1.03968e6,2.02834e5],[1.03963e6,2.02745e5],[1.03963e6,2.02726e5],[1.03939e6,2.02619e5],[1.03915e6,2.02506e5],[1.03892e6,2.02404e5],[1.03876e6,2.0233e5],[1.03868e6,2.02291e5],[1.03869e6,2.02275e5],[1.03881e6,2.01914e5],[1.03894e6,2.01476e5],[1.03861e6,2.01399e5],[1.03859e6,2.01393e5],[1.03857e6,2.01389e5],[1.03849e6,2.0137e5]],#undef,#undef),Dict{String,Any}(Pair{String,Any}(\"SchoolDistrict2\",25),Pair{String,Any}(\"SchoolDistrict1\",29)),#undef,#undef,\"9\")  …  GeoJSON.Feature(GeoJSON.LineString(Array{Float64,1}[[9.92342e5,1.74771e5],[9.92342e5,1.74771e5],[9.92362e5,1.74673e5],[9.92424e5,174384.0],[9.92487e5,1.741e5],[9.92551e5,1.73812e5],[9.92377e5,1.73787e5],[9.92278e5,1.73772e5]],#undef,#undef),Dict{String,Any}(Pair{String,Any}(\"SchoolDistrict2\",22),Pair{String,Any}(\"SchoolDistrict1\",15)),#undef,#undef,\"108\"),GeoJSON.Feature(GeoJSON.LineString(Array{Float64,1}[[9.92342e5,1.74771e5],[9.92342e5,1.74771e5],[9.92362e5,1.74673e5],[9.92424e5,174384.0],[9.92487e5,1.741e5],[9.92551e5,1.73812e5],[9.92377e5,1.73787e5],[9.92278e5,1.73772e5]],#undef,#undef),Dict{String,Any}(Pair{String,Any}(\"SchoolDistrict2\",15),Pair{String,Any}(\"SchoolDistrict1\",22)),#undef,#undef,\"109\"),GeoJSON.Feature(GeoJSON.MultiLineString(Array{Array{Float64,1},1}[Array{Float64,1}[[9.97578e5,1.4855e5],[9.97563e5,148549.0],[9.97517e5,1.48525e5],[997485.0,1.48504e5],[9.97466e5,1.48607e5],[9.97341e5,1.49454e5],[9.97306e5,1.4967e5],[9.97295e5,1.49744e5],[9.97278e5,1.49859e5],[9.97211e5,1.50323e5]  …  [9.92921e5,1.68203e5],[9.92622e5,168162.0],[9.92311e5,1.68118e5],[9.92242e5,1.68108e5],[9.92196e5,1.681e5],[9.92165e5,168095.0],[9.91861e5,168045.0],[9.91597e5,1.67992e5],[9.9135e5,1.67943e5],[9.91332e5,1.68042e5]],Array{Float64,1}[[9.98116e5,1.51795e5],[9.98069e5,1.51788e5],[9.9781e5,1.51755e5],[997451.0,1.51711e5],[9.97168e5,1.51678e5],[9.97173e5,1.51644e5]]],#undef,#undef),Dict{String,Any}(Pair{String,Any}(\"SchoolDistrict2\",21),Pair{String,Any}(\"SchoolDistrict1\",22)),#undef,#undef,\"110\"),GeoJSON.Feature(GeoJSON.MultiLineString(Array{Array{Float64,1},1}[Array{Float64,1}[[9.97578e5,1.4855e5],[9.97563e5,148549.0],[9.97517e5,1.48525e5],[997485.0,1.48504e5],[9.97466e5,1.48607e5],[9.97341e5,1.49454e5],[9.97306e5,1.4967e5],[9.97295e5,1.49744e5],[9.97278e5,1.49859e5],[9.97211e5,1.50323e5]  …  [9.92921e5,1.68203e5],[9.92622e5,168162.0],[9.92311e5,1.68118e5],[9.92242e5,1.68108e5],[9.92196e5,1.681e5],[9.92165e5,168095.0],[9.91861e5,168045.0],[9.91597e5,1.67992e5],[9.9135e5,1.67943e5],[9.91332e5,1.68042e5]],Array{Float64,1}[[9.98116e5,1.51795e5],[9.98069e5,1.51788e5],[9.9781e5,1.51755e5],[997451.0,1.51711e5],[9.97168e5,1.51678e5],[9.97173e5,1.51644e5]]],#undef,#undef),Dict{String,Any}(Pair{String,Any}(\"SchoolDistrict2\",22),Pair{String,Any}(\"SchoolDistrict1\",21)),#undef,#undef,\"111\"),GeoJSON.Feature(GeoJSON.MultiLineString(Array{Array{Float64,1},1}[Array{Float64,1}[[1.05609e6,1.71488e5],[1.0561e6,1.71515e5],[1.05614e6,171570.0],[1.05616e6,1.71597e5],[1.05619e6,1.7161e5],[1.05613e6,1.71795e5],[1.05608e6,1.71817e5],[1.0558e6,1.71973e5],[1.05532e6,1.72351e5],[1.05532e6,1.7252e5]  …  [1.04618e6,1.83333e5],[1.04635e6,1.83313e5],[1.04642e6,1.8346e5],[1.04658e6,1.83442e5],[1.04665e6,1.8358e5],[1.04681e6,1.83576e5],[1.04685e6,1.83756e5],[1.04686e6,1.83762e5],[1.04704e6,1.83712e5],[1.04709e6,1.83626e5]],Array{Float64,1}[[1.05618e6,1.71881e5],[1.05628e6,1.71647e5]]],#undef,#undef),Dict{String,Any}(Pair{String,Any}(\"SchoolDistrict2\",27),Pair{String,Any}(\"SchoolDistrict1\",29)),#undef,#undef,\"112\"),GeoJSON.Feature(GeoJSON.MultiLineString(Array{Array{Float64,1},1}[Array{Float64,1}[[1.05609e6,1.71488e5],[1.0561e6,1.71515e5],[1.05614e6,171570.0],[1.05616e6,1.71597e5],[1.05619e6,1.7161e5],[1.05613e6,1.71795e5],[1.05608e6,1.71817e5],[1.0558e6,1.71973e5],[1.05532e6,1.72351e5],[1.05532e6,1.7252e5]  …  [1.04618e6,1.83333e5],[1.04635e6,1.83313e5],[1.04642e6,1.8346e5],[1.04658e6,1.83442e5],[1.04665e6,1.8358e5],[1.04681e6,1.83576e5],[1.04685e6,1.83756e5],[1.04686e6,1.83762e5],[1.04704e6,1.83712e5],[1.04709e6,1.83626e5]],Array{Float64,1}[[1.05618e6,1.71881e5],[1.05628e6,1.71647e5]]],#undef,#undef),Dict{String,Any}(Pair{String,Any}(\"SchoolDistrict2\",29),Pair{String,Any}(\"SchoolDistrict1\",27)),#undef,#undef,\"113\"),GeoJSON.Feature(GeoJSON.MultiLineString(Array{Array{Float64,1},1}[Array{Float64,1}[[1.02067e6,1.92483e5],[1.02074e6,1.92408e5],[1.02066e6,1.92159e5],[1.02069e6,1.92105e5],[1.02084e6,191121.0],[1.02088e6,1.90863e5],[1.02092e6,1.90618e5],[1.02096e6,1.90378e5],[1.02101e6,1.90107e5],[1.02106e6,1.8987e5]  …  [1.02375e6,1.79808e5],[1.0235e6,1.79727e5],[1.02326e6,1.79681e5],[1.02299e6,179634.0],[1.02275e6,1.79479e5],[1.02261e6,1.79376e5],[1.02221e6,1.79134e5],[1.02235e6,1.78894e5],[1.02226e6,1.78847e5],[1.02226e6,1.78843e5]],Array{Float64,1}[[1.02272e6,1.78038e5],[1.02274e6,1.78035e5],[1.02278e6,1.78027e5],[1.02282e6,1.78018e5],[1.02285e6,1.7797e5],[1.02293e6,1.77839e5],[1.02294e6,177823.0],[1.02295e6,1.77804e5],[1.02296e6,1.77781e5],[1.02309e6,1.77568e5],[1.02337e6,1.7709e5],[1.02387e6,1.76223e5],[1.02381e6,1.76179e5],[1.0238e6,1.76151e5]],Array{Float64,1}[[1.03015e6,1.61118e5],[1.03026e6,1.61263e5],[1.03021e6,1.60536e5],[1.02982e6,1.59969e5],[1.02981e6,1.60122e5]],Array{Float64,1}[[1.03031e6,1.6547e5],[1.03033e6,1.65474e5],[1.03034e6,1.65477e5],[1.03037e6,1.6549e5],[1.03038e6,1.655e5],[1.0304e6,1.65516e5],[1.03041e6,1.6553e5],[1.03042e6,1.65559e5],[1.03039e6,1.64755e5],[1.03035e6,1.63657e5],[1.03033e6,1.63156e5],[1.03032e6,1.63149e5],[1.03032e6,1.63147e5],[1.03031e6,1.63148e5],[1.03029e6,1.63149e5],[1.03024e6,1.6315e5],[1.03023e6,1.63153e5]],Array{Float64,1}[[1.0303e6,1.65127e5],[1.0303e6,1.65127e5],[1.03031e6,1.65119e5],[1.03032e6,1.65111e5],[1.03034e6,1.651e5],[1.03034e6,165090.0],[1.03036e6,1.65075e5],[1.03036e6,1.6507e5],[1.03037e6,1.65073e5],[1.03039e6,1.65074e5]  …  [1.03031e6,165140.0],[1.0303e6,1.65147e5],[1.03031e6,1.65155e5],[1.03031e6,1.65165e5],[1.03031e6,1.65175e5],[1.03031e6,1.65186e5],[1.03031e6,1.65197e5],[1.03031e6,1.65212e5],[1.03031e6,1.65208e5],[1.0303e6,1.65204e5]],Array{Float64,1}[[1.03033e6,1.66064e5],[1.03034e6,1.66068e5],[1.03035e6,166078.0],[1.03035e6,1.66083e5],[1.03035e6,1.6609e5],[1.03036e6,1.66098e5],[1.03037e6,1.66103e5],[1.03038e6,1.6611e5],[1.03038e6,1.6612e5],[1.03038e6,1.66131e5]  …  [1.03038e6,1.65676e5],[1.03037e6,1.65673e5],[1.03037e6,1.65663e5],[1.03037e6,1.65648e5],[1.03036e6,1.65636e5],[1.03035e6,1.65624e5],[1.03034e6,1.65608e5],[1.03034e6,1.65594e5],[1.03033e6,1.6558e5],[1.03032e6,1.65571e5]],Array{Float64,1}[[1.03044e6,1.66513e5],[1.03044e6,1.66512e5],[1.03043e6,1.66519e5],[1.03043e6,1.66526e5],[1.03043e6,1.66529e5],[1.03043e6,1.66533e5],[1.03043e6,1.66538e5],[1.03042e6,1.66539e5],[1.03042e6,1.66539e5],[1.03041e6,1.66543e5]  …  [1.03043e6,1.66611e5],[1.03043e6,1.66618e5],[1.03043e6,1.66628e5],[1.03043e6,1.66637e5],[1.03043e6,166644.0],[1.03044e6,1.66643e5],[1.03045e6,1.66639e5],[1.03045e6,166637.0],[1.03045e6,1.66514e5],[1.03044e6,1.66513e5]]],#undef,#undef),Dict{String,Any}(Pair{String,Any}(\"SchoolDistrict2\",27),Pair{String,Any}(\"SchoolDistrict1\",19)),#undef,#undef,\"114\"),GeoJSON.Feature(GeoJSON.MultiLineString(Array{Array{Float64,1},1}[Array{Float64,1}[[1.02067e6,1.92483e5],[1.02074e6,1.92408e5],[1.02066e6,1.92159e5],[1.02069e6,1.92105e5],[1.02084e6,191121.0],[1.02088e6,1.90863e5],[1.02092e6,1.90618e5],[1.02096e6,1.90378e5],[1.02101e6,1.90107e5],[1.02106e6,1.8987e5]  …  [1.02375e6,1.79808e5],[1.0235e6,1.79727e5],[1.02326e6,1.79681e5],[1.02299e6,179634.0],[1.02275e6,1.79479e5],[1.02261e6,1.79376e5],[1.02221e6,1.79134e5],[1.02235e6,1.78894e5],[1.02226e6,1.78847e5],[1.02226e6,1.78843e5]],Array{Float64,1}[[1.02272e6,1.78038e5],[1.02274e6,1.78035e5],[1.02278e6,1.78027e5],[1.02282e6,1.78018e5],[1.02285e6,1.7797e5],[1.02293e6,1.77839e5],[1.02294e6,177823.0],[1.02295e6,1.77804e5],[1.02296e6,1.77781e5],[1.02309e6,1.77568e5],[1.02337e6,1.7709e5],[1.02387e6,1.76223e5],[1.02381e6,1.76179e5],[1.0238e6,1.76151e5]],Array{Float64,1}[[1.03015e6,1.61118e5],[1.03026e6,1.61263e5],[1.03021e6,1.60536e5],[1.02982e6,1.59969e5],[1.02981e6,1.60122e5]],Array{Float64,1}[[1.03031e6,1.6547e5],[1.03033e6,1.65474e5],[1.03034e6,1.65477e5],[1.03037e6,1.6549e5],[1.03038e6,1.655e5],[1.0304e6,1.65516e5],[1.03041e6,1.6553e5],[1.03042e6,1.65559e5],[1.03039e6,1.64755e5],[1.03035e6,1.63657e5],[1.03033e6,1.63156e5],[1.03032e6,1.63149e5],[1.03032e6,1.63147e5],[1.03031e6,1.63148e5],[1.03029e6,1.63149e5],[1.03024e6,1.6315e5],[1.03023e6,1.63153e5]],Array{Float64,1}[[1.0303e6,1.65127e5],[1.0303e6,1.65127e5],[1.03031e6,1.65119e5],[1.03032e6,1.65111e5],[1.03034e6,1.651e5],[1.03034e6,165090.0],[1.03036e6,1.65075e5],[1.03036e6,1.6507e5],[1.03037e6,1.65073e5],[1.03039e6,1.65074e5]  …  [1.03031e6,165140.0],[1.0303e6,1.65147e5],[1.03031e6,1.65155e5],[1.03031e6,1.65165e5],[1.03031e6,1.65175e5],[1.03031e6,1.65186e5],[1.03031e6,1.65197e5],[1.03031e6,1.65212e5],[1.03031e6,1.65208e5],[1.0303e6,1.65204e5]],Array{Float64,1}[[1.03033e6,1.66064e5],[1.03034e6,1.66068e5],[1.03035e6,166078.0],[1.03035e6,1.66083e5],[1.03035e6,1.6609e5],[1.03036e6,1.66098e5],[1.03037e6,1.66103e5],[1.03038e6,1.6611e5],[1.03038e6,1.6612e5],[1.03038e6,1.66131e5]  …  [1.03038e6,1.65676e5],[1.03037e6,1.65673e5],[1.03037e6,1.65663e5],[1.03037e6,1.65648e5],[1.03036e6,1.65636e5],[1.03035e6,1.65624e5],[1.03034e6,1.65608e5],[1.03034e6,1.65594e5],[1.03033e6,1.6558e5],[1.03032e6,1.65571e5]],Array{Float64,1}[[1.03044e6,1.66513e5],[1.03044e6,1.66512e5],[1.03043e6,1.66519e5],[1.03043e6,1.66526e5],[1.03043e6,1.66529e5],[1.03043e6,1.66533e5],[1.03043e6,1.66538e5],[1.03042e6,1.66539e5],[1.03042e6,1.66539e5],[1.03041e6,1.66543e5]  …  [1.03043e6,1.66611e5],[1.03043e6,1.66618e5],[1.03043e6,1.66628e5],[1.03043e6,1.66637e5],[1.03043e6,166644.0],[1.03044e6,1.66643e5],[1.03045e6,1.66639e5],[1.03045e6,166637.0],[1.03045e6,1.66514e5],[1.03044e6,1.66513e5]]],#undef,#undef),Dict{String,Any}(Pair{String,Any}(\"SchoolDistrict2\",19),Pair{String,Any}(\"SchoolDistrict1\",27)),#undef,#undef,\"115\"),GeoJSON.Feature(GeoJSON.MultiLineString(Array{Array{Float64,1},1}[Array{Float64,1}[[9.95526e5,238553.0],[9.95557e5,2.386e5],[9.95589e5,2.38579e5],[9.95551e5,2.38522e5]],Array{Float64,1}[[9.95596e5,2.38502e5],[9.95648e5,2.38581e5],[9.95614e5,2.386e5],[9.95662e5,2.38603e5],[995697.0,2.38605e5],[9.95729e5,2.3859e5],[9.95746e5,2.38581e5],[9.95762e5,2.38574e5],[9.95791e5,2.3856e5],[9.95816e5,2.38546e5]  …  [1.00215e6,2.43406e5],[1.00217e6,2.43402e5],[1.00219e6,2.43397e5],[1.00225e6,2.43381e5],[1.00225e6,243372.0],[1.00225e6,2.43362e5],[1.00224e6,2.43359e5],[1.00224e6,2.43354e5],[1.00224e6,2.4335e5],[1.00223e6,2.43283e5]]],#undef,#undef),Dict{String,Any}(Pair{String,Any}(\"SchoolDistrict2\",6),Pair{String,Any}(\"SchoolDistrict1\",5)),#undef,#undef,\"116\"),GeoJSON.Feature(GeoJSON.MultiLineString(Array{Array{Float64,1},1}[Array{Float64,1}[[9.95526e5,238553.0],[9.95557e5,2.386e5],[9.95589e5,2.38579e5],[9.95551e5,2.38522e5]],Array{Float64,1}[[9.95596e5,2.38502e5],[9.95648e5,2.38581e5],[9.95614e5,2.386e5],[9.95662e5,2.38603e5],[995697.0,2.38605e5],[9.95729e5,2.3859e5],[9.95746e5,2.38581e5],[9.95762e5,2.38574e5],[9.95791e5,2.3856e5],[9.95816e5,2.38546e5]  …  [1.00215e6,2.43406e5],[1.00217e6,2.43402e5],[1.00219e6,2.43397e5],[1.00225e6,2.43381e5],[1.00225e6,243372.0],[1.00225e6,2.43362e5],[1.00224e6,2.43359e5],[1.00224e6,2.43354e5],[1.00224e6,2.4335e5],[1.00223e6,2.43283e5]]],#undef,#undef),Dict{String,Any}(Pair{String,Any}(\"SchoolDistrict2\",5),Pair{String,Any}(\"SchoolDistrict1\",6)),#undef,#undef,\"117\")],#undef,#undef)"
      ]
     },
     "execution_count": 2,
     "metadata": {},
     "output_type": "execute_result"
    }
   ],
   "source": [
    "SchoolDistrict_borders=GeoJSON.parsefile(\"NYC_data/processed/SchoolDistrict_borders/SchoolDistrict_borders.json\")"
   ]
  },
  {
   "cell_type": "code",
   "execution_count": 31,
   "metadata": {},
   "outputs": [
    {
     "data": {
      "text/plain": [
       "GeoJSON.LineString(Array{Float64,1}[[1.0,2.0],[3.0,4.0]],#undef,#undef)"
      ]
     },
     "execution_count": 31,
     "metadata": {},
     "output_type": "execute_result"
    }
   ],
   "source": [
    "ls_json = GeoJSON.LineString([[1.0,2.0],[3.0,4.0]])"
   ]
  },
  {
   "cell_type": "code",
   "execution_count": 33,
   "metadata": {},
   "outputs": [
    {
     "data": {
      "text/html": [
       "4 methods for generic function <b>Type</b>:<ul><li> LibGEOS.LineString(ptr::<b>Ptr{Ptr{Void}}</b>) at <a href=\"https://github.com/JuliaGeo/LibGEOS.jl/tree/70ce28825c812e74251d55bfc9637f595221f845/src/geos_types.jl#L31\" target=\"_blank\">/Users/imolk/.julia/v0.5/LibGEOS/src/geos_types.jl:31</a></li> <li> LibGEOS.LineString(line::<b>Array{Array{Float64,1},1}</b>) at <a href=\"https://github.com/JuliaGeo/LibGEOS.jl/tree/70ce28825c812e74251d55bfc9637f595221f845/src/geos_types.jl#L35\" target=\"_blank\">/Users/imolk/.julia/v0.5/LibGEOS/src/geos_types.jl:35</a></li> <li> LibGEOS.LineString<i>{T<:GeoInterface.AbstractLineString}</i>(obj::<b>T</b>) at <a href=\"https://github.com/JuliaGeo/LibGEOS.jl/tree/70ce28825c812e74251d55bfc9637f595221f845/src/geos_types.jl#L36\" target=\"_blank\">/Users/imolk/.julia/v0.5/LibGEOS/src/geos_types.jl:36</a></li> <li> (::<b>Type{T}</b>)<i>{T}</i>(arg) at <a href=\"https://github.com/JuliaLang/julia/tree/8d4ef3752f53494cd3ee615a7be0e27576830e83/base/sysimg.jl#L53\" target=\"_blank\">sysimg.jl:53</a></li> </ul>"
      ],
      "text/plain": [
       "# 4 methods for generic function \"(::Type)\":\n",
       "LibGEOS.LineString(ptr::Ptr{Ptr{Void}}) at /Users/imolk/.julia/v0.5/LibGEOS/src/geos_types.jl:31\n",
       "LibGEOS.LineString(line::Array{Array{Float64,1},1}) at /Users/imolk/.julia/v0.5/LibGEOS/src/geos_types.jl:35\n",
       "LibGEOS.LineString{T<:GeoInterface.AbstractLineString}(obj::T) at /Users/imolk/.julia/v0.5/LibGEOS/src/geos_types.jl:36\n",
       "(::Type{T}){T}(arg) at sysimg.jl:53"
      ]
     },
     "execution_count": 33,
     "metadata": {},
     "output_type": "execute_result"
    }
   ],
   "source": [
    "methods(LibGEOS.LineString)"
   ]
  },
  {
   "cell_type": "code",
   "execution_count": 34,
   "metadata": {},
   "outputs": [
    {
     "data": {
      "text/plain": [
       "LibGEOS.LineString(Ptr{Ptr{Void}} @0x00007fb0d764f570)"
      ]
     },
     "execution_count": 34,
     "metadata": {},
     "output_type": "execute_result"
    }
   ],
   "source": [
    "LibGEOS.LineString(ls_json.coordinates)"
   ]
  },
  {
   "cell_type": "code",
   "execution_count": 30,
   "metadata": {},
   "outputs": [
    {
     "data": {
      "text/plain": [
       "GeoJSON.LineString(Array{Float64,1}[[1.0,2.0],[3.0,4.0]],#undef,#undef)"
      ]
     },
     "execution_count": 30,
     "metadata": {},
     "output_type": "execute_result"
    }
   ],
   "source": [
    "GeoJSON.LineString([[1.0,2.0],[3.0,4.0]])"
   ]
  },
  {
   "cell_type": "code",
   "execution_count": 29,
   "metadata": {},
   "outputs": [
    {
     "data": {
      "text/plain": [
       "GeoJSON.LineString(Array{Float64,1}[[1.04771e6,2.2437e5],[1.04778e6,2.24293e5],[1.04773e6,2.24262e5],[1.04771e6,2.24242e5],[1.04769e6,2.24228e5],[1.04767e6,224216.0],[1.04744e6,224054.0],[1.0473e6,2.23944e5],[1.04704e6,2.23757e5],[1.04683e6,2.23601e5]  …  [1.03952e6,2.03953e5],[1.03943e6,2.03909e5],[1.03955e6,2.03879e5],[1.03958e6,2.03364e5],[1.03952e6,2.03301e5],[1.03964e6,2.03242e5],[1.03968e6,2.02834e5],[1.03963e6,2.02745e5],[1.03963e6,2.02726e5],[1.03954e6,2.02685e5]],#undef,#undef)"
      ]
     },
     "execution_count": 29,
     "metadata": {},
     "output_type": "execute_result"
    }
   ],
   "source": [
    "SchoolDistrict_borders.features[1].geometry"
   ]
  },
  {
   "cell_type": "code",
   "execution_count": 25,
   "metadata": {},
   "outputs": [
    {
     "ename": "LoadError",
     "evalue": "MethodError: Cannot `convert` an object of type GeoJSON.LineString to an object of type LibGEOS.LineString\nThis may have arisen from a call to the constructor LibGEOS.LineString(...),\nsince type constructors fall back to convert methods.",
     "output_type": "error",
     "traceback": [
      "MethodError: Cannot `convert` an object of type GeoJSON.LineString to an object of type LibGEOS.LineString\nThis may have arisen from a call to the constructor LibGEOS.LineString(...),\nsince type constructors fall back to convert methods.",
      "",
      " in LibGEOS.LineString(::GeoJSON.LineString) at ./sysimg.jl:53"
     ]
    }
   ],
   "source": [
    "LibGEOS.LineString(SchoolDistrict_borders.features[1].geometry)"
   ]
  },
  {
   "cell_type": "code",
   "execution_count": 27,
   "metadata": {},
   "outputs": [
    {
     "data": {
      "text/plain": [
       "true"
      ]
     },
     "execution_count": 27,
     "metadata": {},
     "output_type": "execute_result"
    }
   ],
   "source": [
    "LibGEOS.LineString <: GeoInterface.AbstractLineString"
   ]
  },
  {
   "cell_type": "code",
   "execution_count": 28,
   "metadata": {},
   "outputs": [
    {
     "data": {
      "text/plain": [
       "false"
      ]
     },
     "execution_count": 28,
     "metadata": {},
     "output_type": "execute_result"
    }
   ],
   "source": [
    "GeoJSON.LineString <: GeoInterface.AbstractLineString"
   ]
  },
  {
   "cell_type": "code",
   "execution_count": 26,
   "metadata": {},
   "outputs": [
    {
     "data": {
      "text/plain": [
       "LibGEOS.LineString"
      ]
     },
     "execution_count": 26,
     "metadata": {},
     "output_type": "execute_result"
    }
   ],
   "source": [
    "LibGEOS.LineString()"
   ]
  },
  {
   "cell_type": "code",
   "execution_count": 39,
   "metadata": {},
   "outputs": [
    {
     "name": "stderr",
     "output_type": "stream",
     "text": [
      "WARNING: Method definition (::Type{LibGEOS.MultiLineString})(GeoJSON.MultiLineString) in module Main at In[35]:1 overwritten at In[39]:1.\n",
      "WARNING: Method definition (::Type{LibGEOS.LineString})(GeoJSON.LineString) in module Main at In[35]:2 overwritten at In[39]:2.\n"
     ]
    }
   ],
   "source": [
    "LibGEOS.MultiLineString(obj::GeoJSON.MultiLineString) = LibGEOS.MultiLineString(GeoJSON.coordinates(obj))\n",
    "LibGEOS.LineString(obj::GeoJSON.LineString) = LibGEOS.LineString(GeoJSON.coordinates(obj))"
   ]
  },
  {
   "cell_type": "code",
   "execution_count": 40,
   "metadata": {},
   "outputs": [
    {
     "name": "stderr",
     "output_type": "stream",
     "text": [
      "WARNING: Method definition convert_geos(GeoJSON.LineString) in module Main at In[36]:2 overwritten at In[40]:2.\n",
      "WARNING: Method definition convert_geos(GeoJSON.MultiLineString) in module Main at In[36]:3 overwritten at In[40]:3.\n"
     ]
    }
   ],
   "source": [
    "borders_dict = Dict{Tuple{Int,Int}, Union{LibGEOS.MultiLineString,LibGEOS.LineString}}()\n",
    "convert_geos(geom::GeoJSON.LineString) = LibGEOS.LineString(geom)\n",
    "convert_geos(geom::GeoJSON.MultiLineString) = LibGEOS.MultiLineString(geom)\n",
    "\n",
    "for f in SchoolDistrict_borders.features\n",
    "    schdist1 = f.properties[\"SchoolDistrict1\"]\n",
    "    schdist2 = f.properties[\"SchoolDistrict2\"]\n",
    "    border = convert_geos(f.geometry)\n",
    "    borders_dict[schdist1,schdist2] = border\n",
    "end"
   ]
  },
  {
   "cell_type": "markdown",
   "metadata": {},
   "source": [
    "# NYC"
   ]
  },
  {
   "cell_type": "code",
   "execution_count": 41,
   "metadata": {
    "collapsed": true
   },
   "outputs": [],
   "source": [
    "using DataFrames"
   ]
  },
  {
   "cell_type": "code",
   "execution_count": 42,
   "metadata": {
    "collapsed": true
   },
   "outputs": [],
   "source": [
    "NYC_sales=readtable(\"NYC_data/processed/NYC_sales.csv\", header=true)\n",
    "begin\n",
    "    nyc_schdistrs = NYC_sales[:SchDistr]\n",
    "    schd_strings = [dec(sd,2) for sd in  nyc_schdistrs.values]\n",
    "    str_schdistrs = NullableCategoricalArray(schd_strings, nyc_schdistrs.isnull)\n",
    "    str_schdistrs\n",
    "    NYC_sales[:SchDistr] = str_schdistrs\n",
    "end\n",
    "# categorical variables\n",
    "categorical!(NYC_sales, [:BOROUGH,\n",
    "    :BUILDING_CLASS_CATEGORY,\n",
    "    :BUILDING_CLASS_AT_TIME_OF_SALE,\n",
    "    :ZIP_CODE,\n",
    "    :TAX_CLASS_AT_PRESENT,\n",
    "    :TAX_CLASS_AT_TIME_OF_SALE,\n",
    "    :NEIGHBORHOOD,\n",
    "    ])   "
   ]
  },
  {
   "cell_type": "code",
   "execution_count": 43,
   "metadata": {
    "collapsed": true
   },
   "outputs": [],
   "source": [
    "residential = Dict(\n",
    "\"01  ONE FAMILY DWELLINGS\"=>true,\n",
    "\"02  TWO FAMILY DWELLINGS\"=>true,\n",
    "\"03  THREE FAMILY DWELLINGS\"=>true,\n",
    "\"04  TAX CLASS 1 CONDOS\"=>true,\n",
    "\"05  TAX CLASS 1 VACANT LAND\"=>false,\n",
    "\"06  TAX CLASS 1 - OTHER\"=>false,\n",
    "\"07  RENTALS - WALKUP APARTMENTS\"=>false,\n",
    "\"08  RENTALS - ELEVATOR APARTMENTS\"=>false,\n",
    "\"09  COOPS - WALKUP APARTMENTS\"=>true,\n",
    "\"10  COOPS - ELEVATOR APARTMENTS\"=>true,\n",
    "\"11  SPECIAL CONDO BILLING LOTS\"=>false,\n",
    "\"11A CONDO-RENTALS\"=>false,\n",
    "\"12  CONDOS - WALKUP APARTMENTS\"=>true, # why are these duplicated?\n",
    "\"13  CONDOS - ELEVATOR APARTMENTS\"=>true,\n",
    "\"14  RENTALS - 4-10 UNIT\"=>false,\n",
    "\"15  CONDOS - 2-10 UNIT RESIDENTIAL\"=>true,\n",
    "\"16  CONDOS - 2-10 UNIT WITH COMMERCIAL UNIT\"=>false,\n",
    "\"17  CONDO COOPS\"=>true,\n",
    "\"18  TAX CLASS 3 - UNTILITY PROPERTIES\"=>false,\n",
    "\"21  OFFICE BUILDINGS\"=>false,\n",
    "\"22  STORE BUILDINGS\"=>false,\n",
    "\"23  LOFT BUILDINGS\"=>false,\n",
    "\"25  LUXURY HOTELS\"=>false,\n",
    "\"26  OTHER HOTELS\"=>false,\n",
    "\"27  FACTORIES\"=>false,\n",
    "\"28  COMMERCIAL CONDOS\"=>false,\n",
    "\"29  COMMERCIAL GARAGES\"=>false,\n",
    "\"30  WAREHOUSES\"=>false,\n",
    "\"31  COMMERCIAL VACANT LAND\"=>false,\n",
    "\"32  HOSPITAL AND HEALTH FACILITIES\"=>false,\n",
    "\"33  EDUCATIONAL FACILITIES\"=>false,\n",
    "\"34  THEATRES\"=>false,\n",
    "\"35  INDOOR PUBLIC AND CULTURAL FACILITIES\"=>false,\n",
    "\"36  OUTDOOR RECREATIONAL FACILITIES\"=>false,\n",
    "\"37  RELIGIOUS FACILITIES\"=>false,\n",
    "\"38  ASYLUMS AND HOMES\"=>false,\n",
    "\"41  TAX CLASS 4 - OTHER\"=>false,\n",
    "\"42  CONDO CULTURAL/MEDICAL/EDUCATIONAL/ETC\"=>false,\n",
    "\"43  CONDO OFFICE BUILDINGS\"=>false,\n",
    "\"44  CONDO PARKING\"=>false,\n",
    "\"45  CONDO HOTELS\"=>false,\n",
    "\"46  CONDO STORE BUILDINGS\"=>false,\n",
    "\"47  CONDO NON-BUSINESS STORAGE\"=>false,\n",
    "\"48  CONDO TERRACES/GARDENS/CABANAS\"=>false,\n",
    "\"49  CONDO WAREHOUSES/FACTORY/INDUS\"=>false,\n",
    ");"
   ]
  },
  {
   "cell_type": "code",
   "execution_count": 44,
   "metadata": {},
   "outputs": [
    {
     "name": "stdout",
     "output_type": "stream",
     "text": [
      "District 01 has 5 sales\n",
      "District 02 has 85 sales\n",
      "District 03 has 34 sales\n",
      "District 04 has 6 sales\n",
      "District 05 has 39 sales\n",
      "District 06 has 30 sales\n",
      "District 07 has 69 sales\n",
      "District 08 has 739 sales\n",
      "District 09 has 163 sales\n",
      "District 10 has 312 sales\n",
      "District 11 has 1172 sales\n",
      "District 12 has 204 sales\n",
      "District 13 has 322 sales\n",
      "District 14 has 195 sales\n",
      "District 15 has 517 sales\n",
      "District 16 has 421 sales\n",
      "District 17 has 459 sales\n",
      "District 18 has 559 sales\n",
      "District 19 has 686 sales\n",
      "District 20 has 1010 sales\n",
      "District 21 has 770 sales\n",
      "District 22 has 1453 sales\n",
      "District 23 has 245 sales\n",
      "District 24 has 1283 sales\n",
      "District 25 has 1317 sales\n",
      "District 26 has 1268 sales\n",
      "District 27 has 2199 sales\n",
      "District 28 has 1033 sales\n",
      "District 29 has 1956 sales\n",
      "District 30 has 695 sales\n",
      "District 31 has 0 sales\n",
      "District 32 has 345 sales\n"
     ]
    }
   ],
   "source": [
    "NYC_sales[:logSalePricePerSQFT] = map(log, NYC_sales[:SALE_PRICE]) .- map(log, NYC_sales[:GROSS_SQUARE_FEET])\n",
    "believable = zeros(Bool, size(NYC_sales,1))\n",
    "removed=zeros(Int, 12)\n",
    "for i in 1:size(NYC_sales,1)\n",
    "    if NYC_sales[i,:SALE_PRICE].isnull\n",
    "        removed[1] += 1\n",
    "        continue\n",
    "    end\n",
    "    if NYC_sales[i,:SchDistr].isnull\n",
    "        removed[2] += 1\n",
    "        continue\n",
    "    end\n",
    "    if NYC_sales[i,:BUILDING_CLASS_AT_TIME_OF_SALE].isnull\n",
    "        removed[3] += 1\n",
    "        continue\n",
    "    end\n",
    "    if NYC_sales[i,:BUILDING_CLASS_CATEGORY].isnull\n",
    "        removed[4] += 1\n",
    "        continue\n",
    "    end\n",
    "    if !residential[get(NYC_sales[i,:BUILDING_CLASS_CATEGORY])]\n",
    "        removed[5] += 1\n",
    "        continue\n",
    "    end\n",
    "    if NYC_sales[i,:BUILDING_CLASS_CATEGORY].isnull\n",
    "        removed[6] += 1\n",
    "        continue\n",
    "    end\n",
    "    if NYC_sales[i,:TAX_CLASS_AT_TIME_OF_SALE].isnull\n",
    "        removed[7] += 1\n",
    "        continue\n",
    "    end\n",
    "    if NYC_sales[i,:GROSS_SQUARE_FEET].isnull\n",
    "        removed[8] += 1\n",
    "        continue\n",
    "    end\n",
    "    if get(NYC_sales[i,:GROSS_SQUARE_FEET])<100.0\n",
    "        removed[9] += 1\n",
    "        continue\n",
    "    end\n",
    "    if get(NYC_sales[i,:logSalePricePerSQFT]) < 3.0\n",
    "        removed[10] += 1\n",
    "        # that's too cheap\n",
    "        continue\n",
    "    end\n",
    "    if get(NYC_sales[i,:logSalePricePerSQFT]) > 8.0\n",
    "        removed[11] += 1\n",
    "        # that's too expensive\n",
    "        continue\n",
    "    end\n",
    "    if NYC_sales[i,:XCoord].isnull\n",
    "        removed[12] += 1\n",
    "        continue\n",
    "    end\n",
    "    if NYC_sales[i,:YCoord].isnull\n",
    "        removed[13] += 1\n",
    "        continue\n",
    "    end\n",
    "    believable[i] = true\n",
    "end\n",
    "\n",
    "nobsv_ = sum(believable)\n",
    "for_mm = copy(NYC_sales[believable,:])\n",
    "reordering = collect(1:nobsv_)\n",
    "schdistrs = sort(for_mm[:SchDistr].pool.levels)\n",
    "istart = 1\n",
    "for name in schdistrs\n",
    "    schdistrs_col = for_mm[:SchDistr]\n",
    "    indices = find(schdistrs_col.refs .== find(schdistrs_col.pool.index .== name)[1])\n",
    "    nobsv_schdistr = length(indices)\n",
    "    @printf(\"District %s has %d sales\\n\", name, nobsv_schdistr)\n",
    "    iend = istart+nobsv_schdistr-1\n",
    "    reordering[istart:iend,:] = indices\n",
    "    istart = iend+1\n",
    "end\n",
    "for_mm = for_mm[reordering,:]\n",
    "schdistr_indices = Dict{String,Vector{Int}}()\n",
    "for name in schdistrs\n",
    "    schdistrs_col = for_mm[:SchDistr]\n",
    "    indices = find(schdistrs_col.refs .== find(schdistrs_col.pool.index .== name)[1])\n",
    "    schdistr_indices[name] = indices\n",
    "end\n",
    ";\n",
    "Y_dict=Dict{String, Vector{Float64}}()\n",
    "X_dict=Dict{String, Array{Float64,2}}()\n",
    "for name in schdistrs\n",
    "    Y_dict[name] = for_mm[schdistr_indices[name], :logSalePricePerSQFT]\n",
    "    X_dict[name] = for_mm[schdistr_indices[name],[:XCoord, :YCoord]]\n",
    "end\n",
    "sentinels_json=GeoJSON.parsefile(\"NYC_data/processed/SchoolDistrict_borders/SchoolDistrict_sentinels.json\")\n",
    "sentinels=Dict{Tuple{String,String},GeoJSON.MultiPoint}()\n",
    "for f in sentinels_json.features\n",
    "    key = (dec(f.properties[\"SchoolDistrict1\"],2), dec(f.properties[\"SchoolDistrict2\"],2))\n",
    "    sentinels[key] = f.geometry\n",
    "end"
   ]
  },
  {
   "cell_type": "code",
   "execution_count": 46,
   "metadata": {
    "scrolled": true
   },
   "outputs": [
    {
     "data": {
      "text/plain": [
       "686×2 Array{Float64,2}:\n",
       " 1.01245e6  186814.0\n",
       " 1.01248e6  186595.0\n",
       " 1.0125e6   186570.0\n",
       " 1.01298e6  186757.0\n",
       " 1.01209e6  185519.0\n",
       " 1.01211e6  185521.0\n",
       " 1.01331e6  185642.0\n",
       " 1.01356e6  188194.0\n",
       " 1.01323e6  187846.0\n",
       " 1.01318e6  187612.0\n",
       " 1.01437e6  187883.0\n",
       " 1.0143e6   187837.0\n",
       " 1.01539e6  187974.0\n",
       " ⋮                  \n",
       " 1.0192e6   182341.0\n",
       " 1.0194e6   182195.0\n",
       " 1.0194e6   182195.0\n",
       " 1.01931e6  182148.0\n",
       " 1.0195e6   182350.0\n",
       " 1.02361e6  182417.0\n",
       " 1.02359e6  182476.0\n",
       " 1.02357e6  182599.0\n",
       " 1.02397e6  182390.0\n",
       " 1.02393e6  182382.0\n",
       " 1.02382e6  182673.0\n",
       " 1.02125e6  180344.0"
      ]
     },
     "execution_count": 46,
     "metadata": {},
     "output_type": "execute_result"
    }
   ],
   "source": [
    "X_dict[\"19\"]"
   ]
  },
  {
   "cell_type": "code",
   "execution_count": 51,
   "metadata": {},
   "outputs": [],
   "source": [
    "points_distr_dict = Dict{String,Vector{LibGEOS.Point}}()\n",
    "for distr in keys(X_dict)\n",
    "    X = X_dict[distr]\n",
    "    points = [LibGEOS.Point(X[i,:]) for i in 1:size(X,1)]\n",
    "    points_distr_dict[distr] = points\n",
    "end"
   ]
  },
  {
   "cell_type": "code",
   "execution_count": 61,
   "metadata": {},
   "outputs": [
    {
     "data": {
      "text/plain": [
       "2199-element Array{Float64,1}:\n",
       "  6873.79 \n",
       "  7380.36 \n",
       "  6078.08 \n",
       " 18277.2  \n",
       " 17863.4  \n",
       " 17581.2  \n",
       " 16604.5  \n",
       " 16394.1  \n",
       " 17982.5  \n",
       " 13329.9  \n",
       " 13564.9  \n",
       " 13694.1  \n",
       " 13318.5  \n",
       "     ⋮    \n",
       "   758.551\n",
       "  1602.21 \n",
       "  2328.67 \n",
       "  5467.29 \n",
       "  5531.76 \n",
       "   332.906\n",
       "   123.798\n",
       "   123.798\n",
       "   345.143\n",
       "   843.309\n",
       "  2072.74 \n",
       "  2285.45 "
      ]
     },
     "execution_count": 61,
     "metadata": {},
     "output_type": "execute_result"
    }
   ],
   "source": [
    "border = borders_dict[(19,27)]\n",
    "distances_19 = [LibGEOS.distance(p, border) for p in points_distr_dict[\"19\"]]\n",
    "distances_27 = [LibGEOS.distance(p, border) for p in points_distr_dict[\"27\"]]"
   ]
  },
  {
   "cell_type": "code",
   "execution_count": 65,
   "metadata": {},
   "outputs": [
    {
     "data": {
      "text/plain": [
       "Dict{String,Any} with 32 entries:\n",
       "  \"24\" => Any[5.82215,5.27046,6.08294,5.83966,5.81488,5.7995,5.48396,5.44726,5.…\n",
       "  \"29\" => Any[4.65263,5.41024,5.49985,5.56356,5.47666,5.65043,5.49956,5.77053,5…\n",
       "  \"32\" => Any[6.4072,6.13528,6.83249,5.36659,6.4321,6.4974,6.28408,6.23172,5.13…\n",
       "  \"07\" => Any[6.2389,4.6823,5.10428,4.63921,6.07306,4.77229,4.89776,4.40696,4.4…\n",
       "  \"12\" => Any[4.56657,3.94776,5.84151,5.30726,4.15171,5.49041,4.18879,4.12291,5…\n",
       "  \"20\" => Any[5.85571,6.34274,5.38755,5.76039,5.8591,3.01936,5.99472,5.58398,5.…\n",
       "  \"06\" => Any[6.32931,6.395,6.19472,6.2479,6.71488,5.75223,6.04542,6.25457,6.26…\n",
       "  \"25\" => Any[5.49132,5.96967,6.33895,6.22021,5.79593,5.98009,5.92144,5.82884,5…\n",
       "  \"03\" => Any[6.30079,6.60451,6.86331,6.11695,6.57142,6.33068,6.64541,6.91508,6…\n",
       "  \"22\" => Any[5.296,5.56968,5.17892,5.7061,5.55155,5.63543,5.58394,5.6944,5.638…\n",
       "  \"11\" => Any[4.90563,3.61091,5.06685,5.0512,4.91019,5.1655,5.78627,5.25981,4.5…\n",
       "  \"23\" => Any[4.95637,5.10909,4.78241,4.43588,4.93451,4.95898,4.84532,4.98883,4…\n",
       "  \"13\" => Any[6.66771,6.03463,5.01721,5.01721,5.25901,5.85161,5.4351,5.22673,5.…\n",
       "  \"15\" => Any[6.73143,6.8195,6.02997,5.77391,5.13136,6.95979,6.67243,7.08988,6.…\n",
       "  \"04\" => Any[5.96992,6.50555,6.57617,5.43104,5.93853,6.51906]\n",
       "  \"27\" => Any[5.19438,5.14926,5.2498,5.08409,4.31468,4.90209,5.70561,4.11637,4.…\n",
       "  \"31\" => Any[]\n",
       "  \"28\" => Any[5.67696,5.41894,5.53247,5.40899,5.36817,4.07219,4.88555,5.62764,5…\n",
       "  \"16\" => Any[5.96081,5.83674,6.0831,5.76019,5.64687,5.5735,6.18085,5.29629,5.9…\n",
       "  \"14\" => Any[5.03068,6.33901,5.84338,5.86807,5.6861,5.90105,4.86719,5.18376,4.…\n",
       "  \"21\" => Any[5.44586,5.91213,4.71318,5.87538,6.21537,5.97904,5.11165,4.80685,5…\n",
       "  \"09\" => Any[4.33159,4.45079,5.1538,5.01707,5.18035,5.10852,4.14826,4.54671,4.…\n",
       "  \"05\" => Any[5.20143,6.414,6.54088,6.29459,6.57866,4.04758,6.05338,6.15263,6.2…\n",
       "  \"01\" => Any[6.87288,6.36882,7.04144,6.87786,7.36345]\n",
       "  \"08\" => Any[5.11096,5.10299,4.5467,5.47227,5.1039,5.53348,3.56237,5.04846,5.1…\n",
       "  ⋮    => ⋮"
      ]
     },
     "execution_count": 65,
     "metadata": {},
     "output_type": "execute_result"
    }
   ],
   "source": [
    "resid_multi = JSON.parsefile(\"NYC_data/processed/resid_multi.json\")"
   ]
  },
  {
   "cell_type": "code",
   "execution_count": 66,
   "metadata": {},
   "outputs": [
    {
     "data": {
      "text/html": [
       "<table class=\"data-frame\"><tr><th></th><th>distance</th><th>Y</th><th>Y_residuals</th></tr><tr><th>1</th><td>8990.27</td><td>5.80747</td><td>5.46181</td></tr><tr><th>2</th><td>9000.46</td><td>5.69242</td><td>5.307</td></tr><tr><th>3</th><td>8981.09</td><td>6.84495</td><td>6.45953</td></tr><tr><th>4</th><td>8478.19</td><td>5.02638</td><td>4.64096</td></tr><tr><th>5</th><td>9586.55</td><td>5.37765</td><td>5.12684</td></tr><tr><th>6</th><td>9567.61</td><td>5.29365</td><td>5.04285</td></tr><tr><th>7</th><td>8366.19</td><td>5.40368</td><td>5.15287</td></tr><tr><th>8</th><td>7685.19</td><td>5.10373</td><td>4.75806</td></tr><tr><th>9</th><td>8079.09</td><td>5.85757</td><td>5.34634</td></tr><tr><th>10</th><td>8162.61</td><td>4.86222</td><td>4.51655</td></tr><tr><th>11</th><td>6952.95</td><td>5.37557</td><td>5.01788</td></tr><tr><th>12</th><td>7020.89</td><td>5.46847</td><td>5.11078</td></tr><tr><th>13</th><td>5923.33</td><td>5.86408</td><td>5.50639</td></tr><tr><th>14</th><td>5923.33</td><td>4.50445</td><td>4.14676</td></tr><tr><th>15</th><td>4836.24</td><td>5.61144</td><td>5.26577</td></tr><tr><th>16</th><td>4412.7</td><td>4.80362</td><td>4.44593</td></tr><tr><th>17</th><td>4175.52</td><td>5.70125</td><td>5.34357</td></tr><tr><th>18</th><td>3929.58</td><td>5.53103</td><td>5.14561</td></tr><tr><th>19</th><td>6944.95</td><td>4.97507</td><td>4.62941</td></tr><tr><th>20</th><td>4792.67</td><td>5.5617</td><td>5.21603</td></tr><tr><th>21</th><td>4640.23</td><td>4.79846</td><td>4.4528</td></tr><tr><th>22</th><td>5303.38</td><td>5.79484</td><td>5.44918</td></tr><tr><th>23</th><td>6427.38</td><td>5.74003</td><td>5.39437</td></tr><tr><th>24</th><td>6427.38</td><td>4.87732</td><td>4.53166</td></tr><tr><th>25</th><td>5562.85</td><td>5.13085</td><td>4.78519</td></tr><tr><th>26</th><td>4902.99</td><td>5.73824</td><td>5.39257</td></tr><tr><th>27</th><td>4355.34</td><td>6.16534</td><td>5.81967</td></tr><tr><th>28</th><td>1952.41</td><td>6.29625</td><td>5.93856</td></tr><tr><th>29</th><td>1750.29</td><td>6.13364</td><td>5.78798</td></tr><tr><th>30</th><td>883.471</td><td>5.95926</td><td>5.57384</td></tr><tr><th>&vellip;</th><td>&vellip;</td><td>&vellip;</td><td>&vellip;</td></tr></table>"
      ],
      "text/plain": [
       "2885×3 DataFrames.DataFrame\n",
       "│ Row  │ distance │ Y       │ Y_residuals │\n",
       "├──────┼──────────┼─────────┼─────────────┤\n",
       "│ 1    │ 8990.27  │ 5.80747 │ 5.46181     │\n",
       "│ 2    │ 9000.46  │ 5.69242 │ 5.307       │\n",
       "│ 3    │ 8981.09  │ 6.84495 │ 6.45953     │\n",
       "│ 4    │ 8478.19  │ 5.02638 │ 4.64096     │\n",
       "│ 5    │ 9586.55  │ 5.37765 │ 5.12684     │\n",
       "│ 6    │ 9567.61  │ 5.29365 │ 5.04285     │\n",
       "│ 7    │ 8366.19  │ 5.40368 │ 5.15287     │\n",
       "│ 8    │ 7685.19  │ 5.10373 │ 4.75806     │\n",
       "│ 9    │ 8079.09  │ 5.85757 │ 5.34634     │\n",
       "│ 10   │ 8162.61  │ 4.86222 │ 4.51655     │\n",
       "│ 11   │ 6952.95  │ 5.37557 │ 5.01788     │\n",
       "⋮\n",
       "│ 2874 │ -758.551 │ 5.36145 │ 5.30543     │\n",
       "│ 2875 │ -1602.21 │ 5.99117 │ 5.93515     │\n",
       "│ 2876 │ -2328.67 │ 5.24977 │ 5.19375     │\n",
       "│ 2877 │ -5467.29 │ 5.40767 │ 5.35165     │\n",
       "│ 2878 │ -5531.76 │ 5.2563  │ 5.20028     │\n",
       "│ 2879 │ -332.906 │ 5.19617 │ 5.14015     │\n",
       "│ 2880 │ -123.798 │ 5.61816 │ 5.56214     │\n",
       "│ 2881 │ -123.798 │ 5.1499  │ 5.09388     │\n",
       "│ 2882 │ -345.143 │ 5.91964 │ 5.86362     │\n",
       "│ 2883 │ -843.309 │ 5.75093 │ 5.69491     │\n",
       "│ 2884 │ -2072.74 │ 5.91696 │ 5.86094     │\n",
       "│ 2885 │ -2285.45 │ 5.85515 │ 5.79913     │"
      ]
     },
     "execution_count": 66,
     "metadata": {},
     "output_type": "execute_result"
    }
   ],
   "source": [
    "projected_df = DataFrame(distance    = [distances_19 ; -distances_27], \n",
    "                         Y           = [Y_dict[\"19\"] ; Y_dict[\"27\"]], \n",
    "                         Y_residuals = [resid_multi[\"19\"] ; resid_multi[\"27\"]])"
   ]
  },
  {
   "cell_type": "code",
   "execution_count": 67,
   "metadata": {
    "collapsed": true
   },
   "outputs": [],
   "source": [
    "DataFrames.writetable(\"NYC_data/processed/projected_19_27.csv\", projected_df)"
   ]
  }
 ],
 "metadata": {
  "hide_input": false,
  "kernelspec": {
   "display_name": "Julia 0.5.1",
   "language": "julia",
   "name": "julia-0.5.1"
  },
  "language_info": {
   "file_extension": ".jl",
   "mimetype": "application/julia",
   "name": "julia",
   "version": "0.5.1"
  },
  "toc": {
   "colors": {
    "hover_highlight": "#DAA520",
    "running_highlight": "#FF0000",
    "selected_highlight": "#FFD700"
   },
   "moveMenuLeft": true,
   "nav_menu": {
    "height": "30px",
    "width": "252px"
   },
   "navigate_menu": true,
   "number_sections": true,
   "sideBar": true,
   "threshold": 4,
   "toc_cell": false,
   "toc_section_display": "block",
   "toc_window_display": false,
   "widenNotebook": false
  }
 },
 "nbformat": 4,
 "nbformat_minor": 2
}

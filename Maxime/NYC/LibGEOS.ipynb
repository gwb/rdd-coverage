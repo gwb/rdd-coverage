{
 "cells": [
  {
   "cell_type": "code",
   "execution_count": 5,
   "metadata": {},
   "outputs": [
    {
     "data": {
      "text/plain": [
       "sales_dicts (generic function with 1 method)"
      ]
     },
     "execution_count": 5,
     "metadata": {},
     "output_type": "execute_result"
    }
   ],
   "source": [
    "include(\"NYC.jl\")"
   ]
  },
  {
   "cell_type": "code",
   "execution_count": 6,
   "metadata": {},
   "outputs": [],
   "source": [
    "borders_dict = read_borders()\n",
    ";"
   ]
  },
  {
   "cell_type": "markdown",
   "metadata": {},
   "source": [
    "# NYC"
   ]
  },
  {
   "cell_type": "code",
   "execution_count": 7,
   "metadata": {},
   "outputs": [],
   "source": [
    "NYC_sales = read_processed_sales()\n",
    ";"
   ]
  },
  {
   "cell_type": "code",
   "execution_count": 8,
   "metadata": {
    "scrolled": true
   },
   "outputs": [],
   "source": [
    "filtered = filter_sales(NYC_sales)\n",
    "for_mm = filtered[:filtered]\n",
    ";"
   ]
  },
  {
   "cell_type": "code",
   "execution_count": 9,
   "metadata": {
    "scrolled": true
   },
   "outputs": [
    {
     "name": "stdout",
     "output_type": "stream",
     "text": [
      "District 01 has 5 sales\n",
      "District 02 has 85 sales\n",
      "District 03 has 34 sales\n",
      "District 04 has 6 sales\n",
      "District 05 has 39 sales\n",
      "District 06 has 30 sales\n",
      "District 07 has 69 sales\n",
      "District 08 has 739 sales\n",
      "District 09 has 163 sales\n",
      "District 10 has 312 sales\n",
      "District 11 has 1172 sales\n",
      "District 12 has 204 sales\n",
      "District 13 has 322 sales\n",
      "District 14 has 195 sales\n",
      "District 15 has 517 sales\n",
      "District 16 has 421 sales\n",
      "District 17 has 459 sales\n",
      "District 18 has 559 sales\n",
      "District 19 has 686 sales\n",
      "District 20 has 1010 sales\n",
      "District 21 has 770 sales\n",
      "District 22 has 1453 sales\n",
      "District 23 has 245 sales\n",
      "District 24 has 1283 sales\n",
      "District 25 has 1317 sales\n",
      "District 26 has 1268 sales\n",
      "District 27 has 2199 sales\n",
      "District 28 has 1033 sales\n",
      "District 29 has 1956 sales\n",
      "District 30 has 695 sales\n",
      "District 31 has 0 sales\n",
      "District 32 has 345 sales\n"
     ]
    },
    {
     "name": "stderr",
     "output_type": "stream",
     "text": [
      "\u001b[1m\u001b[33mWARNING: \u001b[39m\u001b[22m\u001b[33manynull(x) is deprecated, use any(isnull, x) instead.\u001b[39m\n",
      "Stacktrace:\n",
      " [1] \u001b[1mdepwarn\u001b[22m\u001b[22m\u001b[1m(\u001b[22m\u001b[22m::String, ::Symbol\u001b[1m)\u001b[22m\u001b[22m at \u001b[1m./deprecated.jl:70\u001b[22m\u001b[22m\n",
      " [2] \u001b[1manynull\u001b[22m\u001b[22m\u001b[1m(\u001b[22m\u001b[22m::NullableArrays.NullableArray{Float64,1}\u001b[1m)\u001b[22m\u001b[22m at \u001b[1m./deprecated.jl:57\u001b[22m\u001b[22m\n",
      " [3] \u001b[1mconvert\u001b[22m\u001b[22m\u001b[1m(\u001b[22m\u001b[22m::Type{Array{Float64,2}}, ::DataTables.DataTable\u001b[1m)\u001b[22m\u001b[22m at \u001b[1m/Users/imolk/Library/Julia/packages/v0.6/DataTables/src/abstractdatatable/abstractdatatable.jl:545\u001b[22m\u001b[22m\n",
      " [4] \u001b[1msetindex!\u001b[22m\u001b[22m\u001b[1m(\u001b[22m\u001b[22m::Dict{String,Array{Float64,2}}, ::DataTables.DataTable, ::String\u001b[1m)\u001b[22m\u001b[22m at \u001b[1m./dict.jl:420\u001b[22m\u001b[22m\n",
      " [5] \u001b[1msales_dicts\u001b[22m\u001b[22m\u001b[1m(\u001b[22m\u001b[22m::DataTables.DataTable\u001b[1m)\u001b[22m\u001b[22m at \u001b[1m/Users/imolk/Documents/Harvard/Miratrix/rdd-coverage/Maxime/NYC/NYC.jl:192\u001b[22m\u001b[22m\n",
      " [6] \u001b[1minclude_string\u001b[22m\u001b[22m\u001b[1m(\u001b[22m\u001b[22m::String, ::String\u001b[1m)\u001b[22m\u001b[22m at \u001b[1m./loading.jl:515\u001b[22m\u001b[22m\n",
      " [7] \u001b[1minclude_string\u001b[22m\u001b[22m\u001b[1m(\u001b[22m\u001b[22m::Module, ::String, ::String\u001b[1m)\u001b[22m\u001b[22m at \u001b[1m/Users/imolk/Library/Julia/packages/v0.6/Compat/src/Compat.jl:577\u001b[22m\u001b[22m\n",
      " [8] \u001b[1mexecute_request\u001b[22m\u001b[22m\u001b[1m(\u001b[22m\u001b[22m::ZMQ.Socket, ::IJulia.Msg\u001b[1m)\u001b[22m\u001b[22m at \u001b[1m/Users/imolk/Library/Julia/packages/v0.6/IJulia/src/execute_request.jl:154\u001b[22m\u001b[22m\n",
      " [9] \u001b[1meventloop\u001b[22m\u001b[22m\u001b[1m(\u001b[22m\u001b[22m::ZMQ.Socket\u001b[1m)\u001b[22m\u001b[22m at \u001b[1m/Users/imolk/Library/Julia/packages/v0.6/IJulia/src/eventloop.jl:8\u001b[22m\u001b[22m\n",
      " [10] \u001b[1m(::IJulia.##14#17)\u001b[22m\u001b[22m\u001b[1m(\u001b[22m\u001b[22m\u001b[1m)\u001b[22m\u001b[22m at \u001b[1m./task.jl:335\u001b[22m\u001b[22m\n",
      "while loading In[9], in expression starting on line 1\n"
     ]
    }
   ],
   "source": [
    "model_dicts = sales_dicts(for_mm)\n",
    "X_dict = model_dicts[:X_dict]\n",
    "Y_dict = model_dicts[:Y_dict]\n",
    ";"
   ]
  },
  {
   "cell_type": "code",
   "execution_count": 10,
   "metadata": {
    "collapsed": true
   },
   "outputs": [],
   "source": [
    "points_distr_dict = Dict{String,Vector{LibGEOS.Point}}()\n",
    "for distr in keys(X_dict)\n",
    "    X = X_dict[distr]\n",
    "    points = [LibGEOS.Point(X[i,:]) for i in 1:size(X,1)]\n",
    "    points_distr_dict[distr] = points\n",
    "end"
   ]
  },
  {
   "cell_type": "code",
   "execution_count": 23,
   "metadata": {},
   "outputs": [
    {
     "data": {
      "text/markdown": [
       "No documentation found.\n",
       "\n",
       "`LibGEOS.project` is a `Function`.\n",
       "\n",
       "```\n",
       "# 2 methods for generic function \"project\":\n",
       "project(line::LibGEOS.LineString, point::LibGEOS.Point) in LibGEOS at /Users/imolk/Library/Julia/packages/v0.6/LibGEOS/src/geos_operations.jl:30\n",
       "project(g::Ptr{Ptr{Void}}, p::Ptr{Ptr{Void}}) in LibGEOS at /Users/imolk/Library/Julia/packages/v0.6/LibGEOS/src/geos_functions.jl:286\n",
       "```\n"
      ],
      "text/plain": [
       "No documentation found.\n",
       "\n",
       "`LibGEOS.project` is a `Function`.\n",
       "\n",
       "```\n",
       "# 2 methods for generic function \"project\":\n",
       "project(line::LibGEOS.LineString, point::LibGEOS.Point) in LibGEOS at /Users/imolk/Library/Julia/packages/v0.6/LibGEOS/src/geos_operations.jl:30\n",
       "project(g::Ptr{Ptr{Void}}, p::Ptr{Ptr{Void}}) in LibGEOS at /Users/imolk/Library/Julia/packages/v0.6/LibGEOS/src/geos_functions.jl:286\n",
       "```\n"
      ]
     },
     "execution_count": 23,
     "metadata": {},
     "output_type": "execute_result"
    }
   ],
   "source": [
    "LibGEOS.project"
   ]
  },
  {
   "cell_type": "code",
   "execution_count": 26,
   "metadata": {},
   "outputs": [
    {
     "data": {
      "text/plain": [
       "10754.89799903885"
      ]
     },
     "execution_count": 26,
     "metadata": {},
     "output_type": "execute_result"
    }
   ],
   "source": [
    "LibGEOS.project(borders_dict[(19,24)], points_distr_dict[\"19\"][5])"
   ]
  },
  {
   "cell_type": "code",
   "execution_count": 29,
   "metadata": {},
   "outputs": [
    {
     "data": {
      "text/plain": [
       "2-element Array{LibGEOS.Point,1}:\n",
       " LibGEOS.Point(Ptr{Ptr{Void}} @0x00007fbf9b6c7190)\n",
       " LibGEOS.Point(Ptr{Ptr{Void}} @0x00007fbf9b6b8650)"
      ]
     },
     "execution_count": 29,
     "metadata": {},
     "output_type": "execute_result"
    }
   ],
   "source": [
    "p = points_distr_dict[\"19\"][5]\n",
    "border = borders_dict[(19,24)]\n",
    "LibGEOS.nearestPoints(border, p)"
   ]
  },
  {
   "cell_type": "code",
   "execution_count": 47,
   "metadata": {},
   "outputs": [
    {
     "data": {
      "text/plain": [
       "2-element Array{LibGEOS.Point,1}:\n",
       " LibGEOS.Point(Ptr{Ptr{Void}} @0x00007fbf9d23d990)\n",
       " LibGEOS.Point(Ptr{Ptr{Void}} @0x00007fbf9a1dd400)"
      ]
     },
     "execution_count": 47,
     "metadata": {},
     "output_type": "execute_result"
    }
   ],
   "source": [
    "p = points_distr_dict[\"19\"][5]\n",
    "border = borders_dict[(19,27)]\n",
    "LibGEOS.nearestPoints(border, p)"
   ]
  },
  {
   "cell_type": "code",
   "execution_count": 35,
   "metadata": {},
   "outputs": [
    {
     "data": {
      "text/plain": [
       "2-element Array{LibGEOS.Point,1}:\n",
       " LibGEOS.Point(Ptr{Ptr{Void}} @0x00007fbf9b2079e0)\n",
       " LibGEOS.Point(Ptr{Ptr{Void}} @0x00007fbf9b2cd3d0)"
      ]
     },
     "execution_count": 35,
     "metadata": {},
     "output_type": "execute_result"
    }
   ],
   "source": [
    "near=LibGEOS.nearestPoints(p, border)"
   ]
  },
  {
   "cell_type": "code",
   "execution_count": 42,
   "metadata": {},
   "outputs": [
    {
     "data": {
      "text/plain": [
       "3-element Array{Float64,1}:\n",
       "   1.01297e6\n",
       "   1.87887e5\n",
       " NaN        "
      ]
     },
     "execution_count": 42,
     "metadata": {},
     "output_type": "execute_result"
    }
   ],
   "source": [
    "GeoInterface.coordinates(near[2])"
   ]
  },
  {
   "cell_type": "code",
   "execution_count": 11,
   "metadata": {},
   "outputs": [
    {
     "data": {
      "text/plain": [
       "2199-element Array{Float64,1}:\n",
       "  6873.79 \n",
       "  7380.36 \n",
       "  6078.08 \n",
       " 18277.2  \n",
       " 17863.4  \n",
       " 17581.2  \n",
       " 16604.5  \n",
       " 16394.1  \n",
       " 17982.5  \n",
       " 13329.9  \n",
       " 13564.9  \n",
       " 13694.1  \n",
       " 13318.5  \n",
       "     ⋮    \n",
       "   758.551\n",
       "  1602.21 \n",
       "  2328.67 \n",
       "  5467.29 \n",
       "  5531.76 \n",
       "   332.906\n",
       "   123.798\n",
       "   123.798\n",
       "   345.143\n",
       "   843.309\n",
       "  2072.74 \n",
       "  2285.45 "
      ]
     },
     "execution_count": 11,
     "metadata": {},
     "output_type": "execute_result"
    }
   ],
   "source": [
    "border = borders_dict[(19,27)]\n",
    "distances_19 = [LibGEOS.distance(p, border) for p in points_distr_dict[\"19\"]]\n",
    "distances_27 = [LibGEOS.distance(p, border) for p in points_distr_dict[\"27\"]]"
   ]
  },
  {
   "cell_type": "code",
   "execution_count": 12,
   "metadata": {},
   "outputs": [
    {
     "data": {
      "text/plain": [
       "Dict{String,Any} with 32 entries:\n",
       "  \"24\" => Any[5.82215, 5.27046, 6.08294, 5.83966, 5.81488, 5.7995, 5.48396, 5.4…\n",
       "  \"29\" => Any[4.65263, 5.41024, 5.49985, 5.56356, 5.47666, 5.65043, 5.49956, 5.…\n",
       "  \"32\" => Any[6.4072, 6.13528, 6.83249, 5.36659, 6.4321, 6.4974, 6.28408, 6.231…\n",
       "  \"07\" => Any[6.2389, 4.6823, 5.10428, 4.63921, 6.07306, 4.77229, 4.89776, 4.40…\n",
       "  \"12\" => Any[4.56657, 3.94776, 5.84151, 5.30726, 4.15171, 5.49041, 4.18879, 4.…\n",
       "  \"20\" => Any[5.85571, 6.34274, 5.38755, 5.76039, 5.8591, 3.01936, 5.99472, 5.5…\n",
       "  \"06\" => Any[6.32931, 6.395, 6.19472, 6.2479, 6.71488, 5.75223, 6.04542, 6.254…\n",
       "  \"25\" => Any[5.49132, 5.96967, 6.33895, 6.22021, 5.79593, 5.98009, 5.92144, 5.…\n",
       "  \"03\" => Any[6.30079, 6.60451, 6.86331, 6.11695, 6.57142, 6.33068, 6.64541, 6.…\n",
       "  \"22\" => Any[5.296, 5.56968, 5.17892, 5.7061, 5.55155, 5.63543, 5.58394, 5.694…\n",
       "  \"11\" => Any[4.90563, 3.61091, 5.06685, 5.0512, 4.91019, 5.1655, 5.78627, 5.25…\n",
       "  \"23\" => Any[4.95637, 5.10909, 4.78241, 4.43588, 4.93451, 4.95898, 4.84532, 4.…\n",
       "  \"13\" => Any[6.66771, 6.03463, 5.01721, 5.01721, 5.25901, 5.85161, 5.4351, 5.2…\n",
       "  \"15\" => Any[6.73143, 6.8195, 6.02997, 5.77391, 5.13136, 6.95979, 6.67243, 7.0…\n",
       "  \"04\" => Any[5.96992, 6.50555, 6.57617, 5.43104, 5.93853, 6.51906]\n",
       "  \"27\" => Any[5.19438, 5.14926, 5.2498, 5.08409, 4.31468, 4.90209, 5.70561, 4.1…\n",
       "  \"31\" => Any[]\n",
       "  \"28\" => Any[5.67696, 5.41894, 5.53247, 5.40899, 5.36817, 4.07219, 4.88555, 5.…\n",
       "  \"16\" => Any[5.96081, 5.83674, 6.0831, 5.76019, 5.64687, 5.5735, 6.18085, 5.29…\n",
       "  \"14\" => Any[5.03068, 6.33901, 5.84338, 5.86807, 5.6861, 5.90105, 4.86719, 5.1…\n",
       "  \"21\" => Any[5.44586, 5.91213, 4.71318, 5.87538, 6.21537, 5.97904, 5.11165, 4.…\n",
       "  \"09\" => Any[4.33159, 4.45079, 5.1538, 5.01707, 5.18035, 5.10852, 4.14826, 4.5…\n",
       "  \"05\" => Any[5.20143, 6.414, 6.54088, 6.29459, 6.57866, 4.04758, 6.05338, 6.15…\n",
       "  \"01\" => Any[6.87288, 6.36882, 7.04144, 6.87786, 7.36345]\n",
       "  \"08\" => Any[5.11096, 5.10299, 4.5467, 5.47227, 5.1039, 5.53348, 3.56237, 5.04…\n",
       "  ⋮    => ⋮"
      ]
     },
     "execution_count": 12,
     "metadata": {},
     "output_type": "execute_result"
    }
   ],
   "source": [
    "# residuals\n",
    "resid_multi = JSON.parsefile(\"NYC_data/processed/resid_multi.json\")"
   ]
  },
  {
   "cell_type": "code",
   "execution_count": 13,
   "metadata": {},
   "outputs": [
    {
     "data": {
      "text/html": [
       "<table class=\"data-frame\"><thead><tr><th></th><th>distance</th><th>Y</th><th>Y_residuals</th></tr></thead><tbody><tr><th>1</th><td>8990.268229658846</td><td>5.807474933213331</td><td>5.46181241665287</td></tr><tr><th>2</th><td>9000.462622457448</td><td>5.692418716005887</td><td>5.306997277350792</td></tr><tr><th>3</th><td>8981.091735672015</td><td>6.844953027433553</td><td>6.459531588778457</td></tr><tr><th>4</th><td>8478.190949756836</td><td>5.026383651064394</td><td>4.640962212409299</td></tr><tr><th>5</th><td>9586.550504455552</td><td>5.377649215830168</td><td>5.126841469243449</td></tr><tr><th>6</th><td>9567.60613643241</td><td>5.293652937256681</td><td>5.042845190669962</td></tr><tr><th>7</th><td>8366.19000202173</td><td>5.403677882205862</td><td>5.1528701356191435</td></tr><tr><th>8</th><td>7685.194197717486</td><td>5.103725717162268</td><td>4.758063200601807</td></tr><tr><th>9</th><td>8079.089979759623</td><td>5.857569584219502</td><td>5.346343667575157</td></tr><tr><th>10</th><td>8162.612994010347</td><td>4.862215288977982</td><td>4.516552772417521</td></tr><tr><th>11</th><td>6952.949362117239</td><td>5.375565241269815</td><td>5.017877628479871</td></tr><tr><th>12</th><td>7020.888599303824</td><td>5.4684655330298355</td><td>5.110777920239892</td></tr><tr><th>13</th><td>5923.329149445005</td><td>5.8640781223107465</td><td>5.506390509520804</td></tr><tr><th>14</th><td>5923.329149445005</td><td>4.5044520082730175</td><td>4.146764395483075</td></tr><tr><th>15</th><td>4836.240192380334</td><td>5.611436514680594</td><td>5.265773998120133</td></tr><tr><th>16</th><td>4412.698362047381</td><td>4.80362112471193</td><td>4.445933511921988</td></tr><tr><th>17</th><td>4175.5160166982605</td><td>5.701254028302842</td><td>5.3435664155129</td></tr><tr><th>18</th><td>3929.5837410453155</td><td>5.5310303688783975</td><td>5.145608930223302</td></tr><tr><th>19</th><td>6944.950452648609</td><td>4.975072230062442</td><td>4.629409713501981</td></tr><tr><th>20</th><td>4792.67331332785</td><td>5.561696230054145</td><td>5.216033713493684</td></tr><tr><th>21</th><td>4640.2255145236795</td><td>4.798460774152621</td><td>4.45279825759216</td></tr><tr><th>22</th><td>5303.375149494487</td><td>5.794841205603168</td><td>5.449178689042707</td></tr><tr><th>23</th><td>6427.377512794378</td><td>5.7400278021490445</td><td>5.3943652855885835</td></tr><tr><th>24</th><td>6427.377512794378</td><td>4.877321316408996</td><td>4.531658799848535</td></tr><tr><th>25</th><td>5562.852510149296</td><td>5.130849166459069</td><td>4.785186649898608</td></tr><tr><th>26</th><td>4902.987183030823</td><td>5.7382350208909765</td><td>5.3925725043305155</td></tr><tr><th>27</th><td>4355.336076401012</td><td>6.165337049415409</td><td>5.819674532854948</td></tr><tr><th>28</th><td>1952.4077147126127</td><td>6.296252087462702</td><td>5.938564474672759</td></tr><tr><th>29</th><td>1750.2933371818694</td><td>6.133639035888524</td><td>5.787976519328063</td></tr><tr><th>30</th><td>883.4708129843884</td><td>5.959261406613346</td><td>5.573839967958252</td></tr><tr><th>&vellip;</th><td>&vellip;</td><td>&vellip;</td><td>&vellip;</td></tr></tbody></table>"
      ],
      "text/plain": [
       "2885×3 DataFrames.DataFrame\n",
       "│ Row  │ distance │ Y       │ Y_residuals │\n",
       "├──────┼──────────┼─────────┼─────────────┤\n",
       "│ 1    │ 8990.27  │ 5.80747 │ 5.46181     │\n",
       "│ 2    │ 9000.46  │ 5.69242 │ 5.307       │\n",
       "│ 3    │ 8981.09  │ 6.84495 │ 6.45953     │\n",
       "│ 4    │ 8478.19  │ 5.02638 │ 4.64096     │\n",
       "│ 5    │ 9586.55  │ 5.37765 │ 5.12684     │\n",
       "│ 6    │ 9567.61  │ 5.29365 │ 5.04285     │\n",
       "│ 7    │ 8366.19  │ 5.40368 │ 5.15287     │\n",
       "│ 8    │ 7685.19  │ 5.10373 │ 4.75806     │\n",
       "│ 9    │ 8079.09  │ 5.85757 │ 5.34634     │\n",
       "│ 10   │ 8162.61  │ 4.86222 │ 4.51655     │\n",
       "│ 11   │ 6952.95  │ 5.37557 │ 5.01788     │\n",
       "⋮\n",
       "│ 2874 │ -758.551 │ 5.36145 │ 5.30543     │\n",
       "│ 2875 │ -1602.21 │ 5.99117 │ 5.93515     │\n",
       "│ 2876 │ -2328.67 │ 5.24977 │ 5.19375     │\n",
       "│ 2877 │ -5467.29 │ 5.40767 │ 5.35165     │\n",
       "│ 2878 │ -5531.76 │ 5.2563  │ 5.20028     │\n",
       "│ 2879 │ -332.906 │ 5.19617 │ 5.14015     │\n",
       "│ 2880 │ -123.798 │ 5.61816 │ 5.56214     │\n",
       "│ 2881 │ -123.798 │ 5.1499  │ 5.09388     │\n",
       "│ 2882 │ -345.143 │ 5.91964 │ 5.86362     │\n",
       "│ 2883 │ -843.309 │ 5.75093 │ 5.69491     │\n",
       "│ 2884 │ -2072.74 │ 5.91696 │ 5.86094     │\n",
       "│ 2885 │ -2285.45 │ 5.85515 │ 5.79913     │"
      ]
     },
     "execution_count": 13,
     "metadata": {},
     "output_type": "execute_result"
    }
   ],
   "source": [
    "projected_df = DataFrame(distance    = [distances_19 ; -distances_27], \n",
    "                         Y           = [Y_dict[\"19\"] ; Y_dict[\"27\"]], \n",
    "                         Y_residuals = [resid_multi[\"19\"] ; resid_multi[\"27\"]])"
   ]
  },
  {
   "cell_type": "code",
   "execution_count": 14,
   "metadata": {},
   "outputs": [
    {
     "name": "stderr",
     "output_type": "stream",
     "text": [
      "WARNING: Compat.UTF8String is deprecated, use String instead.\n",
      "  likely near In[14]:1\n",
      "WARNING: Compat.UTF8String is deprecated, use String instead.\n",
      "  likely near In[14]:1\n",
      "WARNING: Compat.UTF8String is deprecated, use String instead.\n",
      "  likely near In[14]:1\n",
      "WARNING: Compat.UTF8String is deprecated, use String instead.\n",
      "  likely near In[14]:1\n",
      "WARNING: Compat.UTF8String is deprecated, use String instead.\n",
      "  likely near In[14]:1\n",
      "WARNING: Compat.UTF8String is deprecated, use String instead.\n",
      "  likely near In[14]:1\n",
      "WARNING: Compat.UTF8String is deprecated, use String instead.\n",
      "  likely near In[14]:1\n",
      "WARNING: Compat.UTF8String is deprecated, use String instead.\n",
      "  likely near In[14]:1\n",
      "WARNING: Compat.UTF8String is deprecated, use String instead.\n",
      "  likely near In[14]:1\n",
      "WARNING: Compat.UTF8String is deprecated, use String instead.\n",
      "  likely near In[14]:1\n",
      "WARNING: Compat.UTF8String is deprecated, use String instead.\n",
      "  likely near In[14]:1\n",
      "WARNING: Compat.UTF8String is deprecated, use String instead.\n",
      "  likely near In[14]:1\n",
      "WARNING: Compat.UTF8String is deprecated, use String instead.\n",
      "  likely near In[14]:1\n"
     ]
    }
   ],
   "source": [
    "DataFrames.writetable(\"NYC_data/processed/projected_19_27.csv\", projected_df)"
   ]
  }
 ],
 "metadata": {
  "hide_input": false,
  "kernelspec": {
   "display_name": "Julia 0.6.0",
   "language": "julia",
   "name": "julia-0.6"
  },
  "language_info": {
   "file_extension": ".jl",
   "mimetype": "application/julia",
   "name": "julia",
   "version": "0.6.0"
  },
  "toc": {
   "colors": {
    "hover_highlight": "#DAA520",
    "running_highlight": "#FF0000",
    "selected_highlight": "#FFD700"
   },
   "moveMenuLeft": true,
   "nav_menu": {
    "height": "30px",
    "width": "252px"
   },
   "navigate_menu": true,
   "number_sections": true,
   "sideBar": true,
   "threshold": 4,
   "toc_cell": false,
   "toc_section_display": "block",
   "toc_window_display": false,
   "widenNotebook": false
  }
 },
 "nbformat": 4,
 "nbformat_minor": 2
}

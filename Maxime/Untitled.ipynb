{
 "cells": [
  {
   "cell_type": "markdown",
   "metadata": {
    "toc": "true"
   },
   "source": [
    "# Table of Contents\n",
    " <p><div class=\"lev1 toc-item\"><a href=\"#DataFrames-LaTeX-output\" data-toc-modified-id=\"DataFrames-LaTeX-output-1\"><span class=\"toc-item-num\">1&nbsp;&nbsp;</span>DataFrames LaTeX output</a></div><div class=\"lev1 toc-item\"><a href=\"#SIMD\" data-toc-modified-id=\"SIMD-2\"><span class=\"toc-item-num\">2&nbsp;&nbsp;</span>SIMD</a></div><div class=\"lev1 toc-item\"><a href=\"#Self-referential-types\" data-toc-modified-id=\"Self-referential-types-3\"><span class=\"toc-item-num\">3&nbsp;&nbsp;</span>Self referential types</a></div><div class=\"lev1 toc-item\"><a href=\"#Matrix-multiplication\" data-toc-modified-id=\"Matrix-multiplication-4\"><span class=\"toc-item-num\">4&nbsp;&nbsp;</span>Matrix multiplication</a></div>"
   ]
  },
  {
   "cell_type": "markdown",
   "metadata": {},
   "source": [
    "# DataFrames LaTeX output"
   ]
  },
  {
   "cell_type": "code",
   "execution_count": 3,
   "metadata": {
    "collapsed": true
   },
   "outputs": [],
   "source": [
    "using DataFrames"
   ]
  },
  {
   "cell_type": "code",
   "execution_count": 4,
   "metadata": {
    "collapsed": false
   },
   "outputs": [
    {
     "data": {
      "text/html": [
       "<table class=\"data-frame\"><tr><th></th><th>name</th><th>age</th><th>squidPerWeek</th></tr><tr><th>1</th><td>Nullable{String}(\"Alice\")</td><td>Nullable{Int64}(36)</td><td>Nullable{Float64}(3.14)</td></tr><tr><th>2</th><td>Nullable{String}(\"Bob\")</td><td>Nullable{Int64}(24)</td><td>Nullable{Float64}(0.0)</td></tr><tr><th>3</th><td>Nullable{String}(\"Carol\")</td><td>Nullable{Int64}(58)</td><td>Nullable{Float64}(2.71)</td></tr><tr><th>4</th><td>Nullable{String}(\"Eve\")</td><td>Nullable{Int64}(49)</td><td>Nullable{Float64}(7.77)</td></tr></table>"
      ],
      "text/plain": [
       "4×3 DataFrames.DataFrame\n",
       "│ Row │ name    │ age │ squidPerWeek │\n",
       "├─────┼─────────┼─────┼──────────────┤\n",
       "│ 1   │ \"Alice\" │ 36  │ 3.14         │\n",
       "│ 2   │ \"Bob\"   │ 24  │ 0.0          │\n",
       "│ 3   │ \"Carol\" │ 58  │ 2.71         │\n",
       "│ 4   │ \"Eve\"   │ 49  │ 7.77         │"
      ]
     },
     "execution_count": 4,
     "metadata": {},
     "output_type": "execute_result"
    }
   ],
   "source": [
    "    df1 = csv\"\"\"\n",
    "        name,  age, squidPerWeek\n",
    "        Alice,  36,         3.14\n",
    "        Bob,    24,         0\n",
    "        Carol,  58,         2.71\n",
    "        Eve,    49,         7.77\n",
    "        \"\"\"\n"
   ]
  },
  {
   "cell_type": "code",
   "execution_count": 11,
   "metadata": {
    "collapsed": false
   },
   "outputs": [
    {
     "name": "stdout",
     "output_type": "stream",
     "text": [
      "2.71"
     ]
    }
   ],
   "source": [
    "showcompact(df1[3,3])"
   ]
  },
  {
   "cell_type": "code",
   "execution_count": 5,
   "metadata": {
    "collapsed": false
   },
   "outputs": [
    {
     "data": {
      "text/plain": [
       "\"\\\\begin{tabular}{r|ccc}\\n\\t& name & age & squidPerWeek\\\\\\\\ \\n\\t\\\\hline \\n\\t1 & Alice & 36 & 3.14 \\\\\\\\ \\n\\t2 & Bob & 24 & 0.0 \\\\\\\\ \\n\\t3 & Carol & 58 & 2.71 \\\\\\\\ \\n\\t4 & Eve & 49 & 7.77 \\\\\\\\ \\n\\\\end{tabular}\\n\""
      ]
     },
     "execution_count": 5,
     "metadata": {},
     "output_type": "execute_result"
    }
   ],
   "source": [
    "reprmime(MIME(\"text/latex\"), df1)"
   ]
  },
  {
   "cell_type": "code",
   "execution_count": 6,
   "metadata": {
    "collapsed": false
   },
   "outputs": [
    {
     "ename": "LoadError",
     "evalue": "MethodError: no method matching show(::IOContext{Base.AbstractIOBuffer{Array{UInt8,1}}}, ::MIME{Symbol(\"text/latex\")}, ::StatsBase.#df)\u001b[0m\nClosest candidates are:\n  show(::IO, \u001b[1m\u001b[31m::MIME{Symbol(\"text/csv\")}\u001b[0m, ::Any) at datafmt.jl:712\n  show(::IO, \u001b[1m\u001b[31m::MIME{Symbol(\"text/tab-separated-values\")}\u001b[0m, ::Any) at datafmt.jl:713\n  show(::IO, \u001b[1m\u001b[31m::MIME{Symbol(\"text/plain\")}\u001b[0m, ::Function) at replutil.jl:100\n  ...\u001b[0m",
     "output_type": "error",
     "traceback": [
      "MethodError: no method matching show(::IOContext{Base.AbstractIOBuffer{Array{UInt8,1}}}, ::MIME{Symbol(\"text/latex\")}, ::StatsBase.#df)\u001b[0m\nClosest candidates are:\n  show(::IO, \u001b[1m\u001b[31m::MIME{Symbol(\"text/csv\")}\u001b[0m, ::Any) at datafmt.jl:712\n  show(::IO, \u001b[1m\u001b[31m::MIME{Symbol(\"text/tab-separated-values\")}\u001b[0m, ::Any) at datafmt.jl:713\n  show(::IO, \u001b[1m\u001b[31m::MIME{Symbol(\"text/plain\")}\u001b[0m, ::Function) at replutil.jl:100\n  ...\u001b[0m",
      "",
      " in verbose_show(::Base.AbstractIOBuffer{Array{UInt8,1}}, ::MIME{Symbol(\"text/latex\")}, ::Function) at ./multimedia.jl:50",
      " in #sprint#304(::Void, ::Function, ::Int64, ::Function, ::MIME{Symbol(\"text/latex\")}, ::Vararg{Any,N}) at ./strings/io.jl:37",
      " in reprmime(::MIME{Symbol(\"text/latex\")}, ::Function) at ./multimedia.jl:64"
     ]
    }
   ],
   "source": [
    "isequal(reprmime(MIME(\"text/latex\"), df),\n",
    "        \"\"\"\n",
    "        \\\\begin{tabular}{r|cccc}\n",
    "        \\t& A & B & C & D\\\\\\\\ \n",
    "        \\t\\\\hline \n",
    "        \\t1 & 1 & \\\\\\$10.0 & \\$\\\\alpha\\$ & 1.0 \\\\\\\\ \n",
    "        \\t2 & 2 & M\\\\&F & \\$\\\\beta\\$ & 2.0 \\\\\\\\ \n",
    "        \\t3 & 3 & A\\\\textasciitilde{}B & \\$\\\\gamma\\$ &  \\\\\\\\ \n",
    "        \\t4 & 4 & \\\\textbackslash{}alpha & \\$\\\\sum_{i=1}^n \\\\delta_i\\$ & 3.0 \\\\\\\\ \n",
    "        \\\\end{tabular}\n",
    "        \"\"\")\n"
   ]
  },
  {
   "cell_type": "code",
   "execution_count": 7,
   "metadata": {
    "collapsed": false
   },
   "outputs": [
    {
     "data": {
      "text/plain": [
       "\"\\\"\\n        \\\\begin{tabular}{r|cccc}\\n        \\t& A & B & C & D\\\\\\\\ \\n\\n        \\t\\\\hline \\n        \\t1 & 1 & \\\\\\$10.0 & \\$\\\\alpha\\$ & 1.0 \\\\\\\\ \\n        \\t2 & 2 & M\\\\&F & \\$\\\\beta\\$ & 2.0 \\\\\\\\ \\n        \\t3 & 3 & A\\\\textasciitilde{}B & \\$\\\\gamma\\$ &  \\\\\\\\ \\n        \\t4 & 4 & \\\\textbackslash{}alpha & \\$\\\\sum_{i=1}^n \\\\delta_i\\$ & 3.0 \\\\\\\\ \\n        \\\\end{tabular}\\n\""
      ]
     },
     "execution_count": 7,
     "metadata": {},
     "output_type": "execute_result"
    }
   ],
   "source": [
    "a =     \"\"\"\"\n",
    "        \\\\begin{tabular}{r|cccc}\n",
    "        \\t& A & B & C & D\\\\\\\\ \\n\n",
    "        \\t\\\\hline \n",
    "        \\t1 & 1 & \\\\\\$10.0 & \\$\\\\alpha\\$ & 1.0 \\\\\\\\ \n",
    "        \\t2 & 2 & M\\\\&F & \\$\\\\beta\\$ & 2.0 \\\\\\\\ \n",
    "        \\t3 & 3 & A\\\\textasciitilde{}B & \\$\\\\gamma\\$ &  \\\\\\\\ \n",
    "        \\t4 & 4 & \\\\textbackslash{}alpha & \\$\\\\sum_{i=1}^n \\\\delta_i\\$ & 3.0 \\\\\\\\ \n",
    "        \\\\end{tabular}\\n\"\"\""
   ]
  },
  {
   "cell_type": "code",
   "execution_count": 8,
   "metadata": {
    "collapsed": false
   },
   "outputs": [
    {
     "data": {
      "text/plain": [
       "\"        \\\\begin{tabular}{r|cccc}\\n        \\t& A & B & C & D\\\\\\\\ \\n\\t\\\\hline \\n        \\t1 & 1 & \\\\\\$10.0 & \\$\\\\alpha\\$ & 1.0 \\\\\\\\ \\n        \\t2 & 2 & M\\\\&F & \\$\\\\beta\\$ & 2.0 \\\\\\\\ \\n        \\t3 & 3 & A\\\\textasciitilde{}B & \\$\\\\gamma\\$ &  \\\\\\\\ \\n        \\t4 & 4 & \\\\textbackslash{}alpha & \\$\\\\sum_{i=1}^n \\\\delta_i\\$ & 3.0 \\\\\\\\ \\n        \\\\end{tabular}\\n\""
      ]
     },
     "execution_count": 8,
     "metadata": {},
     "output_type": "execute_result"
    }
   ],
   "source": [
    "a =     \"\"\"\n",
    "        \\\\begin{tabular}{r|cccc}\n",
    "        \\t& A & B & C & D\\\\\\\\ \\n\\t\\\\hline \n",
    "        \\t1 & 1 & \\\\\\$10.0 & \\$\\\\alpha\\$ & 1.0 \\\\\\\\ \n",
    "        \\t2 & 2 & M\\\\&F & \\$\\\\beta\\$ & 2.0 \\\\\\\\ \n",
    "        \\t3 & 3 & A\\\\textasciitilde{}B & \\$\\\\gamma\\$ &  \\\\\\\\ \n",
    "        \\t4 & 4 & \\\\textbackslash{}alpha & \\$\\\\sum_{i=1}^n \\\\delta_i\\$ & 3.0 \\\\\\\\ \n",
    "        \\\\end{tabular}\\n\"\"\""
   ]
  },
  {
   "cell_type": "code",
   "execution_count": 12,
   "metadata": {
    "collapsed": false,
    "scrolled": true
   },
   "outputs": [
    {
     "name": "stderr",
     "output_type": "stream",
     "text": [
      "WARNING: imported binding for df overwritten in module Main\n"
     ]
    },
    {
     "data": {
      "text/plain": [
       "\"\\\\begin{tabular}{r|cccc}\\n\\t& A & B & C & D\\\\\\\\ \\n\\t\\\\hline \\n\\t1 & 1 & \\\\\\$10.0 & \\$\\\\alpha\\$ & 1.0 \\\\\\\\ \\n\\t2 & 2 & M\\\\&F & \\$\\\\beta\\$ & 2.0 \\\\\\\\ \\n\\t3 & 3 & A\\\\textasciitilde{}B & \\$\\\\gamma\\$ &  \\\\\\\\ \\n\\t4 & 4 & \\\\textbackslash{}alpha & \\$\\\\sum_{i=1}^n \\\\delta_i\\$ & 3.0 \\\\\\\\ \\n\\\\end{tabular}\\n\""
      ]
     },
     "execution_count": 12,
     "metadata": {},
     "output_type": "execute_result"
    }
   ],
   "source": [
    "using DataFrames\n",
    "using LaTeXStrings\n",
    "df = DataFrame(A = 1:4, \n",
    "               B = [\"\\$10.0\", \"M&F\", \"A~B\", \"\\\\alpha\"], \n",
    "               C = [L\"\\alpha\", L\"\\beta\", L\"\\gamma\", L\"\\sum_{i=1}^n \\delta_i\"],\n",
    "               D = [1.0, 2.0, Nullable(), 3.0]\n",
    "               )\n",
    "reprmime(MIME(\"text/latex\"), df)"
   ]
  },
  {
   "cell_type": "code",
   "execution_count": 13,
   "metadata": {
    "collapsed": false
   },
   "outputs": [
    {
     "name": "stderr",
     "output_type": "stream",
     "text": [
      "\u001b[1m\u001b[31mWARNING: the no-op `transpose` fallback is deprecated, and no more specific `transpose` method for String exists. Consider `permutedims(x, [2, 1])` or writing a specific `transpose(x::String)` method if appropriate.\u001b[0m\n",
      " in depwarn(::String, ::Symbol) at ./deprecated.jl:64\n",
      " in transpose(::String) at ./deprecated.jl:770\n",
      " in ctranspose at ./operators.jl:315 [inlined]\n",
      " in Ac_rdiv_Bc at ./operators.jl:329 [inlined]\n",
      " in \\(::String, ::String) at ./operators.jl:145\n",
      " in include_string(::String, ::String) at ./loading.jl:441\n",
      " in execute_request(::ZMQ.Socket, ::IJulia.Msg) at /Users/imolk/.julia/v0.5/IJulia/src/execute_request.jl:175\n",
      " in eventloop(::ZMQ.Socket) at /Users/imolk/.julia/v0.5/IJulia/src/eventloop.jl:8\n",
      " in (::IJulia.##9#15)() at ./task.jl:360\n",
      "while loading In[13], in expression starting on line 1\n",
      "\u001b[1m\u001b[31mWARNING: the no-op `transpose` fallback is deprecated, and no more specific `transpose` method for String exists. Consider `permutedims(x, [2, 1])` or writing a specific `transpose(x::String)` method if appropriate.\u001b[0m\n",
      " in depwarn(::String, ::Symbol) at ./deprecated.jl:64\n",
      " in transpose(::String) at ./deprecated.jl:770\n",
      " in ctranspose at ./operators.jl:315 [inlined]\n",
      " in Ac_rdiv_Bc at ./operators.jl:329 [inlined]\n",
      " in \\(::String, ::String) at ./operators.jl:145\n",
      " in include_string(::String, ::String) at ./loading.jl:441\n",
      " in execute_request(::ZMQ.Socket, ::IJulia.Msg) at /Users/imolk/.julia/v0.5/IJulia/src/execute_request.jl:175\n",
      " in eventloop(::ZMQ.Socket) at /Users/imolk/.julia/v0.5/IJulia/src/eventloop.jl:8\n",
      " in (::IJulia.##9#15)() at ./task.jl:360\n",
      "while loading In[13], in expression starting on line 1\n"
     ]
    },
    {
     "ename": "LoadError",
     "evalue": "MethodError: no method matching /(::String, ::String)",
     "output_type": "error",
     "traceback": [
      "MethodError: no method matching /(::String, ::String)",
      "",
      " in \\(::String, ::String) at ./operators.jl:145"
     ]
    }
   ],
   "source": [
    "(\"abc\"\\\n",
    "\"Def\")"
   ]
  },
  {
   "cell_type": "code",
   "execution_count": 49,
   "metadata": {
    "collapsed": false
   },
   "outputs": [
    {
     "name": "stderr",
     "output_type": "stream",
     "text": [
      "\u001b[1m\u001b[34mINFO: Computing test dependencies for DataFrames...\n",
      "\u001b[0m\u001b[1m\u001b[34mINFO: Installing RData v0.0.4\n",
      "\u001b[0m\u001b[1m\u001b[34mINFO: Installing RDatasets v0.2.0\n",
      "\u001b[0m\u001b[1m\u001b[34mINFO: Building Rmath\n",
      "\u001b[0m\u001b[1m\u001b[34mINFO: Testing DataFrames\n",
      "\u001b[0m"
     ]
    },
    {
     "name": "stdout",
     "output_type": "stream",
     "text": [
      "Running tests:\n"
     ]
    },
    {
     "name": "stderr",
     "output_type": "stream",
     "text": [
      "\u001b[1m\u001b[31mWARNING: Unable to validate reserved words against parser. Expected if Julia was not built from source.\u001b[0m\n"
     ]
    },
    {
     "name": "stdout",
     "output_type": "stream",
     "text": [
      "\t\u001b[1m\u001b[32mPASSED\u001b[0m: utils.jl\n",
      "\t\u001b[1m\u001b[32mPASSED\u001b[0m: cat.jl\n",
      "\t\u001b[1m\u001b[32mPASSED\u001b[0m: data.jl\n",
      "\t\u001b[1m\u001b[32mPASSED\u001b[0m: index.jl\n",
      "\t\u001b[1m\u001b[32mPASSED\u001b[0m: dataframe.jl\n",
      "\t\u001b[1m\u001b[32mPASSED\u001b[0m: dataframerow.jl\n",
      "\t\u001b[1m\u001b[32mPASSED\u001b[0m: io.jl\n",
      "\t\u001b[1m\u001b[32mPASSED\u001b[0m: formula.jl\n",
      "\t\u001b[1m\u001b[32mPASSED\u001b[0m: constructors.jl\n",
      "\t\u001b[1m\u001b[32mPASSED\u001b[0m: conversions.jl\n",
      "\t\u001b[1m\u001b[32mPASSED\u001b[0m: sort.jl\n",
      "\t\u001b[1m\u001b[32mPASSED\u001b[0m: grouping.jl\n",
      "\t\u001b[1m\u001b[32mPASSED\u001b[0m: join.jl\n",
      "\t\u001b[1m\u001b[32mPASSED\u001b[0m: iteration.jl\n",
      "\t\u001b[1m\u001b[32mPASSED\u001b[0m: duplicates.jl\n",
      "\t\u001b[1m\u001b[32mPASSED\u001b[0m: show.jl\n",
      "\t\u001b[1m\u001b[32mPASSED\u001b[0m: statsmodel.jl\n",
      "\t\u001b[1m\u001b[32mPASSED\u001b[0m: contrasts.jl\n"
     ]
    },
    {
     "name": "stderr",
     "output_type": "stream",
     "text": [
      "\u001b[1m\u001b[34mINFO: DataFrames tests passed\n",
      "\u001b[0m\u001b[1m\u001b[34mINFO: Removing RData v0.0.4\n",
      "\u001b[0m\u001b[1m\u001b[34mINFO: Removing RDatasets v0.2.0\n",
      "\u001b[0m"
     ]
    }
   ],
   "source": [
    "Pkg.test(\"DataFrames\")"
   ]
  },
  {
   "cell_type": "code",
   "execution_count": 28,
   "metadata": {
    "collapsed": false
   },
   "outputs": [
    {
     "data": {
      "text/plain": [
       "true"
      ]
     },
     "execution_count": 28,
     "metadata": {},
     "output_type": "execute_result"
    }
   ],
   "source": [
    "reprmime(MIME(\"text/latex\"), df) == \"\"\"\\\\begin{tabular}{r|cccc}\n",
    "\t& A & B & C & D\\\\\\\\ \\n\\t\\\\hline \n",
    "\t1 & 1 & \\\\\\$10.0 & \\$\\\\alpha\\$ & 1.0 \\\\\\\\ \n",
    "\t2 & 2 & M\\\\&F & \\$\\\\beta\\$ & 2.0 \\\\\\\\ \n",
    "\t3 & 3 & A\\\\textasciitilde{}B & \\$\\\\gamma\\$ &  \\\\\\\\ \n",
    "\t4 & 4 & \\\\textbackslash{}alpha & \\$\\\\sum_{i=1}^n \\\\delta_i\\$ & 3.0 \\\\\\\\ \n",
    "\\\\end{tabular}\n",
    "\"\"\""
   ]
  },
  {
   "cell_type": "code",
   "execution_count": 2,
   "metadata": {
    "collapsed": false
   },
   "outputs": [
    {
     "data": {
      "text/plain": [
       "isnull (generic function with 5 methods)"
      ]
     },
     "execution_count": 2,
     "metadata": {},
     "output_type": "execute_result"
    }
   ],
   "source": [
    "Base.isnull"
   ]
  },
  {
   "cell_type": "code",
   "execution_count": 1,
   "metadata": {
    "collapsed": false
   },
   "outputs": [
    {
     "name": "stderr",
     "output_type": "stream",
     "text": [
      "INFO: Recompiling stale cache file /Users/imolk/.julia/lib/v0.5/RCall.ji for module RCall.\n"
     ]
    },
    {
     "name": "stdout",
     "output_type": "stream",
     "text": [
      "R installation found at \"/usr/local/Cellar/r/3.3.1_2/R.framework/Resources\"\n"
     ]
    },
    {
     "data": {
      "text/plain": [
       "Ptr{RCall.RealSxp} @0x00007fad46a031f8"
      ]
     },
     "execution_count": 1,
     "metadata": {},
     "output_type": "execute_result"
    }
   ],
   "source": [
    "using DataFrames\n",
    "using RCall\n",
    "GFP_data = DataFrame(weeks= Float64[5, 5, 7, 9, 9, 9, 9, 9, 9, 9], \n",
    "            status=Int[1, 1, 1, 0, 0, 0, 0, 0, 0, 0], \n",
    "            rx=\"GFP\")\n",
    "RCall.sexp(GFP_data[:weeks])"
   ]
  },
  {
   "cell_type": "code",
   "execution_count": 2,
   "metadata": {
    "collapsed": true
   },
   "outputs": [],
   "source": [
    "globalEnv[:weeks] = GFP_data[:weeks];"
   ]
  },
  {
   "cell_type": "code",
   "execution_count": 3,
   "metadata": {
    "collapsed": false
   },
   "outputs": [],
   "source": [
    "globalEnv[:treatment] = GFP_data;"
   ]
  },
  {
   "cell_type": "code",
   "execution_count": 4,
   "metadata": {
    "collapsed": false
   },
   "outputs": [
    {
     "data": {
      "text/plain": [
       "RCall.RObject{RCall.VecSxp}\n",
       "  weeks status  rx\n",
       "1     5      1 GFP\n",
       "2     5      1 GFP\n",
       "3     7      1 GFP\n",
       "4     9      0 GFP\n",
       "5     9      0 GFP\n",
       "6     9      0 GFP\n"
      ]
     },
     "execution_count": 4,
     "metadata": {},
     "output_type": "execute_result"
    }
   ],
   "source": [
    "\"head(treatment)\" |> reval"
   ]
  },
  {
   "cell_type": "code",
   "execution_count": 5,
   "metadata": {
    "collapsed": false
   },
   "outputs": [
    {
     "data": {
      "text/plain": [
       "RCall.RObject{RCall.RealSxp}\n",
       "[1] 8\n"
      ]
     },
     "execution_count": 5,
     "metadata": {},
     "output_type": "execute_result"
    }
   ],
   "source": [
    "\"mean(weeks)\" |> reval"
   ]
  },
  {
   "cell_type": "code",
   "execution_count": 6,
   "metadata": {
    "collapsed": false
   },
   "outputs": [
    {
     "data": {
      "text/plain": [
       "5.0"
      ]
     },
     "execution_count": 6,
     "metadata": {},
     "output_type": "execute_result"
    }
   ],
   "source": [
    "RCall.sexp(GFP_data)[1][1]"
   ]
  },
  {
   "cell_type": "code",
   "execution_count": 7,
   "metadata": {
    "collapsed": false
   },
   "outputs": [],
   "source": [
    "using RCall: protect, allocArray, VectorSxp, unprotect\n",
    "using NullableArrays: isnull\n",
    "import RCall: sexp"
   ]
  },
  {
   "cell_type": "code",
   "execution_count": 13,
   "metadata": {
    "collapsed": false
   },
   "outputs": [
    {
     "name": "stderr",
     "output_type": "stream",
     "text": [
      "WARNING: Method definition sexp(NullableArrays.NullableArray) in module RCall at /Users/imolk/.julia/v0.5/RCall/src/convert-data.jl:43 overwritten in module Main at In[13]:2.\n"
     ]
    },
    {
     "data": {
      "text/plain": [
       "sexp (generic function with 53 methods)"
      ]
     },
     "execution_count": 13,
     "metadata": {},
     "output_type": "execute_result"
    }
   ],
   "source": [
    "function sexp(v::NullableArray)\n",
    "    rv = protect(sexp(Array(eltype(eltype(v)), size(v)...)))\n",
    "    try\n",
    "        for (i,val) in enumerate(v)\n",
    "            if isnull(val)\n",
    "                rv[i] = naeltype(eltype(rv))\n",
    "            else\n",
    "                rv[i] = get(val)\n",
    "            end\n",
    "        end\n",
    "    finally\n",
    "        unprotect(1)\n",
    "    end\n",
    "    rv\n",
    "end"
   ]
  },
  {
   "cell_type": "code",
   "execution_count": 14,
   "metadata": {
    "collapsed": false
   },
   "outputs": [
    {
     "data": {
      "text/plain": [
       "Ptr{RCall.RealSxp} @0x00007fbdb92fb148"
      ]
     },
     "execution_count": 14,
     "metadata": {},
     "output_type": "execute_result"
    }
   ],
   "source": [
    "globalEnv[:weeks] = sexp(GFP_data[:weeks])"
   ]
  },
  {
   "cell_type": "code",
   "execution_count": 16,
   "metadata": {
    "collapsed": false
   },
   "outputs": [
    {
     "data": {
      "text/plain": [
       "RCall.RObject{RCall.RealSxp}\n",
       "[1] 8\n"
      ]
     },
     "execution_count": 16,
     "metadata": {},
     "output_type": "execute_result"
    }
   ],
   "source": [
    "\"mean(weeks)\" |> reval"
   ]
  },
  {
   "cell_type": "markdown",
   "metadata": {},
   "source": [
    "# SIMD"
   ]
  },
  {
   "cell_type": "code",
   "execution_count": 16,
   "metadata": {
    "collapsed": false
   },
   "outputs": [
    {
     "name": "stdout",
     "output_type": "stream",
     "text": [
      "\n"
     ]
    },
    {
     "name": "stderr",
     "output_type": "stream",
     "text": [
      "WARNING: Method definition inner(Any, Any) in module Main at In[15]:2 overwritten at In[16]:2.\n",
      "WARNING: Method definition innersimd(Any, Any) in module Main at In[15]:10 overwritten at In[16]:10.\n",
      "WARNING: Method definition innersimd2(Any, Any) in module Main at In[15]:18 overwritten at In[16]:18.\n",
      "WARNING: Method definition innerblas(Any, Any) in module Main at In[15]:29 overwritten at In[16]:29.\n",
      "WARNING: Method definition timeit(Any, Any) in module Main at In[15]:33 overwritten at In[16]:33.\n"
     ]
    },
    {
     "name": "stdout",
     "output_type": "stream",
     "text": [
      "GFlop        = 2.229474927107596\n",
      "GFlop (SIMD) = 8.557466575712207\n",
      "GFlop (SIMD2) = 16.064134450379697\n",
      "GFlop (BLAS) = 1.9160500123158906\n"
     ]
    }
   ],
   "source": [
    "function inner( x, y )\n",
    "    s = zero(eltype(x))\n",
    "    for i in eachindex(x,y)\n",
    "        @inbounds s += x[i]*y[i]\n",
    "    end\n",
    "    s\n",
    "end\n",
    "\n",
    "function innersimd( x, y )\n",
    "    s = zero(eltype(x))\n",
    "    @simd for i in eachindex(x,y)\n",
    "        @inbounds s += x[i]*y[i]\n",
    "    end\n",
    "    s\n",
    "end\n",
    "\n",
    "function innersimd2( x, y )\n",
    "    s = zero(eltype(x))\n",
    "    nrow, ncol = size(x)\n",
    "    for j in 1:ncol\n",
    "        @simd for i in 1:j\n",
    "            @inbounds s += x[i,j]*y[i,j]\n",
    "        end\n",
    "    end\n",
    "    s\n",
    "end\n",
    "\n",
    "function innerblas(x, y)\n",
    "    return sum(x.*y)\n",
    "end\n",
    "\n",
    "function timeit( n, reps )\n",
    "    x = rand(Float32,n,n)\n",
    "    y = rand(Float32,n,n)\n",
    "    s = zero(Float64)\n",
    "    inner(x,y)\n",
    "    time = @elapsed for j in 1:reps\n",
    "        s+=inner(x,y)\n",
    "    end\n",
    "    println(\"GFlop        = \",2.0*n^2*reps/time*1E-9)\n",
    "    innersimd(x,y)\n",
    "    time = @elapsed for j in 1:reps\n",
    "        s+=innersimd(x,y)\n",
    "    end\n",
    "    println(\"GFlop (SIMD) = \",2.0*n^2*reps/time*1E-9)\n",
    "    innersimd2(x,y)\n",
    "    time = @elapsed for j in 1:reps\n",
    "        s+=innersimd2(x,y)\n",
    "    end\n",
    "    println(\"GFlop (SIMD2) = \",2.0*n^2*reps/time*1E-9)\n",
    "    innerblas(x,y)\n",
    "    time = @elapsed for j in 1:reps\n",
    "        s+=innerblas(x,y)\n",
    "    end\n",
    "    println(\"GFlop (BLAS) = \",2.0*n^2*reps/time*1E-9)\n",
    "end\n",
    "print(\"\\n\")\n",
    "sleep(0.1)\n",
    "timeit(1000,100)"
   ]
  },
  {
   "cell_type": "code",
   "execution_count": 12,
   "metadata": {
    "collapsed": false
   },
   "outputs": [
    {
     "name": "stdout",
     "output_type": "stream",
     "text": [
      "GFlop        = 0.6444895282843577\n"
     ]
    },
    {
     "name": "stderr",
     "output_type": "stream",
     "text": [
      "WARNING: Method definition inner(Any, Any) in module Main at In[11]:2 overwritten at In[12]:2.\n",
      "WARNING: Method definition innersimd(Any, Any) in module Main at In[11]:10 overwritten at In[12]:10.\n",
      "WARNING: Method definition innerblas(Any, Any) in module Main at In[11]:29 overwritten at In[12]:18.\n",
      "WARNING: Method definition timeit(Any, Any) in module Main at In[11]:33 overwritten at In[12]:22.\n"
     ]
    },
    {
     "name": "stdout",
     "output_type": "stream",
     "text": [
      "GFlop (SIMD) = 0.6567134025373473\n",
      "GFlop (BLAS) = 0.704670595250804\n"
     ]
    }
   ],
   "source": [
    "function inner( x, y )\n",
    "    s = zeros(eltype(x), length(x))\n",
    "    for i=1:length(x)\n",
    "        @inbounds s[i] += x[i]*y[i]\n",
    "    end\n",
    "    s\n",
    "end\n",
    "\n",
    "function innersimd( x, y )\n",
    "    s = zeros(eltype(x), length(x))\n",
    "    @simd for i=1:length(x)\n",
    "        @inbounds s[i] += x[i]*y[i]\n",
    "    end\n",
    "    s\n",
    "end\n",
    "\n",
    "function innerblas(x, y)\n",
    "    s = x.+y\n",
    "end\n",
    "\n",
    "function timeit( n, reps )\n",
    "    x = rand(Float32,n)\n",
    "    y = rand(Float32,n)\n",
    "    s = zero(Float64)\n",
    "    inner(x,y)\n",
    "    time = @elapsed for j in 1:reps\n",
    "        s+=inner(x,y)\n",
    "    end\n",
    "    println(\"GFlop        = \",2.0*n*reps/time*1E-9)\n",
    "    innersimd(x,y)\n",
    "    time = @elapsed for j in 1:reps\n",
    "        s+=innersimd(x,y)\n",
    "    end\n",
    "    innerblas(x,y)\n",
    "    println(\"GFlop (SIMD) = \",2.0*n*reps/time*1E-9)\n",
    "    time = @elapsed for j in 1:reps\n",
    "        s+=innerblas(x,y)\n",
    "    end\n",
    "    println(\"GFlop (BLAS) = \",2.0*n*reps/time*1E-9)\n",
    "end\n",
    "\n",
    "timeit(10000,100000)"
   ]
  },
  {
   "cell_type": "markdown",
   "metadata": {},
   "source": [
    "# Self referential types"
   ]
  },
  {
   "cell_type": "code",
   "execution_count": null,
   "metadata": {
    "collapsed": false
   },
   "outputs": [],
   "source": [
    "type SelfReferential\n",
    "  f::Float64\n",
    "  g::Vector{Float64}\n",
    "\n",
    "  function SelfReferential()\n",
    "      x = new(1.0)\n",
    "  end\n",
    "end"
   ]
  },
  {
   "cell_type": "code",
   "execution_count": 2,
   "metadata": {
    "collapsed": false
   },
   "outputs": [
    {
     "data": {
      "text/plain": [
       "SelfReferential(1.0,#undef)"
      ]
     },
     "execution_count": 2,
     "metadata": {},
     "output_type": "execute_result"
    }
   ],
   "source": [
    "SelfReferential()"
   ]
  },
  {
   "cell_type": "code",
   "execution_count": 3,
   "metadata": {
    "collapsed": false
   },
   "outputs": [
    {
     "data": {
      "text/plain": [
       "3-element Array{Any,1}:\n",
       " call(::Type{SelfReferential}) at In[1]:6       \n",
       " call{T}(::Type{T}, arg) at essentials.jl:56    \n",
       " call{T}(::Type{T}, args...) at essentials.jl:57"
      ]
     },
     "execution_count": 3,
     "metadata": {},
     "output_type": "execute_result"
    }
   ],
   "source": [
    "methods(SelfReferential)"
   ]
  },
  {
   "cell_type": "code",
   "execution_count": 4,
   "metadata": {
    "collapsed": false
   },
   "outputs": [
    {
     "data": {
      "text/plain": [
       "Point{T<:Real}"
      ]
     },
     "execution_count": 4,
     "metadata": {},
     "output_type": "execute_result"
    }
   ],
   "source": [
    "type Point{T<:Real}\n",
    "     x::T\n",
    "     y::T\n",
    "end\n",
    "function Point(x::Int64, y::Float64)\n",
    " Point(convert(Float64,x),y)\n",
    "end"
   ]
  },
  {
   "cell_type": "code",
   "execution_count": 5,
   "metadata": {
    "collapsed": false
   },
   "outputs": [
    {
     "data": {
      "text/plain": [
       "Point{Int64}(1,2)"
      ]
     },
     "execution_count": 5,
     "metadata": {},
     "output_type": "execute_result"
    }
   ],
   "source": [
    "Point(1,2)"
   ]
  },
  {
   "cell_type": "code",
   "execution_count": 6,
   "metadata": {
    "collapsed": false
   },
   "outputs": [
    {
     "data": {
      "text/plain": [
       "Point{Float64}(1.0,2.5)"
      ]
     },
     "execution_count": 6,
     "metadata": {},
     "output_type": "execute_result"
    }
   ],
   "source": [
    "Point(1.0,2.5)"
   ]
  },
  {
   "cell_type": "code",
   "execution_count": 7,
   "metadata": {
    "collapsed": false
   },
   "outputs": [
    {
     "data": {
      "text/plain": [
       "Point{Float64}(1.0,2.5)"
      ]
     },
     "execution_count": 7,
     "metadata": {},
     "output_type": "execute_result"
    }
   ],
   "source": [
    "Point(1,2.5)"
   ]
  },
  {
   "cell_type": "code",
   "execution_count": 8,
   "metadata": {
    "collapsed": false
   },
   "outputs": [
    {
     "data": {
      "text/plain": [
       "Point{Float64}(1.0,2.5)"
      ]
     },
     "execution_count": 8,
     "metadata": {},
     "output_type": "execute_result"
    }
   ],
   "source": [
    "Point{Float64}(1,2.5)"
   ]
  },
  {
   "cell_type": "code",
   "execution_count": 9,
   "metadata": {
    "collapsed": false
   },
   "outputs": [],
   "source": [
    "type Partial{T1<:Real, T2<:Real}\n",
    "    x::T1\n",
    "    y::T2\n",
    "    z::Float64\n",
    "    function Partial(x::T1,y::T2)\n",
    "        p=new(x,y)\n",
    "        p.z=42.0\n",
    "    end\n",
    "end"
   ]
  },
  {
   "cell_type": "code",
   "execution_count": 14,
   "metadata": {
    "collapsed": false
   },
   "outputs": [
    {
     "data": {
      "text/plain": [
       "42.0"
      ]
     },
     "execution_count": 14,
     "metadata": {},
     "output_type": "execute_result"
    }
   ],
   "source": [
    "Partial{Float64,Float64}(1.0,2.0)"
   ]
  },
  {
   "cell_type": "markdown",
   "metadata": {
    "collapsed": true
   },
   "source": [
    "# Matrix multiplication"
   ]
  },
  {
   "cell_type": "code",
   "execution_count": 13,
   "metadata": {
    "collapsed": false
   },
   "outputs": [],
   "source": [
    "A = randn(3000,3000)\n",
    "B = randn(3000,3000)\n",
    ";"
   ]
  },
  {
   "cell_type": "code",
   "execution_count": 16,
   "metadata": {
    "collapsed": false
   },
   "outputs": [
    {
     "name": "stdout",
     "output_type": "stream",
     "text": [
      "  0.543785 seconds (7 allocations: 68.665 MB, 0.13% gc time)\n"
     ]
    }
   ],
   "source": [
    "C=A'*B;\n",
    "@time C=A'*B;"
   ]
  },
  {
   "cell_type": "code",
   "execution_count": 17,
   "metadata": {
    "collapsed": false
   },
   "outputs": [
    {
     "name": "stdout",
     "output_type": "stream",
     "text": [
      "  0.542267 seconds (7 allocations: 68.665 MB, 0.11% gc time)\n"
     ]
    }
   ],
   "source": [
    "C=At_mul_B(A,B);\n",
    "@time C=At_mul_B(A,B);"
   ]
  },
  {
   "cell_type": "code",
   "execution_count": 19,
   "metadata": {
    "collapsed": false
   },
   "outputs": [
    {
     "name": "stdout",
     "output_type": "stream",
     "text": [
      "  0.386599 seconds (4 allocations: 160 bytes)\n"
     ]
    }
   ],
   "source": [
    "At_mul_B!(C,A,B);\n",
    "@time At_mul_B!(C,A,B);"
   ]
  },
  {
   "cell_type": "code",
   "execution_count": 21,
   "metadata": {
    "collapsed": false
   },
   "outputs": [
    {
     "name": "stdout",
     "output_type": "stream",
     "text": [
      "  0.651452 seconds (7 allocations: 68.665 MB, 12.25% gc time)\n"
     ]
    }
   ],
   "source": [
    "C[:,:]=A'*B;\n",
    "@time C[:,:]=A'*B;"
   ]
  }
 ],
 "metadata": {
  "kernelspec": {
   "display_name": "Julia 0.5.0",
   "language": "julia",
   "name": "julia-0.5"
  },
  "language_info": {
   "file_extension": ".jl",
   "mimetype": "application/julia",
   "name": "julia",
   "version": "0.5.0"
  },
  "nav_menu": {},
  "toc": {
   "navigate_menu": true,
   "number_sections": true,
   "sideBar": true,
   "threshold": 6,
   "toc_cell": true,
   "toc_section_display": "block",
   "toc_window_display": false
  }
 },
 "nbformat": 4,
 "nbformat_minor": 0
}

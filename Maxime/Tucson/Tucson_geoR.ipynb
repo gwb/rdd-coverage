{
 "cells": [
  {
   "cell_type": "markdown",
   "metadata": {
    "toc": "true"
   },
   "source": [
    "# Table of Contents\n",
    " <p><div class=\"lev1\"><a href=\"#Import-Data\"><span class=\"toc-item-num\">1&nbsp;&nbsp;</span>Import Data</a></div><div class=\"lev2\"><a href=\"#Filter-data\"><span class=\"toc-item-num\">1.1&nbsp;&nbsp;</span>Filter data</a></div><div class=\"lev1\"><a href=\"#Fitting-GP\"><span class=\"toc-item-num\">2&nbsp;&nbsp;</span>Fitting GP</a></div><div class=\"lev1\"><a href=\"#Fitting-hyperparameters\"><span class=\"toc-item-num\">3&nbsp;&nbsp;</span>Fitting hyperparameters</a></div><div class=\"lev2\"><a href=\"#Fit-variogram\"><span class=\"toc-item-num\">3.1&nbsp;&nbsp;</span>Fit variogram</a></div><div class=\"lev2\"><a href=\"#Likelihood-fit\"><span class=\"toc-item-num\">3.2&nbsp;&nbsp;</span>Likelihood fit</a></div><div class=\"lev2\"><a href=\"#Full-Bayesian\"><span class=\"toc-item-num\">3.3&nbsp;&nbsp;</span>Full Bayesian</a></div>"
   ]
  },
  {
   "cell_type": "code",
   "execution_count": 1,
   "metadata": {
    "collapsed": false
   },
   "outputs": [
    {
     "name": "stderr",
     "output_type": "stream",
     "text": [
      "Loading required package: geoR\n",
      "--------------------------------------------------------------\n",
      " Analysis of Geostatistical Data\n",
      " For an Introduction to geoR go to http://www.leg.ufpr.br/geoR\n",
      " geoR version 1.7-5.2 (built on 2016-05-02) is now loaded\n",
      "--------------------------------------------------------------\n",
      "\n"
     ]
    }
   ],
   "source": [
    "require(geoR)"
   ]
  },
  {
   "cell_type": "markdown",
   "metadata": {},
   "source": [
    "# Import Data"
   ]
  },
  {
   "cell_type": "code",
   "execution_count": 2,
   "metadata": {
    "collapsed": false
   },
   "outputs": [
    {
     "data": {
      "text/html": [
       "<table>\n",
       "<thead><tr><th scope=col>X</th><th scope=col>ADDRESS</th><th scope=col>ADPARCEL_</th><th scope=col>ADPARCEL_I</th><th scope=col>ADR_ID</th><th scope=col>AD_STREET</th><th scope=col>AD_SUFFIX</th><th scope=col>ANGLE</th><th scope=col>AREA</th><th scope=col>CITY_ID</th><th scope=col>⋯</th><th scope=col>LANDMEAS</th><th scope=col>LANDUNIT</th><th scope=col>LANDFCV</th><th scope=col>LUV</th><th scope=col>SOURCELand</th><th scope=col>APPRAISERLand</th><th scope=col>PHONELand</th><th scope=col>SchDistr</th><th scope=col>X_PRJ</th><th scope=col>Y_PRJ</th></tr></thead>\n",
       "<tbody>\n",
       "\t<tr><td>10120025B                     </td><td>5141 N CASA GRANDE HY         </td><td>103086                        </td><td>296800                        </td><td>295994                        </td><td>CASA GRANDE                   </td><td>HY                            </td><td>0                             </td><td>0                             </td><td>TUC                           </td><td>⋯                             </td><td>32272                         </td><td>F                             </td><td>80680                         </td><td>2.5                           </td><td>                              </td><td>Donald B.                     </td><td>724-7426                      </td><td>Flowing Wells Unified District</td><td>772027.3                      </td><td>474087.0                      </td></tr>\n",
       "\t<tr><td>10120025B                     </td><td>5141 N CASA GRANDE HY         </td><td>103086                        </td><td>296800                        </td><td>295994                        </td><td>CASA GRANDE                   </td><td>HY                            </td><td>0                             </td><td>0                             </td><td>TUC                           </td><td>⋯                             </td><td>32272                         </td><td>F                             </td><td>80680                         </td><td>2.5                           </td><td>                              </td><td>Donald B.                     </td><td>724-7426                      </td><td>Flowing Wells Unified District</td><td>772027.3                      </td><td>474087.0                      </td></tr>\n",
       "\t<tr><td>101211250                     </td><td>3980 W KILEY CT               </td><td>101122                        </td><td>298792                        </td><td>297979                        </td><td>KILEY                         </td><td>CT                            </td><td>0                             </td><td>0                             </td><td>TUC                           </td><td>⋯                             </td><td>   NA                         </td><td>                              </td><td>   NA                         </td><td> NA                           </td><td>                              </td><td>                              </td><td>                              </td><td>Flowing Wells Unified District</td><td>767978.9                      </td><td>474944.4                      </td></tr>\n",
       "\t<tr><td>101211250                     </td><td>3980 W KILEY CT               </td><td>101122                        </td><td>298792                        </td><td>297979                        </td><td>KILEY                         </td><td>CT                            </td><td>0                             </td><td>0                             </td><td>TUC                           </td><td>⋯                             </td><td>   NA                         </td><td>                              </td><td>   NA                         </td><td> NA                           </td><td>                              </td><td>                              </td><td>                              </td><td>Flowing Wells Unified District</td><td>767978.9                      </td><td>474944.4                      </td></tr>\n",
       "\t<tr><td>101211250                     </td><td>3980 W KILEY CT               </td><td>101122                        </td><td>298792                        </td><td>297979                        </td><td>KILEY                         </td><td>CT                            </td><td>0                             </td><td>0                             </td><td>TUC                           </td><td>⋯                             </td><td>   NA                         </td><td>                              </td><td>   NA                         </td><td> NA                           </td><td>                              </td><td>                              </td><td>                              </td><td>Flowing Wells Unified District</td><td>767978.9                      </td><td>474944.4                      </td></tr>\n",
       "\t<tr><td>101211260                     </td><td>3981 W KILEY CT               </td><td>101634                        </td><td>298278                        </td><td>297465                        </td><td>KILEY                         </td><td>CT                            </td><td>0                             </td><td>0                             </td><td>TUC                           </td><td>⋯                             </td><td>   NA                         </td><td>                              </td><td>   NA                         </td><td> NA                           </td><td>                              </td><td>                              </td><td>                              </td><td>Flowing Wells Unified District</td><td>767947.1                      </td><td>474720.7                      </td></tr>\n",
       "</tbody>\n",
       "</table>\n"
      ],
      "text/latex": [
       "\\begin{tabular}{r|lllllllllllllllllllllllllllllllllllllllllllllllllllllllllllllllllllllllllllllllllllllllllllllllllllllllllllll}\n",
       " X & ADDRESS & ADPARCEL\\_ & ADPARCEL\\_I & ADR\\_ID & AD\\_STREET & AD\\_SUFFIX & ANGLE & AREA & CITY\\_ID & ⋯ & LANDMEAS & LANDUNIT & LANDFCV & LUV & SOURCELand & APPRAISERLand & PHONELand & SchDistr & X\\_PRJ & Y\\_PRJ\\\\\n",
       "\\hline\n",
       "\t 10120025B                      & 5141 N CASA GRANDE HY          & 103086                         & 296800                         & 295994                         & CASA GRANDE                    & HY                             & 0                              & 0                              & TUC                            & ⋯                              & 32272                          & F                              & 80680                          & 2.5                            &                                & Donald B.                      & 724-7426                       & Flowing Wells Unified District & 772027.3                       & 474087.0                      \\\\\n",
       "\t 10120025B                      & 5141 N CASA GRANDE HY          & 103086                         & 296800                         & 295994                         & CASA GRANDE                    & HY                             & 0                              & 0                              & TUC                            & ⋯                              & 32272                          & F                              & 80680                          & 2.5                            &                                & Donald B.                      & 724-7426                       & Flowing Wells Unified District & 772027.3                       & 474087.0                      \\\\\n",
       "\t 101211250                      & 3980 W KILEY CT                & 101122                         & 298792                         & 297979                         & KILEY                          & CT                             & 0                              & 0                              & TUC                            & ⋯                              &    NA                          &                                &    NA                          &  NA                            &                                &                                &                                & Flowing Wells Unified District & 767978.9                       & 474944.4                      \\\\\n",
       "\t 101211250                      & 3980 W KILEY CT                & 101122                         & 298792                         & 297979                         & KILEY                          & CT                             & 0                              & 0                              & TUC                            & ⋯                              &    NA                          &                                &    NA                          &  NA                            &                                &                                &                                & Flowing Wells Unified District & 767978.9                       & 474944.4                      \\\\\n",
       "\t 101211250                      & 3980 W KILEY CT                & 101122                         & 298792                         & 297979                         & KILEY                          & CT                             & 0                              & 0                              & TUC                            & ⋯                              &    NA                          &                                &    NA                          &  NA                            &                                &                                &                                & Flowing Wells Unified District & 767978.9                       & 474944.4                      \\\\\n",
       "\t 101211260                      & 3981 W KILEY CT                & 101634                         & 298278                         & 297465                         & KILEY                          & CT                             & 0                              & 0                              & TUC                            & ⋯                              &    NA                          &                                &    NA                          &  NA                            &                                &                                &                                & Flowing Wells Unified District & 767947.1                       & 474720.7                      \\\\\n",
       "\\end{tabular}\n"
      ],
      "text/plain": [
       "  X         ADDRESS               ADPARCEL_ ADPARCEL_I ADR_ID AD_STREET  \n",
       "1 10120025B 5141 N CASA GRANDE HY 103086    296800     295994 CASA GRANDE\n",
       "2 10120025B 5141 N CASA GRANDE HY 103086    296800     295994 CASA GRANDE\n",
       "3 101211250 3980 W KILEY CT       101122    298792     297979 KILEY      \n",
       "4 101211250 3980 W KILEY CT       101122    298792     297979 KILEY      \n",
       "5 101211250 3980 W KILEY CT       101122    298792     297979 KILEY      \n",
       "6 101211260 3981 W KILEY CT       101634    298278     297465 KILEY      \n",
       "  AD_SUFFIX ANGLE AREA CITY_ID ⋯ LANDMEAS LANDUNIT LANDFCV LUV SOURCELand\n",
       "1 HY        0     0    TUC     ⋯ 32272    F        80680   2.5           \n",
       "2 HY        0     0    TUC     ⋯ 32272    F        80680   2.5           \n",
       "3 CT        0     0    TUC     ⋯    NA                NA    NA           \n",
       "4 CT        0     0    TUC     ⋯    NA                NA    NA           \n",
       "5 CT        0     0    TUC     ⋯    NA                NA    NA           \n",
       "6 CT        0     0    TUC     ⋯    NA                NA    NA           \n",
       "  APPRAISERLand PHONELand SchDistr                       X_PRJ    Y_PRJ   \n",
       "1 Donald B.     724-7426  Flowing Wells Unified District 772027.3 474087.0\n",
       "2 Donald B.     724-7426  Flowing Wells Unified District 772027.3 474087.0\n",
       "3                         Flowing Wells Unified District 767978.9 474944.4\n",
       "4                         Flowing Wells Unified District 767978.9 474944.4\n",
       "5                         Flowing Wells Unified District 767978.9 474944.4\n",
       "6                         Flowing Wells Unified District 767947.1 474720.7"
      ]
     },
     "metadata": {},
     "output_type": "display_data"
    }
   ],
   "source": [
    "Tucson_sales=read.csv(\"Tucson_data/processed/Tucson_sales.csv\", \n",
    "    colClasses=c(\"SaleDate\"=\"character\",\n",
    "                 \"ADDRESS\"=\"character\"))\n",
    "head(Tucson_sales)"
   ]
  },
  {
   "cell_type": "code",
   "execution_count": 3,
   "metadata": {
    "collapsed": false
   },
   "outputs": [
    {
     "data": {
      "text/html": [
       "<ol class=list-inline>\n",
       "\t<li>''</li>\n",
       "\t<li>'Buyer/Seller are related parties or corporate entities'</li>\n",
       "\t<li>'Buyer/Seller has an Out-Of-State Address'</li>\n",
       "\t<li>'Buyer/Seller is a Non-Profit institution'</li>\n",
       "\t<li><span style=white-space:pre-wrap>'Correction of previously recorded deed                 '</span></li>\n",
       "\t<li>'Deed to quiet title and avoid court action'</li>\n",
       "\t<li>'Developers discount/value by Land manual'</li>\n",
       "\t<li>'FCV established by B.O.E. or State Board'</li>\n",
       "\t<li>'Good Sale'</li>\n",
       "\t<li>'Improvements not yet on assessment roll'</li>\n",
       "\t<li>'Internet sale'</li>\n",
       "\t<li>'Lease or agreement'</li>\n",
       "\t<li>'More than five (5) parcels being sold'</li>\n",
       "\t<li>'Name/Address of Buyer or Seller is missing'</li>\n",
       "\t<li>'Notary stamp or signature is missing'</li>\n",
       "\t<li>'Property altered since date of sale'</li>\n",
       "\t<li>'Property type/use code are not consistent'</li>\n",
       "\t<li>'Release of security for a debt or obligation'</li>\n",
       "\t<li><span style=white-space:pre-wrap>'Sale by subsidiary corp. to parent corp.                              '</span></li>\n",
       "\t<li>'Sale includes quantifiable Personal Property &gt; 5%'</li>\n",
       "\t<li>'Sale includes unquantifiable Personal Property &gt; 5%'</li>\n",
       "\t<li>'Sale involves exchange or trade'</li>\n",
       "\t<li>'Sale of contaminated property'</li>\n",
       "\t<li>'Sale of partial interest'</li>\n",
       "\t<li>'Sale price missing'</li>\n",
       "\t<li>'Sale pursuant to a court order'</li>\n",
       "\t<li>'Sale to or from a government agency'</li>\n",
       "\t<li>'Sale under duress'</li>\n",
       "\t<li>'Split legislative class/assessment ratio'</li>\n",
       "\t<li>'Trust sale of nominal consideration or convenience'</li>\n",
       "\t<li>'Unknown'</li>\n",
       "\t<li>'Unsecured Mobile Home'</li>\n",
       "\t<li>'Unusable sale which does not fit any other reject codes'</li>\n",
       "</ol>\n"
      ],
      "text/latex": [
       "\\begin{enumerate*}\n",
       "\\item ''\n",
       "\\item 'Buyer/Seller are related parties or corporate entities'\n",
       "\\item 'Buyer/Seller has an Out-Of-State Address'\n",
       "\\item 'Buyer/Seller is a Non-Profit institution'\n",
       "\\item 'Correction of previously recorded deed                 '\n",
       "\\item 'Deed to quiet title and avoid court action'\n",
       "\\item 'Developers discount/value by Land manual'\n",
       "\\item 'FCV established by B.O.E. or State Board'\n",
       "\\item 'Good Sale'\n",
       "\\item 'Improvements not yet on assessment roll'\n",
       "\\item 'Internet sale'\n",
       "\\item 'Lease or agreement'\n",
       "\\item 'More than five (5) parcels being sold'\n",
       "\\item 'Name/Address of Buyer or Seller is missing'\n",
       "\\item 'Notary stamp or signature is missing'\n",
       "\\item 'Property altered since date of sale'\n",
       "\\item 'Property type/use code are not consistent'\n",
       "\\item 'Release of security for a debt or obligation'\n",
       "\\item 'Sale by subsidiary corp. to parent corp.                              '\n",
       "\\item 'Sale includes quantifiable Personal Property > 5\\%'\n",
       "\\item 'Sale includes unquantifiable Personal Property > 5\\%'\n",
       "\\item 'Sale involves exchange or trade'\n",
       "\\item 'Sale of contaminated property'\n",
       "\\item 'Sale of partial interest'\n",
       "\\item 'Sale price missing'\n",
       "\\item 'Sale pursuant to a court order'\n",
       "\\item 'Sale to or from a government agency'\n",
       "\\item 'Sale under duress'\n",
       "\\item 'Split legislative class/assessment ratio'\n",
       "\\item 'Trust sale of nominal consideration or convenience'\n",
       "\\item 'Unknown'\n",
       "\\item 'Unsecured Mobile Home'\n",
       "\\item 'Unusable sale which does not fit any other reject codes'\n",
       "\\end{enumerate*}\n"
      ],
      "text/markdown": [
       "1. ''\n",
       "2. 'Buyer/Seller are related parties or corporate entities'\n",
       "3. 'Buyer/Seller has an Out-Of-State Address'\n",
       "4. 'Buyer/Seller is a Non-Profit institution'\n",
       "5. <span style=white-space:pre-wrap>'Correction of previously recorded deed                 '</span>\n",
       "6. 'Deed to quiet title and avoid court action'\n",
       "7. 'Developers discount/value by Land manual'\n",
       "8. 'FCV established by B.O.E. or State Board'\n",
       "9. 'Good Sale'\n",
       "10. 'Improvements not yet on assessment roll'\n",
       "11. 'Internet sale'\n",
       "12. 'Lease or agreement'\n",
       "13. 'More than five (5) parcels being sold'\n",
       "14. 'Name/Address of Buyer or Seller is missing'\n",
       "15. 'Notary stamp or signature is missing'\n",
       "16. 'Property altered since date of sale'\n",
       "17. 'Property type/use code are not consistent'\n",
       "18. 'Release of security for a debt or obligation'\n",
       "19. <span style=white-space:pre-wrap>'Sale by subsidiary corp. to parent corp.                              '</span>\n",
       "20. 'Sale includes quantifiable Personal Property &gt; 5%'\n",
       "21. 'Sale includes unquantifiable Personal Property &gt; 5%'\n",
       "22. 'Sale involves exchange or trade'\n",
       "23. 'Sale of contaminated property'\n",
       "24. 'Sale of partial interest'\n",
       "25. 'Sale price missing'\n",
       "26. 'Sale pursuant to a court order'\n",
       "27. 'Sale to or from a government agency'\n",
       "28. 'Sale under duress'\n",
       "29. 'Split legislative class/assessment ratio'\n",
       "30. 'Trust sale of nominal consideration or convenience'\n",
       "31. 'Unknown'\n",
       "32. 'Unsecured Mobile Home'\n",
       "33. 'Unusable sale which does not fit any other reject codes'\n",
       "\n",
       "\n"
      ],
      "text/plain": [
       " [1] \"\"                                                                      \n",
       " [2] \"Buyer/Seller are related parties or corporate entities\"                \n",
       " [3] \"Buyer/Seller has an Out-Of-State Address\"                              \n",
       " [4] \"Buyer/Seller is a Non-Profit institution\"                              \n",
       " [5] \"Correction of previously recorded deed                 \"               \n",
       " [6] \"Deed to quiet title and avoid court action\"                            \n",
       " [7] \"Developers discount/value by Land manual\"                              \n",
       " [8] \"FCV established by B.O.E. or State Board\"                              \n",
       " [9] \"Good Sale\"                                                             \n",
       "[10] \"Improvements not yet on assessment roll\"                               \n",
       "[11] \"Internet sale\"                                                         \n",
       "[12] \"Lease or agreement\"                                                    \n",
       "[13] \"More than five (5) parcels being sold\"                                 \n",
       "[14] \"Name/Address of Buyer or Seller is missing\"                            \n",
       "[15] \"Notary stamp or signature is missing\"                                  \n",
       "[16] \"Property altered since date of sale\"                                   \n",
       "[17] \"Property type/use code are not consistent\"                             \n",
       "[18] \"Release of security for a debt or obligation\"                          \n",
       "[19] \"Sale by subsidiary corp. to parent corp.                              \"\n",
       "[20] \"Sale includes quantifiable Personal Property > 5%\"                     \n",
       "[21] \"Sale includes unquantifiable Personal Property > 5%\"                   \n",
       "[22] \"Sale involves exchange or trade\"                                       \n",
       "[23] \"Sale of contaminated property\"                                         \n",
       "[24] \"Sale of partial interest\"                                              \n",
       "[25] \"Sale price missing\"                                                    \n",
       "[26] \"Sale pursuant to a court order\"                                        \n",
       "[27] \"Sale to or from a government agency\"                                   \n",
       "[28] \"Sale under duress\"                                                     \n",
       "[29] \"Split legislative class/assessment ratio\"                              \n",
       "[30] \"Trust sale of nominal consideration or convenience\"                    \n",
       "[31] \"Unknown\"                                                               \n",
       "[32] \"Unsecured Mobile Home\"                                                 \n",
       "[33] \"Unusable sale which does not fit any other reject codes\"               "
      ]
     },
     "metadata": {},
     "output_type": "display_data"
    }
   ],
   "source": [
    "levels(Tucson_sales$ValidationDescription)"
   ]
  },
  {
   "cell_type": "markdown",
   "metadata": {},
   "source": [
    "## Filter data"
   ]
  },
  {
   "cell_type": "code",
   "execution_count": 4,
   "metadata": {
    "collapsed": false
   },
   "outputs": [],
   "source": [
    "believable = (\n",
    "    Tucson_sales$ValidationDescription %in% c(\"Good Sale\", \"Buyer/Seller has an Out-Of-State Address\")\n",
    "    & Tucson_sales$PropertyType %in% c(\"2-4 Plex\", \"Condo/Townhouse\", \"Single Family\")\n",
    "    & Tucson_sales$BuyerSellerRelated == \"No\"\n",
    "    & Tucson_sales$PartialInterest == \"No\"\n",
    ")"
   ]
  },
  {
   "cell_type": "code",
   "execution_count": 5,
   "metadata": {
    "collapsed": false
   },
   "outputs": [
    {
     "name": "stdout",
     "output_type": "stream",
     "text": [
      "[1] \"Amphitheater Unified District\"  \"Flowing Wells Unified District\"\n",
      "[3] \"Sunnyside Unified District\"     \"Tanque Verde Unified District\" \n",
      "[5] \"Tucson Unified District\"        \"Vail Unified District\"         \n"
     ]
    }
   ],
   "source": [
    "schdistrs = levels(Tucson_sales$SchDistr)\n",
    "print(schdistrs)"
   ]
  },
  {
   "cell_type": "markdown",
   "metadata": {},
   "source": [
    "# Fitting GP"
   ]
  },
  {
   "cell_type": "code",
   "execution_count": 6,
   "metadata": {
    "collapsed": false
   },
   "outputs": [
    {
     "name": "stderr",
     "output_type": "stream",
     "text": [
      "Loading required package: MASS\n"
     ]
    }
   ],
   "source": [
    "require(MASS)"
   ]
  },
  {
   "cell_type": "code",
   "execution_count": 7,
   "metadata": {
    "collapsed": false
   },
   "outputs": [
    {
     "data": {
      "text/html": [
       "<ol class=list-inline>\n",
       "\t<li>'X'</li>\n",
       "\t<li>'ADDRESS'</li>\n",
       "\t<li>'ADPARCEL_'</li>\n",
       "\t<li>'ADPARCEL_I'</li>\n",
       "\t<li>'ADR_ID'</li>\n",
       "\t<li>'AD_STREET'</li>\n",
       "\t<li>'AD_SUFFIX'</li>\n",
       "\t<li>'ANGLE'</li>\n",
       "\t<li>'AREA'</li>\n",
       "\t<li>'CITY_ID'</li>\n",
       "\t<li>'CODE'</li>\n",
       "\t<li>'DATE_ENTER'</li>\n",
       "\t<li>'LAT'</li>\n",
       "\t<li>'LON'</li>\n",
       "\t<li>'PERIMETER'</li>\n",
       "\t<li>'POLYGONID'</li>\n",
       "\t<li>'SCALE'</li>\n",
       "\t<li>'SOURCE'</li>\n",
       "\t<li>'STATUS'</li>\n",
       "\t<li>'STREET'</li>\n",
       "\t<li>'STREET_DIR'</li>\n",
       "\t<li>'STREET_IDX'</li>\n",
       "\t<li>'STREET_NAM'</li>\n",
       "\t<li>'STREET_NO'</li>\n",
       "\t<li>'SUFFIX_DIR'</li>\n",
       "\t<li>'TILE_NAME'</li>\n",
       "\t<li>'X_HPGN'</li>\n",
       "\t<li>'Y_HPGN'</li>\n",
       "\t<li>'ZIPCITY'</li>\n",
       "\t<li>'ZIPCODE'</li>\n",
       "\t<li>'geometry'</li>\n",
       "\t<li>'SequenceNum'</li>\n",
       "\t<li>'SaleDate'</li>\n",
       "\t<li>'SalePrice'</li>\n",
       "\t<li>'PropertyType'</li>\n",
       "\t<li>'IntendedUse'</li>\n",
       "\t<li>'Deed'</li>\n",
       "\t<li>'Financing'</li>\n",
       "\t<li>'ValidationDescription'</li>\n",
       "\t<li>'BuyerSellerRelated'</li>\n",
       "\t<li>'Solar'</li>\n",
       "\t<li>'PersonalProperty'</li>\n",
       "\t<li>'PartialInterest'</li>\n",
       "\t<li>'RecordingDate'</li>\n",
       "\t<li>'TAXYEAR'</li>\n",
       "\t<li>'SFRCONDO'</li>\n",
       "\t<li>'COMPLEXID'</li>\n",
       "\t<li>'INSPECTION'</li>\n",
       "\t<li>'CLASS'</li>\n",
       "\t<li>'STORIES'</li>\n",
       "\t<li>'ROOMS'</li>\n",
       "\t<li>'QUALITY'</li>\n",
       "\t<li>'WALLS'</li>\n",
       "\t<li>'ROOF'</li>\n",
       "\t<li>'HEAT'</li>\n",
       "\t<li>'COOL'</li>\n",
       "\t<li>'BATHFIXTUR'</li>\n",
       "\t<li>'PATIO'</li>\n",
       "\t<li>'PATIONUMBE'</li>\n",
       "\t<li>'CONDITION'</li>\n",
       "\t<li>'SQFT'</li>\n",
       "\t<li>'YEAR'</li>\n",
       "\t<li>'GARAGE'</li>\n",
       "\t<li>'GARAGECAPA'</li>\n",
       "\t<li>'POOLAREA'</li>\n",
       "\t<li>'MAIN'</li>\n",
       "\t<li>'CONTROL'</li>\n",
       "\t<li>'ACTUAL'</li>\n",
       "\t<li>'LASTACTION'</li>\n",
       "\t<li>'VALUATIONC'</li>\n",
       "\t<li>'APPLICATION'</li>\n",
       "\t<li>'ENHANCEMEN'</li>\n",
       "\t<li>'ADJUSTMENT'</li>\n",
       "\t<li>'APPRAISER'</li>\n",
       "\t<li>'PHONE'</li>\n",
       "\t<li>'TAXYEARAdds'</li>\n",
       "\t<li>'BLDG_ID'</li>\n",
       "\t<li>'SFRCONDOAdds'</li>\n",
       "\t<li>'OCCUPANCY'</li>\n",
       "\t<li>'DETACHED'</li>\n",
       "\t<li>'CLASSAdds'</li>\n",
       "\t<li>'QUALITYAdds'</li>\n",
       "\t<li>'YEARAdds'</li>\n",
       "\t<li>'SQFTAdds'</li>\n",
       "\t<li>'STORIESAdds'</li>\n",
       "\t<li>'HEATAdds'</li>\n",
       "\t<li>'COOLAdds'</li>\n",
       "\t<li>'WALLSAdds'</li>\n",
       "\t<li>'ROOFAdds'</li>\n",
       "\t<li>'GARAGEAdds'</li>\n",
       "\t<li>'GARAGECAPAAdds'</li>\n",
       "\t<li>'PATIOAdds'</li>\n",
       "\t<li>'PATIONUMBEAdds'</li>\n",
       "\t<li>'MAINFCV'</li>\n",
       "\t<li>'ENHANCEMENAdds'</li>\n",
       "\t<li>'VALUATIONCAdds'</li>\n",
       "\t<li>'MAINAdds'</li>\n",
       "\t<li>'ACTUALAdds'</li>\n",
       "\t<li>'ADJUSTMENTAdds'</li>\n",
       "\t<li>'LANDMEAS'</li>\n",
       "\t<li>'LANDUNIT'</li>\n",
       "\t<li>'LANDFCV'</li>\n",
       "\t<li>'LUV'</li>\n",
       "\t<li>'SOURCELand'</li>\n",
       "\t<li>'APPRAISERLand'</li>\n",
       "\t<li>'PHONELand'</li>\n",
       "\t<li>'SchDistr'</li>\n",
       "\t<li>'X_PRJ'</li>\n",
       "\t<li>'Y_PRJ'</li>\n",
       "</ol>\n"
      ],
      "text/latex": [
       "\\begin{enumerate*}\n",
       "\\item 'X'\n",
       "\\item 'ADDRESS'\n",
       "\\item 'ADPARCEL\\_'\n",
       "\\item 'ADPARCEL\\_I'\n",
       "\\item 'ADR\\_ID'\n",
       "\\item 'AD\\_STREET'\n",
       "\\item 'AD\\_SUFFIX'\n",
       "\\item 'ANGLE'\n",
       "\\item 'AREA'\n",
       "\\item 'CITY\\_ID'\n",
       "\\item 'CODE'\n",
       "\\item 'DATE\\_ENTER'\n",
       "\\item 'LAT'\n",
       "\\item 'LON'\n",
       "\\item 'PERIMETER'\n",
       "\\item 'POLYGONID'\n",
       "\\item 'SCALE'\n",
       "\\item 'SOURCE'\n",
       "\\item 'STATUS'\n",
       "\\item 'STREET'\n",
       "\\item 'STREET\\_DIR'\n",
       "\\item 'STREET\\_IDX'\n",
       "\\item 'STREET\\_NAM'\n",
       "\\item 'STREET\\_NO'\n",
       "\\item 'SUFFIX\\_DIR'\n",
       "\\item 'TILE\\_NAME'\n",
       "\\item 'X\\_HPGN'\n",
       "\\item 'Y\\_HPGN'\n",
       "\\item 'ZIPCITY'\n",
       "\\item 'ZIPCODE'\n",
       "\\item 'geometry'\n",
       "\\item 'SequenceNum'\n",
       "\\item 'SaleDate'\n",
       "\\item 'SalePrice'\n",
       "\\item 'PropertyType'\n",
       "\\item 'IntendedUse'\n",
       "\\item 'Deed'\n",
       "\\item 'Financing'\n",
       "\\item 'ValidationDescription'\n",
       "\\item 'BuyerSellerRelated'\n",
       "\\item 'Solar'\n",
       "\\item 'PersonalProperty'\n",
       "\\item 'PartialInterest'\n",
       "\\item 'RecordingDate'\n",
       "\\item 'TAXYEAR'\n",
       "\\item 'SFRCONDO'\n",
       "\\item 'COMPLEXID'\n",
       "\\item 'INSPECTION'\n",
       "\\item 'CLASS'\n",
       "\\item 'STORIES'\n",
       "\\item 'ROOMS'\n",
       "\\item 'QUALITY'\n",
       "\\item 'WALLS'\n",
       "\\item 'ROOF'\n",
       "\\item 'HEAT'\n",
       "\\item 'COOL'\n",
       "\\item 'BATHFIXTUR'\n",
       "\\item 'PATIO'\n",
       "\\item 'PATIONUMBE'\n",
       "\\item 'CONDITION'\n",
       "\\item 'SQFT'\n",
       "\\item 'YEAR'\n",
       "\\item 'GARAGE'\n",
       "\\item 'GARAGECAPA'\n",
       "\\item 'POOLAREA'\n",
       "\\item 'MAIN'\n",
       "\\item 'CONTROL'\n",
       "\\item 'ACTUAL'\n",
       "\\item 'LASTACTION'\n",
       "\\item 'VALUATIONC'\n",
       "\\item 'APPLICATION'\n",
       "\\item 'ENHANCEMEN'\n",
       "\\item 'ADJUSTMENT'\n",
       "\\item 'APPRAISER'\n",
       "\\item 'PHONE'\n",
       "\\item 'TAXYEARAdds'\n",
       "\\item 'BLDG\\_ID'\n",
       "\\item 'SFRCONDOAdds'\n",
       "\\item 'OCCUPANCY'\n",
       "\\item 'DETACHED'\n",
       "\\item 'CLASSAdds'\n",
       "\\item 'QUALITYAdds'\n",
       "\\item 'YEARAdds'\n",
       "\\item 'SQFTAdds'\n",
       "\\item 'STORIESAdds'\n",
       "\\item 'HEATAdds'\n",
       "\\item 'COOLAdds'\n",
       "\\item 'WALLSAdds'\n",
       "\\item 'ROOFAdds'\n",
       "\\item 'GARAGEAdds'\n",
       "\\item 'GARAGECAPAAdds'\n",
       "\\item 'PATIOAdds'\n",
       "\\item 'PATIONUMBEAdds'\n",
       "\\item 'MAINFCV'\n",
       "\\item 'ENHANCEMENAdds'\n",
       "\\item 'VALUATIONCAdds'\n",
       "\\item 'MAINAdds'\n",
       "\\item 'ACTUALAdds'\n",
       "\\item 'ADJUSTMENTAdds'\n",
       "\\item 'LANDMEAS'\n",
       "\\item 'LANDUNIT'\n",
       "\\item 'LANDFCV'\n",
       "\\item 'LUV'\n",
       "\\item 'SOURCELand'\n",
       "\\item 'APPRAISERLand'\n",
       "\\item 'PHONELand'\n",
       "\\item 'SchDistr'\n",
       "\\item 'X\\_PRJ'\n",
       "\\item 'Y\\_PRJ'\n",
       "\\end{enumerate*}\n"
      ],
      "text/markdown": [
       "1. 'X'\n",
       "2. 'ADDRESS'\n",
       "3. 'ADPARCEL_'\n",
       "4. 'ADPARCEL_I'\n",
       "5. 'ADR_ID'\n",
       "6. 'AD_STREET'\n",
       "7. 'AD_SUFFIX'\n",
       "8. 'ANGLE'\n",
       "9. 'AREA'\n",
       "10. 'CITY_ID'\n",
       "11. 'CODE'\n",
       "12. 'DATE_ENTER'\n",
       "13. 'LAT'\n",
       "14. 'LON'\n",
       "15. 'PERIMETER'\n",
       "16. 'POLYGONID'\n",
       "17. 'SCALE'\n",
       "18. 'SOURCE'\n",
       "19. 'STATUS'\n",
       "20. 'STREET'\n",
       "21. 'STREET_DIR'\n",
       "22. 'STREET_IDX'\n",
       "23. 'STREET_NAM'\n",
       "24. 'STREET_NO'\n",
       "25. 'SUFFIX_DIR'\n",
       "26. 'TILE_NAME'\n",
       "27. 'X_HPGN'\n",
       "28. 'Y_HPGN'\n",
       "29. 'ZIPCITY'\n",
       "30. 'ZIPCODE'\n",
       "31. 'geometry'\n",
       "32. 'SequenceNum'\n",
       "33. 'SaleDate'\n",
       "34. 'SalePrice'\n",
       "35. 'PropertyType'\n",
       "36. 'IntendedUse'\n",
       "37. 'Deed'\n",
       "38. 'Financing'\n",
       "39. 'ValidationDescription'\n",
       "40. 'BuyerSellerRelated'\n",
       "41. 'Solar'\n",
       "42. 'PersonalProperty'\n",
       "43. 'PartialInterest'\n",
       "44. 'RecordingDate'\n",
       "45. 'TAXYEAR'\n",
       "46. 'SFRCONDO'\n",
       "47. 'COMPLEXID'\n",
       "48. 'INSPECTION'\n",
       "49. 'CLASS'\n",
       "50. 'STORIES'\n",
       "51. 'ROOMS'\n",
       "52. 'QUALITY'\n",
       "53. 'WALLS'\n",
       "54. 'ROOF'\n",
       "55. 'HEAT'\n",
       "56. 'COOL'\n",
       "57. 'BATHFIXTUR'\n",
       "58. 'PATIO'\n",
       "59. 'PATIONUMBE'\n",
       "60. 'CONDITION'\n",
       "61. 'SQFT'\n",
       "62. 'YEAR'\n",
       "63. 'GARAGE'\n",
       "64. 'GARAGECAPA'\n",
       "65. 'POOLAREA'\n",
       "66. 'MAIN'\n",
       "67. 'CONTROL'\n",
       "68. 'ACTUAL'\n",
       "69. 'LASTACTION'\n",
       "70. 'VALUATIONC'\n",
       "71. 'APPLICATION'\n",
       "72. 'ENHANCEMEN'\n",
       "73. 'ADJUSTMENT'\n",
       "74. 'APPRAISER'\n",
       "75. 'PHONE'\n",
       "76. 'TAXYEARAdds'\n",
       "77. 'BLDG_ID'\n",
       "78. 'SFRCONDOAdds'\n",
       "79. 'OCCUPANCY'\n",
       "80. 'DETACHED'\n",
       "81. 'CLASSAdds'\n",
       "82. 'QUALITYAdds'\n",
       "83. 'YEARAdds'\n",
       "84. 'SQFTAdds'\n",
       "85. 'STORIESAdds'\n",
       "86. 'HEATAdds'\n",
       "87. 'COOLAdds'\n",
       "88. 'WALLSAdds'\n",
       "89. 'ROOFAdds'\n",
       "90. 'GARAGEAdds'\n",
       "91. 'GARAGECAPAAdds'\n",
       "92. 'PATIOAdds'\n",
       "93. 'PATIONUMBEAdds'\n",
       "94. 'MAINFCV'\n",
       "95. 'ENHANCEMENAdds'\n",
       "96. 'VALUATIONCAdds'\n",
       "97. 'MAINAdds'\n",
       "98. 'ACTUALAdds'\n",
       "99. 'ADJUSTMENTAdds'\n",
       "100. 'LANDMEAS'\n",
       "101. 'LANDUNIT'\n",
       "102. 'LANDFCV'\n",
       "103. 'LUV'\n",
       "104. 'SOURCELand'\n",
       "105. 'APPRAISERLand'\n",
       "106. 'PHONELand'\n",
       "107. 'SchDistr'\n",
       "108. 'X_PRJ'\n",
       "109. 'Y_PRJ'\n",
       "\n",
       "\n"
      ],
      "text/plain": [
       "  [1] \"X\"                     \"ADDRESS\"               \"ADPARCEL_\"            \n",
       "  [4] \"ADPARCEL_I\"            \"ADR_ID\"                \"AD_STREET\"            \n",
       "  [7] \"AD_SUFFIX\"             \"ANGLE\"                 \"AREA\"                 \n",
       " [10] \"CITY_ID\"               \"CODE\"                  \"DATE_ENTER\"           \n",
       " [13] \"LAT\"                   \"LON\"                   \"PERIMETER\"            \n",
       " [16] \"POLYGONID\"             \"SCALE\"                 \"SOURCE\"               \n",
       " [19] \"STATUS\"                \"STREET\"                \"STREET_DIR\"           \n",
       " [22] \"STREET_IDX\"            \"STREET_NAM\"            \"STREET_NO\"            \n",
       " [25] \"SUFFIX_DIR\"            \"TILE_NAME\"             \"X_HPGN\"               \n",
       " [28] \"Y_HPGN\"                \"ZIPCITY\"               \"ZIPCODE\"              \n",
       " [31] \"geometry\"              \"SequenceNum\"           \"SaleDate\"             \n",
       " [34] \"SalePrice\"             \"PropertyType\"          \"IntendedUse\"          \n",
       " [37] \"Deed\"                  \"Financing\"             \"ValidationDescription\"\n",
       " [40] \"BuyerSellerRelated\"    \"Solar\"                 \"PersonalProperty\"     \n",
       " [43] \"PartialInterest\"       \"RecordingDate\"         \"TAXYEAR\"              \n",
       " [46] \"SFRCONDO\"              \"COMPLEXID\"             \"INSPECTION\"           \n",
       " [49] \"CLASS\"                 \"STORIES\"               \"ROOMS\"                \n",
       " [52] \"QUALITY\"               \"WALLS\"                 \"ROOF\"                 \n",
       " [55] \"HEAT\"                  \"COOL\"                  \"BATHFIXTUR\"           \n",
       " [58] \"PATIO\"                 \"PATIONUMBE\"            \"CONDITION\"            \n",
       " [61] \"SQFT\"                  \"YEAR\"                  \"GARAGE\"               \n",
       " [64] \"GARAGECAPA\"            \"POOLAREA\"              \"MAIN\"                 \n",
       " [67] \"CONTROL\"               \"ACTUAL\"                \"LASTACTION\"           \n",
       " [70] \"VALUATIONC\"            \"APPLICATION\"           \"ENHANCEMEN\"           \n",
       " [73] \"ADJUSTMENT\"            \"APPRAISER\"             \"PHONE\"                \n",
       " [76] \"TAXYEARAdds\"           \"BLDG_ID\"               \"SFRCONDOAdds\"         \n",
       " [79] \"OCCUPANCY\"             \"DETACHED\"              \"CLASSAdds\"            \n",
       " [82] \"QUALITYAdds\"           \"YEARAdds\"              \"SQFTAdds\"             \n",
       " [85] \"STORIESAdds\"           \"HEATAdds\"              \"COOLAdds\"             \n",
       " [88] \"WALLSAdds\"             \"ROOFAdds\"              \"GARAGEAdds\"           \n",
       " [91] \"GARAGECAPAAdds\"        \"PATIOAdds\"             \"PATIONUMBEAdds\"       \n",
       " [94] \"MAINFCV\"               \"ENHANCEMENAdds\"        \"VALUATIONCAdds\"       \n",
       " [97] \"MAINAdds\"              \"ACTUALAdds\"            \"ADJUSTMENTAdds\"       \n",
       "[100] \"LANDMEAS\"              \"LANDUNIT\"              \"LANDFCV\"              \n",
       "[103] \"LUV\"                   \"SOURCELand\"            \"APPRAISERLand\"        \n",
       "[106] \"PHONELand\"             \"SchDistr\"              \"X_PRJ\"                \n",
       "[109] \"Y_PRJ\"                "
      ]
     },
     "metadata": {},
     "output_type": "display_data"
    }
   ],
   "source": [
    "colnames(Tucson_sales)"
   ]
  },
  {
   "cell_type": "code",
   "execution_count": 8,
   "metadata": {
    "collapsed": false
   },
   "outputs": [
    {
     "name": "stdout",
     "output_type": "stream",
     "text": [
      "[1] 23759\n",
      "[1] 22203\n"
     ]
    }
   ],
   "source": [
    "for_geodata = Tucson_sales[believable,c(\"X_PRJ\",\"Y_PRJ\",\"SalePrice\",\"SchDistr\", \"SQFT\", \"SaleDate\", \"QUALITY\")]\n",
    "for_geodata$logSalePrice = log(for_geodata$SalePrice)\n",
    "for_geodata$iSchDistr = as.numeric(for_geodata$SchDistr)\n",
    "# I feel like we shouldn't need to do this:\n",
    "for_geodata[,c(\"X_PRJ\",\"Y_PRJ\")] = jitterDupCoords(for_geodata[,c(\"X_PRJ\",\"Y_PRJ\")], max=10, min=1)\n",
    "print(nrow(for_geodata))\n",
    "for_geodata = na.omit(for_geodata)\n",
    "print(nrow(for_geodata))"
   ]
  },
  {
   "cell_type": "code",
   "execution_count": 9,
   "metadata": {
    "collapsed": false
   },
   "outputs": [
    {
     "name": "stdout",
     "output_type": "stream",
     "text": [
      "[1] \"X_PRJ\"        \"Y_PRJ\"        \"SalePrice\"    \"SchDistr\"     \"SQFT\"        \n",
      "[6] \"SaleDate\"     \"QUALITY\"      \"logSalePrice\" \"iSchDistr\"   \n"
     ]
    }
   ],
   "source": [
    "print(colnames(for_geodata))"
   ]
  },
  {
   "cell_type": "code",
   "execution_count": 10,
   "metadata": {
    "collapsed": false
   },
   "outputs": [],
   "source": [
    "Tucson_geodata=as.geodata(for_geodata, \n",
    "    coords.col=c(1,2), \n",
    "    data.col=8, \n",
    "    covar.col=c(\"SQFT\", \"SaleDate\", \"QUALITY\"),\n",
    "    realisations=9, \n",
    "    rep.data.action=\"none\" # why can't we have repeated locations?\n",
    "    )"
   ]
  },
  {
   "cell_type": "code",
   "execution_count": 11,
   "metadata": {
    "collapsed": false
   },
   "outputs": [
    {
     "name": "stdout",
     "output_type": "stream",
     "text": [
      "variog: computing omnidirectional variogram\n"
     ]
    }
   ],
   "source": [
    "Tucson.variog = variog(Tucson_geodata, pairs.min=20, breaks=seq(0,100000,1000))"
   ]
  },
  {
   "cell_type": "code",
   "execution_count": 12,
   "metadata": {
    "collapsed": false
   },
   "outputs": [
    {
     "data": {
      "image/png": "[encoded data removed]",
      "text/plain": [
       "plot without title"
      ]
     },
     "metadata": {},
     "output_type": "display_data"
    }
   ],
   "source": [
    "plot(Tucson.variog)"
   ]
  },
  {
   "cell_type": "markdown",
   "metadata": {},
   "source": [
    "# Fitting hyperparameters\n",
    "## Fit variogram"
   ]
  },
  {
   "cell_type": "code",
   "execution_count": 13,
   "metadata": {
    "collapsed": false
   },
   "outputs": [
    {
     "name": "stdout",
     "output_type": "stream",
     "text": [
      "variofit: covariance model used is gaussian \n",
      "variofit: weights used: npairs \n",
      "variofit: minimisation function used: optim \n"
     ]
    }
   ],
   "source": [
    "Tucson.variog.fit = variofit(Tucson.variog, \n",
    "    cov.model=\"gaussian\", \n",
    "    ini.cov.pars=c(0.01,20000), \n",
    "    nugget=0.1, )"
   ]
  },
  {
   "cell_type": "code",
   "execution_count": 14,
   "metadata": {
    "collapsed": false
   },
   "outputs": [
    {
     "name": "stdout",
     "output_type": "stream",
     "text": [
      "variofit: covariance model used is gaussian \n",
      "variofit: weights used: cressie \n",
      "variofit: minimisation function used: optim \n"
     ]
    }
   ],
   "source": [
    "Tucson.cressie.fit = variofit(Tucson.variog, \n",
    "    cov.model=\"gaussian\", \n",
    "    weights=\"cressie\",\n",
    "    ini.cov.pars=c(0.01,20000), \n",
    "    nugget=0.11, )"
   ]
  },
  {
   "cell_type": "markdown",
   "metadata": {},
   "source": [
    "Initialize Cressie fit with fitted parameters with default weights."
   ]
  },
  {
   "cell_type": "code",
   "execution_count": 15,
   "metadata": {
    "collapsed": false
   },
   "outputs": [
    {
     "name": "stdout",
     "output_type": "stream",
     "text": [
      "variofit: covariance model used is gaussian \n",
      "variofit: weights used: cressie \n",
      "variofit: minimisation function used: optim \n"
     ]
    }
   ],
   "source": [
    "Tucson.cressie.fit.2 = variofit(Tucson.variog, \n",
    "    cov.model=\"gaussian\", \n",
    "    weights=\"cressie\",\n",
    "    ini.cov.pars=Tucson.variog.fit, \n",
    "    nugget=0.11, )"
   ]
  },
  {
   "cell_type": "code",
   "execution_count": 16,
   "metadata": {
    "collapsed": false
   },
   "outputs": [
    {
     "data": {
      "text/plain": [
       "variofit: model parameters estimated by WLS (weighted least squares):\n",
       "covariance model is: gaussian\n",
       "parameter estimates:\n",
       "     tausq    sigmasq        phi \n",
       "    0.1257     0.1245 13441.0537 \n",
       "Practical Range with cor=0.05 for asymptotic range: 23264.02\n",
       "\n",
       "variofit: minimised weighted sum of squares = 48313.69"
      ]
     },
     "metadata": {},
     "output_type": "display_data"
    }
   ],
   "source": [
    "Tucson.variog.fit"
   ]
  },
  {
   "cell_type": "code",
   "execution_count": 17,
   "metadata": {
    "collapsed": false
   },
   "outputs": [
    {
     "data": {
      "text/plain": [
       "variofit: model parameters estimated by WLS (weighted least squares):\n",
       "covariance model is: gaussian\n",
       "parameter estimates:\n",
       "   tausq  sigmasq      phi \n",
       "1.59e-01 9.85e-02 2.00e+04 \n",
       "Practical Range with cor=0.05 for asymptotic range: 34616.37\n",
       "\n",
       "variofit: minimised weighted sum of squares = 1453954"
      ]
     },
     "metadata": {},
     "output_type": "display_data"
    }
   ],
   "source": [
    "Tucson.cressie.fit"
   ]
  },
  {
   "cell_type": "code",
   "execution_count": 18,
   "metadata": {
    "collapsed": false
   },
   "outputs": [
    {
     "data": {
      "text/plain": [
       "variofit: model parameters estimated by WLS (weighted least squares):\n",
       "covariance model is: gaussian\n",
       "parameter estimates:\n",
       "     tausq    sigmasq        phi \n",
       "    0.1250     0.1263 13441.0537 \n",
       "Practical Range with cor=0.05 for asymptotic range: 23264.02\n",
       "\n",
       "variofit: minimised weighted sum of squares = 896048"
      ]
     },
     "metadata": {},
     "output_type": "display_data"
    }
   ],
   "source": [
    "Tucson.cressie.fit.2"
   ]
  },
  {
   "cell_type": "code",
   "execution_count": 19,
   "metadata": {
    "collapsed": false
   },
   "outputs": [
    {
     "data": {
      "image/png": "[encoded data removed]",
      "text/plain": [
       "Plot with title “Variogram”"
      ]
     },
     "metadata": {},
     "output_type": "display_data"
    }
   ],
   "source": [
    "plot(Tucson.variog, main=\"Variogram\")\n",
    "lines(Tucson.variog.fit, col=\"red\")\n",
    "lines(Tucson.cressie.fit, col=\"dark green\")\n",
    "lines(Tucson.cressie.fit.2, col=\"purple\")"
   ]
  },
  {
   "cell_type": "markdown",
   "metadata": {},
   "source": [
    "Fitting the variogram directly is computationally very efficient, but doesn't seem fully justified from a theoretical standpoint. I'm also not entirely convinced by the implementation of the optimization. With the Cressie weights, $\\phi$ remained stuck on 20000. Changing the initial parameters has a large effect, which is not a reasonable behavior. We don't see the same behavior with the default weights, although I have seen it misbehave as well."
   ]
  },
  {
   "cell_type": "code",
   "execution_count": 20,
   "metadata": {
    "collapsed": false
   },
   "outputs": [
    {
     "data": {
      "text/html": [
       "<ol class=list-inline>\n",
       "\t<li>0.158955096851578</li>\n",
       "\t<li>0.0985050579489068</li>\n",
       "\t<li>20000.000006321</li>\n",
       "\t<li>1453954.34950197</li>\n",
       "</ol>\n"
      ],
      "text/latex": [
       "\\begin{enumerate*}\n",
       "\\item 0.158955096851578\n",
       "\\item 0.0985050579489068\n",
       "\\item 20000.000006321\n",
       "\\item 1453954.34950197\n",
       "\\end{enumerate*}\n"
      ],
      "text/markdown": [
       "1. 0.158955096851578\n",
       "2. 0.0985050579489068\n",
       "3. 20000.000006321\n",
       "4. 1453954.34950197\n",
       "\n",
       "\n"
      ],
      "text/plain": [
       "[1] 1.589551e-01 9.850506e-02 2.000000e+04 1.453954e+06"
      ]
     },
     "metadata": {},
     "output_type": "display_data"
    },
    {
     "data": {
      "text/html": [
       "<ol class=list-inline>\n",
       "\t<li>0.158954548818544</li>\n",
       "\t<li>0.0985063233077797</li>\n",
       "\t<li>19999.99999924</li>\n",
       "\t<li>1453954.35455956</li>\n",
       "</ol>\n"
      ],
      "text/latex": [
       "\\begin{enumerate*}\n",
       "\\item 0.158954548818544\n",
       "\\item 0.0985063233077797\n",
       "\\item 19999.99999924\n",
       "\\item 1453954.35455956\n",
       "\\end{enumerate*}\n"
      ],
      "text/markdown": [
       "1. 0.158954548818544\n",
       "2. 0.0985063233077797\n",
       "3. 19999.99999924\n",
       "4. 1453954.35455956\n",
       "\n",
       "\n"
      ],
      "text/plain": [
       "[1] 1.589545e-01 9.850632e-02 2.000000e+04 1.453954e+06"
      ]
     },
     "metadata": {},
     "output_type": "display_data"
    },
    {
     "data": {
      "text/html": [
       "<ol class=list-inline>\n",
       "\t<li>0.103271776999508</li>\n",
       "\t<li>0.144215215444875</li>\n",
       "\t<li>10000.0000007732</li>\n",
       "\t<li>1046225.79108615</li>\n",
       "</ol>\n"
      ],
      "text/latex": [
       "\\begin{enumerate*}\n",
       "\\item 0.103271776999508\n",
       "\\item 0.144215215444875\n",
       "\\item 10000.0000007732\n",
       "\\item 1046225.79108615\n",
       "\\end{enumerate*}\n"
      ],
      "text/markdown": [
       "1. 0.103271776999508\n",
       "2. 0.144215215444875\n",
       "3. 10000.0000007732\n",
       "4. 1046225.79108615\n",
       "\n",
       "\n"
      ],
      "text/plain": [
       "[1] 1.032718e-01 1.442152e-01 1.000000e+04 1.046226e+06"
      ]
     },
     "metadata": {},
     "output_type": "display_data"
    },
    {
     "data": {
      "text/html": [
       "<ol class=list-inline>\n",
       "\t<li>0.121056780248784</li>\n",
       "\t<li>0.129530683461736</li>\n",
       "\t<li>12797.5717881413</li>\n",
       "\t<li>889029.292071858</li>\n",
       "</ol>\n"
      ],
      "text/latex": [
       "\\begin{enumerate*}\n",
       "\\item 0.121056780248784\n",
       "\\item 0.129530683461736\n",
       "\\item 12797.5717881413\n",
       "\\item 889029.292071858\n",
       "\\end{enumerate*}\n"
      ],
      "text/markdown": [
       "1. 0.121056780248784\n",
       "2. 0.129530683461736\n",
       "3. 12797.5717881413\n",
       "4. 889029.292071858\n",
       "\n",
       "\n"
      ],
      "text/plain": [
       "[1] 1.210568e-01 1.295307e-01 1.279757e+04 8.890293e+05"
      ]
     },
     "metadata": {},
     "output_type": "display_data"
    }
   ],
   "source": [
    "f=variofit(Tucson.variog, cov.model=\"gaussian\", messages=FALSE,\n",
    "    ini.cov.pars=c(0.01,20000), \n",
    "    nugget=0.1, \n",
    "    weights=\"cressie\",\n",
    "    );c(f$nugget, f$cov.pars, f$value)\n",
    "f=variofit(Tucson.variog, cov.model=\"gaussian\", messages=FALSE,\n",
    "    ini.cov.pars=c(0.1,20000), \n",
    "    nugget=0.1, \n",
    "    weights=\"cressie\",\n",
    "    );c(f$nugget, f$cov.pars, f$value)\n",
    "f=variofit(Tucson.variog, cov.model=\"gaussian\", messages=FALSE,\n",
    "    ini.cov.pars=c(0.1,10000),\n",
    "    nugget=0.1,\n",
    "    weights=\"cressie\",\n",
    "    );c(f$nugget, f$cov.pars, f$value)\n",
    "f=variofit(Tucson.variog, cov.model=\"gaussian\", messages=FALSE,\n",
    "    ini.cov.pars=c(0.2,11000), \n",
    "    nugget=0.01, \n",
    "    weights=\"cressie\",\n",
    "    );c(f$nugget, f$cov.pars, f$value)"
   ]
  },
  {
   "cell_type": "code",
   "execution_count": 21,
   "metadata": {
    "collapsed": false
   },
   "outputs": [
    {
     "data": {
      "text/html": [
       "<ol class=list-inline>\n",
       "\t<li>0.125729972192493</li>\n",
       "\t<li>0.124477417668611</li>\n",
       "\t<li>13441.0536622703</li>\n",
       "\t<li>48313.6932364717</li>\n",
       "</ol>\n"
      ],
      "text/latex": [
       "\\begin{enumerate*}\n",
       "\\item 0.125729972192493\n",
       "\\item 0.124477417668611\n",
       "\\item 13441.0536622703\n",
       "\\item 48313.6932364717\n",
       "\\end{enumerate*}\n"
      ],
      "text/markdown": [
       "1. 0.125729972192493\n",
       "2. 0.124477417668611\n",
       "3. 13441.0536622703\n",
       "4. 48313.6932364717\n",
       "\n",
       "\n"
      ],
      "text/plain": [
       "[1] 1.257300e-01 1.244774e-01 1.344105e+04 4.831369e+04"
      ]
     },
     "metadata": {},
     "output_type": "display_data"
    },
    {
     "data": {
      "text/html": [
       "<ol class=list-inline>\n",
       "\t<li>0.125730127033281</li>\n",
       "\t<li>0.124476962566873</li>\n",
       "\t<li>13440.9181309792</li>\n",
       "\t<li>48313.6932435018</li>\n",
       "</ol>\n"
      ],
      "text/latex": [
       "\\begin{enumerate*}\n",
       "\\item 0.125730127033281\n",
       "\\item 0.124476962566873\n",
       "\\item 13440.9181309792\n",
       "\\item 48313.6932435018\n",
       "\\end{enumerate*}\n"
      ],
      "text/markdown": [
       "1. 0.125730127033281\n",
       "2. 0.124476962566873\n",
       "3. 13440.9181309792\n",
       "4. 48313.6932435018\n",
       "\n",
       "\n"
      ],
      "text/plain": [
       "[1] 1.257301e-01 1.244770e-01 1.344092e+04 4.831369e+04"
      ]
     },
     "metadata": {},
     "output_type": "display_data"
    },
    {
     "data": {
      "text/html": [
       "<ol class=list-inline>\n",
       "\t<li>0.125730831614452</li>\n",
       "\t<li>0.124476491218177</li>\n",
       "\t<li>13441.055620825</li>\n",
       "\t<li>48313.6932261186</li>\n",
       "</ol>\n"
      ],
      "text/latex": [
       "\\begin{enumerate*}\n",
       "\\item 0.125730831614452\n",
       "\\item 0.124476491218177\n",
       "\\item 13441.055620825\n",
       "\\item 48313.6932261186\n",
       "\\end{enumerate*}\n"
      ],
      "text/markdown": [
       "1. 0.125730831614452\n",
       "2. 0.124476491218177\n",
       "3. 13441.055620825\n",
       "4. 48313.6932261186\n",
       "\n",
       "\n"
      ],
      "text/plain": [
       "[1] 1.257308e-01 1.244765e-01 1.344106e+04 4.831369e+04"
      ]
     },
     "metadata": {},
     "output_type": "display_data"
    },
    {
     "data": {
      "text/html": [
       "<ol class=list-inline>\n",
       "\t<li>0.125730547628756</li>\n",
       "\t<li>0.124476577332619</li>\n",
       "\t<li>13440.9184669125</li>\n",
       "\t<li>48313.6932473137</li>\n",
       "</ol>\n"
      ],
      "text/latex": [
       "\\begin{enumerate*}\n",
       "\\item 0.125730547628756\n",
       "\\item 0.124476577332619\n",
       "\\item 13440.9184669125\n",
       "\\item 48313.6932473137\n",
       "\\end{enumerate*}\n"
      ],
      "text/markdown": [
       "1. 0.125730547628756\n",
       "2. 0.124476577332619\n",
       "3. 13440.9184669125\n",
       "4. 48313.6932473137\n",
       "\n",
       "\n"
      ],
      "text/plain": [
       "[1] 1.257305e-01 1.244766e-01 1.344092e+04 4.831369e+04"
      ]
     },
     "metadata": {},
     "output_type": "display_data"
    }
   ],
   "source": [
    "f=variofit(Tucson.variog, cov.model=\"gaussian\", messages=FALSE,\n",
    "    ini.cov.pars=c(0.01,20000), \n",
    "    nugget=0.1, \n",
    "    );c(f$nugget, f$cov.pars, f$value)\n",
    "f=variofit(Tucson.variog, cov.model=\"gaussian\", messages=FALSE,\n",
    "    ini.cov.pars=c(0.1,20000), \n",
    "    nugget=0.1, \n",
    "    );c(f$nugget, f$cov.pars, f$value)\n",
    "f=variofit(Tucson.variog, cov.model=\"gaussian\", messages=FALSE,\n",
    "    ini.cov.pars=c(0.1,10000),\n",
    "    nugget=0.1,\n",
    "    );c(f$nugget, f$cov.pars, f$value)\n",
    "f=variofit(Tucson.variog, cov.model=\"gaussian\", messages=FALSE,\n",
    "    ini.cov.pars=c(0.2,11000), \n",
    "    nugget=0.01, \n",
    "    );c(f$nugget, f$cov.pars, f$value)"
   ]
  },
  {
   "cell_type": "markdown",
   "metadata": {},
   "source": [
    "## Likelihood fit\n",
    "\n",
    "I think (hope) this means we're maximizing the marginal likelihood. Because this is computationally intense, we'll restrict ourselves to just 2015 data."
   ]
  },
  {
   "cell_type": "code",
   "execution_count": 30,
   "metadata": {
    "collapsed": false
   },
   "outputs": [],
   "source": [
    "recent_geodata = as.geodata(\n",
    "    for_geodata[for_geodata$SaleDate>\"b'2015\",],\n",
    "    coords.col=c(1,2), \n",
    "    data.col=8, \n",
    "    covar.col=c(\"SQFT\", \"SaleDate\", \"QUALITY\"),\n",
    "    realisations=9, \n",
    "    rep.data.action=\"none\" # why can't we have repeated locations?\n",
    "    )"
   ]
  },
  {
   "cell_type": "code",
   "execution_count": 31,
   "metadata": {
    "collapsed": false,
    "scrolled": true
   },
   "outputs": [
    {
     "name": "stdout",
     "output_type": "stream",
     "text": [
      "[1] 22203\n",
      "[1] 5349\n"
     ]
    }
   ],
   "source": [
    "print(length(Tucson_geodata$data))\n",
    "print(length(recent_geodata$data))"
   ]
  },
  {
   "cell_type": "code",
   "execution_count": 33,
   "metadata": {
    "collapsed": false
   },
   "outputs": [
    {
     "name": "stdout",
     "output_type": "stream",
     "text": [
      "kappa not used for the gaussian correlation function\n",
      "---------------------------------------------------------------\n",
      "likfit: likelihood maximisation using the function optim.\n",
      "likfit: Use control() to pass additional\n",
      "         arguments for the maximisation function.\n",
      "        For further details see documentation for optim.\n",
      "likfit: It is highly advisable to run this function several\n",
      "        times with different initial values for the parameters.\n",
      "likfit: WARNING: This step can be time demanding!\n",
      "---------------------------------------------------------------\n",
      "     phi    tausq    kappa     psiA     psiR   lambda \n",
      "13441.05     0.20     0.50     0.00     1.00     1.00 \n",
      "log-likelihood =  -1200.25347179418 \n",
      "     phi    tausq    kappa     psiA     psiR   lambda \n",
      "13441.05     0.20     0.50     0.00     1.00     1.00 \n",
      "log-likelihood =  -1200.25350908849 \n",
      "     phi    tausq    kappa     psiA     psiR   lambda \n",
      "13441.05     0.20     0.50     0.00     1.00     1.00 \n",
      "log-likelihood =  -1200.25343449986 \n",
      "     phi    tausq    kappa     psiA     psiR   lambda \n",
      "13441.05     0.20     0.50     0.00     1.00     1.00 \n",
      "log-likelihood =  -1200.25347179418 \n",
      "      phi     tausq     kappa      psiA      psiR    lambda \n",
      "13441.054     0.199     0.500     0.000     1.000     1.000 \n",
      "log-likelihood =  -1200.08112972719 \n",
      "     phi    tausq    kappa     psiA     psiR   lambda \n",
      "13441.02     0.01     0.50     0.00     1.00     1.00 \n",
      "log-likelihood =  -1171.32621348389 \n",
      "     phi    tausq    kappa     psiA     psiR   lambda \n",
      "13441.02     0.01     0.50     0.00     1.00     1.00 \n",
      "log-likelihood =  -1171.32623903849 \n",
      "     phi    tausq    kappa     psiA     psiR   lambda \n",
      "13441.02     0.01     0.50     0.00     1.00     1.00 \n",
      "log-likelihood =  -1171.32618792923 \n",
      "      phi     tausq     kappa      psiA      psiR    lambda \n",
      "13441.016     0.011     0.500     0.000     1.000     1.000 \n",
      "log-likelihood =  -1170.0650359178 \n",
      "     phi    tausq    kappa     psiA     psiR   lambda \n",
      "13441.02     0.01     0.50     0.00     1.00     1.00 \n",
      "log-likelihood =  -1171.32621348389 \n",
      "         phi        tausq        kappa         psiA         psiR       lambda \n",
      "1.344105e+04 1.771567e-01 5.000000e-01 0.000000e+00 1.000000e+00 1.000000e+00 \n",
      "log-likelihood =  -1196.22127343577 \n",
      "         phi        tausq        kappa         psiA         psiR       lambda \n",
      "1.344105e+04 1.771567e-01 5.000000e-01 0.000000e+00 1.000000e+00 1.000000e+00 \n",
      "log-likelihood =  -1196.22131076257 \n",
      "         phi        tausq        kappa         psiA         psiR       lambda \n",
      "1.344105e+04 1.771567e-01 5.000000e-01 0.000000e+00 1.000000e+00 1.000000e+00 \n",
      "log-likelihood =  -1196.22123610895 \n",
      "         phi        tausq        kappa         psiA         psiR       lambda \n",
      "1.344105e+04 1.781567e-01 5.000000e-01 0.000000e+00 1.000000e+00 1.000000e+00 \n",
      "log-likelihood =  -1196.40213609468 \n",
      "         phi        tausq        kappa         psiA         psiR       lambda \n",
      "1.344105e+04 1.761567e-01 5.000000e-01 0.000000e+00 1.000000e+00 1.000000e+00 \n",
      "log-likelihood =  -1196.03999145574 \n",
      "         phi        tausq        kappa         psiA         psiR       lambda \n",
      "1.344103e+04 9.357835e-02 5.000000e-01 0.000000e+00 1.000000e+00 1.000000e+00 \n",
      "log-likelihood =  -1179.34024702335 \n",
      "         phi        tausq        kappa         psiA         psiR       lambda \n",
      "1.344103e+04 9.357835e-02 5.000000e-01 0.000000e+00 1.000000e+00 1.000000e+00 \n",
      "log-likelihood =  -1179.34028413976 \n",
      "         phi        tausq        kappa         psiA         psiR       lambda \n",
      "1.344103e+04 9.357835e-02 5.000000e-01 0.000000e+00 1.000000e+00 1.000000e+00 \n",
      "log-likelihood =  -1179.34020990693 \n",
      "         phi        tausq        kappa         psiA         psiR       lambda \n",
      "1.344103e+04 9.457835e-02 5.000000e-01 0.000000e+00 1.000000e+00 1.000000e+00 \n",
      "log-likelihood =  -1179.56569363065 \n",
      "         phi        tausq        kappa         psiA         psiR       lambda \n",
      "1.344103e+04 9.257835e-02 5.000000e-01 0.000000e+00 1.000000e+00 1.000000e+00 \n",
      "log-likelihood =  -1179.1142167505 \n",
      "         phi        tausq        kappa         psiA         psiR       lambda \n",
      "1.344102e+04 3.628017e-02 5.000000e-01 0.000000e+00 1.000000e+00 1.000000e+00 \n",
      "log-likelihood =  -1166.37381366195 \n",
      "         phi        tausq        kappa         psiA         psiR       lambda \n",
      "1.344102e+04 3.628017e-02 5.000000e-01 0.000000e+00 1.000000e+00 1.000000e+00 \n",
      "log-likelihood =  -1166.37384794896 \n",
      "         phi        tausq        kappa         psiA         psiR       lambda \n",
      "1.344102e+04 3.628017e-02 5.000000e-01 0.000000e+00 1.000000e+00 1.000000e+00 \n",
      "log-likelihood =  -1166.37377937493 \n",
      "         phi        tausq        kappa         psiA         psiR       lambda \n",
      "1.344102e+04 3.728017e-02 5.000000e-01 0.000000e+00 1.000000e+00 1.000000e+00 \n",
      "log-likelihood =  -1166.55056999355 \n",
      "         phi        tausq        kappa         psiA         psiR       lambda \n",
      "1.344102e+04 3.528017e-02 5.000000e-01 0.000000e+00 1.000000e+00 1.000000e+00 \n",
      "log-likelihood =  -1166.20417169808 \n",
      "         phi        tausq        kappa         psiA         psiR       lambda \n",
      "1.344102e+04 2.333793e-02 5.000000e-01 0.000000e+00 1.000000e+00 1.000000e+00 \n",
      "log-likelihood =  -1165.12596853424 \n",
      "         phi        tausq        kappa         psiA         psiR       lambda \n",
      "1.344102e+04 2.333793e-02 5.000000e-01 0.000000e+00 1.000000e+00 1.000000e+00 \n",
      "log-likelihood =  -1165.12600034947 \n",
      "         phi        tausq        kappa         psiA         psiR       lambda \n",
      "1.344102e+04 2.333793e-02 5.000000e-01 0.000000e+00 1.000000e+00 1.000000e+00 \n",
      "log-likelihood =  -1165.125936719 \n",
      "         phi        tausq        kappa         psiA         psiR       lambda \n",
      "1.344102e+04 2.433793e-02 5.000000e-01 0.000000e+00 1.000000e+00 1.000000e+00 \n",
      "log-likelihood =  -1165.11298536929 \n",
      "         phi        tausq        kappa         psiA         psiR       lambda \n",
      "1.344102e+04 2.233793e-02 5.000000e-01 0.000000e+00 1.000000e+00 1.000000e+00 \n",
      "log-likelihood =  -1165.16909595218 \n",
      "         phi        tausq        kappa         psiA         psiR       lambda \n",
      "1.344102e+04 4.806469e-02 5.000000e-01 0.000000e+00 1.000000e+00 1.000000e+00 \n",
      "log-likelihood =  -1168.76042963777 \n",
      "         phi        tausq        kappa         psiA         psiR       lambda \n",
      "1.344102e+04 4.806469e-02 5.000000e-01 0.000000e+00 1.000000e+00 1.000000e+00 \n",
      "log-likelihood =  -1168.76046513449 \n",
      "         phi        tausq        kappa         psiA         psiR       lambda \n",
      "1.344102e+04 4.806469e-02 5.000000e-01 0.000000e+00 1.000000e+00 1.000000e+00 \n",
      "log-likelihood =  -1168.76039414104 \n",
      "         phi        tausq        kappa         psiA         psiR       lambda \n",
      "1.344102e+04 4.906469e-02 5.000000e-01 0.000000e+00 1.000000e+00 1.000000e+00 \n",
      "log-likelihood =  -1168.98361360982 \n",
      "         phi        tausq        kappa         psiA         psiR       lambda \n",
      "1.344102e+04 4.706469e-02 5.000000e-01 0.000000e+00 1.000000e+00 1.000000e+00 \n",
      "log-likelihood =  -1168.53936831927 \n",
      "         phi        tausq        kappa         psiA         psiR       lambda \n",
      "1.344102e+04 2.463647e-02 5.000000e-01 0.000000e+00 1.000000e+00 1.000000e+00 \n",
      "log-likelihood =  -1165.11441831054 \n",
      "         phi        tausq        kappa         psiA         psiR       lambda \n",
      "1.344102e+04 2.463647e-02 5.000000e-01 0.000000e+00 1.000000e+00 1.000000e+00 \n",
      "log-likelihood =  -1165.11445046336 \n",
      "         phi        tausq        kappa         psiA         psiR       lambda \n",
      "1.344102e+04 2.463647e-02 5.000000e-01 0.000000e+00 1.000000e+00 1.000000e+00 \n",
      "log-likelihood =  -1165.11438615772 \n",
      "         phi        tausq        kappa         psiA         psiR       lambda \n",
      "1.344102e+04 2.563647e-02 5.000000e-01 0.000000e+00 1.000000e+00 1.000000e+00 \n",
      "log-likelihood =  -1165.13534541816 \n",
      "         phi        tausq        kappa         psiA         psiR       lambda \n",
      "1.344102e+04 2.363647e-02 5.000000e-01 0.000000e+00 1.000000e+00 1.000000e+00 \n",
      "log-likelihood =  -1165.1191161518 \n",
      "         phi        tausq        kappa         psiA         psiR       lambda \n",
      "1.344102e+04 2.434492e-02 5.000000e-01 0.000000e+00 1.000000e+00 1.000000e+00 \n",
      "log-likelihood =  -1165.11299828246 \n",
      "         phi        tausq        kappa         psiA         psiR       lambda \n",
      "1.344102e+04 2.434492e-02 5.000000e-01 0.000000e+00 1.000000e+00 1.000000e+00 \n",
      "log-likelihood =  -1165.11303036181 \n",
      "         phi        tausq        kappa         psiA         psiR       lambda \n",
      "1.344102e+04 2.434492e-02 5.000000e-01 0.000000e+00 1.000000e+00 1.000000e+00 \n",
      "log-likelihood =  -1165.11296620307 \n",
      "         phi        tausq        kappa         psiA         psiR       lambda \n",
      "1.344102e+04 2.534492e-02 5.000000e-01 0.000000e+00 1.000000e+00 1.000000e+00 \n",
      "log-likelihood =  -1165.12677615848 \n",
      "         phi        tausq        kappa         psiA         psiR       lambda \n",
      "1.344102e+04 2.334492e-02 5.000000e-01 0.000000e+00 1.000000e+00 1.000000e+00 \n",
      "log-likelihood =  -1165.12578381541 \n",
      "         phi        tausq        kappa         psiA         psiR       lambda \n",
      "1.344102e+04 2.432569e-02 5.000000e-01 0.000000e+00 1.000000e+00 1.000000e+00 \n",
      "log-likelihood =  -1165.11298294969 \n",
      "         phi        tausq        kappa         psiA         psiR       lambda \n",
      "1.344102e+04 2.432569e-02 5.000000e-01 0.000000e+00 1.000000e+00 1.000000e+00 \n",
      "log-likelihood =  -1165.11301502419 \n",
      "         phi        tausq        kappa         psiA         psiR       lambda \n",
      "1.344102e+04 2.432569e-02 5.000000e-01 0.000000e+00 1.000000e+00 1.000000e+00 \n",
      "log-likelihood =  -1165.11295087523 \n",
      "         phi        tausq        kappa         psiA         psiR       lambda \n",
      "1.344102e+04 2.532569e-02 5.000000e-01 0.000000e+00 1.000000e+00 1.000000e+00 \n",
      "log-likelihood =  -1165.12628022554 \n",
      "         phi        tausq        kappa         psiA         psiR       lambda \n",
      "1.344102e+04 2.332569e-02 5.000000e-01 0.000000e+00 1.000000e+00 1.000000e+00 \n",
      "log-likelihood =  -1165.12631244619 \n",
      "         phi        tausq        kappa         psiA         psiR       lambda \n",
      "1.344102e+04 2.432598e-02 5.000000e-01 0.000000e+00 1.000000e+00 1.000000e+00 \n",
      "log-likelihood =  -1165.112983065 \n",
      "         phi        tausq        kappa         psiA         psiR       lambda \n",
      "1.344102e+04 2.432598e-02 5.000000e-01 0.000000e+00 1.000000e+00 1.000000e+00 \n",
      "log-likelihood =  -1165.11301513955 \n",
      "         phi        tausq        kappa         psiA         psiR       lambda \n",
      "1.344102e+04 2.432598e-02 5.000000e-01 0.000000e+00 1.000000e+00 1.000000e+00 \n",
      "log-likelihood =  -1165.11295099045 \n",
      "         phi        tausq        kappa         psiA         psiR       lambda \n",
      "1.344102e+04 2.532598e-02 5.000000e-01 0.000000e+00 1.000000e+00 1.000000e+00 \n",
      "log-likelihood =  -1165.12628747494 \n",
      "         phi        tausq        kappa         psiA         psiR       lambda \n",
      "1.344102e+04 2.332598e-02 5.000000e-01 0.000000e+00 1.000000e+00 1.000000e+00 \n",
      "log-likelihood =  -1165.12630448653 \n",
      "         phi        tausq        kappa         psiA         psiR       lambda \n",
      "1.344102e+04 2.432570e-02 5.000000e-01 0.000000e+00 1.000000e+00 1.000000e+00 \n",
      "log-likelihood =  -1165.11298295511 \n",
      "         phi        tausq        kappa         psiA         psiR       lambda \n",
      "1.344102e+04 2.432570e-02 5.000000e-01 0.000000e+00 1.000000e+00 1.000000e+00 \n",
      "log-likelihood =  -1165.11301502958 \n",
      "         phi        tausq        kappa         psiA         psiR       lambda \n",
      "1.344102e+04 2.432570e-02 5.000000e-01 0.000000e+00 1.000000e+00 1.000000e+00 \n",
      "log-likelihood =  -1165.11295088063 \n",
      "         phi        tausq        kappa         psiA         psiR       lambda \n",
      "1.344102e+04 2.532570e-02 5.000000e-01 0.000000e+00 1.000000e+00 1.000000e+00 \n",
      "log-likelihood =  -1165.12628056829 \n",
      "         phi        tausq        kappa         psiA         psiR       lambda \n",
      "1.344102e+04 2.332570e-02 5.000000e-01 0.000000e+00 1.000000e+00 1.000000e+00 \n",
      "log-likelihood =  -1165.12631206977 \n",
      "         phi        tausq        kappa         psiA         psiR       lambda \n",
      "1.344102e+04 2.432569e-02 5.000000e-01 0.000000e+00 1.000000e+00 1.000000e+00 \n",
      "log-likelihood =  -1165.11298294996 \n",
      "         phi        tausq        kappa         psiA         psiR       lambda \n",
      "1.344102e+04 2.432569e-02 5.000000e-01 0.000000e+00 1.000000e+00 1.000000e+00 \n",
      "log-likelihood =  -1165.11301502444 \n",
      "         phi        tausq        kappa         psiA         psiR       lambda \n",
      "1.344102e+04 2.432569e-02 5.000000e-01 0.000000e+00 1.000000e+00 1.000000e+00 \n",
      "log-likelihood =  -1165.11295087547 \n",
      "         phi        tausq        kappa         psiA         psiR       lambda \n",
      "1.344102e+04 2.532569e-02 5.000000e-01 0.000000e+00 1.000000e+00 1.000000e+00 \n",
      "log-likelihood =  -1165.12628024174 \n",
      "         phi        tausq        kappa         psiA         psiR       lambda \n",
      "1.344102e+04 2.332569e-02 5.000000e-01 0.000000e+00 1.000000e+00 1.000000e+00 \n",
      "log-likelihood =  -1165.1263124284 \n",
      "         phi        tausq        kappa         psiA         psiR       lambda \n",
      "1.344102e+04 2.432569e-02 5.000000e-01 0.000000e+00 1.000000e+00 1.000000e+00 \n",
      "log-likelihood =  -1165.11298294972 \n",
      "         phi        tausq        kappa         psiA         psiR       lambda \n",
      "1.344102e+04 2.432569e-02 5.000000e-01 0.000000e+00 1.000000e+00 1.000000e+00 \n",
      "log-likelihood =  -1165.1130150242 \n",
      "         phi        tausq        kappa         psiA         psiR       lambda \n",
      "1.344102e+04 2.432569e-02 5.000000e-01 0.000000e+00 1.000000e+00 1.000000e+00 \n",
      "log-likelihood =  -1165.11295087524 \n",
      "         phi        tausq        kappa         psiA         psiR       lambda \n",
      "1.344102e+04 2.532569e-02 5.000000e-01 0.000000e+00 1.000000e+00 1.000000e+00 \n",
      "log-likelihood =  -1165.12628022628 \n",
      "         phi        tausq        kappa         psiA         psiR       lambda \n",
      "1.344102e+04 2.332569e-02 5.000000e-01 0.000000e+00 1.000000e+00 1.000000e+00 \n",
      "log-likelihood =  -1165.12631244537 \n",
      "         phi        tausq        kappa         psiA         psiR       lambda \n",
      "1.344102e+04 2.432569e-02 5.000000e-01 0.000000e+00 1.000000e+00 1.000000e+00 \n",
      "log-likelihood =  -1165.11298294972 \n",
      "         phi        tausq        kappa         psiA         psiR       lambda \n",
      "1.344102e+04 2.432569e-02 5.000000e-01 0.000000e+00 1.000000e+00 1.000000e+00 \n",
      "log-likelihood =  -1165.11301502419 \n",
      "         phi        tausq        kappa         psiA         psiR       lambda \n",
      "1.344102e+04 2.432569e-02 5.000000e-01 0.000000e+00 1.000000e+00 1.000000e+00 \n",
      "log-likelihood =  -1165.11295087523 \n",
      "         phi        tausq        kappa         psiA         psiR       lambda \n",
      "1.344102e+04 2.532569e-02 5.000000e-01 0.000000e+00 1.000000e+00 1.000000e+00 \n",
      "log-likelihood =  -1165.12628022555 \n",
      "         phi        tausq        kappa         psiA         psiR       lambda \n",
      "1.344102e+04 2.332569e-02 5.000000e-01 0.000000e+00 1.000000e+00 1.000000e+00 \n",
      "log-likelihood =  -1165.12631244618 \n",
      "         phi        tausq        kappa         psiA         psiR       lambda \n",
      "1.344102e+04 2.432569e-02 5.000000e-01 0.000000e+00 1.000000e+00 1.000000e+00 \n",
      "log-likelihood =  -1165.1129829497 \n",
      "         phi        tausq        kappa         psiA         psiR       lambda \n",
      "1.344102e+04 2.432569e-02 5.000000e-01 0.000000e+00 1.000000e+00 1.000000e+00 \n",
      "log-likelihood =  -1165.11301502417 \n",
      "         phi        tausq        kappa         psiA         psiR       lambda \n",
      "1.344102e+04 2.432569e-02 5.000000e-01 0.000000e+00 1.000000e+00 1.000000e+00 \n",
      "log-likelihood =  -1165.11295087522 \n",
      "         phi        tausq        kappa         psiA         psiR       lambda \n",
      "1.344102e+04 2.532569e-02 5.000000e-01 0.000000e+00 1.000000e+00 1.000000e+00 \n",
      "log-likelihood =  -1165.12628022554 \n",
      "         phi        tausq        kappa         psiA         psiR       lambda \n",
      "1.344102e+04 2.332569e-02 5.000000e-01 0.000000e+00 1.000000e+00 1.000000e+00 \n",
      "log-likelihood =  -1165.12631244623 \n",
      "         phi        tausq        kappa         psiA         psiR       lambda \n",
      "1.344102e+04 2.432569e-02 5.000000e-01 0.000000e+00 1.000000e+00 1.000000e+00 \n",
      "log-likelihood =  -1165.11298294969 \n",
      "         phi        tausq        kappa         psiA         psiR       lambda \n",
      "1.344102e+04 2.432569e-02 5.000000e-01 0.000000e+00 1.000000e+00 1.000000e+00 \n",
      "log-likelihood =  -1165.11301502419 \n",
      "         phi        tausq        kappa         psiA         psiR       lambda \n",
      "1.344102e+04 2.432569e-02 5.000000e-01 0.000000e+00 1.000000e+00 1.000000e+00 \n",
      "log-likelihood =  -1165.11295087523 \n",
      "         phi        tausq        kappa         psiA         psiR       lambda \n",
      "1.344102e+04 2.532569e-02 5.000000e-01 0.000000e+00 1.000000e+00 1.000000e+00 \n",
      "log-likelihood =  -1165.12628022554 \n",
      "         phi        tausq        kappa         psiA         psiR       lambda \n",
      "1.344102e+04 2.332569e-02 5.000000e-01 0.000000e+00 1.000000e+00 1.000000e+00 \n",
      "log-likelihood =  -1165.12631244619 \n",
      "         phi        tausq        kappa         psiA         psiR       lambda \n",
      "1.344102e+04 2.432569e-02 5.000000e-01 0.000000e+00 1.000000e+00 1.000000e+00 \n",
      "log-likelihood =  -1165.11298294969 \n",
      "         phi        tausq        kappa         psiA         psiR       lambda \n",
      "1.344102e+04 2.432569e-02 5.000000e-01 0.000000e+00 1.000000e+00 1.000000e+00 \n",
      "log-likelihood =  -1165.11301502419 \n",
      "         phi        tausq        kappa         psiA         psiR       lambda \n",
      "1.344102e+04 2.432569e-02 5.000000e-01 0.000000e+00 1.000000e+00 1.000000e+00 \n",
      "log-likelihood =  -1165.11295087523 \n",
      "         phi        tausq        kappa         psiA         psiR       lambda \n",
      "1.344102e+04 2.532569e-02 5.000000e-01 0.000000e+00 1.000000e+00 1.000000e+00 \n",
      "log-likelihood =  -1165.12628022554 \n",
      "         phi        tausq        kappa         psiA         psiR       lambda \n",
      "1.344102e+04 2.332569e-02 5.000000e-01 0.000000e+00 1.000000e+00 1.000000e+00 \n",
      "log-likelihood =  -1165.12631244619 \n",
      "         phi        tausq        kappa         psiA         psiR       lambda \n",
      "1.344102e+04 2.432569e-02 5.000000e-01 0.000000e+00 1.000000e+00 1.000000e+00 \n",
      "log-likelihood =  -1165.11298294971 \n",
      "         phi        tausq        kappa         psiA         psiR       lambda \n",
      "1.344102e+04 2.432569e-02 5.000000e-01 0.000000e+00 1.000000e+00 1.000000e+00 \n",
      "log-likelihood =  -1165.11301502417 \n",
      "         phi        tausq        kappa         psiA         psiR       lambda \n",
      "1.344102e+04 2.432569e-02 5.000000e-01 0.000000e+00 1.000000e+00 1.000000e+00 \n",
      "log-likelihood =  -1165.11295087523 \n",
      "         phi        tausq        kappa         psiA         psiR       lambda \n",
      "1.344102e+04 2.532569e-02 5.000000e-01 0.000000e+00 1.000000e+00 1.000000e+00 \n",
      "log-likelihood =  -1165.12628022553 \n",
      "         phi        tausq        kappa         psiA         psiR       lambda \n",
      "1.344102e+04 2.332569e-02 5.000000e-01 0.000000e+00 1.000000e+00 1.000000e+00 \n",
      "log-likelihood =  -1165.12631244619 \n",
      "         phi        tausq        kappa         psiA         psiR       lambda \n",
      "1.344102e+04 2.432569e-02 5.000000e-01 0.000000e+00 1.000000e+00 1.000000e+00 \n",
      "log-likelihood =  -1165.11298294969 \n",
      "         phi        tausq        kappa         psiA         psiR       lambda \n",
      "1.344102e+04 2.432569e-02 5.000000e-01 0.000000e+00 1.000000e+00 1.000000e+00 \n",
      "log-likelihood =  -1165.11301502419 \n",
      "         phi        tausq        kappa         psiA         psiR       lambda \n",
      "1.344102e+04 2.432569e-02 5.000000e-01 0.000000e+00 1.000000e+00 1.000000e+00 \n",
      "log-likelihood =  -1165.11295087523 \n",
      "         phi        tausq        kappa         psiA         psiR       lambda \n",
      "1.344102e+04 2.532569e-02 5.000000e-01 0.000000e+00 1.000000e+00 1.000000e+00 \n",
      "log-likelihood =  -1165.12628022554 \n",
      "         phi        tausq        kappa         psiA         psiR       lambda \n",
      "1.344102e+04 2.332569e-02 5.000000e-01 0.000000e+00 1.000000e+00 1.000000e+00 \n",
      "log-likelihood =  -1165.12631244619 \n",
      "         phi        tausq        kappa         psiA         psiR       lambda \n",
      "1.344102e+04 2.432569e-02 5.000000e-01 0.000000e+00 1.000000e+00 1.000000e+00 \n",
      "log-likelihood =  -1165.11298294969 \n",
      "         phi        tausq        kappa         psiA         psiR       lambda \n",
      "1.344102e+04 2.432569e-02 5.000000e-01 0.000000e+00 1.000000e+00 1.000000e+00 \n",
      "log-likelihood =  -1165.11301502419 \n",
      "         phi        tausq        kappa         psiA         psiR       lambda \n",
      "1.344102e+04 2.432569e-02 5.000000e-01 0.000000e+00 1.000000e+00 1.000000e+00 \n",
      "log-likelihood =  -1165.11295087523 \n",
      "         phi        tausq        kappa         psiA         psiR       lambda \n",
      "1.344102e+04 2.532569e-02 5.000000e-01 0.000000e+00 1.000000e+00 1.000000e+00 \n",
      "log-likelihood =  -1165.12628022554 \n",
      "         phi        tausq        kappa         psiA         psiR       lambda \n",
      "1.344102e+04 2.332569e-02 5.000000e-01 0.000000e+00 1.000000e+00 1.000000e+00 \n",
      "log-likelihood =  -1165.12631244619 \n",
      "         phi        tausq        kappa         psiA         psiR       lambda \n",
      "1.344102e+04 2.432569e-02 5.000000e-01 0.000000e+00 1.000000e+00 1.000000e+00 \n",
      "log-likelihood =  -1165.11298294969 \n",
      "         phi        tausq        kappa         psiA         psiR       lambda \n",
      "1.344102e+04 2.432569e-02 5.000000e-01 0.000000e+00 1.000000e+00 1.000000e+00 \n",
      "log-likelihood =  -1165.11301502419 \n",
      "         phi        tausq        kappa         psiA         psiR       lambda \n",
      "1.344102e+04 2.432569e-02 5.000000e-01 0.000000e+00 1.000000e+00 1.000000e+00 \n",
      "log-likelihood =  -1165.11295087523 \n",
      "         phi        tausq        kappa         psiA         psiR       lambda \n",
      "1.344102e+04 2.532569e-02 5.000000e-01 0.000000e+00 1.000000e+00 1.000000e+00 \n",
      "log-likelihood =  -1165.12628022553 \n",
      "         phi        tausq        kappa         psiA         psiR       lambda \n",
      "1.344102e+04 2.332569e-02 5.000000e-01 0.000000e+00 1.000000e+00 1.000000e+00 \n",
      "log-likelihood =  -1165.12631244619 \n",
      "         phi        tausq        kappa         psiA         psiR       lambda \n",
      "1.344102e+04 2.432569e-02 5.000000e-01 0.000000e+00 1.000000e+00 1.000000e+00 \n",
      "log-likelihood =  -1165.11298294969 \n",
      "         phi        tausq        kappa         psiA         psiR       lambda \n",
      "1.344102e+04 2.432569e-02 5.000000e-01 0.000000e+00 1.000000e+00 1.000000e+00 \n",
      "log-likelihood =  -1165.11301502419 \n",
      "         phi        tausq        kappa         psiA         psiR       lambda \n",
      "1.344102e+04 2.432569e-02 5.000000e-01 0.000000e+00 1.000000e+00 1.000000e+00 \n",
      "log-likelihood =  -1165.11295087523 \n",
      "         phi        tausq        kappa         psiA         psiR       lambda \n",
      "1.344102e+04 2.532569e-02 5.000000e-01 0.000000e+00 1.000000e+00 1.000000e+00 \n",
      "log-likelihood =  -1165.12628022553 \n",
      "         phi        tausq        kappa         psiA         psiR       lambda \n",
      "1.344102e+04 2.332569e-02 5.000000e-01 0.000000e+00 1.000000e+00 1.000000e+00 \n",
      "log-likelihood =  -1165.12631244619 \n",
      "         phi        tausq        kappa         psiA         psiR       lambda \n",
      "1.344102e+04 2.432569e-02 5.000000e-01 0.000000e+00 1.000000e+00 1.000000e+00 \n",
      "log-likelihood =  -1165.11298294969 \n",
      "         phi        tausq        kappa         psiA         psiR       lambda \n",
      "1.344102e+04 2.432569e-02 5.000000e-01 0.000000e+00 1.000000e+00 1.000000e+00 \n",
      "log-likelihood =  -1165.11301502419 \n",
      "         phi        tausq        kappa         psiA         psiR       lambda \n",
      "1.344102e+04 2.432569e-02 5.000000e-01 0.000000e+00 1.000000e+00 1.000000e+00 \n",
      "log-likelihood =  -1165.11295087523 \n",
      "         phi        tausq        kappa         psiA         psiR       lambda \n",
      "1.344102e+04 2.532569e-02 5.000000e-01 0.000000e+00 1.000000e+00 1.000000e+00 \n",
      "log-likelihood =  -1165.12628022553 \n",
      "         phi        tausq        kappa         psiA         psiR       lambda \n",
      "1.344102e+04 2.332569e-02 5.000000e-01 0.000000e+00 1.000000e+00 1.000000e+00 \n",
      "log-likelihood =  -1165.12631244619 \n",
      "         phi        tausq        kappa         psiA         psiR       lambda \n",
      "1.344102e+04 2.432569e-02 5.000000e-01 0.000000e+00 1.000000e+00 1.000000e+00 \n",
      "log-likelihood =  -1165.11298294969 \n",
      "         phi        tausq        kappa         psiA         psiR       lambda \n",
      "1.344102e+04 2.432569e-02 5.000000e-01 0.000000e+00 1.000000e+00 1.000000e+00 \n",
      "log-likelihood =  -1165.11301502419 \n",
      "         phi        tausq        kappa         psiA         psiR       lambda \n",
      "1.344102e+04 2.432569e-02 5.000000e-01 0.000000e+00 1.000000e+00 1.000000e+00 \n",
      "log-likelihood =  -1165.11295087523 \n",
      "         phi        tausq        kappa         psiA         psiR       lambda \n",
      "1.344102e+04 2.532569e-02 5.000000e-01 0.000000e+00 1.000000e+00 1.000000e+00 \n",
      "log-likelihood =  -1165.12628022553 \n",
      "         phi        tausq        kappa         psiA         psiR       lambda \n",
      "1.344102e+04 2.332569e-02 5.000000e-01 0.000000e+00 1.000000e+00 1.000000e+00 \n",
      "log-likelihood =  -1165.12631244619 \n",
      "         phi        tausq        kappa         psiA         psiR       lambda \n",
      "1.344102e+04 2.432569e-02 5.000000e-01 0.000000e+00 1.000000e+00 1.000000e+00 \n",
      "log-likelihood =  -1165.11298294969 \n",
      "         phi        tausq        kappa         psiA         psiR       lambda \n",
      "1.344102e+04 2.432569e-02 5.000000e-01 0.000000e+00 1.000000e+00 1.000000e+00 \n",
      "log-likelihood =  -1165.11301502419 \n",
      "         phi        tausq        kappa         psiA         psiR       lambda \n",
      "1.344102e+04 2.432569e-02 5.000000e-01 0.000000e+00 1.000000e+00 1.000000e+00 \n",
      "log-likelihood =  -1165.11295087523 \n",
      "         phi        tausq        kappa         psiA         psiR       lambda \n",
      "1.344102e+04 2.532569e-02 5.000000e-01 0.000000e+00 1.000000e+00 1.000000e+00 \n",
      "log-likelihood =  -1165.12628022553 \n",
      "         phi        tausq        kappa         psiA         psiR       lambda \n",
      "1.344102e+04 2.332569e-02 5.000000e-01 0.000000e+00 1.000000e+00 1.000000e+00 \n",
      "log-likelihood =  -1165.12631244619 \n",
      "         phi        tausq        kappa         psiA         psiR       lambda \n",
      "1.344102e+04 2.432569e-02 5.000000e-01 0.000000e+00 1.000000e+00 1.000000e+00 \n",
      "log-likelihood =  -1165.11298294969 \n",
      "         phi        tausq        kappa         psiA         psiR       lambda \n",
      "1.344102e+04 2.432569e-02 5.000000e-01 0.000000e+00 1.000000e+00 1.000000e+00 \n",
      "log-likelihood =  -1165.11301502419 \n",
      "         phi        tausq        kappa         psiA         psiR       lambda \n",
      "1.344102e+04 2.432569e-02 5.000000e-01 0.000000e+00 1.000000e+00 1.000000e+00 \n",
      "log-likelihood =  -1165.11295087523 \n",
      "         phi        tausq        kappa         psiA         psiR       lambda \n",
      "1.344102e+04 2.532569e-02 5.000000e-01 0.000000e+00 1.000000e+00 1.000000e+00 \n",
      "log-likelihood =  -1165.12628022553 \n",
      "         phi        tausq        kappa         psiA         psiR       lambda \n",
      "1.344102e+04 2.332569e-02 5.000000e-01 0.000000e+00 1.000000e+00 1.000000e+00 \n",
      "log-likelihood =  -1165.12631244619 \n",
      "         phi        tausq        kappa         psiA         psiR       lambda \n",
      "1.344102e+04 2.432569e-02 5.000000e-01 0.000000e+00 1.000000e+00 1.000000e+00 \n",
      "log-likelihood =  -1165.11298294969 \n",
      "         phi        tausq        kappa         psiA         psiR       lambda \n",
      "1.344102e+04 2.432569e-02 5.000000e-01 0.000000e+00 1.000000e+00 1.000000e+00 \n",
      "log-likelihood =  -1165.11301502419 \n",
      "         phi        tausq        kappa         psiA         psiR       lambda \n",
      "1.344102e+04 2.432569e-02 5.000000e-01 0.000000e+00 1.000000e+00 1.000000e+00 \n",
      "log-likelihood =  -1165.11295087523 \n",
      "         phi        tausq        kappa         psiA         psiR       lambda \n",
      "1.344102e+04 2.532569e-02 5.000000e-01 0.000000e+00 1.000000e+00 1.000000e+00 \n",
      "log-likelihood =  -1165.12628022553 \n",
      "         phi        tausq        kappa         psiA         psiR       lambda \n",
      "1.344102e+04 2.332569e-02 5.000000e-01 0.000000e+00 1.000000e+00 1.000000e+00 \n",
      "log-likelihood =  -1165.12631244619 \n",
      "         phi        tausq        kappa         psiA         psiR       lambda \n",
      "1.344102e+04 2.432569e-02 5.000000e-01 0.000000e+00 1.000000e+00 1.000000e+00 \n",
      "log-likelihood =  -1165.11298294969 \n",
      "         phi        tausq        kappa         psiA         psiR       lambda \n",
      "1.344102e+04 2.432569e-02 5.000000e-01 0.000000e+00 1.000000e+00 1.000000e+00 \n",
      "log-likelihood =  -1165.11301502419 \n",
      "         phi        tausq        kappa         psiA         psiR       lambda \n",
      "1.344102e+04 2.432569e-02 5.000000e-01 0.000000e+00 1.000000e+00 1.000000e+00 \n",
      "log-likelihood =  -1165.11295087523 \n",
      "         phi        tausq        kappa         psiA         psiR       lambda \n",
      "1.344102e+04 2.532569e-02 5.000000e-01 0.000000e+00 1.000000e+00 1.000000e+00 \n",
      "log-likelihood =  -1165.12628022553 \n",
      "         phi        tausq        kappa         psiA         psiR       lambda \n",
      "1.344102e+04 2.332569e-02 5.000000e-01 0.000000e+00 1.000000e+00 1.000000e+00 \n",
      "log-likelihood =  -1165.12631244619 \n",
      "         phi        tausq        kappa         psiA         psiR       lambda \n",
      "1.344102e+04 2.432569e-02 5.000000e-01 0.000000e+00 1.000000e+00 1.000000e+00 \n",
      "log-likelihood =  -1165.11298294969 \n",
      "         phi        tausq        kappa         psiA         psiR       lambda \n",
      "1.344102e+04 2.432569e-02 5.000000e-01 0.000000e+00 1.000000e+00 1.000000e+00 \n",
      "log-likelihood =  -1165.11301502419 \n",
      "         phi        tausq        kappa         psiA         psiR       lambda \n",
      "1.344102e+04 2.432569e-02 5.000000e-01 0.000000e+00 1.000000e+00 1.000000e+00 \n",
      "log-likelihood =  -1165.11295087523 \n",
      "         phi        tausq        kappa         psiA         psiR       lambda \n",
      "1.344102e+04 2.532569e-02 5.000000e-01 0.000000e+00 1.000000e+00 1.000000e+00 \n",
      "log-likelihood =  -1165.12628022553 \n",
      "         phi        tausq        kappa         psiA         psiR       lambda \n",
      "1.344102e+04 2.332569e-02 5.000000e-01 0.000000e+00 1.000000e+00 1.000000e+00 \n",
      "log-likelihood =  -1165.12631244619 \n",
      "         phi        tausq        kappa         psiA         psiR       lambda \n",
      "1.344099e+04 4.043602e-02 5.000000e-01 0.000000e+00 1.000000e+00 1.000000e+00 \n",
      "log-likelihood =  -1167.14649240984 \n",
      "         phi        tausq        kappa         psiA         psiR       lambda \n",
      "1.344099e+04 4.043602e-02 5.000000e-01 0.000000e+00 1.000000e+00 1.000000e+00 \n",
      "log-likelihood =  -1167.14652719934 \n",
      "         phi        tausq        kappa         psiA         psiR       lambda \n",
      "1.344099e+04 4.043602e-02 5.000000e-01 0.000000e+00 1.000000e+00 1.000000e+00 \n",
      "log-likelihood =  -1167.14645762033 \n",
      "         phi        tausq        kappa         psiA         psiR       lambda \n",
      "1.344099e+04 4.143602e-02 5.000000e-01 0.000000e+00 1.000000e+00 1.000000e+00 \n",
      "log-likelihood =  -1167.3461685813 \n",
      "         phi        tausq        kappa         psiA         psiR       lambda \n",
      "1.344099e+04 3.943602e-02 5.000000e-01 0.000000e+00 1.000000e+00 1.000000e+00 \n",
      "log-likelihood =  -1166.95148733551 \n",
      "         phi        tausq        kappa         psiA         psiR       lambda \n",
      "1.344102e+04 2.432924e-02 5.000000e-01 0.000000e+00 1.000000e+00 1.000000e+00 \n",
      "log-likelihood =  -1165.11298478264 \n",
      "         phi        tausq        kappa         psiA         psiR       lambda \n",
      "1.344102e+04 2.432924e-02 5.000000e-01 0.000000e+00 1.000000e+00 1.000000e+00 \n",
      "log-likelihood =  -1165.11301685801 \n",
      "         phi        tausq        kappa         psiA         psiR       lambda \n",
      "1.344102e+04 2.432924e-02 5.000000e-01 0.000000e+00 1.000000e+00 1.000000e+00 \n",
      "log-likelihood =  -1165.11295270728 \n",
      "         phi        tausq        kappa         psiA         psiR       lambda \n",
      "1.344102e+04 2.532924e-02 5.000000e-01 0.000000e+00 1.000000e+00 1.000000e+00 \n",
      "log-likelihood =  -1165.12637080938 \n",
      "         phi        tausq        kappa         psiA         psiR       lambda \n",
      "1.344102e+04 2.332924e-02 5.000000e-01 0.000000e+00 1.000000e+00 1.000000e+00 \n",
      "log-likelihood =  -1165.12621382439 \n",
      "         phi        tausq        kappa         psiA         psiR       lambda \n",
      "1.344102e+04 2.432578e-02 5.000000e-01 0.000000e+00 1.000000e+00 1.000000e+00 \n",
      "log-likelihood =  -1165.11298299004 \n",
      "         phi        tausq        kappa         psiA         psiR       lambda \n",
      "1.344102e+04 2.432578e-02 5.000000e-01 0.000000e+00 1.000000e+00 1.000000e+00 \n",
      "log-likelihood =  -1165.11301506453 \n",
      "         phi        tausq        kappa         psiA         psiR       lambda \n",
      "1.344102e+04 2.432578e-02 5.000000e-01 0.000000e+00 1.000000e+00 1.000000e+00 \n",
      "log-likelihood =  -1165.11295091555 \n",
      "         phi        tausq        kappa         psiA         psiR       lambda \n",
      "1.344102e+04 2.532578e-02 5.000000e-01 0.000000e+00 1.000000e+00 1.000000e+00 \n",
      "log-likelihood =  -1165.1262824102 \n",
      "         phi        tausq        kappa         psiA         psiR       lambda \n",
      "1.344102e+04 2.332578e-02 5.000000e-01 0.000000e+00 1.000000e+00 1.000000e+00 \n",
      "log-likelihood =  -1165.1263100594 \n",
      "         phi        tausq        kappa         psiA         psiR       lambda \n",
      "1.344102e+04 2.432569e-02 5.000000e-01 0.000000e+00 1.000000e+00 1.000000e+00 \n",
      "log-likelihood =  -1165.11298295069 \n",
      "         phi        tausq        kappa         psiA         psiR       lambda \n",
      "1.344102e+04 2.432569e-02 5.000000e-01 0.000000e+00 1.000000e+00 1.000000e+00 \n",
      "log-likelihood =  -1165.11301502518 \n",
      "         phi        tausq        kappa         psiA         psiR       lambda \n",
      "1.344102e+04 2.432569e-02 5.000000e-01 0.000000e+00 1.000000e+00 1.000000e+00 \n",
      "log-likelihood =  -1165.11295087623 \n",
      "         phi        tausq        kappa         psiA         psiR       lambda \n",
      "1.344102e+04 2.532569e-02 5.000000e-01 0.000000e+00 1.000000e+00 1.000000e+00 \n",
      "log-likelihood =  -1165.12628027982 \n",
      "         phi        tausq        kappa         psiA         psiR       lambda \n",
      "1.344102e+04 2.332569e-02 5.000000e-01 0.000000e+00 1.000000e+00 1.000000e+00 \n",
      "log-likelihood =  -1165.12631238688 \n",
      "         phi        tausq        kappa         psiA         psiR       lambda \n",
      "1.344102e+04 2.432569e-02 5.000000e-01 0.000000e+00 1.000000e+00 1.000000e+00 \n",
      "log-likelihood =  -1165.11298294972 \n",
      "         phi        tausq        kappa         psiA         psiR       lambda \n",
      "1.344102e+04 2.432569e-02 5.000000e-01 0.000000e+00 1.000000e+00 1.000000e+00 \n",
      "log-likelihood =  -1165.1130150242 \n",
      "         phi        tausq        kappa         psiA         psiR       lambda \n",
      "1.344102e+04 2.432569e-02 5.000000e-01 0.000000e+00 1.000000e+00 1.000000e+00 \n",
      "log-likelihood =  -1165.11295087526 \n",
      "         phi        tausq        kappa         psiA         psiR       lambda \n",
      "1.344102e+04 2.532569e-02 5.000000e-01 0.000000e+00 1.000000e+00 1.000000e+00 \n",
      "log-likelihood =  -1165.12628022687 \n",
      "         phi        tausq        kappa         psiA         psiR       lambda \n",
      "1.344102e+04 2.332569e-02 5.000000e-01 0.000000e+00 1.000000e+00 1.000000e+00 \n",
      "log-likelihood =  -1165.12631244471 \n",
      "         phi        tausq        kappa         psiA         psiR       lambda \n",
      "1.344102e+04 2.432569e-02 5.000000e-01 0.000000e+00 1.000000e+00 1.000000e+00 \n",
      "log-likelihood =  -1165.1129829497 \n",
      "         phi        tausq        kappa         psiA         psiR       lambda \n",
      "1.344102e+04 2.432569e-02 5.000000e-01 0.000000e+00 1.000000e+00 1.000000e+00 \n",
      "log-likelihood =  -1165.11301502419 \n",
      "         phi        tausq        kappa         psiA         psiR       lambda \n",
      "1.344102e+04 2.432569e-02 5.000000e-01 0.000000e+00 1.000000e+00 1.000000e+00 \n",
      "log-likelihood =  -1165.11295087524 \n",
      "         phi        tausq        kappa         psiA         psiR       lambda \n",
      "1.344102e+04 2.532569e-02 5.000000e-01 0.000000e+00 1.000000e+00 1.000000e+00 \n",
      "log-likelihood =  -1165.12628022555 \n",
      "         phi        tausq        kappa         psiA         psiR       lambda \n",
      "1.344102e+04 2.332569e-02 5.000000e-01 0.000000e+00 1.000000e+00 1.000000e+00 \n",
      "log-likelihood =  -1165.12631244616 \n",
      "         phi        tausq        kappa         psiA         psiR       lambda \n",
      "1.344102e+04 2.432569e-02 5.000000e-01 0.000000e+00 1.000000e+00 1.000000e+00 \n",
      "log-likelihood =  -1165.11298294972 \n",
      "         phi        tausq        kappa         psiA         psiR       lambda \n",
      "1.344102e+04 2.432569e-02 5.000000e-01 0.000000e+00 1.000000e+00 1.000000e+00 \n",
      "log-likelihood =  -1165.11301502417 \n",
      "         phi        tausq        kappa         psiA         psiR       lambda \n",
      "1.344102e+04 2.432569e-02 5.000000e-01 0.000000e+00 1.000000e+00 1.000000e+00 \n",
      "log-likelihood =  -1165.11295087523 \n",
      "         phi        tausq        kappa         psiA         psiR       lambda \n",
      "1.344102e+04 2.532569e-02 5.000000e-01 0.000000e+00 1.000000e+00 1.000000e+00 \n",
      "log-likelihood =  -1165.12628022553 \n",
      "         phi        tausq        kappa         psiA         psiR       lambda \n",
      "1.344102e+04 2.332569e-02 5.000000e-01 0.000000e+00 1.000000e+00 1.000000e+00 \n",
      "log-likelihood =  -1165.1263124462 \n",
      "         phi        tausq        kappa         psiA         psiR       lambda \n",
      "1.344102e+04 2.432569e-02 5.000000e-01 0.000000e+00 1.000000e+00 1.000000e+00 \n",
      "log-likelihood =  -1165.11298294969 \n",
      "         phi        tausq        kappa         psiA         psiR       lambda \n",
      "1.344102e+04 2.432569e-02 5.000000e-01 0.000000e+00 1.000000e+00 1.000000e+00 \n",
      "log-likelihood =  -1165.11301502419 \n",
      "         phi        tausq        kappa         psiA         psiR       lambda \n",
      "1.344102e+04 2.432569e-02 5.000000e-01 0.000000e+00 1.000000e+00 1.000000e+00 \n",
      "log-likelihood =  -1165.11295087523 \n",
      "         phi        tausq        kappa         psiA         psiR       lambda \n",
      "1.344102e+04 2.532569e-02 5.000000e-01 0.000000e+00 1.000000e+00 1.000000e+00 \n",
      "log-likelihood =  -1165.12628022554 \n",
      "         phi        tausq        kappa         psiA         psiR       lambda \n",
      "1.344102e+04 2.332569e-02 5.000000e-01 0.000000e+00 1.000000e+00 1.000000e+00 \n",
      "log-likelihood =  -1165.12631244619 \n",
      "         phi        tausq        kappa         psiA         psiR       lambda \n",
      "1.344102e+04 2.432569e-02 5.000000e-01 0.000000e+00 1.000000e+00 1.000000e+00 \n",
      "log-likelihood =  -1165.11298294969 \n",
      "         phi        tausq        kappa         psiA         psiR       lambda \n",
      "1.344102e+04 2.432569e-02 5.000000e-01 0.000000e+00 1.000000e+00 1.000000e+00 \n",
      "log-likelihood =  -1165.11301502419 \n",
      "         phi        tausq        kappa         psiA         psiR       lambda \n",
      "1.344102e+04 2.432569e-02 5.000000e-01 0.000000e+00 1.000000e+00 1.000000e+00 \n",
      "log-likelihood =  -1165.11295087523 \n",
      "         phi        tausq        kappa         psiA         psiR       lambda \n",
      "1.344102e+04 2.532569e-02 5.000000e-01 0.000000e+00 1.000000e+00 1.000000e+00 \n",
      "log-likelihood =  -1165.12628022554 \n",
      "         phi        tausq        kappa         psiA         psiR       lambda \n",
      "1.344102e+04 2.332569e-02 5.000000e-01 0.000000e+00 1.000000e+00 1.000000e+00 \n",
      "log-likelihood =  -1165.12631244619 \n",
      "         phi        tausq        kappa         psiA         psiR       lambda \n",
      "1.344102e+04 2.432569e-02 5.000000e-01 0.000000e+00 1.000000e+00 1.000000e+00 \n",
      "log-likelihood =  -1165.11298294971 \n",
      "         phi        tausq        kappa         psiA         psiR       lambda \n",
      "1.344102e+04 2.432569e-02 5.000000e-01 0.000000e+00 1.000000e+00 1.000000e+00 \n",
      "log-likelihood =  -1165.11301502419 \n",
      "         phi        tausq        kappa         psiA         psiR       lambda \n",
      "1.344102e+04 2.432569e-02 5.000000e-01 0.000000e+00 1.000000e+00 1.000000e+00 \n",
      "log-likelihood =  -1165.11295087522 \n",
      "         phi        tausq        kappa         psiA         psiR       lambda \n",
      "1.344102e+04 2.532569e-02 5.000000e-01 0.000000e+00 1.000000e+00 1.000000e+00 \n",
      "log-likelihood =  -1165.12628022554 \n",
      "         phi        tausq        kappa         psiA         psiR       lambda \n",
      "1.344102e+04 2.332569e-02 5.000000e-01 0.000000e+00 1.000000e+00 1.000000e+00 \n",
      "log-likelihood =  -1165.12631244621 \n",
      "         phi        tausq        kappa         psiA         psiR       lambda \n",
      "1.344102e+04 2.432569e-02 5.000000e-01 0.000000e+00 1.000000e+00 1.000000e+00 \n",
      "log-likelihood =  -1165.11298294969 \n",
      "         phi        tausq        kappa         psiA         psiR       lambda \n",
      "1.344102e+04 2.432569e-02 5.000000e-01 0.000000e+00 1.000000e+00 1.000000e+00 \n",
      "log-likelihood =  -1165.11301502419 \n",
      "         phi        tausq        kappa         psiA         psiR       lambda \n",
      "1.344102e+04 2.432569e-02 5.000000e-01 0.000000e+00 1.000000e+00 1.000000e+00 \n",
      "log-likelihood =  -1165.11295087523 \n",
      "         phi        tausq        kappa         psiA         psiR       lambda \n",
      "1.344102e+04 2.532569e-02 5.000000e-01 0.000000e+00 1.000000e+00 1.000000e+00 \n",
      "log-likelihood =  -1165.12628022554 \n",
      "         phi        tausq        kappa         psiA         psiR       lambda \n",
      "1.344102e+04 2.332569e-02 5.000000e-01 0.000000e+00 1.000000e+00 1.000000e+00 \n",
      "log-likelihood =  -1165.12631244619 \n",
      "         phi        tausq        kappa         psiA         psiR       lambda \n",
      "1.344102e+04 2.432569e-02 5.000000e-01 0.000000e+00 1.000000e+00 1.000000e+00 \n",
      "log-likelihood =  -1165.11298294969 \n",
      "         phi        tausq        kappa         psiA         psiR       lambda \n",
      "1.344102e+04 2.432569e-02 5.000000e-01 0.000000e+00 1.000000e+00 1.000000e+00 \n",
      "log-likelihood =  -1165.11301502419 \n",
      "         phi        tausq        kappa         psiA         psiR       lambda \n",
      "1.344102e+04 2.432569e-02 5.000000e-01 0.000000e+00 1.000000e+00 1.000000e+00 \n",
      "log-likelihood =  -1165.11295087523 \n",
      "         phi        tausq        kappa         psiA         psiR       lambda \n",
      "1.344102e+04 2.532569e-02 5.000000e-01 0.000000e+00 1.000000e+00 1.000000e+00 \n",
      "log-likelihood =  -1165.12628022554 \n",
      "         phi        tausq        kappa         psiA         psiR       lambda \n",
      "1.344102e+04 2.332569e-02 5.000000e-01 0.000000e+00 1.000000e+00 1.000000e+00 \n",
      "log-likelihood =  -1165.12631244619 \n",
      "         phi        tausq        kappa         psiA         psiR       lambda \n",
      "1.344102e+04 2.432569e-02 5.000000e-01 0.000000e+00 1.000000e+00 1.000000e+00 \n",
      "log-likelihood =  -1165.11298294971 \n",
      "         phi        tausq        kappa         psiA         psiR       lambda \n",
      "1.344102e+04 2.432569e-02 5.000000e-01 0.000000e+00 1.000000e+00 1.000000e+00 \n",
      "log-likelihood =  -1165.11301502417 \n",
      "         phi        tausq        kappa         psiA         psiR       lambda \n",
      "1.344102e+04 2.432569e-02 5.000000e-01 0.000000e+00 1.000000e+00 1.000000e+00 \n",
      "log-likelihood =  -1165.11295087522 \n",
      "         phi        tausq        kappa         psiA         psiR       lambda \n",
      "1.344102e+04 2.532569e-02 5.000000e-01 0.000000e+00 1.000000e+00 1.000000e+00 \n",
      "log-likelihood =  -1165.12628022553 \n",
      "         phi        tausq        kappa         psiA         psiR       lambda \n",
      "1.344102e+04 2.332569e-02 5.000000e-01 0.000000e+00 1.000000e+00 1.000000e+00 \n",
      "log-likelihood =  -1165.1263124462 \n",
      "         phi        tausq        kappa         psiA         psiR       lambda \n",
      "1.344102e+04 2.432569e-02 5.000000e-01 0.000000e+00 1.000000e+00 1.000000e+00 \n",
      "log-likelihood =  -1165.11298294969 \n",
      "         phi        tausq        kappa         psiA         psiR       lambda \n",
      "1.344102e+04 2.432569e-02 5.000000e-01 0.000000e+00 1.000000e+00 1.000000e+00 \n",
      "log-likelihood =  -1165.11301502419 \n",
      "         phi        tausq        kappa         psiA         psiR       lambda \n",
      "1.344102e+04 2.432569e-02 5.000000e-01 0.000000e+00 1.000000e+00 1.000000e+00 \n",
      "log-likelihood =  -1165.11295087523 \n",
      "         phi        tausq        kappa         psiA         psiR       lambda \n",
      "1.344102e+04 2.532569e-02 5.000000e-01 0.000000e+00 1.000000e+00 1.000000e+00 \n",
      "log-likelihood =  -1165.12628022554 \n",
      "         phi        tausq        kappa         psiA         psiR       lambda \n",
      "1.344102e+04 2.332569e-02 5.000000e-01 0.000000e+00 1.000000e+00 1.000000e+00 \n",
      "log-likelihood =  -1165.12631244619 \n",
      "         phi        tausq        kappa         psiA         psiR       lambda \n",
      "1.344102e+04 2.432569e-02 5.000000e-01 0.000000e+00 1.000000e+00 1.000000e+00 \n",
      "log-likelihood =  -1165.11298294969 \n",
      "         phi        tausq        kappa         psiA         psiR       lambda \n",
      "1.344102e+04 2.432569e-02 5.000000e-01 0.000000e+00 1.000000e+00 1.000000e+00 \n",
      "log-likelihood =  -1165.11301502419 \n",
      "         phi        tausq        kappa         psiA         psiR       lambda \n",
      "1.344102e+04 2.432569e-02 5.000000e-01 0.000000e+00 1.000000e+00 1.000000e+00 \n",
      "log-likelihood =  -1165.11295087523 \n",
      "         phi        tausq        kappa         psiA         psiR       lambda \n",
      "1.344102e+04 2.532569e-02 5.000000e-01 0.000000e+00 1.000000e+00 1.000000e+00 \n",
      "log-likelihood =  -1165.12628022554 \n",
      "         phi        tausq        kappa         psiA         psiR       lambda \n",
      "1.344102e+04 2.332569e-02 5.000000e-01 0.000000e+00 1.000000e+00 1.000000e+00 \n",
      "log-likelihood =  -1165.12631244619 \n",
      "         phi        tausq        kappa         psiA         psiR       lambda \n",
      "1.344102e+04 2.432569e-02 5.000000e-01 0.000000e+00 1.000000e+00 1.000000e+00 \n",
      "log-likelihood =  -1165.1129829497 \n",
      "         phi        tausq        kappa         psiA         psiR       lambda \n",
      "1.344102e+04 2.432569e-02 5.000000e-01 0.000000e+00 1.000000e+00 1.000000e+00 \n",
      "log-likelihood =  -1165.11301502418 \n",
      "         phi        tausq        kappa         psiA         psiR       lambda \n",
      "1.344102e+04 2.432569e-02 5.000000e-01 0.000000e+00 1.000000e+00 1.000000e+00 \n",
      "log-likelihood =  -1165.11295087523 \n",
      "         phi        tausq        kappa         psiA         psiR       lambda \n",
      "1.344102e+04 2.532569e-02 5.000000e-01 0.000000e+00 1.000000e+00 1.000000e+00 \n",
      "log-likelihood =  -1165.12628022553 \n",
      "         phi        tausq        kappa         psiA         psiR       lambda \n",
      "1.344102e+04 2.332569e-02 5.000000e-01 0.000000e+00 1.000000e+00 1.000000e+00 \n",
      "log-likelihood =  -1165.1263124462 \n",
      "         phi        tausq        kappa         psiA         psiR       lambda \n",
      "1.344102e+04 2.432569e-02 5.000000e-01 0.000000e+00 1.000000e+00 1.000000e+00 \n",
      "log-likelihood =  -1165.11298294969 \n",
      "         phi        tausq        kappa         psiA         psiR       lambda \n",
      "1.344102e+04 2.432569e-02 5.000000e-01 0.000000e+00 1.000000e+00 1.000000e+00 \n",
      "log-likelihood =  -1165.11301502419 \n",
      "         phi        tausq        kappa         psiA         psiR       lambda \n",
      "1.344102e+04 2.432569e-02 5.000000e-01 0.000000e+00 1.000000e+00 1.000000e+00 \n",
      "log-likelihood =  -1165.11295087523 \n",
      "         phi        tausq        kappa         psiA         psiR       lambda \n",
      "1.344102e+04 2.532569e-02 5.000000e-01 0.000000e+00 1.000000e+00 1.000000e+00 \n",
      "log-likelihood =  -1165.12628022554 \n",
      "         phi        tausq        kappa         psiA         psiR       lambda \n",
      "1.344102e+04 2.332569e-02 5.000000e-01 0.000000e+00 1.000000e+00 1.000000e+00 \n",
      "log-likelihood =  -1165.12631244619 \n",
      "         phi        tausq        kappa         psiA         psiR       lambda \n",
      "1.344102e+04 2.432569e-02 5.000000e-01 0.000000e+00 1.000000e+00 1.000000e+00 \n",
      "log-likelihood =  -1165.11298294969 \n",
      "         phi        tausq        kappa         psiA         psiR       lambda \n",
      "1.344102e+04 2.432569e-02 5.000000e-01 0.000000e+00 1.000000e+00 1.000000e+00 \n",
      "log-likelihood =  -1165.11301502419 \n",
      "         phi        tausq        kappa         psiA         psiR       lambda \n",
      "1.344102e+04 2.432569e-02 5.000000e-01 0.000000e+00 1.000000e+00 1.000000e+00 \n",
      "log-likelihood =  -1165.11295087523 \n",
      "         phi        tausq        kappa         psiA         psiR       lambda \n",
      "1.344102e+04 2.532569e-02 5.000000e-01 0.000000e+00 1.000000e+00 1.000000e+00 \n",
      "log-likelihood =  -1165.12628022554 \n",
      "         phi        tausq        kappa         psiA         psiR       lambda \n",
      "1.344102e+04 2.332569e-02 5.000000e-01 0.000000e+00 1.000000e+00 1.000000e+00 \n",
      "log-likelihood =  -1165.12631244619 \n",
      "         phi        tausq        kappa         psiA         psiR       lambda \n",
      "1.344102e+04 2.432569e-02 5.000000e-01 0.000000e+00 1.000000e+00 1.000000e+00 \n",
      "log-likelihood =  -1165.1129829497 \n",
      "         phi        tausq        kappa         psiA         psiR       lambda \n",
      "1.344102e+04 2.432569e-02 5.000000e-01 0.000000e+00 1.000000e+00 1.000000e+00 \n",
      "log-likelihood =  -1165.11301502415 \n",
      "         phi        tausq        kappa         psiA         psiR       lambda \n",
      "1.344102e+04 2.432569e-02 5.000000e-01 0.000000e+00 1.000000e+00 1.000000e+00 \n",
      "log-likelihood =  -1165.11295087522 \n",
      "         phi        tausq        kappa         psiA         psiR       lambda \n",
      "1.344102e+04 2.532569e-02 5.000000e-01 0.000000e+00 1.000000e+00 1.000000e+00 \n",
      "log-likelihood =  -1165.12628022553 \n",
      "         phi        tausq        kappa         psiA         psiR       lambda \n",
      "1.344102e+04 2.332569e-02 5.000000e-01 0.000000e+00 1.000000e+00 1.000000e+00 \n",
      "log-likelihood =  -1165.12631244621 \n",
      "         phi        tausq        kappa         psiA         psiR       lambda \n",
      "1.344102e+04 2.432569e-02 5.000000e-01 0.000000e+00 1.000000e+00 1.000000e+00 \n",
      "log-likelihood =  -1165.11298294969 \n",
      "         phi        tausq        kappa         psiA         psiR       lambda \n",
      "1.344102e+04 2.432569e-02 5.000000e-01 0.000000e+00 1.000000e+00 1.000000e+00 \n",
      "log-likelihood =  -1165.11301502419 \n",
      "         phi        tausq        kappa         psiA         psiR       lambda \n",
      "1.344102e+04 2.432569e-02 5.000000e-01 0.000000e+00 1.000000e+00 1.000000e+00 \n",
      "log-likelihood =  -1165.11295087523 \n",
      "         phi        tausq        kappa         psiA         psiR       lambda \n",
      "1.344102e+04 2.532569e-02 5.000000e-01 0.000000e+00 1.000000e+00 1.000000e+00 \n",
      "log-likelihood =  -1165.12628022554 \n",
      "         phi        tausq        kappa         psiA         psiR       lambda \n",
      "1.344102e+04 2.332569e-02 5.000000e-01 0.000000e+00 1.000000e+00 1.000000e+00 \n",
      "log-likelihood =  -1165.12631244619 \n",
      "likfit: end of numerical maximisation.\n"
     ]
    }
   ],
   "source": [
    "Tucson.likfit = likfit(recent_geodata, \n",
    "    trend=\"cte\", \n",
    "    ini.cov.pars=Tucson.variog.fit$cov.pars, \n",
    "    nugget=Tucson.variog.fit$nugget,\n",
    "    cov.model=\"gaussian\",\n",
    "    print.pars=TRUE,\n",
    "    realisations=TRUE,\n",
    "    messages=TRUE,\n",
    "    lik.method=\"ML\",\n",
    "    limits=pars.limits(phi=c(500,20000), tausq=c(0.01,0.2), sigmasq=c(0.1,0.3)),\n",
    "    )"
   ]
  },
  {
   "cell_type": "code",
   "execution_count": 35,
   "metadata": {
    "collapsed": false
   },
   "outputs": [
    {
     "data": {
      "text/html": [
       "<ol class=list-inline>\n",
       "\t<li>3.45262201115185</li>\n",
       "\t<li>13441.0191761461</li>\n",
       "</ol>\n"
      ],
      "text/latex": [
       "\\begin{enumerate*}\n",
       "\\item 3.45262201115185\n",
       "\\item 13441.0191761461\n",
       "\\end{enumerate*}\n"
      ],
      "text/markdown": [
       "1. 3.45262201115185\n",
       "2. 13441.0191761461\n",
       "\n",
       "\n"
      ],
      "text/plain": [
       "[1]     3.452622 13441.019176"
      ]
     },
     "metadata": {},
     "output_type": "display_data"
    }
   ],
   "source": [
    "Tucson.likfit$cov.pars"
   ]
  },
  {
   "cell_type": "code",
   "execution_count": 36,
   "metadata": {
    "collapsed": false
   },
   "outputs": [
    {
     "data": {
      "text/html": [
       "<ol class=list-inline>\n",
       "\t<li>3.45262201115185</li>\n",
       "\t<li>13441.0191761461</li>\n",
       "</ol>\n"
      ],
      "text/latex": [
       "\\begin{enumerate*}\n",
       "\\item 3.45262201115185\n",
       "\\item 13441.0191761461\n",
       "\\end{enumerate*}\n"
      ],
      "text/markdown": [
       "1. 3.45262201115185\n",
       "2. 13441.0191761461\n",
       "\n",
       "\n"
      ],
      "text/plain": [
       "[1]     3.452622 13441.019176"
      ]
     },
     "metadata": {},
     "output_type": "display_data"
    }
   ],
   "source": [
    "Tucson.likfit$cov.pars"
   ]
  },
  {
   "cell_type": "code",
   "execution_count": 37,
   "metadata": {
    "collapsed": false
   },
   "outputs": [
    {
     "data": {
      "image/png": "[encoded data removed]",
      "text/plain": [
       "Plot with title “Variogram”"
      ]
     },
     "metadata": {},
     "output_type": "display_data"
    }
   ],
   "source": [
    "plot(Tucson.variog, main=\"Variogram\", ylim=c(0,1.0))\n",
    "lines(Tucson.variog.fit, col=\"red\")\n",
    "lines(Tucson.cressie.fit, col=\"dark green\")\n",
    "lines(Tucson.likfit, col=\"dark blue\")"
   ]
  },
  {
   "cell_type": "markdown",
   "metadata": {},
   "source": [
    "The final log-likelihood isn't as high as what we found using the Julia optimization routine, and the fitted value for $\\sigma_f^2$ is ridiculous. The result doesn't fit the variogram at all.\n",
    "\n",
    "## Full Bayesian"
   ]
  },
  {
   "cell_type": "code",
   "execution_count": null,
   "metadata": {
    "collapsed": false
   },
   "outputs": [],
   "source": [
    "tausq.rel.variogfit = Tucson.variog.fit$cov.pars[1] / Tucson.variog.fit$nugget\n",
    "Tucson.bayes = krige.bayes(Tucson_geodata, \n",
    "    model = model.control(\n",
    "        cov.model=\"gaussian\",\n",
    "        trend.d=\"cte\",\n",
    "        ),\n",
    "    locations=\"no\",\n",
    "    prior = prior.control(\n",
    "        phi.discrete=seq(Tucson.variog.fit$cov.pars[2]*0.9, Tucson.variog.fit$cov.pars[2]*1.1, length.out=11),\n",
    "        phi.prior=\"reciprocal\",\n",
    "        sigmasq.prior=\"reciprocal\",\n",
    "        tausq.rel.prior=\"uniform\",\n",
    "        tausq.rel.discrete=seq(tausq.rel.variogfit*0.5, tausq.rel.variogfit*2.0, length.out=31)\n",
    "        )\n",
    ")"
   ]
  },
  {
   "cell_type": "code",
   "execution_count": null,
   "metadata": {
    "collapsed": false
   },
   "outputs": [],
   "source": [
    "plot(Tucson.variog, main=\"Variogram\", ylim=c(0,0.3))\n",
    "lines(Tucson.variog.fit, col=\"red\")\n",
    "lines(Tucson.likfit, col=\"dark blue\")\n",
    "lines(Tucson.bayes, summary.posterior=mean, col=\"orange\") # posterior mean"
   ]
  },
  {
   "cell_type": "markdown",
   "metadata": {},
   "source": [
    "The fitted Bayesian variogram (orange) is somewhere halfway between the MLE (blue) and the least squares fit (red). Having read a bit of Diggle's \"Model-based Geostatistics\", I now believe that maybe the poor variogram fit at high distances is not as big a problem as I thought. The MLE automatically attributes more weight to short distances, which is what we're seeing here.\n",
    "\n",
    "There might also be some model misspecification here. The model is struggling to fit the zero-distance point, as well as the longer-range correlations. Perhaps a different kernel could be tried and would give better results."
   ]
  }
 ],
 "metadata": {
  "kernelspec": {
   "display_name": "R",
   "language": "R",
   "name": "ir"
  },
  "language_info": {
   "codemirror_mode": "r",
   "file_extension": ".r",
   "mimetype": "text/x-r-source",
   "name": "R",
   "pygments_lexer": "r",
   "version": "3.3.0"
  },
  "toc": {
   "toc_cell": true,
   "toc_number_sections": true,
   "toc_threshold": 6,
   "toc_window_display": false
  }
 },
 "nbformat": 4,
 "nbformat_minor": 0
}

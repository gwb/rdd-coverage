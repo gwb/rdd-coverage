{
 "cells": [
  {
   "cell_type": "markdown",
   "metadata": {
    "toc": "true"
   },
   "source": [
    "# Table of Contents\n",
    " <p><div class=\"lev1 toc-item\"><a href=\"#Introduction\" data-toc-modified-id=\"Introduction-1\"><span class=\"toc-item-num\">1&nbsp;&nbsp;</span>Introduction</a></div><div class=\"lev1 toc-item\"><a href=\"#Model-Specification\" data-toc-modified-id=\"Model-Specification-2\"><span class=\"toc-item-num\">2&nbsp;&nbsp;</span>Model Specification</a></div><div class=\"lev2 toc-item\"><a href=\"#Notation\" data-toc-modified-id=\"Notation-21\"><span class=\"toc-item-num\">2.1&nbsp;&nbsp;</span>Notation</a></div><div class=\"lev2 toc-item\"><a href=\"#1GP-solution\" data-toc-modified-id=\"1GP-solution-22\"><span class=\"toc-item-num\">2.2&nbsp;&nbsp;</span>1GP solution</a></div><div class=\"lev2 toc-item\"><a href=\"#2GP-solution\" data-toc-modified-id=\"2GP-solution-23\"><span class=\"toc-item-num\">2.3&nbsp;&nbsp;</span>2GP solution</a></div><div class=\"lev2 toc-item\"><a href=\"#Discussion\" data-toc-modified-id=\"Discussion-24\"><span class=\"toc-item-num\">2.4&nbsp;&nbsp;</span>Discussion</a></div><div class=\"lev1 toc-item\"><a href=\"#Inference\" data-toc-modified-id=\"Inference-3\"><span class=\"toc-item-num\">3&nbsp;&nbsp;</span>Inference</a></div><div class=\"lev2 toc-item\"><a href=\"#1GP\" data-toc-modified-id=\"1GP-31\"><span class=\"toc-item-num\">3.1&nbsp;&nbsp;</span>1GP</a></div><div class=\"lev2 toc-item\"><a href=\"#2GP\" data-toc-modified-id=\"2GP-32\"><span class=\"toc-item-num\">3.2&nbsp;&nbsp;</span>2GP</a></div><div class=\"lev1 toc-item\"><a href=\"#Handling-covariates\" data-toc-modified-id=\"Handling-covariates-4\"><span class=\"toc-item-num\">4&nbsp;&nbsp;</span>Handling covariates</a></div><div class=\"lev1 toc-item\"><a href=\"#Average-Treatment-Effect\" data-toc-modified-id=\"Average-Treatment-Effect-5\"><span class=\"toc-item-num\">5&nbsp;&nbsp;</span>Average Treatment Effect</a></div><div class=\"lev1 toc-item\"><a href=\"#2GP:-Testing-for-non-zero-effect\" data-toc-modified-id=\"2GP:-Testing-for-non-zero-effect-6\"><span class=\"toc-item-num\">6&nbsp;&nbsp;</span>2GP: Testing for non-zero effect</a></div><div class=\"lev2 toc-item\"><a href=\"#Using-the-inverse-variance-weighted-mean-treatment-effect-posterior-to-test-the-weak-null-hypothesis\" data-toc-modified-id=\"Using-the-inverse-variance-weighted-mean-treatment-effect-posterior-to-test-the-weak-null-hypothesis-61\"><span class=\"toc-item-num\">6.1&nbsp;&nbsp;</span>Using the inverse-variance weighted mean treatment effect posterior to test the weak null hypothesis</a></div><div class=\"lev2 toc-item\"><a href=\"#Likelihood-based-sharp-null-test\" data-toc-modified-id=\"Likelihood-based-sharp-null-test-62\"><span class=\"toc-item-num\">6.2&nbsp;&nbsp;</span>Likelihood-based sharp null test</a></div><div class=\"lev2 toc-item\"><a href=\"#chi^2-test-for-the-sharp-null\" data-toc-modified-id=\"chi^2-test-for-the-sharp-null-63\"><span class=\"toc-item-num\">6.3&nbsp;&nbsp;</span>$\\chi^2$ test for the sharp null</a></div><div class=\"lev2 toc-item\"><a href=\"#Power-in-simulated-example\" data-toc-modified-id=\"Power-in-simulated-example-64\"><span class=\"toc-item-num\">6.4&nbsp;&nbsp;</span>Power in simulated example</a></div><div class=\"lev2 toc-item\"><a href=\"#Placebo-tests\" data-toc-modified-id=\"Placebo-tests-65\"><span class=\"toc-item-num\">6.5&nbsp;&nbsp;</span>Placebo tests</a></div><div class=\"lev1 toc-item\"><a href=\"#Spatial-advantage\" data-toc-modified-id=\"Spatial-advantage-7\"><span class=\"toc-item-num\">7&nbsp;&nbsp;</span>Spatial advantage</a></div><div class=\"lev1 toc-item\"><a href=\"#Example:-NYC-school-districts\" data-toc-modified-id=\"Example:-NYC-school-districts-8\"><span class=\"toc-item-num\">8&nbsp;&nbsp;</span>Example: NYC school districts</a></div><div class=\"lev2 toc-item\"><a href=\"#Preprocessing\" data-toc-modified-id=\"Preprocessing-81\"><span class=\"toc-item-num\">8.1&nbsp;&nbsp;</span>Preprocessing</a></div><div class=\"lev2 toc-item\"><a href=\"#Exploratory-analysis\" data-toc-modified-id=\"Exploratory-analysis-82\"><span class=\"toc-item-num\">8.2&nbsp;&nbsp;</span>Exploratory analysis</a></div><div class=\"lev2 toc-item\"><a href=\"#Model-for-property-prices\" data-toc-modified-id=\"Model-for-property-prices-83\"><span class=\"toc-item-num\">8.3&nbsp;&nbsp;</span>Model for property prices</a></div><div class=\"lev2 toc-item\"><a href=\"#parameter-optimization\" data-toc-modified-id=\"parameter-optimization-84\"><span class=\"toc-item-num\">8.4&nbsp;&nbsp;</span>parameter optimization</a></div><div class=\"lev2 toc-item\"><a href=\"#cliff-face\" data-toc-modified-id=\"cliff-face-85\"><span class=\"toc-item-num\">8.5&nbsp;&nbsp;</span>cliff face</a></div><div class=\"lev2 toc-item\"><a href=\"#Average-Log-Price-Increase\" data-toc-modified-id=\"Average-Log-Price-Increase-86\"><span class=\"toc-item-num\">8.6&nbsp;&nbsp;</span>Average Log-Price Increase</a></div><div class=\"lev2 toc-item\"><a href=\"#Significant-Difference-in-Price?\" data-toc-modified-id=\"Significant-Difference-in-Price?-87\"><span class=\"toc-item-num\">8.7&nbsp;&nbsp;</span>Significant Difference in Price?</a></div><div class=\"lev3 toc-item\"><a href=\"#placebo-tests\" data-toc-modified-id=\"placebo-tests-871\"><span class=\"toc-item-num\">8.7.1&nbsp;&nbsp;</span>placebo tests</a></div><div class=\"lev2 toc-item\"><a href=\"#pairwise-treatment-effect-(all-districts)\" data-toc-modified-id=\"pairwise-treatment-effect-(all-districts)-88\"><span class=\"toc-item-num\">8.8&nbsp;&nbsp;</span>pairwise treatment effect (all districts)</a></div><div class=\"lev1 toc-item\"><a href=\"#Conclusion\" data-toc-modified-id=\"Conclusion-9\"><span class=\"toc-item-num\">9&nbsp;&nbsp;</span>Conclusion</a></div><div class=\"lev1 toc-item\"><a href=\"#Appendices\" data-toc-modified-id=\"Appendices-10\"><span class=\"toc-item-num\">10&nbsp;&nbsp;</span>Appendices</a></div><div class=\"lev2 toc-item\"><a href=\"#Posterior-mean-of-hat\\beta\" data-toc-modified-id=\"Posterior-mean-of-hat\\beta-101\"><span class=\"toc-item-num\">10.1&nbsp;&nbsp;</span>Posterior mean of $\\hat\\beta$</a></div><div class=\"lev2 toc-item\"><a href=\"#Calibration-of-inverse-variance-test\" data-toc-modified-id=\"Calibration-of-inverse-variance-test-102\"><span class=\"toc-item-num\">10.2&nbsp;&nbsp;</span>Calibration of inverse-variance test</a></div>"
   ]
  },
  {
   "cell_type": "markdown",
   "metadata": {},
   "source": [
    "$$\n",
    "    \\newcommand{\\genericdel}[3]{%\n",
    "      \\left#1#3\\right#2\n",
    "    }\n",
    "    \\newcommand{\\del}[1]{\\genericdel(){#1}}\n",
    "    \\newcommand{\\sbr}[1]{\\genericdel[]{#1}}\n",
    "    \\newcommand{\\cbr}[1]{\\genericdel\\{\\}{#1}}\n",
    "    \\newcommand{\\abs}[1]{\\genericdel||{#1}}\n",
    "    \\DeclareMathOperator*{\\argmin}{arg\\,min}\n",
    "    \\DeclareMathOperator*{\\argmax}{arg\\,max}\n",
    "    \\DeclareMathOperator{\\Pr}{\\mathbb{p}}\n",
    "    \\DeclareMathOperator{\\E}{\\mathbb{E}}\n",
    "    \\DeclareMathOperator{\\Ind}{\\mathbb{I}}\n",
    "    \\DeclareMathOperator{\\V}{\\mathbb{V}}\n",
    "    \\DeclareMathOperator{\\cov}{Cov}\n",
    "    \\DeclareMathOperator{\\var}{Var}\n",
    "    \\DeclareMathOperator{\\ones}{\\mathbf{1}}\n",
    "    \\DeclareMathOperator{\\invchi}{\\mathrm{Inv-\\chi}^2}\n",
    "    \\DeclareMathOperator*{\\argmin}{arg\\,min}\n",
    "    \\DeclareMathOperator*{\\argmax}{arg\\,max}\n",
    "    \\newcommand{\\effect}{\\mathrm{eff}}\n",
    "    \\newcommand{\\xtilde}{\\widetilde{X}}\n",
    "    \\DeclareMathOperator{\\normal}{\\mathcal{N}}\n",
    "    \\DeclareMathOperator{\\unif}{Uniform}\n",
    "    \\newcommand{\\boxleft}{\\unicode{x25E7}}\n",
    "    \\newcommand{\\boxright}{\\unicode{x25E8}}\n",
    "    \\newcommand{\\discont}{\\unicode{x25EB}}\n",
    "    \\newcommand{\\jleft}{\\unicode{x21E5}}\n",
    "    \\newcommand{\\jright}{\\unicode{x21E4}}\n",
    "    \\DeclareMathOperator*{\\gp}{\\mathcal{GP}}\n",
    "    \\newcommand{\\trans}{^{\\intercal}}\n",
    "    \\newcommand{\\scrS}{\\mathscr{S}}\n",
    "    \\newcommand{\\sigmaf}{\\sigma_{\\mathrm{GP}}}\n",
    "    \\newcommand{\\sigman}{\\sigma_{\\epsilon}}\n",
    "    \\newcommand{\\sigmatau}{\\sigma_{\\tau}}\n",
    "    \\newcommand{\\sigmabeta}{\\sigma_{\\beta}}\n",
    "    \\newcommand{\\sigmamu}{\\sigma_{\\mu}}\n",
    "    \\newcommand{\\sigmagamma}{\\sigma_{\\gamma}}\n",
    "    \\newcommand{\\svec}{\\mathbf{s}}\n",
    "    \\newcommand{\\vvec}{\\mathbf{v}}\n",
    "    \\newcommand{\\yvec}{\\mathbf{y}}\n",
    "    \\newcommand{\\muvec}{\\mathbf{\\mu}}\n",
    "    \\newcommand{\\indep}{\\perp}\n",
    "    \\newcommand{\\iid}{iid}\n",
    "    \\newcommand{\\vectreat}{\\Ind_{T}}\n",
    "    \\newcommand{\\yt}{Y^\\mathrm{T}}\n",
    "    \\newcommand{\\yc}{Y^\\mathrm{C}}\n",
    "    \\newcommand{\\boundary}{\\partial}\n",
    "    \\newcommand{\\sentinels}{\\mathbf{\\boundary}}\n",
    "    \\newcommand{\\eye}{\\mathbf{I}}\n",
    "    \\newcommand{\\K}{\\mathbf{K}}\n",
    "    \\DeclareMathOperator{\\trace}{trace}\n",
    "    \\newcommand{\\linavg}{\\bar{\\tau}}\n",
    "    \\newcommand{\\invvar}{\\tau^{IV}}\n",
    "    \\newcommand{\\modnull}{\\mathscr{M}_0}\n",
    "    \\newcommand{\\modalt}{\\mathscr{M}_1}\n",
    "    \\newcommand{\\degree}{\\hspace{0pt}^\\circ}\n",
    "    % NYC %\n",
    "    \\newcommand{\\saleprice}{\\mathtt{SalePrice}}\n",
    "    \\newcommand{\\sqft}{\\mathtt{SQFT}}\n",
    "    \\newcommand{\\xvec}{\\mathbf{x}}\n",
    "    \\newcommand{\\dvec}{\\mathbf{d}}\n",
    "    \\newcommand{\\tax}{\\mathtt{TaxClass}}\n",
    "    \\newcommand{\\building}{\\mathtt{BuildingClass}}\n",
    "    \\newcommand{\\district}{\\mathtt{District}}\n",
    "$$"
   ]
  },
  {
   "cell_type": "code",
   "execution_count": 1,
   "metadata": {
    "collapsed": true
   },
   "outputs": [],
   "source": [
    "using LaTeXStrings\n",
    "using GaussianProcesses\n",
    "using Distributions\n",
    "using Base.LinAlg\n",
    "using Distances\n",
    "import PyPlot; plt=PyPlot\n",
    "plt.rc(\"figure\", dpi=300.0)\n",
    "# plt.rc(\"figure\", figsize=(6,4))\n",
    "plt.rc(\"figure\", autolayout=true)\n",
    "plt.rc(\"savefig\", dpi=300.0)\n",
    "plt.rc(\"text\", usetex=true)\n",
    "plt.rc(\"font\", family=\"serif\")\n",
    "plt.rc(\"font\", serif=\"Palatino\")\n",
    ";"
   ]
  },
  {
   "cell_type": "markdown",
   "metadata": {},
   "source": [
    "# Introduction\n",
    "\n",
    "* Problem we're trying to solve\n",
    "    * treatment applied to one region and not a neighboring region\n",
    "    * with no overlap\n",
    "    * how to estimate the causal effect of the treatment?\n",
    "    * if the outcome is not spatially varying, there's no problem\n",
    "    * otherwise, the treatment is confounded with location\n",
    "* In 1D, this is recognied as a regression discontinuity design\n",
    "    * which is now a well-established methodology [citations]\n",
    "    * and comes with a causal inference story [Imbens]\n",
    "* In spatial settings, practicioners therefore attempt to use these tools\n",
    "    * but they don't generalize easily to 2D\n",
    "    * so often end up projecting onto distance from boundary\n",
    "* We think this is a bad idea\n",
    "    * ignores spatial structure / correlation\n",
    "    * low power and could get the wrong answer\n",
    "* Mention some of the more sophisticated approaches to this same problem [Keele]\n",
    "    * maybe briefly mention why we don't like them\n",
    "* Our approach: framework analogous to 1D RDD\n",
    "    * 1D:\n",
    "        1. fit the outcome **function** on both sides\n",
    "        2. extrapolate to the **discontinuity point** $x*$\n",
    "        3. take difference to obtain $\\tau(x*) \\in \\mathbb{R}$\n",
    "    * 2D:\n",
    "        1. fit the outcome **surface** on both sides\n",
    "        2. extrapolate to **boundary curve** $\\boundary$\n",
    "        3. take difference to obtain $\\tau(\\boundary): \\mathbb{R} \\rightarrow \\mathbb{R}$ [help with notation? or is this too mathematical anyway?]\n",
    "* Challenge 1: functional estimand is unusual\n",
    "* Challenge 2: how to fit surface on both sides\n",
    "    * in this framework there is not restriction on how surface fitting and extrapolation are performed\n",
    "    * in 1D RDD, local linear regression has become standard\n",
    "        * though other options have been explored (like splines?)\n",
    "    * but this isn't suitable in 2D\n",
    "* Challenge 3: summarizing functional estimand\n",
    "    * how to take an average?\n",
    "    * 1D manifold embedded in 2D space poses problems\n",
    "    * pitfalls detailed in Section X\n",
    "* Challenge 4: hypothesis testing on functional estimand\n",
    "* We use Gaussian processes (kriging), which are widespread in spatial statistics\n",
    "    * many advantages\n",
    "        * flexible\n",
    "        * known to perform well in spatial settings\n",
    "        * analytic solutions\n",
    "* we explore and address the 4 challenges using GPs\n",
    "* by the way, GP's can also be used in 1D [cite Zach]"
   ]
  },
  {
   "cell_type": "markdown",
   "metadata": {},
   "source": [
    "\n",
    "\n",
    "If units in a region receive a treatment, while units in a neighboring region do not, we cannot simply compare mean outcomes between the two regions, as any underlying spatial variation in the outcome would confound the difference in means."
   ]
  },
  {
   "cell_type": "markdown",
   "metadata": {},
   "source": [
    "Regression discontinuity design are now a well-established methodology to recover an estimate of a causal effect in settings where a threshold in a covariate determines assignment to treatment or control group.\n"
   ]
  },
  {
   "cell_type": "markdown",
   "metadata": {},
   "source": [
    "# Model Specification\n",
    "\n",
    "## Notation\n",
    "\n",
    "* 2-dimensional coordinate space $\\scrS$\n",
    "* treatment units are in region $\\scrS_T \\subset \\scrS$ and control units are in non-overlapping $\\scrS_C$ outside of the treatment region, so that $\\scrS_C = \\scrS_T^c$ and $\\scrS_T \\cup \\scrS_C = \\scrS$\n",
    "* Observed outcomes for units in treatment region are labeled $Y_i = Y_T(\\svec_i)$, and units in control region $Y_i = Y_C(\\svec_i)$.\n",
    "* Potential outcomes framework: Each unit has a potential outcome under treatment $Y_T(\\svec)$ and a potential outcome under control $Y_C(\\svec)$. If $\\svec \\in \\scrS_T$, then $Y_T(\\svec)$ is observed, otherwise $Y_C(\\svec)$ is observed.\n",
    "\n",
    "\n",
    "## 1GP solution\n",
    "\n",
    "Most straightforwardly, we model the observed outcomes $Y$ at locations $S$ (an $n \\times 2$ matrix) as the sum of an intercept $\\mu$, linear trend $S\\beta$, a spatial Gaussian process $f(S)$, a constant treatment effect $\\tau$ in the treatment region, and iid normal noise $\\epsilon$.\n",
    "\n",
    "\\begin{equation}\\begin{split}\n",
    "Y_i(\\svec) &= \\mu+\\svec\\trans\\beta + f(\\svec) + \\tau \\Ind\\cbr{\\svec \\in \\scrS_T} + \\epsilon_i \\\\\n",
    "f(S) &\\sim \\gp\\del{0, k(\\svec, \\svec')} \\\\\n",
    "k(\\svec,\\svec') &= \\sigmaf^2 \\exp\\del{ - \\frac{\\del{\\svec-\\svec'}\\trans\\del{\\svec-\\svec'}}{2 \\ell^2}} \\\\\n",
    "\\epsilon_i &\\overset{\\iid}{\\sim} \\normal\\del{0,\\sigma_\\epsilon^2}\n",
    "\\end{split}\\end{equation}\n",
    "$f(S)$ is a smooth surface covering all of $\\scrS$, specificed as a Gaussian Process with squared exponential covariance kernel $k$ with lengthscale $\\ell$ and variance $\\sigmaf^2$. The squared exponential kernel is frequently used in spatial settings. The constant treatment effect implies the assumption that $Y_T(\\svec) = \\tau + Y_C(\\svec)$ for all units at all locations."
   ]
  },
  {
   "cell_type": "markdown",
   "metadata": {},
   "source": [
    "## 2GP solution"
   ]
  },
  {
   "cell_type": "raw",
   "metadata": {},
   "source": [
    "\\label{sec:twogp}"
   ]
  },
  {
   "cell_type": "markdown",
   "metadata": {},
   "source": [
    "The constant treatment effect is a strong assumption that will be hard to justify in many applications. To allow the treatment effect to vary spatially, an alternative is to specify two independent Gaussian processes for the treatment response and the control response.\n",
    "\n",
    "\\begin{equation}\n",
    "\\label{eq:spec2gp}\n",
    "\\begin{split}\n",
    "Y_{T,i}(\\svec) &= \\underbrace{\\mu_T + \\svec\\trans\\beta_T + f_T(\\svec)}_{g_T(\\svec)} + \\epsilon_i \\\\\n",
    "Y_{C,i}(\\svec) &= \\underbrace{\\mu_C + \\svec\\trans\\beta_C + f_C(\\svec)}_{g_C(\\svec)} + \\epsilon_i \\\\\n",
    "f_T(S), f_C(S) &\\overset{\\indep}{\\sim} \\gp\\del{0, k(\\svec, \\svec')} \\\\\n",
    "k(\\svec,\\svec') &= \\sigmaf^2 \\exp\\del{ - \\frac{\\del{\\svec-\\svec'}\\trans\\del{\\svec-\\svec'}}{2 \\ell^2}}\n",
    "\\end{split}\n",
    "\\end{equation}\n",
    "\n",
    "Here, the treatment effect $\\tau$ is no longer included explicitly in the model. Instead, the treatment effect at a location $\\svec$ is derived as the difference between the two (noise-free) surfaces $g_T$ and $g_C$.\n",
    "\n",
    "\\begin{equation}\n",
    "\\tau(\\svec) = \\sbr{\\mu_T + \\svec\\trans\\beta_T + f_T(\\svec)} - \\sbr{\\mu_C + \\svec\\trans\\beta_C + f_C(\\svec)}\n",
    "\\end{equation}\n",
    "\n",
    "In this specification, the kernel parameters $\\ell$ and $\\sigmaf$ are the same in the treatment and control regions, so we assume that the spatial smoothness of the responses isn't affected by the treatment. This assumption will be reasonable in most applications, but can be easily relaxed. Inference on the hyperparameters proceeds as in the 1GP case, using the sum of the likelihood in the treatment and control regions."
   ]
  },
  {
   "cell_type": "markdown",
   "metadata": {},
   "source": [
    "## Discussion\n",
    "* different assumptions\n",
    "* will stick to 2GP from now on"
   ]
  },
  {
   "cell_type": "markdown",
   "metadata": {},
   "source": [
    "# Inference\n",
    "\n",
    "By modeling the spatial variation using Gaussian processes, we can leverage the properties of multivariate normals to obtain analytical forms for the estimate of the treatment effect."
   ]
  },
  {
   "cell_type": "markdown",
   "metadata": {},
   "source": [
    "## 1GP\n",
    "\n",
    "We proceed by placing normal priors on $\\mu$, $\\beta$ and $\\tau$. The model specification can then be used to obtain covariances between the observations and these parameters. In fact, $\\del{Y,f(S),\\tau,\\mu,\\beta} \\mid \\ell,\\sigmaf$ is multi-variate normal with variance-covariance given by\n",
    "\\begin{equation}\n",
    "\\begin{split}\n",
    "    \\tau  &\\sim \\normal\\del{0,\\sigmatau^2} \\\\\n",
    "    \\mu   &\\sim \\normal\\del{0,\\sigmamu^2} \\\\\n",
    "    \\beta &\\sim \\normal\\del{0,\\sigmabeta^2} \\\\\n",
    "    \\cov(Y_i(\\svec),\\tau) &= \\sigmatau^2 \\Ind\\cbr{\\svec \\in \\scrS_T} \\\\\n",
    "    \\cov(Y_i(\\svec),\\mu)  &= \\sigmamu^2 \\\\\n",
    "    \\cov(Y_i(\\svec),\\beta)&= \\sigmabeta^2 \\svec\\trans \\svec \\\\\n",
    "    \\cov(Y_i(\\svec),Y_i(\\svec'))&= \\sigmamu^2 + \\sigmatau^2 \\Ind\\cbr{\\svec \\in \\scrS_T}\\Ind\\cbr{\\svec' \\in \\scrS_T} + \\sigmabeta^2 \\svec\\trans \\svec' + k(\\svec,\\svec') + \\delta_{ij}\\sigman^2\\\\\n",
    "    \\cov(Y(\\svec),f(\\svec')) = \\cov(f(\\svec),f(\\svec')) &= k(\\svec,\\svec')\n",
    "\\end{split}\n",
    "\\end{equation}\n",
    "Multi-variate theory then allows us to condition any of these objects on the others. We are particularly interested in the posterior distribution $\\tau \\mid Y, \\ell, \\sigmaf$ which is given by\n",
    "\\begin{equation}\n",
    "    \\tau \\mid Y, \\ell, \\sigmaf \\sim \\normal\\del{\\cov\\del{Y,\\tau}\\trans \\cov\\del{Y}^{-1} Y, \\sigma_\\tau^2 - \\cov\\del{Y,\\tau}\\trans \\cov\\del{Y}^{-1} \\cov\\del{Y,\\tau}}\n",
    "\\end{equation}\n",
    "\n",
    "To proceed computationally, we define the treatment indicator vector $\\vectreat$ with $i$th entry equal to 0 when $\\svec_i$ is in the control region, and 1 in the treatment region, and the $n \\times n$ kernel covariance matrix $\\K$ having entries $\\K_{ij}=k(\\svec_i, \\svec_j)$. The posterior mean and variance are then easily computed.\n",
    "\n",
    "\\begin{equation}\\begin{split}\n",
    "    \\E \\del{\\tau \\mid Y, \\ell, \\sigmaf, \\sigman} &= \\sigmatau^2 \\vectreat\\trans \\cbr{\\sigmamu^2 + \\sigmatau^2 \\vectreat \\vectreat\\trans + \\sigmabeta^2 S S\\trans + \\K + \\sigman^2 \\eye }^{-1} Y \\\\\n",
    "    \\var \\del{\\tau \\mid Y, \\ell, \\sigmaf, \\sigman} &= \\sigma_\\tau^2 - \\sigma_\\tau^2 \\vectreat\\trans \\cbr{\\sigmamu^2 + \\sigmatau^2 \\vectreat \\vectreat\\trans + \\sigmabeta^2 S S\\trans + \\K + \\sigman^2 \\eye }^{-1} \\vectreat\n",
    "\\end{split}\\end{equation}\n",
    "\n",
    "What remains is the inference on the hyperparameters $\\sigman, \\sigmaf$ and $\\ell$. The two approaches typically taken in modern spatial statistics are either to maximize the marginal likelihood of $Y$ as a function of those three parameters, or to assign them a prior and take a Bayesian approach, requiring that the posterior of $\\tau$ be integrated over those parameters. The compromise is clear: the Bayesian approach incorporates the uncertainty in the hyperparameters, thus giving more reliable inference on $\\tau$, but maximizing the marginal likelihood has a much lower computation cost. Therefore, we recommend taking the Bayesian approach whenever computationally possible, and maximizing the marginal likelihood when the data is larger."
   ]
  },
  {
   "cell_type": "markdown",
   "metadata": {},
   "source": [
    "## 2GP\n",
    "\n",
    "In the 2GP setting, we begin by modeling the treatment and control units with two independent Gaussian processes with shared hyperparameters. Because the treatment and control regions do not overlap, inference on the treatment effect is only measurable near the boundary. In the classical one-dimensional regression discontinuity design, the estimand is therefore defined at the boundary $x=b$: \n",
    "\\begin{equation}\n",
    "\\tau = \\lim_{x \\downarrow b} \\E\\sbr{y \\mid X=s} - \\lim_{x \\uparrow b} \\E\\sbr{y \\mid X=x} = \\E\\sbr{Y_T \\mid X=b} - \\E\\sbr{Y_C \\mid X=b}\n",
    "\\end{equation}\n",
    "Analogously, we focus on the treatment effect at the boundary $\\boundary$ between the treatment and control regions. $\\boundary$ is therefore a one-dimensional manifold embedded in $\\scrS$. \n",
    "We proceed by extrapolating both Gaussian processes to the boundary, \n",
    "and then subtracting the predictions to obtain the estimated treatment effect $\\tau(\\boundary)$ along the boundary. \n",
    "Computationally, we need to represent this boundary as a set of $k$ “sentinel” units distributed along the boundary $\\sentinels=\\cbr{\\boundary_1,\\ldots,\\boundary_k},~\\partial_i \\in \\partial$. \n",
    "The extrapolation step then proceeds mechanically through multivariate-normal theory.\n",
    "\\begin{equation}\\begin{split}\n",
    "    g_T(\\sentinels) \\mid Y_T, S_T, \\ell, \\sigmaf, \\sigman &\\sim \\normal\\del{\\mu_{\\sentinels \\mid T}, \\Sigma_{\\sentinels \\mid T}} \\\\\n",
    "    \\mu_{\\sentinels \\mid T} &\\equiv \\cov\\del{g_T(\\sentinels), Y_T} \\cov\\del{Y_T}^{-1}  Y_T \\\\\n",
    "    \\Sigma_{\\sentinels \\mid T} &\\equiv \\cov \\del{g_T(\\sentinels)} - \\cov\\del{g_T(\\sentinels), Y_T} \\cov\\del{Y_T}^{-1} \\cov\\del{Y_T,g_T(\\sentinels) \\label{eq:postvarT2gp}\n",
    "    }\n",
    "\\end{split}\\end{equation}\n",
    "All the covariance terms can be derived from the model similarly to what we saw in the 1GP procedure. \n",
    "We analogously generate predictions for $g_C(\\sentinels)$ using the data in the control region, and denote their posterior mean and covariance as $\\mu_{\\sentinels \\mid C}$ and $\\Sigma_{\\sentinels \\mid C}$. Since the two surfaces are modeled as independent, the treatment effect $\\tau(\\sentinels)=g_T(\\sentinels)-g_C(\\sentinels)$ along the boundary is also multivariate normal with posterior mean and covariance\n",
    "\\begin{equation}\n",
    "\\label{eq:postvar2gp}\n",
    "\\begin{split}\n",
    "    \\mu_{\\boundary \\mid Y} &= \\E \\del{\\tau(\\sentinels) \\mid Y_T, Y_C} = \\mu_{\\sentinels \\mid T} - \\mu_{\\sentinels \\mid C} \\\\\n",
    "    \\Sigma_{\\boundary \\mid Y} &= \\cov\\del{\\tau(\\sentinels) \\mid Y_T, Y_C} = \\Sigma_{\\sentinels \\mid T} + \\Sigma_{\\sentinels \\mid C}\\,.\n",
    "\\end{split}\\end{equation}"
   ]
  },
  {
   "cell_type": "markdown",
   "metadata": {},
   "source": [
    "# Handling covariates\n",
    "\n",
    "The Gaussian Process specification makes it easy to incorporate a linear model on non-spatial covariates, both mathematically and computationally. \n",
    "The models are modified by the addition of the linear regression term $D \\gamma$ on the $n \\times p$ matrix of covariates $D$. In the spirit of ridge regression, we recommend placing a normal prior $\\normal(0,\\sigmagamma^2)$ on the regression coefficients. This preserves the multivariate normality of the model, with the simple addition of a term $\\sigmagamma^2 D\\trans D$ to the covariance of $Y$. \n",
    "\n",
    "With the 1GP model, covariates can therefore be handled at very little additional cost, except that the additional hyperparameter $\\sigmagamma^2$ needs to be fitted.\n",
    "\n",
    "In the 2GP model, the model becomes\n",
    "\\begin{equation}\n",
    "\\begin{split}\n",
    "Y_{T,i}(\\svec) &= \\underbrace{\\mu_T + \\dvec_i\\trans \\gamma + \\svec\\trans\\beta_T + f_T(\\svec)}_{g_T(\\svec)} + \\epsilon_i \\\\\n",
    "Y_{C,i}(\\svec) &= \\underbrace{\\mu_C + \\dvec_i\\trans \\gamma + \\svec\\trans\\beta_C + f_C(\\svec)}_{g_C(\\svec)} + \\epsilon_i \\\\\n",
    "f_T(S), f_C(S) &\\overset{\\indep}{\\sim} \\gp\\del{0, k(\\svec, \\svec')} \\\\\n",
    "k(\\svec,\\svec') &= \\sigmaf^2 \\exp\\del{ - \\frac{\\del{\\svec-\\svec'}\\trans\\del{\\svec-\\svec'}}{2 \\ell^2}} \\\\\n",
    "\\gamma_j &\\overset{\\indep}{\\sim} \\normal\\del{0,\\sigmagamma^2}\\text{ for }j=1,2,\\ldots,p\n",
    "\\end{split}\n",
    "\\end{equation}\n",
    "Unfortunately, the linear term induces a covariance between the treatment and control region, and so the computational advantage over the 1GP model is lost.\n",
    "When the two regions are independent, fitting the Gaussian processes required obtaining the Cholesky decomposition of a $n_T \\times n_T$ matrix, and of an $n_C \\times n_C$ matrix.\n",
    "Just like in the 1GP case, the linear regression component adds a term $\\sigmagamma^2 D\\trans D$ to the covariance of $Y$, which is therefore no longer block diagonal. \n",
    "Thus the Cholesky decomposition of an $(n_T+n_C) \\times (n_T+n_C)$ is now required.\n",
    "Cholesky decomposition algorithms generally have computational complexity $O(n^3)$.\n",
    "Therefore, if the units are evenly split between the two regions,\n",
    "the overall complexity of the model fitting increases fourfold."
   ]
  },
  {
   "cell_type": "markdown",
   "metadata": {},
   "source": [
    "# Average Treatment Effect\n",
    "\n",
    "Once we obtain the posterior on the treatment effect function $\\tau(\\boundary)$, estimating the average treatment effect along the boundary will often be of interest. Most straightforwardly, if the sentinels are evenly spaced, we can estimate $\\linavg$, the mean of $\\tau(\\svec)$ along the boundary, by averaging the entries of the mean posterior at the sentinels. If the sentinels are not evenly spaced, then each entry needs to be re-weighted by the length of the border that the sentinel occupies.\n",
    "\\begin{equation}\\begin{split}\n",
    "    \\linavg &\\equiv \\frac{\\oint_\\boundary \\left. \\tau(x) dx \\right.}{\\oint_\\boundary \\left. dx \\right.} \\\\\n",
    "    \\linavg \\mid Y_T, Y_C, \\sigmaf, \\sigman, \\ell &\\sim \\normal\\del{\\mu_{\\linavg \\mid Y}, \\Sigma_{\\linavg \\mid Y}} \\\\\n",
    "    \\mu_{\\linavg \\mid Y} &\\approx \\del{\\ones\\trans \\mu_{\\sentinels \\mid Y}} / n_{\\sentinels} \\\\\n",
    "    \\Sigma_{\\linavg \\mid Y} &\\approx \\del{\\ones\\trans \\Sigma_{\\sentinels \\mid Y} \\ones} / n_{\\sentinels}^2\n",
    "\\end{split}\\end{equation}\n",
    "This procedure is mathematically sound, but the choice of the $\\linavg$ estimand raises two problems. Firstly, parts of the border adjoining dense populations are given equal weights to those in sparsely populated areas. If the border goes through an unpopulated area, like a lake or a public park, then the treatment effect there has little meaning and importance. Furthermore, $\\tau(\\svec)$ in those areas will have large posterior variances, which will dominate the posterior variance of $\\linavg$, making otherwise large treatment effects difficult to detect.\n",
    "\n",
    "![\\label{fig:mississippi_counts} Evenly spaced sentinels along the border between Mississippi and Louisiana.](figures/mississippi_counts.png)\n",
    "\n",
    "Secondly, the unweighted mean treatment estimand is affected by the shape of the border between the treatment and control regions.\n",
    "We illustrate this with the border separating two American States: Louisiana and Mississippi.\n",
    "From North to South, the border follows the meandering Mississippi river, then takes a sharp turn to the East and becomes a straight line, until it meets the even more sinuous Pearl river, which it then follows until it reaches the Gulf of Mexico. \n",
    "Sentinels placed at constant intervals along this interval will therefore be most densely packed along the Pearl River, and sparsest along the straight segment of the border (see Figure \\ref{fig:mississippi_counts}).\n",
    "When averaging a function over the border, those sections will therefore be overrepresented. \n",
    "Troublingly, the sinuousness of the border therefore determines the estimand, and the resolution of our map can drastically change our estimate, even though the outcomes of the treatment we are studying might have nothing to do with river topographies.\n",
    "\n",
    "Weighing the treatment effect at each sentinel location by a local density estimate would address the first issue, but not the second.\n",
    "We view the unwelcome dependence of the $\\linavg$ estimand on the border topography as a side effect of ignoring the fact that the 1-dimensional treatment function $\\tau(\\boundary)$ is embedded in a Euclidean 2-dimensional space. \n",
    "This fact is captured by the covariance structure: sentinels in the straight segment of the border will be less strongly correlated than in the sinuous segments. \n",
    "The more correlated sentinels individually carry less information about the local treatment effect. \n",
    "This suggests that instead of averaging the treatment effect evenly along the border, we wish to average evenly the information contained therein. \n",
    "This motivates the use of the inverse-variance weighted mean $\\invvar$, which efficiently extracts the information from the posterior to produce the weighted avereage with minimum variance.\n",
    "\\begin{equation}\n",
    "\\label{eq:invvar}\n",
    "\\begin{split}\n",
    "    \\invvar \\mid Y_T, Y_C, \\sigmaf, \\sigman, \\ell &\\sim \\normal\\del{\\mu_{\\invvar \\mid Y}, \\Sigma_{\\invvar \\mid Y}} \\\\\n",
    "    \\mu_{\\invvar \\mid Y} &\\approx \\del{\\ones\\trans \\Sigma_{\\sentinels \\mid Y}^{-1} \\mu_{\\sentinels \\mid Y}} \\big/ \\del{\\ones\\trans \\Sigma_{\\sentinels \\mid Y}^{-1} \\ones}  \\\\\n",
    "    \\Sigma_{\\invvar \\mid Y} &\\approx 1 \\big/ \\del{\\ones\\trans \\Sigma_{\\sentinels \\mid Y}^{-1} \\ones}\n",
    "\\end{split}\\end{equation}\n",
    "This estimator will automatically give more weight to sentinels in dense areas (as the variance will be lower there), and to sentinels in straight sections of the border. \n",
    "While the estimand is less clear, the approach is in keeping with the philosophy of regression discontinuity designs. \n",
    "We let information be our guide when averaging over our boundary, just like it guided the analysis of regression discontinuity designs to only focus on the treatment effect at the boundary. \n",
    "The estimand isn't chosen by the scientist, but rather it is dictated by the limitations of the data."
   ]
  },
  {
   "cell_type": "markdown",
   "metadata": {},
   "source": [
    "# 2GP: Testing for non-zero effect\n",
    "\n",
    "Following the 2GP procedure, we might naturally wonder whether we can claim to have detected a significant treatment effect anywhere along the boundary. \n",
    "In the hypothesis testing framework, we have two possible choices of null hypotheses. \n",
    "The **sharp null** specifies that the treatment effect is zero everywhere along the boundary:\n",
    "$\\tau(\\boundary)=0$, \n",
    "while the **weak null** only requires the average treatment effect to be zero.\n",
    "\n",
    "## Using the inverse-variance weighted mean treatment effect posterior to test the weak null hypothesis\n",
    "\n",
    "As we saw in the previous section, the “average” treatment effect can be defined in multiple ways.\n",
    "If we choose the inverse-variance weighted mean, then $\\invvar$ has posterior given by \\eqref{eq:invvar}.\n",
    "While the posterior is a Bayesian object, we can use it heuristically to derive a pseudo-$p$-value\n",
    "\\begin{equation}\n",
    "\\begin{split}\n",
    "    Z_0 &\\sim \\normal\\del{0, \\Sigma_{\\invvar \\mid Y}}  \\\\\n",
    "    p^{\\mathrm{INV}} &= \\Pr\\del{ \n",
    "        \\abs{Z_0} > \n",
    "        \\abs{\n",
    "            \\mu_{\n",
    "                \\invvar \\mid Y\n",
    "            }\n",
    "        } \n",
    "    } \\\\\n",
    "    &= 2\\Phi\\del{-\n",
    "        \\frac{\n",
    "            \\abs{\n",
    "                \\mu_{\n",
    "                    \\invvar \\mid Y\n",
    "                }\n",
    "            }\n",
    "        }{\n",
    "            \\sqrt{\n",
    "                \\Sigma_{\\invvar \\mid Y}\n",
    "            }\n",
    "        }\n",
    "    }\n",
    "\\end{split}\n",
    "\\end{equation}\n",
    "While we didn't derive this pseudo-$p$-value through a rigorous procedure, our simulations show that it actually has good frequentist properties."
   ]
  },
  {
   "cell_type": "markdown",
   "metadata": {},
   "source": [
    "## Likelihood-based sharp null test\n",
    "\n",
    "We can also target the sharp null hypothesis.\n",
    "We first create a null model $\\modnull$, \n",
    "specified as a single Gaussian process spanning the control and treatment regions, \n",
    "with the same kernel and hyperparameters obtained in the 2GP procedure. \n",
    "$\\modnull$ is smooth and continuous at the boundary,\n",
    "and therefore accords with the sharp null hypothesis.\n",
    "Intuitively, if there is a treatment effect, \n",
    "the likelihood of the observations should be lower under $\\modnull$ than under $\\modalt$, \n",
    "the 2$\\gp$ model as specified in equation \\eqref{eq:spec2gp}.\n",
    "We therefore choose the difference in log-likelihoods as our test statistic\n",
    "\\begin{equation}\n",
    "    t = \\log \\Pr\\del{Y_T, Y_C \\mid \\modalt} - \\log \\Pr\\del{Y_T, Y_C \\mid \\modnull}\n",
    "\\end{equation}\n",
    "and wish to reject the sharp null hypothesis when its observed value $t_{obs}$ is high.\n",
    "\n",
    "A parametric bootstrap approach is used to quantify what “high” means. We draw $Y_T^*,Y_C^*$ from $\\modnull$, \n",
    "using the same spatial locations as in the original data, \n",
    "and then fit the two competing models to the simulated data in order to obtain the bootstrapped test statistic\n",
    "\\begin{equation}\n",
    "    t^* = \\log \\Pr\\del{Y_T^*, Y_C^* \\mid \\modalt} - \\log \\Pr\\del{Y_T^*, Y_C^* \\mid \\modnull}\n",
    "\\end{equation}\n",
    "Repeating this procedure, we obtain a distribution of $t$ under $\\modnull$, \n",
    "which we can then compare to the observed $t$.\n",
    "More precisely, we can interpret the proportion of $t^*$ drawn above $t_{obs}$ as a $p$-value.\n",
    "\\begin{equation}\n",
    "    p^{\\mathrm{lik}} = \\Pr\\del{t^* > t_{obs} \\mid \\modnull}\n",
    "\\end{equation}\n",
    "Computationally, because the hyperparameters and locations of the units are held constant during the bootstrap, we can reuse the Cholesky decomposition of the covariance matrix, allowing the test to be performed in seconds even with hundreds of units and thousands of bootstrap samples."
   ]
  },
  {
   "cell_type": "markdown",
   "metadata": {},
   "source": [
    "## $\\chi^2$ test for the sharp null\n",
    "\n",
    "The likelihood-based sharp null above is valid and easy to understand.\n",
    "But it may seem odd that the test aims to detect a non-zero treatment effect at the boundary, without any explicit reference to the boundary $\\boundary$. The test statistic and $p$-values can be computed without access to the sentinel positions, using only the treatment and control indicators.\n",
    "\n",
    "To address this oddity, we can derive a test statistic directly from the posterior treatment effect along the boundary, \n",
    "approximated in \\eqref{eq:postvar2gp} by its mean vector $\\muvec_{\\sentinels \\mid Y}$ \n",
    "and covariance matrix $\\Sigma_{\\sentinels \\mid Y}$ at the sentinel positions $\\sentinels$.\n",
    "We will use $\\muvec$ and $\\Sigma$ as shorthand throughout this section.\n",
    "If a $k$-vector $\\yvec$ has multivariate distribution $\\normal{0, \\Sigma}$, then $\\yvec\\trans \\Sigma^{-1} \\yvec$ has distribution $\\chi^2_k$.\n",
    "This suggests that we could use $S=\\muvec\\trans \\Sigma^{-1} \\muvec$ as a test statistic, \n",
    "and obtain a $p$-value by comparing it to a $\\chi^2_k$ distribution, where $k$ is the number of sentinels. \n",
    "However, we face two problems.\n",
    "Firstly, this test derived heuristically from a Bayesian posterior is invalid from a frequentist perspective.\n",
    "Secondly, while $\\Sigma$ is mathematically full-rank, it is typically numerically rank-deficient.\n",
    "Therefore, $k$ overestimates the true degrees of freedom of $\\Sigma$, which invalidates the test.\n",
    "\n",
    "Benavoli and Mangili (2015), developing a test for function equality, address the second problem by trimming the $\\Sigma$ eigenvalues $\\lambda_i$ lower than $\\epsilon \\sum_{j=1}^k \\lambda_j$, with $\\epsilon$ a pre-specified small number (they use 0.01).\n",
    "They address the first problem by showing that the resulting $p$-value is conservative in certain simulation settings. \n",
    "However, in our work, we found the resulting $p$-value to be sensitive to the arbitrarily chosen  $\\epsilon$ tolerance parameter, which makes it difficult to believe its validity.\n",
    "\n",
    "We therefore again take the parametric bootstrap approach, this time using $S$ as the test statistic instead of the likelihood ratio.\n",
    "Because $S$ involves inverting a matrix $\\Sigma$ that is mathematically of full rank, but numerically of low rank, we may worry about the numerical stability of computing $S$.\n",
    "We rely on julia's matrix division polyalgorithm to ensure numerical stability,\n",
    "and check in simulated examples that adding a small constant to the diagonal of $\\Sigma$ does not greatly affect the computed $S$.\n",
    "Furthermore, even if numerical stability was an issue,\n",
    "the parametric bootstrap ensures the frequentist validity of the test,\n",
    "though its power could be lowered."
   ]
  },
  {
   "cell_type": "markdown",
   "metadata": {},
   "source": [
    "## Power in simulated example\n",
    "\n",
    "![\\label{fig:mississippi_counties} Position of units in an imaginary experiment in Louisiana and Mississippi](figures/mississippi_counties.png)\n",
    "\n",
    "The three tests we developed leverage different aspects of the problem, and target two different null hypotheses. One may wonder how their power compares in the presence of a treatment effect. Considering once more the boundary between Louisiana and Mississippi, we imagine an experiment where the unit of analysis is the county, located at its centroid, as shown in Figure \\ref{fig:mississippi_counties}(a). \n",
    "We will simulate outcomes from a single Gaussian Process covering both states. For simplicity, we fix the hyperparameters to arbitrary values: $\\sigman=\\sigmaf=1.0$ and $\\ell=50\\,\\mathrm{km}$. We then add a constant treatment effect $\\tau$ to all the outcomes in Louisiana. The results for $\\tau=0$ (null hypothesis) and $\\tau=0.5$ are shown in Figure \\ref{fig:power}.\n",
    "\n",
    "![\\label{fig:power} Power of hypothesis tests](figures/power_HT.png)\n",
    "\n",
    "We see that under the null, the $p$-values of the $\\chi^2$ and likelihood ratio tests are uniformly distributed. This is enforced by the parametric bootstrap, which draws test statistics from the same null distribution to calibrate the tests. However, the $p$-values for the inverse-variance test are biased down, so for example if we set $\\alpha=0.05$, we will falsely reject the null $7.5\\%$ instead of $5\\%$ of the time. While unfortunate, this is unsurprising, since the inverse-variance test was derived heuristically rather than from a rigorous frequentist procedure. It can be calibrated using the same parametric bootstrap approach that was used for the likelihood and $\\chi^2$ tests. The calibration can also be achieved analytically, since $\\mu_{\\invvar \\mid Y}$ is normally distributed under the null hypothesis.\n",
    "\n",
    "Even after the calibration, the hypothesis test based on the inverse-variance mean has the highest power to detect the constant treatment effect. This can lead to a paradox: we may reject the weak null hypothesis, but fail to reject the sharp null hypothesis (using the $\\chi^2$ or likelihood test), even though rejection of the weak null should logically imply rejection of the sharp null. This paradox isn't specific to this setting, and is discussed in depth in the context of randomization-based inference by Ding (2014). Therefore, in scientific contexts where the main interest is an overall (average) increase or decrease in outcomes, we recommend using the inverse-variance test to maximize power."
   ]
  },
  {
   "cell_type": "markdown",
   "metadata": {},
   "source": [
    "## Placebo tests"
   ]
  },
  {
   "cell_type": "raw",
   "metadata": {},
   "source": [
    "\\label{sec:placebo}"
   ]
  },
  {
   "cell_type": "markdown",
   "metadata": {},
   "source": [
    "Gaussian Process models are almost always misspecified. \n",
    "We do not believe that the Gaussian process with stationary squared exponential kernel is the true data-generating process, although we hope that the model is sufficiently flexible to represent reality well.\n",
    "Under misspecification, we should be skeptical of results that rely on the truth of the model specification.\n",
    "We therefore encourage practicioners to probe the validity of the above hypothesis tests by running a “placebo” test.\n",
    "A placebo test repeatedly applies the hypothesis test on data that are known to have zero treatment effect (a “placebo”),\n",
    "in order to verify that the returned p-values are uniformly distributed.\n",
    "In our spatial setting, we will use the treatment and control regions separately as placebo groups.\n",
    "Within each placebo group, we repeatedly draw an arbitrary geographical boundary, creating new treatment and control groups.\n",
    "Because the boundary was chosen arbitrarily by us, we should not expect there to be a discontinuous jump in outcomes at this boundary.\n",
    "We then apply the bootstrapped likelihood test procedure described above to this arbitrarily divided data, store the results, and hope to obtain a roughly uniform distribution of p-values.\n",
    "In our implementation, we drew lines that split the placebo units in half at a sequence of angles $1\\degree,2\\degree,3\\degree,\\ldots,180\\degree$.\n",
    "The resulting p-values will obviously be highly correlated, so we should only expect a very roughly uniform distribution (because of the small effective sample size), but at the very least, this procedure allows us to visually verify that the p-values are not blatantly biased."
   ]
  },
  {
   "cell_type": "markdown",
   "metadata": {},
   "source": [
    "# Spatial advantage\n",
    "\n",
    "Classical regression discontinuity designs often suffer from low power, requiring many units near the boundary for inference to be possible. \n",
    "In the spatial RDD setting, we might worry that the situation is worse, as geographical datasets with many units packed along the boundary are uncommon. \n",
    "In geographical settings, each unit (e.g. household or counties) normally takes up space, so there is a limit to how densely packed units can be near the boundary. \n",
    "And boundaries often include sparsely populated segments, e.g. running through parks, industrial areas, or farmland. \n",
    "The intuition that spatial RDDs will therefore suffer from low power is correct, inasmuch as at any given point along the boundary, the posterior variance of $\\tau(\\boundary)$ will typically be high. \n",
    "But once we pool the information into an average treatment effect, or perform a sharp test, spatial RDDs can be more powerful than classical RDDs, with the same number of units at the same distance from the boundary.\n",
    "\n",
    "We illustrate this statement once more with the Louisiana-Mississippi example.\n",
    "The variance of the inverse-variance weighted treatment effect $\\invvar$ is thence only a function of the positions of the units, available analytically by plugging the posterior variance \\eqref{eq:postvar2gp} into the inverse-variance estimator \\eqref{eq:invvar}. \n",
    "Following this procedure, we obtain a posterior standard deviation of the average treatment effect of 0.31. \n",
    "We then create a one-dimensional regression discontinuity design for the same setting, by using each unit's distance from the boundary as the covariate $x$, the distribution of which is shown in Figure \\ref{fig:mississippi_counties}(b). \n",
    "Following the exact same 2GP procedure with the same hyperparameters as in the spatial setting, and with a discontinuity at $x=0$, we again compute the posterior standard deviation of the treatment effect at the boundary (now a single number rather than a continuous function) , this time obtaining 0.58. \n",
    "This higher figure indicates that, perhaps counter-intuitively, the spatial experiment actually has more power than its one-dimensional analog.\n",
    "\n",
    "To gain intuition about the higher power of the spatial RDD, we turn to the interpretation of regression discontinuity designs as natural experiments [need reference]. \n",
    "Near the discontinuity, we can reasonably claim that the side of the discontinuity that each unit fell into was largely dictated by random noise in the covariate. \n",
    "This in turn allows us to claim that a natural randomized experiment took place near the boundary, with treatment and control units coming from the same population. \n",
    "We can extend this interpretation to the spatial setting, by conceiving of multiple correlated experiments taking place all along the boundary. \n",
    "The average treatment effect estimator then pools the information supplied by all of these experiments.\n",
    "The question then becomes: do we get more powerful inference by grouping all the units into a single experiment, or by spreading them along a multitude of weaker experiments?\n",
    "There are two sources of uncertainty in our model: the observation noise $\\epsilon_i$, and the underlying processes $g_T$ and $g_C$. Adding more units to a single experiment allows us to cancel out more of the observation noise, but if the new units aren't added closer to the discontinuity, uncertainty always remains in $g_T$ and $g_C$. In the spatial setting, however, we observe multiple realizations of the Gaussian process, and therefore do not suffer from the same diminishing returns."
   ]
  },
  {
   "cell_type": "markdown",
   "metadata": {},
   "source": [
    "# Example: NYC school districts\n",
    "\n",
    "We illustrate the analysis of geographical regression discontinuity designs using house sales data from New York City. \n",
    "The city publishes information pertaining to property sales within the city in the last twelve months on a rolling basis. \n",
    "This includes the sale price, building class, and the address of the property.\n",
    "Public schools in the city are all part of the City School District of the City of New York, but the city-wide district is itself divided into 32 sub-districts.\n",
    "Within these districts, schools also have attendance zones, and children living within a zone are guaranteed attendance in their zone school unless the school is full [is this true? [insideschools.com gives a more complete picture](http://insideschools.org/elementary/how-to-apply)].\n",
    "It is commonly held [could cite [this article at cityrealty.com](https://www.cityrealty.com/nyc/market-insight/features/trending-in-ny/buying-renting-school-zone-district-what-you-need-know/3661)] that school districts therefore have an impact on real estate price, as parents are willing to pay more to live in districts with better schools. \n",
    "We therefore ask: can we measure a discontinuous jump in house prices across school district boundaries?"
   ]
  },
  {
   "cell_type": "markdown",
   "metadata": {},
   "source": [
    "## Preprocessing\n",
    "\n",
    "In order to model the property sale prices with a stationary Gaussian process, we need to obtain their location on a Euclidean grid. We geocode the address of each sale by merging the sales with NYC's Pluto database, which contains X and Y coordinates for each house, identified by its borough, zip code, block and lot. These coordinates are given in the `EPSG:2263` projection in units of feet. We use this projection throughout this example. For addresses that do not find a match in Pluto, we use google's geocoding API to obtain a latitude and longitude, which we then project to `EPSG:2263`.\n",
    "\n",
    "We then filter the sales data as follows, by removing\n",
    "1. sales of properties without a reported sale price\n",
    "1. sales of properties outside of the residential building class categories (“one family dwellings”, “two family dwellings”, “three family dwellings”, “tax class 1 condos”, “coops - walkup apartments”, “coops - elevator apartments”, “condos - walkup apartments”, “condos - elevator apartments”, “condos - 2-10 unit residential”, “condo coops\"),\n",
    "2. any sale with missing data in the sale price, square footage, property covariates, geographical coordinates (due to failed geocoding),\n",
    "3. sales outside of any NYC school district,\n",
    "4. properties smaller than 100 sq ft, and\n",
    "5. outliers in the price per square foot."
   ]
  },
  {
   "cell_type": "markdown",
   "metadata": {},
   "source": [
    "## Exploratory analysis\n",
    "\n",
    "![sales map](NYC/NYC_plots/NYC_sales.png)"
   ]
  },
  {
   "cell_type": "markdown",
   "metadata": {},
   "source": [
    "## Model for property prices\n",
    "\n",
    "The outcome of interest is price per square foot. As is often done in the real estate literature, we take its logarithm to reduce the skew of the outcome. The complete model is then a Gaussian Process over the geographical covariates $\\svec$ super-imposed with a linear regression on the property covariates (building and tax class). Within a school district we could write the model as [suggestions for clearer notation welcome]:\n",
    "\n",
    "\\begin{equation}\n",
    "\\begin{split}\n",
    "    Y_i &= \\log\\del{ \\frac{\\saleprice_i}{\\sqft_i}} =\n",
    "        \\begin{split}\n",
    "             \\mu_{\\district\\sbr{i}} + \\beta_{1,\\tax\\sbr{i}} + \\beta_{2,\\building\\sbr{i}} \\\\\n",
    "                  + f_{\\district\\sbr{i}}(\\svec_i) + \\epsilon_i \\\\\n",
    "         \\end{split}\n",
    "    \\\\\n",
    "    \\epsilon_i &\\sim \\normal\\del{0, \\sigma_y^2} \\\\\n",
    "    \\mu_{j} &\\sim \\normal\\del{\\bar{Y}_j, \\sigma_\\mu^2} \\\\\n",
    "    \\beta_{1j},\\beta_{2j} &\\sim \\normal\\del{0, \\sigma_\\beta^2} \\\\\n",
    "    f_j(\\svec_i) &\\sim \\gp\\del{0, k(\\svec, \\svec')} \\\\\n",
    "    k(\\svec, \\svec') &= \\sigmaf^2 \\exp\\cbr{ - \\frac{(\\svec-\\svec')\\trans(\\svec-\\svec')}{2\\ell^2}}\n",
    "\\end{split}\n",
    "\\end{equation}\n",
    "\n",
    "A visual inspection of the house sales map above suggests examining the boundary between districts 19 and 27. Importantly, the boundary between the two districts is also part of the boundary between Brooklyn and Queens, so we won't be able to attribute a causal effect solely to the difference in school districts. We are first and foremost *measuring* a discontinuity in the house prices at the district. Attributing the discontinuity to a particular cause (school district or borough) is an interpretation that is not directly supported by the data.\n",
    "A histogram of $Y$ in both districts also shows that marginally the house prices are very different.\n",
    "Our goal is to establish that this difference is measurable at the boundary, and not merely an underlying trend that spans both districts.\n",
    "\n",
    "![](NYC/NYC_plots/sales_histogram_19-27.png)"
   ]
  },
  {
   "cell_type": "markdown",
   "metadata": {},
   "source": [
    "## parameter optimization\n",
    "\n",
    "We initially fit the hyperparameters $\\sigma_\\beta$, $\\sigmaf$, $\\ell$ and $\\sigman$ by optimizing the marginal log-likelihood of the data within a single district. We choose district 27 as it contains more sales. We hold $\\sigma_\\mu$ fixed to 10 to give the district means $\\mu_j$ a fairly uninformative prior. The fitted hyperparameters were $\\sigman=0.4179$, $\\sigmaf=0.2426$, $\\sigma_\\beta=0.1306$, and $\\ell=3378.5800~\\text{ft}$."
   ]
  },
  {
   "cell_type": "markdown",
   "metadata": {},
   "source": [
    "## cliff face\n",
    "\n",
    "We seek the treatment effect function $\\tau(\\boundary)$ between the two districts. We could proceed by computing the joint predictive distributions $g_T(\\sentinels),g_C(\\sentinels) \\mid Y_T, Y_C, \\sigma_\\beta,\\sigmaf,\\ell,\\sigman$, which is a $2 n_{\\sentinels}$-dimensional multivariate normal distribution. Instead, we obtain the posterior means of the $\\beta_{1j}$ and $\\beta_{2j}$ coefficients, extract the residuals $Y_T-D_T \\hat{\\beta}$ and $Y_C-D_C \\hat{\\beta}$. This decorrelates $g_T(\\sentinels)$ and $g_C(\\sentinels)$ so they become independent multivariate normal distributions $g_T(\\sentinels) \\mid Y_T, \\hat\\beta, \\sigmaf,\\ell,\\sigman$ and $g_C(\\sentinels) \\mid Y_C, \\hat\\beta, \\sigmaf,\\ell,\\sigman$. In this example, we find that the posterior variance of $\\beta$ is low, and therefore the two approaches yield very similar results, but conditioning on the estimate of $\\beta$ is computationally convenient. We therefore proceed with this two-step approach.\n",
    "\n",
    "Equipped with multivariate normal posteriors on $g_C(\\sentinels)$ and $g_T(\\sentinels)$, which are uncorrelated conditional on $\\beta=\\hat\\beta$, we can now take their difference according to the procedure outline in section \\ref{sec:twogp}, to obtain the posterior distribution of the cliff-face $\\tau(\\sentinels)$ obtained at the sentinel locations. \n",
    "The cliff-face is shown in Figure XX, and shows that the estimated $\\tau(\\sentinels)$ is negative everywhere along the border, which corresponds to higher property prices in district 27. \n",
    "However, the credible envelope is wide, especially in the Southern section of the border, and therefore it isn't clear that this effect isn't due to random variation.\n",
    "\n",
    "The treatment effect can also be visualized directly in Figure XX as the difference between the two log-price mean surfaces $g(\\svec)$. This pictures also gives a better sense of the important spatial variation in prices captured by the model, which explains the wide credible envelope in the cliff face, despite the large number of sales in both districts."
   ]
  },
  {
   "cell_type": "markdown",
   "metadata": {},
   "source": [
    "![NYC cliff face](NYC/NYC_plots/NYC_cliff_face.png)"
   ]
  },
  {
   "cell_type": "markdown",
   "metadata": {},
   "source": [
    "![NYC surface plot](NYC/NYC_plots/NYC_surface_plot_multi.png)"
   ]
  },
  {
   "cell_type": "markdown",
   "metadata": {},
   "source": [
    "## Average Log-Price Increase\n",
    "\n",
    "The cliff-face plot shows a negative treatment effect everywhere along the border, which can be averaged by the estimators we developed in section XX. The most obvious approach is to take an unweighted mean at each equispaced sentinel, which has posterior distribution\n",
    "\\begin{equation}\n",
    "\\begin{split}\n",
    "    \\linavg \\mid Y_T, Y_C, \\sigmaf, \\sigman, \\hat{\\beta}, \\ell &\\sim \\normal\\del{-0.198, 0.091^2}\\,\\text{and tail probability} \\\\\n",
    "    \\Pr\\del{\\linavg > 0 \\mid Y_T, Y_C, \\sigmaf, \\sigman, \\hat{\\beta}, \\ell} &= 1.515\\% \\,.\n",
    "\\end{split}\n",
    "\\end{equation}\n",
    "The inverse-variance weighted mean estimator is robust to changes in the border topology, and gives higher weight to sections of the border where the difference in house prices is easier to measure. It is guaranteed to minimize the posterior variance amongst weighted mean estimators, which is reflected here by the narrower posterior distribution\n",
    "\\begin{equation}\n",
    "\\begin{split}\n",
    "    \\invvar \\mid Y_T, Y_C, \\sigmaf, \\sigman, \\hat{\\beta}, \\ell &\\sim \\normal\\del{-0.192, 0.059^2}\\,\\text{and reduced tail probability} \\\\\n",
    "    \\Pr\\del{\\invvar > 0 \\mid Y_T, Y_C, \\sigmaf, \\sigman, \\hat{\\beta}, \\ell} &= 0.017\\% \\,.\n",
    "\\end{split}\n",
    "\\end{equation}\n",
    "This estimate corresponds to a 21% increase in price per square foot from district 19 to district 27."
   ]
  },
  {
   "cell_type": "markdown",
   "metadata": {},
   "source": [
    "## Significant Difference in Price?\n",
    "\n",
    "The inverse-variance weighted mean treatment effect hints at a significant treatment effect. \n",
    "But the posterior tail probability cannot be interpreted as a $p$-value.\n",
    "For this, we turn to the three tests developed in section XX.\n",
    "In applied settings, running multiple tests invalidates their results, \n",
    "but as we are proposing this new methodology,\n",
    "we apply all three tests in order to gain insight into their differences.\n",
    "Their results are found in Table XX.\n",
    "\n",
    "| Test                   | $p$-value |\n",
    "|------------------------|-----------|\n",
    "| $\\chi^2$ bootstrap     | 0.145     |\n",
    "| mLL bootstrap        | 0.0015    |\n",
    "| $\\invvar$ uncalibrated | 0.0003    |\n",
    "| $\\invvar$ calibrated   | 0.0005    |\n",
    "\n",
    "The three tests tell very different stories. \n",
    "The $\\chi^2$ test fails to reject the null hypothesis even at the $\\alpha=0.1$ level.\n",
    "This strongly contradicts the inverse-variance test and its low $p$-value of $0.0005$,\n",
    "backed by the likelihood-ratio test with $p=0.0015$.\n",
    "The possibility of such a contradiction was anticipated in section XX, where we saw that the $\\chi^2$ has the lowest power of the three tests, and therefore could easily fail to reject an effect that is easily detected by the inverse-variance test.\n",
    "Because the inverse-variance test has the highest power in detecting constant treatment effects, we would recommend its use in applications — such as this one — where a very heterogenous treatment effect is not expected."
   ]
  },
  {
   "cell_type": "markdown",
   "metadata": {},
   "source": [
    "### placebo tests\n",
    "\n",
    "To assess the validity of the three tests, we apply the placebo tests that we devised in Section X. \n",
    "Within each district, we split the data in half by a line at angles $1\\degree,3\\degree,5\\degree,6\\degree,\\ldots,179\\degree$. \n",
    "Because these lines were drawn arbitrarily, we don't expect a discontinuous treatment effect between the two halves, and so we hope to see a uniform distribution of placebo $p$-values.\n",
    "However, these tests will be highly correlated, \n",
    "and so the low effective sample size could lead to some apparent departures from uniformity.\n",
    "There is in fact visible autocorrelation in the graphs of placebo $p$-values as a function of angle.\n",
    "\n",
    "![Placebo test for mLL test](NYC/NYC_plots/placebo_mLL.png)\n",
    "\n",
    "![Placebo test for $\\chi^2$ test](NYC/NYC_plots/placebo_chi.png)\n",
    "\n",
    "![Placebo test for $\\Sigma^{-1}$ test](NYC/NYC_plots/placebo_invvar.png)\n",
    "\n",
    "The mLL placebo $p$-values show a pronounced bias towards low values.\n",
    "This confirms our earlier concern that the marginal log-likelihood may be sensitive to features of the data other than the discontinuity at the boundary.\n",
    "In particular, model misspecification, which is a big concern in spatial models, makes the interpretation of the mLL test unreliable.\n",
    "Based on this vulnerability, and its manifestation in this example, we do not recommend relying on the likelihood-ratio test.\n",
    "\n",
    "The $\\chi^2$ test shows more robustness, with some negative bias in district 27, and some positive bias in district 19, which could simply be due to the low effective sample size.\n",
    "We therefore believe that the $\\chi^2$ test will continue to be reliable under misspecification.\n",
    "It is only due to its low power that we hesitate to recommend its use in applications where the treatment effect is expected to be fairly homogenous.\n",
    "\n",
    "Lastly, the inverse-variance placebo $p$-values display no obvious bias.\n",
    "Its high power and robustness to misspecification make a strong argument\n",
    "for its use in most applications."
   ]
  },
  {
   "cell_type": "markdown",
   "metadata": {},
   "source": [
    "## pairwise treatment effect (all districts)\n",
    "\n",
    "![Pairwise effect size between adjacent districts.](NYC/NYC_plots/pairwise_multi.png)"
   ]
  },
  {
   "cell_type": "markdown",
   "metadata": {},
   "source": [
    "# Conclusion"
   ]
  },
  {
   "cell_type": "markdown",
   "metadata": {},
   "source": [
    "# Appendices"
   ]
  },
  {
   "cell_type": "markdown",
   "metadata": {},
   "source": [
    "## Posterior mean of $\\hat\\beta$\n",
    "\n",
    "**[Derivation of $\\hat{\\beta}$ below: should it be in the covariates section? should it be in an appendix? is it too elementary to be in this paper?]**\n",
    "\\begin{equation}\n",
    "\\begin{aligned}\n",
    "    \\Sigma_{Y \\mid \\beta} &\\equiv \\cov\\del{Y \\mid \\beta } \n",
    "        & \\text{conditional variance of $Y$} \\\\\n",
    "    \\cov\\del{Y_i , Y_j \\mid \\beta } &= \\sigman^2 \\delta_{ij} + k\\del{\\svec_i,\\svec_j} \\delta_{\\district\\sbr{i},\\district\\sbr{j}} & \\text{(block diagonal)}\\\\\n",
    "    \\Sigma_\\beta &\\equiv \\cov\\del{\\beta} = \\sigma_\\beta^2 I_p\n",
    "        & \\text{prior variance of $\\beta$} \\\\\n",
    "    \\Sigma_Y &\\equiv \\cov\\del{Y} = \\Sigma_{Y \\mid \\beta} + D\\trans \\Sigma_\\beta D\n",
    "        & \\text{unconditional variance of $Y$} \\\\\n",
    "    T_\\beta &= D\\trans \\Sigma_{Y \\mid \\beta}^{-1} D + \\Sigma^{-1}_\\beta \n",
    "        & \\text{precision matrix of $\\beta$} \\\\\n",
    "    \\hat\\beta &= \\del{T_\\beta^{-1} D} \\del{ \\Sigma_{Y \\mid \\beta}^{-1} \\del{Y-\\mu}}\n",
    "        & \\text{posterior mean of $\\beta$}\n",
    "\\end{aligned}\n",
    "\\end{equation}"
   ]
  },
  {
   "cell_type": "markdown",
   "metadata": {},
   "source": [
    "## Calibration of inverse-variance test\n",
    "\n",
    "First, let's remind ourselves how the inverse-variance posterior mean estimate was obtained. We will then derive its distribution under the null hypothesis.\n",
    "\\begin{equation}\\begin{split}\n",
    "    \\invvar \\mid Y_T, Y_C, \\sigmaf, \\sigman, \\ell &\\sim \\normal\\del{\\mu_{\\invvar \\mid Y}, \\Sigma_{\\invvar \\mid Y}} \\\\\n",
    "    \\mu_{\\invvar \\mid Y} &\\approx \\del{\\ones\\trans \\Sigma_{\\sentinels \\mid Y}^{-1} \\mu_{\\sentinels \\mid Y}} \\big/ \\del{\\ones\\trans \\Sigma_{\\sentinels \\mid Y}^{-1} \\ones}  \\\\\n",
    "    \\mu_{\\sentinels \\mid T} &\\equiv \\cov\\del{g_T(\\sentinels), Y_T} \\cov\\del{Y_T}^{-1}  Y_T \\\\\n",
    "    \\mu_{\\sentinels \\mid C} &\\equiv \\cov\\del{g_T(\\sentinels), Y_C} \\cov\\del{Y_C}^{-1}  Y_C \\\\\n",
    "    \\mu_{\\boundary \\mid Y} &=  \\mu_{\\sentinels \\mid T} - \\mu_{\\sentinels \\mid C} \\\\\n",
    "    \\mu_{\\invvar \\mid Y} &= \\del{\\ones\\trans \\Sigma_{\\sentinels \\mid Y}^{-1} \\mu_{\\sentinels \\mid Y}} \\big/ \\del{\\ones\\trans \\Sigma_{\\sentinels \\mid Y}^{-1} \\ones}  \\\\\n",
    "\\end{split}\\end{equation}"
   ]
  },
  {
   "cell_type": "markdown",
   "metadata": {},
   "source": [
    "Under our parametric null hypothesis $H_0$, $Y_T$ and $Y_C$ are drawn from a single smooth Gaussian process, with no discontinuity at the border. \n",
    "Their joint covariance is\n",
    "\\begin{equation}\n",
    "\\begin{aligned}\n",
    "    \\cov \\del{\\begin{pmatrix}Y_T \\\\ Y_C\\end{pmatrix} \\mid H_0 } &= \\begin{bmatrix}\n",
    "                        \\Sigma_{TT} & \\Sigma_{TC} \\\\\n",
    "                        \\Sigma\\trans_{TC} & \\Sigma_{CC}\n",
    "                    \\end{bmatrix}\\,\\text{where} \\\\\n",
    "    \\Sigma_{TT} &\\equiv K_{TT} + \\sigman^2 I_{n_T} \\\\\n",
    "    \\Sigma_{CC} &\\equiv K_{CC} + \\sigman^2 I_{n_C} \\\\\n",
    "    \\Sigma_{TC} &\\equiv K_{TC}\n",
    "\\end{aligned}\n",
    "\\end{equation}\n",
    "where the entries of $K_{TT}$, $K_{CC}$ and $K_{TC}$ are obtained simply be evaluating the Gaussian process kernel for each pair of points within and between the treatment and control regions.\n",
    "The predicted mean outcomes at the sentinels $\\mu_{\\sentinels \\mid T}$ and $\\mu_{\\sentinels \\mid T}$ are obtained by left-multiplying $Y_T$ and $Y_C$ by matrices that are deterministic functions of the unit locations and the hyperparameters \n",
    "\\begin{equation}\n",
    "\\begin{split}\n",
    "    A_T &\\equiv \\cov\\del{g_T(\\sentinels), Y_T} \\cov\\del{Y_T}^{-1} = K_{\\sentinels T} \\Sigma_{TT}^{-1} \\,\\text{, and} \\\\\n",
    "    A_C &\\equiv \\cov\\del{g_C(\\sentinels), Y_C} \\cov\\del{Y_C}^{-1} = K_{\\sentinels C} \\Sigma_{CC}^{-1}\\,.\n",
    "\\end{split}\n",
    "\\end{equation}\n",
    "where we dropped the explicit conditioning on the null hypothesis for readability."
   ]
  },
  {
   "cell_type": "markdown",
   "metadata": {},
   "source": [
    "The joint distribution of $\\mu_{\\sentinels \\mid T}$ and $\\mu_{\\sentinels \\mid T}$ is consequently also multivariate normal with mean zero and covariance\n",
    "\\begin{equation}\n",
    "    \\cov \\del{\\begin{pmatrix}A_T Y_T \\\\ A_C Y_C \\end{pmatrix} \\mid H_0 } = \\begin{bmatrix}\n",
    "                        A_T \\Sigma_{TT} A_T\\trans & A_T \\Sigma_{TC} A_C\\trans \\\\\n",
    "                        \\del{A_T \\Sigma_{TC} A_C \\trans}\\trans & A_C \\Sigma_{CC} A_C\\trans\n",
    "                    \\end{bmatrix}\n",
    "\\end{equation}\n",
    "Continuing in this fashion, $\\mu_{\\boundary \\mid Y}$ is yet another zero-mean multivariate normal with covariance"
   ]
  },
  {
   "cell_type": "markdown",
   "metadata": {},
   "source": [
    "\\begin{equation}\n",
    "\\begin{split}\n",
    "    \\cov \\del{\\mu_{\\boundary \\mid Y} \\mid H_0} &= \\cov{ A_T Y_T - A_C Y_C } \\\\\n",
    "        &= A_T \\Sigma_{TT} A_T\\trans + A_C \\Sigma_{CC} A_C\\trans - A_T \\Sigma_{TC} A_C\\trans -  \\del{A_T\\Sigma_{TC} A_C\\trans}\\trans\n",
    "\\end{split}\n",
    "\\end{equation}"
   ]
  },
  {
   "cell_type": "markdown",
   "metadata": {},
   "source": [
    "Weighted mean estimators are linear transformation of $\\mu_{\\boundary \\mid Y}$, and so under $H_0$, they are normally distributed with mean zero.\n",
    "For a weight vector $\\vvec$, its variance is given by\n",
    "\\begin{equation}\n",
    "\\begin{aligned}\n",
    "    \\var\\del{\\bar{\\tau}^\\vvec \\mid H_0} &= \\cov\\del{ \\frac{\\vvec \\trans \\mu_{\\boundary \\mid Y}}{\\ones_{n_{\\sentinels}}\\trans \\vvec}} \\\\\n",
    "    &= \\frac{\\vvec \\trans \\cov \\del{\\mu_{\\boundary \\mid Y}} \\vvec}{\\del{\\ones_{n_{\\sentinels}}\\trans \\vvec}^2}\n",
    "    \\,.\n",
    "\\end{aligned}\n",
    "\\end{equation}"
   ]
  },
  {
   "cell_type": "markdown",
   "metadata": {},
   "source": [
    "From this null distribution the $p$-value follows:\n",
    "\\begin{equation}\n",
    "    \\Pr\\del{ \\abs{\\bar{\\tau}^\\vvec} > \\abs{\\bar{\\tau}_{obs}^\\vvec} \\mid H_0} = 2 \\Phi\\del{ -\\frac{\\abs{\\bar{\\tau}_{obs}^\\vvec}}{\\sqrt{\\var\\del{\\bar{\\tau}^\\vvec \\mid H_0}}} }\\,.\n",
    "\\end{equation}\n",
    "Our calibrated inverse-variance test is the special case of this final step where the weights are chosen to be $\\vvec = \\Sigma^{-1}_{\\boundary \\mid Y} \\ones_{n_{\\sentinels}}$."
   ]
  }
 ],
 "metadata": {
  "hide_input": false,
  "kernelspec": {
   "display_name": "Julia 0.5.1",
   "language": "julia",
   "name": "julia-0.5.1"
  },
  "language_info": {
   "file_extension": ".jl",
   "mimetype": "application/julia",
   "name": "julia",
   "version": "0.5.1"
  },
  "nav_menu": {},
  "toc": {
   "colors": {
    "hover_highlight": "#DAA520",
    "running_highlight": "#FF0000",
    "selected_highlight": "#FFD700"
   },
   "moveMenuLeft": true,
   "nav_menu": {
    "height": "512px",
    "width": "252px"
   },
   "navigate_menu": true,
   "number_sections": true,
   "sideBar": true,
   "threshold": 4,
   "toc_cell": true,
   "toc_section_display": "block",
   "toc_window_display": true,
   "widenNotebook": false
  },
  "toc_position": {
   "height": "974px",
   "left": "0px",
   "right": "746px",
   "top": "106px",
   "width": "212px"
  }
 },
 "nbformat": 4,
 "nbformat_minor": 1
}
